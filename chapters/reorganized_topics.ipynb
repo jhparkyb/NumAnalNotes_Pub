{
 "cells": [
  {
   "cell_type": "markdown",
   "metadata": {},
   "source": [
    "### Dropped from na02approximation.ipynb\n",
    "\n",
    "Move to M104C"
   ]
  },
  {
   "cell_type": "markdown",
   "metadata": {},
   "source": [
    "\n",
    "![Chebychev polynomial 3](https://jhparkyb.github.io/resources/notes/na/104ASlides_Approximation021.png)"
   ]
  },
  {
   "cell_type": "markdown",
   "metadata": {},
   "source": [
    "##### Divided differences"
   ]
  },
  {
   "cell_type": "markdown",
   "metadata": {},
   "source": [
    "![Divided differences 1](https://jhparkyb.github.io/resources/notes/na/104ASlides_Approximation026.png)\n",
    "\n",
    "![Divided differences 2](https://jhparkyb.github.io/resources/notes/na/104ASlides_Approximation027.png)\n",
    "\n",
    "![Divided differences 3](https://jhparkyb.github.io/resources/notes/na/104ASlides_Approximation028.png)"
   ]
  },
  {
   "cell_type": "markdown",
   "metadata": {},
   "source": [
    "##### Horner's algorithm: efficient evaluation of interpolation"
   ]
  },
  {
   "cell_type": "markdown",
   "metadata": {},
   "source": [
    "Efficient way of evaluating polynomails.\n",
    "\n",
    "![Example of Horner's algorithm](https://jhparkyb.github.io/resources/notes/na/104ASlides_Approximation010.png)"
   ]
  },
  {
   "cell_type": "markdown",
   "metadata": {},
   "source": [
    "![Finding interpolating polynomial in the Newton form 2](https://jhparkyb.github.io/resources/notes/na/104ABoardWork_Approximation002.png)"
   ]
  },
  {
   "cell_type": "markdown",
   "metadata": {},
   "source": [
    "swapping\n",
    "<!-- **Motivating example**\n",
    "\n",
    "See the example below. There are no errors or bugs in the function `gauss_elimination2D`. But it produces something weird: `x_lib` is the correct solution, which is obtained by `numpy.linalg` (which uses LAPACK library). What has happened? -->"
   ]
  },
  {
   "cell_type": "markdown",
   "metadata": {},
   "source": [
    "swapping\n",
    "<!-- import numpy as np\n",
    "\n",
    "def gauss_elimination2D(AA, bb):\n",
    "    \"\"\"Solves Ax = b using Gauss elimination.\n",
    "\n",
    "    Args:\n",
    "        A: A square matrix.\n",
    "        b: A vector.\n",
    "\n",
    "    Returns:\n",
    "        x: A vector.\n",
    "    \"\"\"\n",
    "    n = 2\n",
    "    AA = A.copy()\n",
    "    bb = b.copy()\n",
    "    x = np.zeros(n).reshape(-1, 1)\n",
    "\n",
    "    m = AA[1, 0] / AA[0, 0]\n",
    "    AA[1, 1] -= m * AA[1, 0]\n",
    "    bb[1] -= m * bb[0]\n",
    "    \n",
    "    x[1] = bb[1] / AA[1, 1]\n",
    "    x[0] = (bb[0] - AA[0, 1] * x[1]) / AA[0, 0]\n",
    "    \n",
    "    return x\n",
    "\n",
    "A = np.array([[10e-20,  1.], \n",
    "              [     1.,  2.]])\n",
    "b = np.array([1., 4.]).reshape(-1, 1)\n",
    "\n",
    "x_naive = gauss_elimination2D(A, b)\n",
    "x_lib = np.linalg.solve(A, b)\n",
    "\n",
    "print(\"x_naive: \\n\", x_naive)\n",
    "print(\"x: \\n\", x) -->"
   ]
  },
  {
   "cell_type": "markdown",
   "metadata": {},
   "source": [
    "<!-- #### Inner product\n",
    "\n",
    "Inner product is a far-reaching concept that helps us tackle differential geometry, Fourier analysis, solutions of partial differential equations just to name a few. Here, we give just a bit more details to see if the $$(f,g)_w:=\\int_a^b f(x)g(x)w(x)dx$$ is indeed an inner product. -->\n"
   ]
  },
  {
   "cell_type": "markdown",
   "metadata": {},
   "source": [
    "#### Pivoting"
   ]
  },
  {
   "cell_type": "markdown",
   "metadata": {},
   "source": [
    "<!-- **Motivating example**\n",
    "\n",
    "Recall the homework problem, where we solved the following linear system by programming 2D version of Gaussian elimination.\n",
    "\n",
    "$$\n",
    "\\left\\{\n",
    "\\begin{aligned}\n",
    "10^{-20} x_1+x_2 & =1 \\\\\n",
    "x_1+2 x_2 & =4\n",
    "\\end{aligned}\n",
    "\\right. \n",
    "$$\n",
    "\n",
    "If we programmed \"right,\" it should produce $(x_1, x_2)\\approx(0,1)$, while the package `numpy.linalg.solve` gave $(x_1, x_2)\\approx(2,1)$. \n",
    "\n",
    "What is going on? -->"
   ]
  },
  {
   "cell_type": "markdown",
   "metadata": {},
   "source": [
    "<!-- **Remark**\n",
    "\n",
    "- The source of error is that the first coefficient `A[0,0]` is so small that the computer (using IEEE double precision) \"thinks\" it is 0. \n",
    "\n",
    "$$\n",
    "\\left\\{\n",
    "\\begin{aligned}\n",
    "10^{-20} x_1+x_2 & =1 \\\\\n",
    "x_1+2 x_2 & =4\n",
    "\\end{aligned}\n",
    "\\right. \n",
    "\\Rightarrow\n",
    "\\left\\{\n",
    "\\begin{aligned}\n",
    "0 x_1+x_2 & =1 \\\\\n",
    "x_1+2 x_2 & =4\n",
    "\\end{aligned}\n",
    "\\right. \n",
    "$$\n",
    "\n",
    "Then, the first equation leads to $x_2=1$, which in turn, leads to $x_1 = 0$. Hence, we have $(x_1, x_2)\\approx(0,1)$. \n",
    "\n",
    "- However, if we carry the small coefficient $10^{-20}$ and meticulously solve the equation, we obtain $(x_1, x_2)\\approx(2,1)$. -->"
   ]
  },
  {
   "cell_type": "markdown",
   "metadata": {},
   "source": [
    "<!-- **Idea** (Swapping or partial pivoting)\n",
    "\n",
    "- Push down a row whose pivot is small, and pull up the one with the largest coefficient in that column.\n",
    "- This procedure is called *partial pivoting*. -->"
   ]
  },
  {
   "cell_type": "code",
   "execution_count": null,
   "metadata": {
    "vscode": {
     "languageId": "plaintext"
    }
   },
   "outputs": [],
   "source": []
  },
  {
   "cell_type": "code",
   "execution_count": null,
   "metadata": {
    "vscode": {
     "languageId": "plaintext"
    }
   },
   "outputs": [],
   "source": []
  },
  {
   "cell_type": "markdown",
   "metadata": {},
   "source": [
    "**Remark**\n",
    "\n",
    "According to Sauer (2017) Numerical Analysis 3rd ed., the practical difference among the different types of PDE is:\n",
    "- parabolic and hyperbolic\n",
    "  - PDE is defined on an open region.\n",
    "  - Boundary conditions for one variable are specified at one end of the region (initial state) and the system is solved by moving away from the boundary. (Think of time evolution.)\n",
    "- elliptic\n",
    "  - PDE is defined on the entire boundary of a closed region.\n",
    "  - Boundary conditions are imposed literally on the boundary of the region."
   ]
  },
  {
   "cell_type": "markdown",
   "metadata": {},
   "source": [
    "___"
   ]
  },
  {
   "cell_type": "markdown",
   "metadata": {},
   "source": [
    "To do: INCLUDE MORE COMPLETE EXPOSITION\n",
    "\n",
    "**Remark** (Why try to avoid `for` loop in Python)\n",
    "\n",
    "- Python `int` is not purely an integer, it is an object. (See code below.)\n",
    "- When `for` loop is implemented, it takes out only pure integer part and work. (More process)\n",
    "- Python lacks JIT (just-in-time compilation). \n",
    "  - Python is an interpreter. Hence, it executes each line.\n",
    "  - But for `for` loop, interpreting each line is waste of time. We want just repeat the same task, and carry out the whole `for` loop as a single command.\n",
    "  - If those lines are skipped while interpreting, and executed directly during the run time, a lot of computing time can be saved."
   ]
  },
  {
   "cell_type": "code",
   "execution_count": null,
   "metadata": {},
   "outputs": [
    {
     "name": "stdout",
     "output_type": "stream",
     "text": [
      "<class 'int'>\n",
      "9822216\n",
      "b'\"'\n"
     ]
    }
   ],
   "source": [
    "# Python int is not purely an integer, it is an object.\n",
    "\n",
    "i = 34\n",
    "\n",
    "print(type(i))\n",
    "print(id(i))\n",
    "print(i.to_bytes(length=1))"
   ]
  },
  {
   "cell_type": "markdown",
   "metadata": {},
   "source": [
    "___"
   ]
  },
  {
   "cell_type": "markdown",
   "metadata": {},
   "source": [
    "**Example** (Rewriting to avoid loss of significand)\n",
    "\n",
    "Suppose that your project involves the following computation near $x = 0$ for a fixed value $a > 0$: \n",
    "\n",
    "$$\n",
    "\\sqrt{x^2 + a^2} - a .\n",
    "$$\n",
    "\n",
    "Rewrite this expression to avoid loss of significant digits along the computation.\n"
   ]
  },
  {
   "cell_type": "markdown",
   "metadata": {},
   "source": [
    "**Answer**\n",
    "\n",
    "The quantity can be rewritten as \n",
    "\n",
    "$$\n",
    "\\left(\\sqrt{x^2+a^2}-a\\right)\\left(\\frac{\\sqrt{x^2+a^2}+a}{\\sqrt{x^2+a^2}+a}\\right)=\\frac{x^2}{\\sqrt{x^2+a^2}+a}\n",
    "$$\n",
    "\n",
    "We can use the last term in place of what's given in the example."
   ]
  },
  {
   "cell_type": "markdown",
   "metadata": {},
   "source": [
    "Let us assume the following, which is totally made up for illustrative purposes. \n",
    "\n",
    "- Our computer uses decimals, instead of binary.\n",
    "- Our computer uses six-decimal-digit mantissa, including the integer part, floating point number system along with power of tens as scalar.\n",
    "- $x=0.01$ and $a = 3$\n",
    "\n",
    "Then, the input will be stored as\n",
    "\n",
    "- $x^2 + a^2 = 9.00010 \\times 10^0$\n",
    "- $a = 3.00000 \\times 10^0$\n",
    "\n",
    "1. Original formula\n",
    "\n",
    "Even assuming infinite precision for evaluating square root, the square root is stored as\n",
    "\n",
    "- $\\sqrt{x^2 + a^2} = 3.00002 \\times 10^0$ (more precise value is $\\sqrt{9.00010}=3.0000166666203705$)\n",
    "- $\\sqrt{x^2 + a^2} - a = 0.00002 = 2.0\\times 10^{-5}$. $\\longrightarrow$ (Only one significant digit) \n",
    "\n",
    "2. Rewritten formula\n",
    "\n",
    "$$\n",
    "\\frac{x^2}{\\sqrt{x^2+a^2}+a} = \\frac{0.0001}{3.00002 + 3.00000} = 4.10000 \\times 10^{-5}\n",
    "$$\n",
    "\n",
    "(More precise value is $\\frac{0.0001}{3.00002 + 3.00000} = 0.00004082476100517466$)"
   ]
  },
  {
   "cell_type": "code",
   "execution_count": null,
   "metadata": {},
   "outputs": [
    {
     "name": "stdout",
     "output_type": "stream",
     "text": [
      "3.0000166666203705\n",
      "4.082476100517466e-05\n"
     ]
    }
   ],
   "source": [
    "import numpy as np\n",
    "x = 9.0001\n",
    "a = 3.\n",
    "print(np.sqrt(x))\n",
    "print(0.0001/(np.sqrt(3.00002 + 3.00000)))"
   ]
  },
  {
   "cell_type": "markdown",
   "metadata": {},
   "source": [
    "___"
   ]
  },
  {
   "cell_type": "markdown",
   "metadata": {},
   "source": [
    "#### Python package for least square method (To be desired)"
   ]
  },
  {
   "cell_type": "code",
   "execution_count": null,
   "metadata": {},
   "outputs": [
    {
     "name": "stdout",
     "output_type": "stream",
     "text": [
      "[[  0.  25. 100.]\n",
      " [  1.  36. 121.]\n",
      " [  4.  49. 144.]\n",
      " [  9.  64. 169.]\n",
      " [ 16.  81. 196.]]\n",
      "[[ 0.]\n",
      " [ 1.]\n",
      " [ 4.]\n",
      " [ 9.]\n",
      " [16.]]\n",
      "[[1.]\n",
      " [0.]\n",
      " [0.]]\n",
      "[[0.00000000e+00]\n",
      " [1.33226763e-15]\n",
      " [5.32907052e-15]\n",
      " [1.24344979e-14]\n",
      " [2.13162821e-14]]\n",
      "[[0.]\n",
      " [0.]\n",
      " [0.]\n",
      " [0.]\n",
      " [0.]]\n"
     ]
    }
   ],
   "source": [
    "import numpy as np\n",
    "\n",
    "# 1. Create A and b for a least square problem\n",
    "A = np.arange(3*5, dtype=np.float64).reshape((3,5))**2\n",
    "b = np.arange(5, dtype=np.float64).reshape((5,1))**2\n",
    "\n",
    "# 2. Solve the least square problem using pseudo inverse\n",
    "x = np.linalg.pinv(A.T)@b\n",
    "\n",
    "# 3. Check the result\n",
    "print(A.T)\n",
    "print(b)\n",
    "print(x)\n",
    "\n",
    "# 4. Check the residual\n",
    "res = A.T@x - b\n",
    "print(res)\n",
    "\n",
    "# 5. Check the residual for the true solution (cheating)\n",
    "x_ = np.array([1,0,0]).reshape((3,1))\n",
    "print(A.T@x_ - b)"
   ]
  },
  {
   "cell_type": "markdown",
   "metadata": {},
   "source": [
    "___"
   ]
  },
  {
   "cell_type": "markdown",
   "metadata": {},
   "source": [
    "**Theorem** (Projection matrix)\n",
    "\n",
    "For a matrix $A\\in\\mathbb{R}^{m\\times n}$, \n",
    "\n",
    "$$\n",
    "P=A\\left(A^T A\\right)^{-1} A^T\n",
    "$$ \n",
    "\n",
    "defines the orthogonal projection from $\\mathbb{R}^{m}$ onto column space of $A$. In particular, if $A=v$ (a single column), then \n",
    "\n",
    "$$\n",
    "P=\\frac{v v^T}{v^T v}\n",
    "$$\n",
    "\n",
    "defines the orthogonal projection from ${R}^{m}$ onto the line $\\{\\lambda v \\ : \\  \\lambda \\in \\mathbb{R} \\}$."
   ]
  },
  {
   "cell_type": "markdown",
   "metadata": {},
   "source": [
    "<!-- **Proof**\n",
    "\n",
    "From the least square discussion, we already know that the vector $\\bar{x} =\\left(A^T A\\right)^{-1} A^T b$ yields the projection of $b$ onto the column space of $A$. Thus, taking the linear combination of columns of $A$ with $\\bar x$ being coefficients, we obtain the projected vector of $b$. In other words, the map given by \n",
    "\n",
    "$$\n",
    "b \\mapsto A\\left(A^T A\\right)^{-1} A^T b (=A\\bar{x})\n",
    "$$\n",
    "\n",
    "defines a projection onto column space of $A$.\n",
    "\n",
    "In particular, if $A$ consists of a single column $v$, then this reads \n",
    "\n",
    "$$\n",
    "b \\mapsto \\frac{v v^T}{v^T v} b\n",
    "$$\n",
    "\n",
    " -->\n"
   ]
  },
  {
   "cell_type": "markdown",
   "metadata": {},
   "source": [
    "___"
   ]
  },
  {
   "cell_type": "markdown",
   "metadata": {},
   "source": [
    "<!-- Numerical issue with classical Gram-Schmidt\n",
    "\n",
    "```\n",
    "d = 1e-10\n",
    "A = np.array([[1, d, 0, 0], [1, 0, d, 0], [1, 0, 0, d]], dtype=np.float64)\n",
    "\n",
    "A = A.T\n",
    "\n",
    "Q, R = qr_red_GS(A)\n",
    "\n",
    "print(\"Q^TQ\\n\", Q.T @ Q) # gives non-orthogonal for classical Gram-Schmidt\n",
    "``` -->"
   ]
  },
  {
   "cell_type": "markdown",
   "metadata": {},
   "source": [
    "___"
   ]
  },
  {
   "cell_type": "markdown",
   "metadata": {},
   "source": [
    "<!-- **The last equality of Observation 1**\n",
    "\n",
    "- Claim: $\\| r- Q_{k+1}H_k c \\|_2 = \\| Q_{k+1}^T r - H_k c \\|_2 $, \n",
    "- Simplify the settings\n",
    "  - Put $Q:=Q_{k+1}$ and $c:=H_k c$, then the claim reads\n",
    "  - $\\| r - Q c \\|_2 = \\| Q^T r - c \\|_2$.\n",
    "- What is known\n",
    "  - $Q\\in R^{(k+1)\\times k}$ has orthonomal columns, $c\\in R^k$, $r\\in \\mathrm{span} Q$ ($= K_k$)\n",
    "  - (lemma) $\\| v \\|_2 = \\| Q^T v \\|_2$ if columns of $Q$ are mutually orthonormal and $v\\in\\mathrm{span} Q$\n",
    "- Apply the lemma to $v= r-Qc$, \n",
    "  - $Qc\\in \\mathrm{span} Q$ is obvious as a linear combination of columns of $Q$, and $r\\in \\mathrm{span} Q$ is already known, hence $v=r-Qc \\in \\mathrm{span} Q$. Therefore,\n",
    "  - $\\| r - Q c \\|_2 = \\| Q^T r - Q^T Q c \\|_2=\\| Q^T r - c \\|_2$ since $Q^T Q = I$. -->"
   ]
  },
  {
   "cell_type": "markdown",
   "metadata": {},
   "source": [
    "**Remark** (Orthogonality)\n",
    "\n",
    "- The above theorem is a bona fide orthogonality with the *discrete $L^2$* inner product.\n",
    "  - $(u, v)_{L_n^2}:=(1/\\sqrt{n})\\sum_{i=1}^n u_i \\bar v_i$ for $u,v\\in C^n$.\n",
    "  - $[DFT(u)]_j = (u, \\phi_j)_{L_n^2}$, where $\\phi_j = [e^{j(2k\\pi \\mathfrak{i}/n)}]_{k=0}^{n-1}$."
   ]
  },
  {
   "cell_type": "markdown",
   "metadata": {},
   "source": [
    "### Eigenvalue problems\n"
   ]
  },
  {
   "cell_type": "markdown",
   "metadata": {},
   "source": [
    "___"
   ]
  },
  {
   "cell_type": "markdown",
   "metadata": {},
   "source": [
    "**Theorem** (Gershgorin's Theorem; Kincaid and Cheney (2002) p. 268)\n",
    "\n",
    "The spectrum of an $n \\times n$ matrix $A$ (that is, the set of its eigenvalues) is contained in the union of the following $n$ disks, $D_i$, in the complex plane:\n",
    "$$\n",
    "D_i=\\left\\{z \\in \\mathbb{C}:\\left|z-a_{i i}\\right| \\leq \\sum_{\\substack{j=1 \\\\ j \\neq i}}^n\\left|a_{i j}\\right|\\right\\} \\quad(1 \\leq i \\leq n)\n",
    "$$"
   ]
  },
  {
   "cell_type": "markdown",
   "metadata": {},
   "source": [
    "Let $\\lambda$ be any element of the spectrum of $A$. Select a vector $x$ such that $A x=\\lambda x$ and $\\|x\\|_{\\infty}=1$. Let $i$ be an index for which $\\left|x_i\\right|=1$. Since $(A x)_i=\\lambda x_i$, we have\n",
    "$$\n",
    "\\lambda x_i=\\sum_{j=1}^n a_{i j} x_j\n",
    "$$\n",
    "\n",
    "Therefore,\n",
    "$$\n",
    "\\left(\\lambda-a_{i i}\\right) x_i=\\sum_{\\substack{j=1 \\\\ j \\neq i}}^n a_{i j} x_j\n",
    "$$\n",
    "\n",
    "Taking absolute values and using the triangle inequality and $\\left|x_j\\right| \\leq 1=\\left|x_i\\right|$, we have\n",
    "$$\n",
    "\\left|\\lambda-a_{i i}\\right| \\leq \\sum_{\\substack{j=1 \\\\ j \\neq i}}^n\\left|a_{i j}\\right|\\left|x_j\\right| \\leq \\sum_{\\substack{j=1 \\\\ j \\neq i}}^n\\left|a_{i j}\\right|\n",
    "$$\n",
    "\n",
    "Thus, $\\lambda \\in D_i$."
   ]
  },
  {
   "cell_type": "markdown",
   "metadata": {},
   "source": [
    "___"
   ]
  },
  {
   "cell_type": "markdown",
   "metadata": {},
   "source": [
    "**Example** (Effect of powers of a matrix)\n",
    "\n",
    "Create a 2-by-2 matrix $A$ and a vector $x$. Investigate what happens to $A^k x$ for $k=0,1,2,\\cdots$. "
   ]
  },
  {
   "cell_type": "markdown",
   "metadata": {},
   "source": [
    "**Remark** (Change of basis)\n",
    "\n",
    "- Given two linearly independent vectors $v_1, v_2\\in R^{2\\times 1}$, $P=[v_1 | v_2]\\in R^{2\\times 2}$ is a change of basis from $V=\\{v_1=[1,2]^T, v_2 =[-2, 1]^T\\}$ to $E=\\{e_1, e_2\\}$.\n",
    "  - E.g., if $x=2v_1 + 3v_2$, then $[x]_V=[2,3]^T$. Thus, as a linear combination of columns of $P$, we have $P[x]_V=[v_1 | v_2][2, 3]^T=2v_1 + 3v_2=2[1,2]^T + 3[-2,1]^T=[-4, 7]^T=[x]_E$.\n",
    "- $P^{-1}$ is a change of basis from $E$ to $V$."
   ]
  },
  {
   "cell_type": "code",
   "execution_count": null,
   "metadata": {},
   "outputs": [],
   "source": [
    "\"\"\"Effect of powers of a matrix\"\"\"\n",
    "\n",
    "import numpy as np\n",
    "import matplotlib.pyplot as plt\n",
    "\n",
    "l1 = 3.     #short for (l)ambda\n",
    "l2 = -0.5\n",
    "D = np.diag([l1, l2])\n",
    "v1 = np.array([2., -1.])\n",
    "v2 = np.array([-1., 1.])\n",
    "\n",
    "# P = [v1, v2]: change of basis {v1, v2} --> {e1, e2}\n",
    "P = np.column_stack((v1, v2)) \n",
    "Pinv = np.linalg.inv(P)\n",
    "\n",
    "A = P @ D @ Pinv"
   ]
  },
  {
   "cell_type": "code",
   "execution_count": null,
   "metadata": {},
   "outputs": [
    {
     "data": {
      "image/png": "[encoded data removed]",
      "text/plain": [
       "<Figure size 640x480 with 1 Axes>"
      ]
     },
     "metadata": {},
     "output_type": "display_data"
    },
    {
     "name": "stdout",
     "output_type": "stream",
     "text": [
      " A^5x = [ 0.89439269 -0.44728259] (normalized)\n",
      "     v1 = [ 0.89442719 -0.4472136 ] (normalized)\n",
      "     v2 = [-1.  0.] (normalized)\n",
      "      x = [-0.4472136   0.89442719] (normalized)\n"
     ]
    }
   ],
   "source": [
    "K = 5\n",
    "x = np.array([-1., 2])\n",
    "x = x/np.linalg.norm(x)\n",
    "x_ori = x.copy()\n",
    "v1 = v1/np.linalg.norm(v1)\n",
    "v2 = v2//np.linalg.norm(v2)\n",
    "\n",
    "for k in range(K):\n",
    "    x = A@x\n",
    "    x = x/np.linalg.norm(x)\n",
    "    plt.quiver(0, 0, x[0], x[1], angles='xy', scale_units='xy', scale=1, color='b', label='x'+str(k+1), alpha=(k+1)/K)\n",
    "\n",
    "# Plot the vectors\n",
    "plt.quiver(0, 0, v1[0], v1[1], angles='xy', scale_units='xy', scale=1, color='r', label='v1')\n",
    "plt.quiver(0, 0, v2[0], v2[1], angles='xy', scale_units='xy', scale=1, color='g', label='v2')\n",
    "plt.quiver(0, 0, x_ori[0], x_ori[1], angles='xy', scale_units='xy', scale=1, color='m', label='x_ori')\n",
    "\n",
    "# Set the x and y axis limits\n",
    "plt.xlim(-1.5, 1.5)\n",
    "plt.ylim(-1.5, 1.5)\n",
    "\n",
    "# Add legend\n",
    "plt.legend()\n",
    "\n",
    "# Show the plot\n",
    "plt.show()\n",
    "\n",
    "print(f\" A^{K}x = {x} (normalized)\")\n",
    "print(f\"     v1 = {v1} (normalized)\")\n",
    "print(f\"     v2 = {v2} (normalized)\")\n",
    "print(f\"      x = {x_ori} (normalized)\")\n"
   ]
  },
  {
   "cell_type": "markdown",
   "metadata": {},
   "source": [
    "___"
   ]
  },
  {
   "cell_type": "markdown",
   "metadata": {},
   "source": [
    "**Remark** (Simultaneous Iteration)\n",
    "\n",
    "- In practice, the first and last eigenvalues, the ones appearing in the first row and the last row of Simultaneous Iteration are often obtained relatively quickly. \n",
    "  - The first one corresponds to the result of Power Iteration applied to the first column of the initial matrix. \n",
    "  - The last one, remarkably, is the result of Inverse Power Iteration of the last column of initial matrix. "
   ]
  },
  {
   "cell_type": "markdown",
   "metadata": {},
   "source": [
    "___"
   ]
  },
  {
   "cell_type": "markdown",
   "metadata": {},
   "source": [
    "**Summary** (Case I: $m\\ge n$) \n",
    "\n",
    "- For any $m$-by-$n$ matrix $A$ ($m\\ge n$), we can choose \n",
    "  - $\\left\\{u_1, \\ldots, u_m\\right\\}$ orthonormal vectors of length $m$, (left singular vector)\n",
    "  - $\\left\\{v_1, \\ldots, v_n\\right\\}$ orthonormal vectors of length $n$, (right singular vector) and\n",
    "  - $s_1 \\geq \\cdots \\geq$ $s_{n} \\geq 0$, (singular values) satisfying\n",
    "$$\n",
    "\\begin{gathered}\n",
    "A v_1=s_1 u_1 \\\\\n",
    "A v_2=s_2 u_2 \\\\\n",
    "\\vdots \\\\\n",
    "A v_n=s_n u_n .\n",
    "\\end{gathered}\n",
    "$$\n"
   ]
  },
  {
   "cell_type": "markdown",
   "metadata": {},
   "source": [
    "___"
   ]
  },
  {
   "cell_type": "markdown",
   "metadata": {},
   "source": [
    "**Example** (Building SVD easy case; Sauer (2017) p. 580)\n",
    "\n",
    "(Step 1)\n",
    "\n",
    "Find the singular values and singular vectors for $A=\\begin{bmatrix}3 & 0 \\\\ 0 & 1/2 \\end{bmatrix}$. \n"
   ]
  },
  {
   "cell_type": "markdown",
   "metadata": {},
   "source": [
    "###### hide/show"
   ]
  },
  {
   "cell_type": "markdown",
   "metadata": {},
   "source": [
    "\n",
    "$$\n",
    "\\begin{aligned} & A\\left[\\begin{array}{l}1 \\\\ 0\\end{array}\\right]=3\\left[\\begin{array}{l}1 \\\\ 0\\end{array}\\right] \\\\ & A\\left[\\begin{array}{l}0 \\\\ 1\\end{array}\\right]=\\frac{1}{2}\\left[\\begin{array}{l}0 \\\\ 1\\end{array}\\right]\\end{aligned}\n",
    "$$\n"
   ]
  },
  {
   "cell_type": "markdown",
   "metadata": {},
   "source": [
    "(Step 2)\n",
    "\n",
    "Find the singular values and singular vectors for $A=\\begin{bmatrix}0 & -1/2 \\\\ 3 & 0 \\\\ 0 & 0 \\end{bmatrix}$.\n"
   ]
  },
  {
   "cell_type": "markdown",
   "metadata": {},
   "source": [
    "###### hide/show"
   ]
  },
  {
   "cell_type": "markdown",
   "metadata": {},
   "source": [
    "\n",
    "\n",
    "$$\n",
    "\\begin{aligned}\n",
    "& A\\left[\\begin{array}{l}\n",
    "1 \\\\\n",
    "0\n",
    "\\end{array}\\right]=3\\left[\\begin{array}{l}\n",
    "0 \\\\\n",
    "1 \\\\\n",
    "0\n",
    "\\end{array}\\right] \\\\\n",
    "& A\\left[\\begin{array}{l}\n",
    "0 \\\\\n",
    "1\n",
    "\\end{array}\\right]=\\frac{1}{2}\\left[\\begin{array}{r}\n",
    "-1 \\\\\n",
    "0 \\\\\n",
    "0\n",
    "\\end{array}\\right]\n",
    "\\end{aligned}\n",
    "$$\n",
    "\n",
    "Even for this simple matrix, guessing singular vectors is not that easy, especially when requiring the left singular vectors be orthogonal."
   ]
  },
  {
   "cell_type": "markdown",
   "metadata": {},
   "source": [
    "(Step 3) \n",
    "\n",
    "Can you do the same for $A=\\begin{bmatrix}2 & -1/2 \\\\ 3 & 1 \\\\ -2 & 5 \\end{bmatrix}$?\n",
    "\n",
    "We need more systematic approach.\n"
   ]
  },
  {
   "cell_type": "markdown",
   "metadata": {},
   "source": [
    "___"
   ]
  },
  {
   "cell_type": "markdown",
   "metadata": {},
   "source": [
    "**Example** (Sauer (2017) p. 583)\n",
    "\n",
    "Find the singular value decomposition of the $2 \\times 3$ matrix\n",
    "$$\n",
    "A=\\left[\\begin{array}{rrr}\n",
    "-1 & 3 & 7 \\\\\n",
    "7 & 4 & 1\n",
    "\\end{array}\\right] .\n",
    "$$\n"
   ]
  },
  {
   "cell_type": "markdown",
   "metadata": {},
   "source": [
    "\n",
    "Plan: Find the SVD of $A^T$ and then transpose the result. \n",
    "\n",
    "0. Preliminary\n",
    "\n",
    "$$\n",
    "A A^T=\\left[\\begin{array}{ll}\n",
    "59 & 12 \\\\\n",
    "12 & 66\n",
    "\\end{array}\\right],\n",
    "$$\n",
    "\n",
    "1. Eigenvectors and eigenvalues \n",
    "\n",
    "$$\n",
    "v_1=\\begin{bmatrix}3 / 5 \\\\ 4 / 5\\end{bmatrix}, \n",
    "\\quad \n",
    "v_2=\\begin{bmatrix}-4 / 5 \\\\ 3 / 5\\end{bmatrix},\n",
    "\\quad\n",
    "\\begin{array}{l}\n",
    "s_1^2=75 \\\\ \n",
    "s_2^2=50\n",
    "\\end{array}\n",
    "$$\n"
   ]
  },
  {
   "cell_type": "markdown",
   "metadata": {},
   "source": [
    "2. Singular values\n",
    "\n",
    "$$\n",
    "\\begin{array}{l}\n",
    "s_1=5 \\sqrt{3} \\\\ \n",
    "s_2=5 \\sqrt{2}\n",
    "\\end{array}\n",
    "$$\n",
    "\n",
    "3. Right singular vectors\n",
    "\n",
    "$v_1, v_2$ (same as eigenvectors of $AA^T$)\n",
    "\n",
    "4. Left singular vectors\n",
    "\n",
    "From \n",
    "\n",
    "$$\n",
    "5 \\sqrt{3} u_1=A^T v_1=\\left[\\begin{array}{l}\n",
    "5 \\\\\n",
    "5 \\\\\n",
    "5\n",
    "\\end{array}\\right] \\quad 5 \\sqrt{2} u_2=A^T v_2=\\left[\\begin{array}{r}\n",
    "5 \\\\\n",
    "0 \\\\\n",
    "-5\n",
    "\\end{array}\\right]\n",
    "$$\n",
    "\n",
    "we have\n",
    "\n",
    "$$\n",
    "u_1=\\left[\\begin{array}{c}\n",
    "\\frac{1}{\\sqrt{3}} \\\\\n",
    "\\frac{1}{\\sqrt{3}} \\\\\n",
    "\\frac{1}{\\sqrt{3}}\n",
    "\\end{array}\\right] \\quad u_2=\\left[\\begin{array}{c}\n",
    "\\frac{1}{\\sqrt{2}} \\\\\n",
    "0 \\\\\n",
    "-\\frac{1}{\\sqrt{2}}\n",
    "\\end{array}\\right] .\n",
    "$$\n",
    "\n",
    "For $i = 3$, choose\n",
    "\n",
    "$$\n",
    "u_3=\\left[\\begin{array}{c} \\frac{1}{\\sqrt{6}} \\\\ -\\frac{2}{\\sqrt{6}} \\\\ \\frac{1}{\\sqrt{6}}\n",
    "\\end{array}\\right]\n",
    "$$ \n"
   ]
  },
  {
   "cell_type": "markdown",
   "metadata": {},
   "source": [
    "5. SVD of $A^T$\n",
    "\n",
    "$$\n",
    "A^T=\\left[\\begin{array}{rr}\n",
    "-1 & 7 \\\\\n",
    "3 & 4 \\\\\n",
    "7 & 1\n",
    "\\end{array}\\right]=\\tilde U \\tilde S \\tilde V^T=\\left[\\begin{array}{rrr}\n",
    "\\frac{1}{\\sqrt{3}} & \\frac{1}{\\sqrt{2}} & \\frac{1}{\\sqrt{6}} \\\\\n",
    "\\frac{1}{\\sqrt{3}} & 0 & -\\frac{2}{\\sqrt{6}} \\\\\n",
    "\\frac{1}{\\sqrt{3}} & -\\frac{1}{\\sqrt{2}} & \\frac{1}{\\sqrt{6}}\n",
    "\\end{array}\\right]\\left[\\begin{array}{rr}\n",
    "5 \\sqrt{3} & 0 \\\\\n",
    "0 & 5 \\sqrt{2} \\\\\n",
    "0 & 0\n",
    "\\end{array}\\right]\\left[\\begin{array}{rr}\n",
    "3 / 5 & 4 / 5 \\\\\n",
    "-4 / 5 & 3 / 5\n",
    "\\end{array}\\right],\n",
    "$$\n",
    "\n",
    "6. SVD of $A$ is\n",
    "\n",
    "$$\n",
    "A= \\left[\\begin{array}{rrr}\n",
    "-1 & 3 & 7 \\\\\n",
    "7 & 4 & 1\n",
    "\\end{array}\\right]\n",
    "=USV^T\n",
    "=\\left[\\begin{array}{rr}\n",
    "3 / 5 & 4 / 5 \\\\\n",
    "-4 / 5 & 3 / 5\n",
    "\\end{array}\\right]\\left[\\begin{array}{rrr}\n",
    "5 \\sqrt{3} & 0 & 0 \\\\\n",
    "0 & 5 \\sqrt{2} & 0\n",
    "\\end{array}\\right]\\left[\\begin{array}{rrr}\n",
    "\\frac{1}{\\sqrt{3}} & \\frac{1}{\\sqrt{3}} & \\frac{1}{\\sqrt{3}} \\\\\n",
    "\\frac{1}{\\sqrt{2}} & 0 & -\\frac{1}{\\sqrt{2}} \\\\\n",
    "\\frac{1}{\\sqrt{6}} & -\\frac{2}{\\sqrt{6}} & \\frac{1}{\\sqrt{6}}\n",
    "\\end{array}\\right] .\n",
    "$$\n",
    "\n",
    "Here, we note $USV^T=\\tilde V \\tilde S^T \\tilde U^T$ with equality holding factor-wisely."
   ]
  },
  {
   "cell_type": "markdown",
   "metadata": {},
   "source": [
    "\n",
    "7 Reduced SVD of $A$\n",
    "\n",
    "$$\n",
    "A=\\left[\\begin{array}{rrr}\n",
    "-1 & 3 & 7 \\\\\n",
    "7 & 4 & 1\n",
    "\\end{array}\\right]\n",
    "=U\\hat S \\hat V^T \n",
    "=\\left[\\begin{array}{rr}\n",
    "3 / 5 & 4 / 5 \\\\\n",
    "-4 / 5 & 3 / 5\n",
    "\\end{array}\\right]\\left[\\begin{array}{rr}\n",
    "5 \\sqrt{3} & 0 \\\\\n",
    "0 & 5 \\sqrt{2}\n",
    "\\end{array}\\right]\\left[\\begin{array}{rrr}\n",
    "\\frac{1}{\\sqrt{3}} & \\frac{1}{\\sqrt{3}} & \\frac{1}{\\sqrt{3}} \\\\\n",
    "\\frac{1}{\\sqrt{2}} & 0 & -\\frac{1}{\\sqrt{2}}\n",
    "\\end{array}\\right] .\n",
    "$$"
   ]
  }
 ],
 "metadata": {
  "language_info": {
   "name": "python"
  },
  "orig_nbformat": 4
 },
 "nbformat": 4,
 "nbformat_minor": 2
}
