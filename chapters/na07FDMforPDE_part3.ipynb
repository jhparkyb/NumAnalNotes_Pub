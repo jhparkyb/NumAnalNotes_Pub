{
 "cells": [
  {
   "cell_type": "markdown",
   "metadata": {},
   "source": [
    "### Finite difference methods (FDM) for partial differential equations (PDE)"
   ]
  },
  {
   "cell_type": "markdown",
   "metadata": {},
   "source": [
    "Main references\n",
    "\n",
    "[^1]: Timothy Sauer (2017) *Numerical Analysis* 3rd Edition. (p. 419-427)\n",
    "\n",
    "#### Take-aways\n",
    "\n",
    "After studying this chapter, we will be able to\n",
    "\n",
    "TBF\n",
    "\n"
   ]
  },
  {
   "cell_type": "markdown",
   "metadata": {},
   "source": [
    "#### Finite difference method for elliptic equations\n"
   ]
  },
  {
   "cell_type": "markdown",
   "metadata": {},
   "source": [
    "\n",
    "##### Problem (Poisson equation)\n",
    "\n",
    "\n",
    "**Problem of interest** (Poisson equation on a rectangular domain)\n",
    "\n",
    "Given a rectangule $D=(x_l, x_r)\\times(y_l, y_r)$, a function $f$ and functions on each piece of boundaries $g_1, g_2, g_3, g_4$, find $u:D\\cup\\partial D \\to \\mathbb{R}$ that satisfies\n",
    "\n",
    "$$\n",
    "\\left\\{\n",
    "\\begin{aligned}\n",
    "\\Delta u (x,y) & = f(x,y) \\\\\n",
    "u\\left(x, y_b\\right) & =g_1(x) \\\\\n",
    "u\\left(x, y_t\\right) & =g_2(x) \\\\\n",
    "u\\left(x_l, y\\right) & =g_3(y) \\\\\n",
    "u\\left(x_r, y\\right) & =g_4(y)\n",
    "\\end{aligned}\n",
    "\\right.\n",
    "$$"
   ]
  },
  {
   "cell_type": "markdown",
   "metadata": {},
   "source": [
    "**Remark** (Preliminary)\n",
    "\n",
    "- Laplacian: \n",
    "  \n",
    "  $$\n",
    "  \\Delta u(x,y):=\\nabla\\cdot(\\nabla u (x,y))=\\frac{\\partial^2}{\\partial x^2} u (x,y) + \\frac{\\partial^2}{\\partial y^2} u (x,y)\n",
    "  $$\n",
    "- $\\partial D$ means the boundaries of a domain $D$. "
   ]
  },
  {
   "cell_type": "markdown",
   "metadata": {},
   "source": [
    "**Remark** (Application of Poisson equation)\n",
    "\n",
    "- It describes the relationship between a *potential* and the source of potential. (e.g., gravitational potential and distribution of mass density, electrostatic potential and electrical charge density, etc.) \n",
    "- In the physical language, the gradient of potential causes the change of something (e.g., motion), which is usually called some sort of *field* (gravitational field, electric field, etc.). Then, the divergence of that field often represents something we can observe or measure. \n",
    "- These comments are made by the instructor, a non-physist, only for motivational purposes after a bit of search from Wikipedia and reading Sauer (2017) pp. 419--420. For precise information, consult more in-depth sources."
   ]
  },
  {
   "cell_type": "markdown",
   "metadata": {},
   "source": [
    "**Remark** (About Poisson equation)\n",
    "\n",
    "- It is an example of elliptic equation.\n",
    "- There is no time variable if one relates it to physical applications."
   ]
  },
  {
   "cell_type": "markdown",
   "metadata": {},
   "source": [
    "**Remark** (Terminology)\n",
    "\n",
    "- When $f(x,y) \\equiv 0$, Poisson equation is called *Laplace equation*.\n",
    "- Solutions of Laplace equation are called *harmonic functions*."
   ]
  },
  {
   "cell_type": "markdown",
   "metadata": {},
   "source": [
    "#### Common settings/Notation\n",
    "\n",
    "| symbol | meaning |\n",
    "|---|---|\n",
    "| $h$ | grid spacing in $x$ direction |\n",
    "| $k$ | grid spacing in $y$ direction |\n",
    "| $x_i$ | grid point $x_i = a + ih$ in $x$ direction |\n",
    "| $y_j$ | grid point $y_j = a + jk$ in $y$ direction |\n",
    "| $u(x_i, y_j)$ | true solution evaluated at $(x_i, y_j)$ |\n",
    "| $w_{i, j}$ | numerical solution meant to approximate $u(x_i, y_j)$ |\n"
   ]
  },
  {
   "cell_type": "markdown",
   "metadata": {},
   "source": [
    "##### Finite Difference Method"
   ]
  },
  {
   "cell_type": "markdown",
   "metadata": {},
   "source": [
    "**Centered different quotient for 2nd derivative**\n",
    "\n",
    "$$\n",
    "u_{xx}(x_i, y_j)\\approx \\frac{w_{i+1, j}-2 w_{i j}+w_{i-1, j}}{h^2}\n",
    "$$\n",
    "\n",
    "$$\n",
    "u_{yy}(x_i, y_j)\\approx \\frac{w_{i, j+1}-2 w_{i j}+w_{i, j-1}}{k^2}\n",
    "$$\n"
   ]
  },
  {
   "cell_type": "markdown",
   "metadata": {},
   "source": [
    "**Numerical scheme**\n",
    "\n",
    "Replace $u_{xx}$ and $u_{yy}$, then the discrete version of the PDE reads:\n",
    "\n",
    "$$\n",
    "\\frac{w_{i-1, j}-2 w_{i j}+w_{i+1, j}}{h^2}+\\frac{w_{i, j-1}-2 w_{i, j}+w_{i, j+1}}{k^2}=f\\left(x_i, y_j\\right)\n",
    "$$\n",
    "\n",
    "where $x_i=x_l+(i-1) h$ and $y_j=y_b+(j-1) k$ for $1 \\leq i \\leq m$ and $1 \\leq j \\leq n$.\n",
    "$$\n"
   ]
  },
  {
   "cell_type": "markdown",
   "metadata": {},
   "source": [
    "If $h=k$, then\n",
    "\n",
    "$$\n",
    "\\frac{w_{i-1, j}+w_{i+1, j} -4 w_{i j} + w_{i, j-1}+w_{i, j+1}}{h^2}=f\\left(x_i, y_j\\right)\n",
    "$$\n"
   ]
  },
  {
   "cell_type": "markdown",
   "metadata": {},
   "source": [
    "\n",
    "**Stencil** (FDM for Poisson equation)\n",
    "\n",
    "\n",
    "| | |\n",
    "|---|---|\n",
    "| ![Stencil of FDM for Poisson equation 1](https://ece.uwaterloo.ca/~dwharder/NumericalAnalysis/15BVPs/elliptic/dd01.png) | ![Stencil of FDM for Poisson equation 1](https://ece.uwaterloo.ca/~dwharder/NumericalAnalysis/15BVPs/elliptic/dd02.png) |\n",
    "\n",
    "\n",
    "Figure: Department of Electrical and Computer Engineering, University of Waterloo \n",
    "\n",
    "The figure uses different symbols from us. Substitute:\n",
    "\n",
    "| | Figure | Our settings |\n",
    "|---|---|---|\n",
    "| left end | $x_a$ | $x_l$ |\n",
    "| right end | $x_b$ | $x_r$ |\n",
    "| bottom end | $y_a$ | $y_b$ |\n",
    "| top end | $y_b$ | $y_t$ |\n",
    "| numerical solution | $u$ | $w$ |\n",
    "| indexing | start from 0 | start from 1 |\n",
    "\n"
   ]
  },
  {
   "cell_type": "markdown",
   "metadata": {},
   "source": [
    "\n",
    "![Grid domain FDM for Poisson equation](https://ece.uwaterloo.ca/~dwharder/NumericalAnalysis/15BVPs/elliptic/region02.png)\n"
   ]
  },
  {
   "cell_type": "markdown",
   "metadata": {},
   "source": [
    "##### Matrix form\n"
   ]
  },
  {
   "cell_type": "markdown",
   "metadata": {},
   "source": [
    "\n",
    "- The numerical solution at the whole grid points must be found all at once.\n",
    "  - One can see this by examining dependency of numerical solution using the stencils.\n",
    "  - This is a stark opposite to time dependent problems such as heat equation or wave equation.\n",
    "- This entails reorganization for manangement of indexing. \n",
    "  - We do not have tools to treat 2D array of unknowns as a single vector in a nice way unlike matrix equation can handle 1D array readily."
   ]
  },
  {
   "cell_type": "markdown",
   "metadata": {},
   "source": [
    "**Indexing conversion**\n",
    "\n",
    "Introduce the following 2D-1D index conversion\n",
    "\n",
    "$$\n",
    "(i, j) \\longleftrightarrow i+(j-1) m.\n",
    "$$\n",
    "\n",
    "Note that \n",
    "- $i=1,2,\\dots,m$ and $j=1,2,\\cdots,n$, including the boundary grid points.\n",
    "- This is one-to-one, hence invertible for indices that appear in our settings.\n"
   ]
  },
  {
   "cell_type": "markdown",
   "metadata": {},
   "source": [
    "**Numerical solution vector**\n",
    "\n",
    "$$\n",
    "v_{i+(j-1) m}=w_{i j}\n",
    "$$"
   ]
  },
  {
   "cell_type": "markdown",
   "metadata": {},
   "source": [
    "**Coefficent Matrix**\n",
    "\n",
    "- $A$ is $mn$-by-$mn$ matrix.\n",
    "- $A_{pq}$ represents the $q$-th coefficient of the $p$-th equation, where $p$-th equation comes from the numerical scheme with $(i,j)$ via $p=i+(j-1) m$.\n",
    "  - $p$-th row consists of at most five non-zero values. (Why?)\n",
    "\n",
    "1. Interior grid points\n",
    "  \n",
    "- Assuming indexing starts from 1,\n",
    "  - for $i\\in\\{2,3,\\cdots,m-1\\}$\n",
    "  - for $j\\in\\{2,3,\\cdots,n-1\\}$\n",
    "\n",
    "  $$\n",
    "  \\begin{aligned}\n",
    "  &\\begin{aligned}\n",
    "  A_{i+(j-1) m, i+(j-1) m} & =-\\frac{2}{h^2}-\\frac{2}{k^2} \\\\\n",
    "  A_{i+(j-1) m, i+1+(j-1) m} & =\\frac{1}{h^2} \\\\\n",
    "  A_{i+(j-1) m, i-1+(j-1) m} & =\\frac{1}{h^2} \\\\\n",
    "  A_{i+(j-1) m, i+j m} & =\\frac{1}{k^2} \\\\\n",
    "  A_{i+(j-1) m, i+(j-2) m} & =\\frac{1}{k^2}\n",
    "  \\end{aligned}\n",
    "  \\end{aligned}\n",
    "  $$"
   ]
  },
  {
   "cell_type": "markdown",
   "metadata": {},
   "source": [
    "**Right hand side vector**\n",
    "\n",
    "$$\n",
    "b_{i+(j-1) m}=f\\left(x_i, y_j\\right)\n",
    "$$"
   ]
  },
  {
   "cell_type": "markdown",
   "metadata": {},
   "source": [
    "**Boundary conditions**\n",
    "\n",
    "$$\n",
    "\\begin{array}{cll}\n",
    "\\text { Bottom } & A_{i+(j-1) m, i+(j-1) m}=1, & b_{i+(j-1) m}=g_1\\left(x_i\\right) \\text { for } j=1, \\quad 1 \\leq i \\leq m \\\\\n",
    "\\text { Top side } & A_{i+(j-1) m, i+(j-1) m}=1, & b_{i+(j-1) m}=g_2\\left(x_i\\right) \\text { for } j=n, \\quad 1 \\leq i \\leq m \\\\\n",
    "\\text { Left side } & A_{i+(j-1) m, i+(j-1) m}=1, & b_{i+(j-1) m}=g_3\\left(y_j\\right) \\text { for } i=1, \\quad 1<j<n \\\\\n",
    "\\text { Right side } & A_{i+(j-1) m, i+(j-1) m}=1, & b_{i+(j-1) m}=g_4\\left(y_j\\right) \\text { for } i=m, \\quad 1<j<n\n",
    "\\end{array}\n",
    "$$"
   ]
  },
  {
   "cell_type": "markdown",
   "metadata": {},
   "source": [
    "**Index conversion table**\n",
    "\n",
    "  | $x$ | $y$ | Coefficient number $q$ |\n",
    "  | :---: | :---: | :--- |\n",
    "  | $i$ | $j$ | $i+(j-1) m$ |\n",
    "  | $i+1$ | $j$ | $i+1+(j-1) m$ |\n",
    "  | $i-1$ | $j$ | $i-1+(j-1) m$ |\n",
    "  | $i$ | $j+1$ | $i+j m$ |\n",
    "  | $i$ | $j-1$ | $i+(j-2) m$ |"
   ]
  },
  {
   "cell_type": "markdown",
   "metadata": {},
   "source": [
    "**Remark** (Dimensions)\n",
    "\n",
    "- There are $(m-2)\\times(n-2)$ true unknowns. \n",
    "- Cosmetic unknowns are also included in the unknown vector (i.e., numerical solution).\n",
    "  - They correspond to trivial equalities to the boundary conditions in the right hand side vector.\n",
    "\n"
   ]
  },
  {
   "cell_type": "markdown",
   "metadata": {},
   "source": [
    "###### Indexing starting from 0\n",
    "\n",
    "**Indexing starting from 0**"
   ]
  },
  {
   "cell_type": "markdown",
   "metadata": {},
   "source": [
    "**Numerical solution vector** (index starting from 0)\n",
    "\n",
    "$$\n",
    "v_{i+j m}=w_{i j}\n",
    "$$"
   ]
  },
  {
   "cell_type": "markdown",
   "metadata": {},
   "source": [
    "\n",
    "**Coefficent matrix** (index starting from 0)\n",
    "\n",
    "  - for $i\\in\\{1,2,\\cdots,m-2\\}$\n",
    "  - for $j\\in\\{1,2,\\cdots,n-2\\}$\n",
    "\n",
    "  $$\n",
    "  \\begin{aligned}\n",
    "  &\\begin{aligned}\n",
    "  A_{i+j m, i+j m} & =-\\frac{2}{h^2}-\\frac{2}{k^2} \\\\\n",
    "  A_{i+j m, (i+1)+ j m} & =\\frac{1}{h^2} \\\\\n",
    "  A_{i+j m, (i-1)+j m} & =\\frac{1}{h^2} \\\\\n",
    "  A_{i+j m, i+(j+1) m} & =\\frac{1}{k^2} \\\\\n",
    "  A_{i+j m, i+(j-1) m} & =\\frac{1}{k^2}\n",
    "  \\end{aligned}\n",
    "  \\end{aligned}\n",
    "  $$"
   ]
  },
  {
   "cell_type": "markdown",
   "metadata": {},
   "source": [
    "**Right hand side vector** (index starting from 0)\n",
    "\n",
    "  - for $i\\in\\{1,2,\\cdots,m-2\\}$\n",
    "  - for $j\\in\\{1,2,\\cdots,n-2\\}$\n",
    "\n",
    "$$\n",
    "b_{i+j m}=f\\left(x_i, y_j\\right)\n",
    "$$"
   ]
  },
  {
   "cell_type": "markdown",
   "metadata": {},
   "source": [
    "**Boundary conditions** ((index starting from 0))\n",
    "\n",
    "$$\n",
    "\\begin{array}{clll}\n",
    "\\text { Bottom } & A_{i+j m, i+j m}=1, & b_{i+j m}=g_1\\left(x_i\\right) \\text { for } j=0, & 0 \\le i < m \\\\\n",
    "\\text { Top side } & A_{i+j m, i+j m}=1, & b_{i+j m}=g_2\\left(x_i\\right) \\text { for } j=n-1, & 0 \\le i < m \\\\\n",
    "\\text { Left side } & A_{i+j m, i+j m}=1, & b_{i+j m}=g_3\\left(y_j\\right) \\text { for } i=0, & 1 \\le j < n-1 \\\\\n",
    "\\text { Right side } & A_{i+j m, i+j m}=1, & b_{i+j m}=g_4\\left(y_j\\right) \\text { for } i=m-1, & 1 \\le j < n-1\n",
    "\\end{array}\n",
    "$$"
   ]
  },
  {
   "cell_type": "markdown",
   "metadata": {},
   "source": [
    "**Index conversion table** (index starting from 0)\n",
    "\n",
    "  | $x$ | $y$ | Coefficient number $q$ |\n",
    "  | :---: | :---: | :--- |\n",
    "  | $i$ | $j$ | $i+j m$ |\n",
    "  | $i+1$ | $j$ | $(i+1)+j m$ |\n",
    "  | $i-1$ | $j$ | $(i-1)+j m$ |\n",
    "  | $i$ | $j+1$ | $i+(j+1) m$ |\n",
    "  | $i$ | $j-1$ | $i+(j-1) m$ |"
   ]
  },
  {
   "cell_type": "markdown",
   "metadata": {},
   "source": [
    "**Remark** (Terminology)\n",
    "\n",
    "- $A$ is often called *stiffness matrix*.\n",
    "- $b$ is often called *loading vector*."
   ]
  },
  {
   "cell_type": "markdown",
   "metadata": {},
   "source": [
    "**Remark** (Boundary conditions and dimensions)\n",
    "\n",
    "- We can make the problem $(m-2)(n-2)$-by-$(m-2)(n-2)$ matrix problem by directly feeding the boundary condition to the solution."
   ]
  },
  {
   "cell_type": "markdown",
   "metadata": {},
   "source": [
    "##### Computation"
   ]
  },
  {
   "cell_type": "markdown",
   "metadata": {},
   "source": [
    "\n",
    "**Example** (Laplace equation)\n",
    "\n",
    "Compute the numerical solution of on the square domain $[0,1]\\times[0,1]$:\n",
    "\n",
    "$$\n",
    "\\left\\{\\begin{array}{l}\n",
    "\\Delta u = 0 \\\\\n",
    "u(x, 0)=\\sin \\pi x \\\\\n",
    "u(x, 1)=\\sin \\pi x \\\\\n",
    "u(0, y)=0 \\\\\n",
    "u(1, y)=0\n",
    "\\end{array}\\right.\n",
    "$$\n"
   ]
  },
  {
   "cell_type": "markdown",
   "metadata": {},
   "source": [
    "**Caution** (indexing)\n",
    "\n",
    "- Indexing starts with 0 as oppose to previous discretization.\n",
    "- This discrepancy is unavoidable: since from our textbook uses Matlab and we are using Python, we cannot have all (a) the same index between textbook and the current example, (b) consistency of this notes with the textbook, and (c) clean code in Python in this example. I have chosen to give up (a)."
   ]
  },
  {
   "cell_type": "code",
   "execution_count": null,
   "metadata": {},
   "outputs": [],
   "source": [
    "import numpy as np\n",
    "from internallib import tridiag\n",
    "import matplotlib.pyplot as plt\n",
    "plt.rcParams['font.size'] = 16\n",
    "\n",
    "def convert_ind(ind, shape):\n",
    "    \"\"\"\n",
    "    Convert a 1D index to a 2D index, or vice versa.\n",
    "\n",
    "    Input:\n",
    "        ind: (int or tuple) Index to be converted. \n",
    "            2D index (i, j) is given, i corresponds to x location,\n",
    "            and j corresponds to y location. \n",
    "        shape: (tuple) Shape of the 2D array.\n",
    "    Note:\n",
    "\n",
    "    CAUTION: \n",
    "        2nd dim, m, is the length of grid in x direction (horizontal)\n",
    "        but, the 1st component of ind (e.g., i of (i, j)) gives the \n",
    "        the location of x. \n",
    "    \"\"\"\n",
    "    # Assume shape is (n, m) or n-by-m\n",
    "    m = shape[1]\n",
    "\n",
    "    if isinstance(ind, int) or len(ind) == 1:\n",
    "        return (ind//m, ind%m)\n",
    "    elif len(ind) == 2:\n",
    "        return ind[1]*m + ind[0]\n",
    "    else:\n",
    "        raise ValueError(\"The input type is not supported.\")\n"
   ]
  },
  {
   "cell_type": "markdown",
   "metadata": {},
   "source": [
    "###### Sanity check (`convert_ind`)"
   ]
  },
  {
   "cell_type": "code",
   "execution_count": null,
   "metadata": {},
   "outputs": [],
   "source": [
    "n = 5\n",
    "m = 7\n",
    "shape = (n, m)\n",
    "\n",
    "# test 1D to 2D\n",
    "for i in range(n*m):\n",
    "    print(i, convert_ind(i, shape))"
   ]
  },
  {
   "cell_type": "code",
   "execution_count": null,
   "metadata": {},
   "outputs": [],
   "source": [
    "# CAUTION: i ranges from 0 to m-1, and j ranges from 0 to n-1\n",
    "#       (i, j) for n-by-m\n",
    "\n",
    "for j in range(n):\n",
    "    for i in range(m):\n",
    "        print((i, j), convert_ind((i, j), shape))\n"
   ]
  },
  {
   "cell_type": "markdown",
   "metadata": {},
   "source": [
    "**Vector and matrix creation**"
   ]
  },
  {
   "cell_type": "code",
   "execution_count": null,
   "metadata": {},
   "outputs": [],
   "source": [
    "def eval_2Dfun(f, x, y):\n",
    "    \"\"\"\n",
    "    Return 2D array of evaluation f(x, y)\n",
    "\n",
    "    Input:\n",
    "        f: (function) Function to be evaluated.\n",
    "        x: (1D array) x coordinate.\n",
    "        y: (1D array) y coordinate.\n",
    "    Output:\n",
    "        f_vec: (2D array) Evaluation of f(x, y). Watch the flip of shape and index.\n",
    "            Shape is (len(y), len(x)).\n",
    "            f_vec[i, j] = f(x[j], y[i])\n",
    "    \"\"\"\n",
    "    return f(x, y.reshape(-1, 1))\n"
   ]
  },
  {
   "cell_type": "markdown",
   "metadata": {},
   "source": [
    "###### Sanity Check (`eval_2Dfun`)"
   ]
  },
  {
   "cell_type": "code",
   "execution_count": null,
   "metadata": {},
   "outputs": [],
   "source": [
    "n = 4\n",
    "m = 7\n",
    "\n",
    "fn = lambda x, y: x + y\n",
    "\n",
    "x = np.arange(m)\n",
    "y = np.arange(n)*10\n",
    "f_grid = eval_2Dfun(fn, x, y)\n",
    "print(f_grid)"
   ]
  },
  {
   "cell_type": "markdown",
   "metadata": {},
   "source": [
    "**Reorganize arrays**\n",
    "\n",
    "convert 2D array to a vector"
   ]
  },
  {
   "cell_type": "code",
   "execution_count": null,
   "metadata": {},
   "outputs": [],
   "source": [
    "def to_vec(arr, shape=None):\n",
    "    \"\"\"\n",
    "    Convert 2D array to 1D array in the context of \n",
    "    solving 2D elliptic problem using finite different method.\n",
    "\n",
    "    Input:\n",
    "        arr: (2D array) grid function.\n",
    "        shape: (tuple) shape of the grid domain. Currently, not used.\n",
    "    Output:\n",
    "        vec: (1D array) 1D array of arr.\n",
    "    \"\"\"\n",
    "    return arr.flatten()"
   ]
  },
  {
   "cell_type": "code",
   "execution_count": null,
   "metadata": {},
   "outputs": [],
   "source": [
    "# test `to_vec`\n",
    "f_vec=to_vec(f_grid, (n, m))\n",
    "print(f_vec)\n",
    "\n",
    "print(\"\\n\", f\"{'f_grid[2D index]' : ^20}{'f_vec[1D index]' : ^20}\")\n",
    "for i in range(n*m):\n",
    "    print(f\"{f_grid[convert_ind(i, shape)] : ^20}{to_vec(f_vec, shape)[i] : ^20}\")\n"
   ]
  },
  {
   "cell_type": "code",
   "execution_count": null,
   "metadata": {},
   "outputs": [],
   "source": [
    "\n",
    "def solve_pois_eq(f, bc_b, bc_r, bc_t, bc_l, xl, xr, yb, yt, n, m):\n",
    "    \"\"\"\n",
    "    Return numerical solution of Poisson equation on a rectangular domain \n",
    "    using finite difference method.\n",
    "    \n",
    "    Input:\n",
    "        f: (function) right hand side function.\n",
    "        bc_b: (function) Boundary condition at bottom.\n",
    "        bc_r: (function) Boundary condition at right.\n",
    "        bc_t: (function) Boundary condition at top.\n",
    "        bc_l: (function) Boundary condition at left.\n",
    "        xl: (float) Left boundary of the domain.\n",
    "        xr: (float) Right boundary of the domain.\n",
    "        yb: (float) Bottom boundary of the domain.\n",
    "        yt: (float) Top boundary of the domain.\n",
    "        m: (int) Number of spatial grid in x direction.\n",
    "        n: (int) Number of spatial grid in y direction.\n",
    "    Output:\n",
    "        w: (2D array) Numerical solution.\n",
    "    \"\"\"\n",
    "    # Create discrete domain\n",
    "    x = np.linspace(xl, xr, m)\n",
    "    y = np.linspace(yb, yt, n)\n",
    "\n",
    "    h = x[1] - x[0]\n",
    "    k = y[1] - y[0]\n",
    "\n",
    "    shape = (n, m)\n",
    "\n",
    "    # Construct loading vector\n",
    "    f_vec = eval_2Dfun(f, x, y)\n",
    "    b = to_vec(f_vec) # convert 2D array to 1D array\n",
    "\n",
    "    # Construct coefficient matrix\n",
    "    A = np.zeros((n*m, n*m))\n",
    "    for i in range(1, m-1):\n",
    "        for j in range(1, n-1):\n",
    "            p = convert_ind((i, j), shape)\n",
    "            A[p, p] = -2./(h*h) - 2./(k*k)\n",
    "            A[p, convert_ind((i+1, j), shape)] = 1./(h*h)\n",
    "            A[p, convert_ind((i-1, j), shape)] = 1./(h*h)\n",
    "            A[p, convert_ind((i, j+1), shape)] = 1./(k*k)\n",
    "            A[p, convert_ind((i, j-1), shape)] = 1./(k*k)\n",
    "\n",
    "    # Initialize solution vector\n",
    "    w = np.zeros(n*m)\n",
    "\n",
    "    # Apply boundary condition\n",
    "    for j in [0, n-1]:\n",
    "        for i in range(m):\n",
    "            p = convert_ind((i, j), shape)\n",
    "            A[p, p] = 1.\n",
    "            b[p] = bc_b(x[i]) if j == 0 else bc_t(x[i])\n",
    "    \n",
    "    for i in [0, m-1]:\n",
    "        for j in range(n):\n",
    "            p = convert_ind((i, j), shape)\n",
    "            A[p, p] = 1.\n",
    "            b[p] = bc_l(y[j]) if i == 0 else bc_r(y[j])\n",
    "    \n",
    "    # Solve the linear system\n",
    "    w = np.linalg.solve(A, b)\n",
    "    w = w.reshape(n, m)\n",
    "\n",
    "    return w, x, y"
   ]
  },
  {
   "cell_type": "code",
   "execution_count": null,
   "metadata": {},
   "outputs": [],
   "source": [
    "xl = 0.\n",
    "xr = 1.\n",
    "yb = 0.\n",
    "yt = 1.\n",
    "\n",
    "n = 11\n",
    "m = 11 \n",
    "\n",
    "# Note: f = lambda x, y: 0. returns 0., which is float. \n",
    "#   This lacks methods of numpy arrar.\n",
    "f = lambda x, y: 0.*x + 0.*y\n",
    "\n",
    "bc_b = lambda x: np.sin(np.pi*x)\n",
    "bc_r = lambda y: 0.\n",
    "bc_t = lambda x: np.sin(np.pi*x)\n",
    "bc_l = lambda y: 0.\n",
    "\n",
    "\n",
    "w, x, y = solve_pois_eq(f, bc_b, bc_r, bc_t, bc_l, xl, xr, yb, yt, n, m)\n"
   ]
  },
  {
   "cell_type": "code",
   "execution_count": null,
   "metadata": {},
   "outputs": [],
   "source": [
    "#%% plot\n",
    "fig, ax = plt.subplots(1,1, figsize=(6.5, 6.5), subplot_kw={'projection':'3d'})\n",
    "\n",
    "# surface plot (toggle)\n",
    "# Note: need to reshape 1st coordinate to a column vector\n",
    "ax.plot_surface(x.reshape(-1,1), y, w, cmap='viridis', alpha=0.8)\n",
    "ax.set_title('Numerical solution\\nLaplace equation')\n",
    "\n",
    "# Change the angle of projection\n",
    "ax.set_xlabel('$x$')\n",
    "ax.set_ylabel('$y$')\n",
    "ax.view_init(elev=20, azim=60)\n",
    "\n",
    "plt.show()\n"
   ]
  },
  {
   "cell_type": "markdown",
   "metadata": {
    "vscode": {
     "languageId": "plaintext"
    }
   },
   "source": [
    "---\n",
    "This work is licensed under [Creative Commons Attribution-ShareAlike 4.0 International](https://creativecommons.org/licenses/by-sa/4.0/)"
   ]
  }
 ],
 "metadata": {
  "kernelspec": {
   "display_name": "ptrch",
   "language": "python",
   "name": "ptrch"
  },
  "language_info": {
   "codemirror_mode": {
    "name": "ipython",
    "version": 3
   },
   "file_extension": ".py",
   "mimetype": "text/x-python",
   "name": "python",
   "nbconvert_exporter": "python",
   "pygments_lexer": "ipython3",
   "version": "3.9.1"
  },
  "orig_nbformat": 4
 },
 "nbformat": 4,
 "nbformat_minor": 2
}
