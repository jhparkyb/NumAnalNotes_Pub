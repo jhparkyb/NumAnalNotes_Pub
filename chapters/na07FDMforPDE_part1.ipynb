{
 "cells": [
  {
   "cell_type": "markdown",
   "metadata": {},
   "source": [
    "### Finite difference methods (FDM) for partial differential equations (PDE)"
   ]
  },
  {
   "cell_type": "markdown",
   "metadata": {},
   "source": [
    "Main references\n",
    "\n",
    "[^1]: Timothy Sauer (2017) *Numerical Analysis* 3rd Edition. (p. 348)\n",
    "\n",
    "#### Take-aways\n",
    "\n",
    "After studying this chapter, we will be able to\n",
    "\n",
    "TBF\n",
    "\n"
   ]
  },
  {
   "cell_type": "markdown",
   "metadata": {},
   "source": [
    "#### Overview\n"
   ]
  },
  {
   "cell_type": "markdown",
   "metadata": {},
   "source": [
    "- We will apply a single method, finite difference method, for various problems. (In other chapters, we usually study multiple methods for a single, general problem.)\n",
    "- PDEs can be very different as a mathematical/numerical problem with a slight change in some term, factor, or the magnitude of coefficients. Hence, a careful classification of PDEs is worth attention.\n",
    "- Even changing only the boundary conditions (with the same PDE) can change the nature of the problem dramatically. Hence, a careful classification of the boundary conditions is worth attention.\n"
   ]
  },
  {
   "cell_type": "markdown",
   "metadata": {},
   "source": [
    "#### Basics of PDE\n",
    "\n",
    "- Differential equations with two or more independent variables.\n",
    "- Many applications, if not most, can be written in PDE.\n",
    "  - Vibrations\n",
    "    - [(recommended optional) Video: Singing plates - Standing Waves on Chladni plates](https://youtu.be/wYoxOJDrZzw),\n",
    "    - [(recommended optional) Video: 2D Standing Waves with Sand (Variable Frequency)](https://youtu.be/6yV17h26IIc), \n",
    "  - Heat conduction\n",
    "    - [(recommended optional) Video: PDE | Heat equation: intuition](https://youtu.be/b-LKPtGMdss)\n",
    "    - [(recommended optional) Understanding Conduction and the Heat Equation](https://youtu.be/6jQsLAqrZGQ)\n",
    "- Mathematical + numerical solution to PDE allow us to see what would happen even without physical experiments. (e.g., Vibrations of membrane with different shapes and clapping conditions)\n",
    "  - [(recommended optional) Video: But what is a partial differential equation?](https://youtu.be/ly4S0oi3Yz8). \n",
    "  - Depending on your interest, watching other videos in the same series may help. But they focus on mathematical beauty and ideas behind solvable cases. (separation of variable, Fourier seires/Fourier transform, phase space, etc. - you don't need to know these, but they are only to tickle your curiosity.)\n",
    "  - Our class focuses on when they are not solvable analytically, hence need to resort to numerical methods."
   ]
  },
  {
   "cell_type": "markdown",
   "metadata": {},
   "source": [
    "##### Classfication of 2nd order PDE\n",
    "\n",
    "Given a 2nd order PDE\n",
    "\n",
    "$$\n",
    "A u_{x x}+B u_{x y}+C u_{y y}+F\\left(u_x, u_y, u, x, y\\right)=0,\n",
    "$$\n",
    "\n",
    "the PDE is called\n",
    "\n",
    "| name | condition |\n",
    "|---|---|\n",
    "| parabolic | $$B^2 - 4AC = 0$$ |\n",
    "| hyperbolic | $$B^2 - 4AC > 0$$ |\n",
    "| elliptic | $$B^2 - 4AC < 0$$ |\n"
   ]
  },
  {
   "cell_type": "markdown",
   "metadata": {},
   "source": [
    "#### FDM for Heat equation\n"
   ]
  },
  {
   "cell_type": "markdown",
   "metadata": {},
   "source": [
    "**Remark**: Heat equation is the prototype of the parabolic PDEs."
   ]
  },
  {
   "cell_type": "markdown",
   "metadata": {},
   "source": [
    "\n",
    "> **Problem of interest** (Heat equation)\n",
    ">\n",
    "> Given $f:(a,b) \\to \\mathbb{R}$ and $l,r:[0,\\infty)\\to{\\mathbb{R} }$, find $u:[a,b]\\times[0,\\infty) \\to \\mathbb{R}$ that satisfies\n",
    ">     \n",
    "> $$\n",
    "> \\left\\{\\begin{array}{l}\n",
    "> u_t=D u_{x x} \\text { for all } a \\leq x \\leq b, t \\geq 0 \\\\\n",
    "> u(x, 0)=f(x) \\text { for all } a \\leq x \\leq b \\\\\n",
    "> u(a, t)=l(t) \\text { for all } t \\geq 0 \\\\\n",
    "> u(b, t)=r(t) \\text { for all } t \\geq 0\n",
    "> \\end{array}\\right.,\n",
    "> $$\n",
    ">\n",
    "> where $D > 0$.\n"
   ]
  },
  {
   "cell_type": "markdown",
   "metadata": {},
   "source": [
    "#### Common settings/Notation\n",
    "\n",
    "| symbol | meaning |\n",
    "|---|---|\n",
    "| $k$ | time step size |\n",
    "| $h$ | spatial grid spacing |\n",
    "| $u(x_i, t_j)$ | true solution evaluated at $(x_i, t_j)$ |\n",
    "| $w_{i, j}$ | numerical solution meant to approximate $u(x_i, t_j)$ |\n"
   ]
  },
  {
   "cell_type": "markdown",
   "metadata": {},
   "source": [
    "**Remark** (Heat and diffusion equation)\n",
    "\n",
    "- Heat equation is a special case of diffusion equation. \n",
    "  - Diffusion equation describes spreading-out behaviors of matter. \n",
    "  - Heat equation describes transfer of heat density (i.e., temperature)."
   ]
  },
  {
   "cell_type": "markdown",
   "metadata": {},
   "source": [
    "\n",
    "**Remark** (Interpretation of the equation given above)\n",
    "\n",
    "- The above equation describes heat transfer of a rod (spatial dimension 1).\n",
    "  - The initial temperature distribution at the location $x$ is given by $f(x)$.\n",
    "  - $l(t)$ and $r(t)$ prescribe temperature at the end points.\n",
    "  - The above equation assumes complete insulation on the lateral surface of the rod.\n",
    "  - Diffusion coefficient or heat conductivity $D$ governs the rate of heat transfer: $D$ large $\\rightarrow$ fast transfer; $D$ small $\\rightarrow$ slow transfer."
   ]
  },
  {
   "cell_type": "markdown",
   "metadata": {},
   "source": [
    "##### Forward difference method"
   ]
  },
  {
   "cell_type": "markdown",
   "metadata": {},
   "source": [
    "**Idea**: confine the domain to a set of grid points, and replace differential operators with their discrete counterparts of finite difference form.\n"
   ]
  },
  {
   "cell_type": "markdown",
   "metadata": {},
   "source": [
    "**2D Grid domain**\n",
    "\n",
    "- We need two axes for time $t$ and space $x$.\n",
    "- Consider a uniform grid domain with the common settings mentioned above."
   ]
  },
  {
   "cell_type": "code",
   "execution_count": null,
   "metadata": {},
   "outputs": [],
   "source": [
    "import matplotlib.pyplot as plt\n",
    "import numpy as np\n",
    "plt.rcParams['font.size'] = 16\n",
    "\n",
    "fig, ax = plt.subplots(figsize=(8, 8))\n",
    "\n",
    "L = 1\n",
    "T = 1\n",
    "N = 8\n",
    "K = 8\n",
    "h = L/N\n",
    "k = T/K\n",
    "\n",
    "x = np.linspace(0, L, N+1)\n",
    "t = np.linspace(0, L, N+1)\n",
    "xx, tt = np.meshgrid(x, t)\n",
    "\n",
    "# grid domain\n",
    "gd = np.zeros((N+1, N+1))\n",
    "\n",
    "gd[0, :] = 1\n",
    "# gd[-1, :] = 1\n",
    "gd[:, 0] = 1\n",
    "gd[:, -1] = 1\n",
    "\n",
    "#%% Add a stencil polygon\n",
    "polygon_points = np.array([[-0.5*h, -0.5*k], [2.5*h, -0.5*k], \n",
    "        [2.5*h, 0.5*k],  [1.5*h, 0.5*k], [1.5*h, 1.5*k],\n",
    "        [0.5*h, 1.5*k], [0.5*h, 0.5*k], [-0.5*h, 0.5*k]])\n",
    "ax.add_patch(plt.Polygon(polygon_points, closed=True, fill=None, edgecolor='r'))\n",
    "\n",
    "\n",
    "ax.scatter(xx[gd==0], tt[gd==0], c='w', edgecolors='b', s=40)\n",
    "ax.scatter(xx[gd==1], tt[gd==1], c='b', s=40)\n",
    "ax.set_aspect('equal')\n",
    "ax.set_xticks(x[::2])\n",
    "ax.set_yticks(t[::2])\n",
    "ax.set_xlabel('x')\n",
    "ax.set_ylabel('t')\n",
    "ax.grid(True, linestyle='--', linewidth=0.5, color='gray')\n",
    "\n",
    "ax.set_title('Grid domain')\n",
    "plt.show()\n"
   ]
  },
  {
   "cell_type": "markdown",
   "metadata": {},
   "source": [
    "\n",
    "**Centered-difference for 2nd derivative**\n",
    "\n",
    "$$\n",
    "u_{x x}(x, t) \\approx \\frac{1}{h^2}(u(x+h, t)-2 u(x, t)+u(x-h, t))\n",
    "$$\n"
   ]
  },
  {
   "cell_type": "markdown",
   "metadata": {},
   "source": [
    "\n",
    "**Forward difference for 1st derivative**\n",
    "\n",
    "$$\n",
    "u_t(x, t) \\approx \\frac{1}{k}(u(x, t+k)-u(x, t))\n",
    "$$\n",
    "\n",
    "Replace $u_{xx}$ and $u_t$ with these formulas in the heat equations:\n",
    "\n",
    "$$\n",
    "\\frac{D}{h^2}\\left(w_{i+1, j}-2 w_{i j}+w_{i-1, j}\\right) = \\frac{1}{k}\\left(w_{i, j+1}-w_{i j}\\right)\n",
    "$$"
   ]
  },
  {
   "cell_type": "markdown",
   "metadata": {},
   "source": [
    "Rearrange the discrete version of heat equation:\n",
    "\n",
    "$$\n",
    "\\begin{aligned}\n",
    "w_{i, j+1} & =w_{i j}+\\frac{D k}{h^2}\\left(w_{i+1, j}-2 w_{i j}+w_{i-1, j}\\right) \\\\\n",
    "& =\\sigma w_{i+1, j}+(1-2 \\sigma) w_{i j}+\\sigma w_{i-1, j},\n",
    "\\end{aligned}\n",
    "$$\n",
    "\n",
    "where $\\sigma=Dk/h^2$.\n"
   ]
  },
  {
   "cell_type": "markdown",
   "metadata": {},
   "source": [
    "In matrix form, the method reads:\n",
    "\n",
    "$$\n",
    "\\left[\\begin{array}{c}\n",
    "w_{1, j+1} \\\\\n",
    "\\vdots \\\\\n",
    "w_{m, j+1}\n",
    "\\end{array}\\right]=\\left[\\begin{array}{ccccc}\n",
    "1-2 \\sigma & \\sigma & 0 & \\cdots & 0 \\\\\n",
    "\\sigma & 1-2 \\sigma & \\sigma & \\ddots & \\vdots \\\\\n",
    "0 & \\sigma & 1-2 \\sigma & \\ddots & 0 \\\\\n",
    "\\vdots & \\ddots & \\ddots & \\ddots & \\sigma \\\\\n",
    "0 & \\cdots & 0 & \\sigma & 1-2 \\sigma\n",
    "\\end{array}\\right]\\left[\\begin{array}{c}\n",
    "w_{1 j} \\\\\n",
    "\\vdots \\\\\n",
    "w_{m j}\n",
    "\\end{array}\\right]+\\sigma\\left[\\begin{array}{c}\n",
    "w_{0, j} \\\\\n",
    "0 \\\\\n",
    "\\vdots \\\\\n",
    "0 \\\\\n",
    "w_{m+1, j}\n",
    "\\end{array}\\right] .\n",
    "$$"
   ]
  },
  {
   "cell_type": "markdown",
   "metadata": {},
   "source": [
    "**Stencil** (dependency of numerical data)\n",
    "\n",
    "It is good to have a picture, called *stencil*, that shows what data determines what values.\n",
    "\n",
    "- **Explicit**: unknown values are determined by a formula involving data that are already known.\n",
    "- **Implicit**: unknown values cannot be determined by an explicit formula, and require to solve an equation.\n",
    "\n",
    "![Forward difference stencil](https://upload.wikimedia.org/wikipedia/commons/thumb/c/c2/Explicit_method-stencil.svg/2880px-Explicit_method-stencil.svg.png)\n",
    "\n",
    "Figure: Stencil of forward difference method (source: Wikipedia)\n",
    "\n",
    "The figure uses different index from us. Substitute:\n",
    "\n",
    "- $n\\gets j$\n",
    "- $j\\gets i$\n",
    "\n",
    "\n"
   ]
  },
  {
   "cell_type": "markdown",
   "metadata": {},
   "source": [
    "**Question**\n",
    "\n",
    "Verify that our settings are explicit.\n"
   ]
  },
  {
   "cell_type": "markdown",
   "metadata": {},
   "source": [
    "##### Computation"
   ]
  },
  {
   "cell_type": "markdown",
   "metadata": {},
   "source": [
    "\n",
    "**Example** (Heat equation)\n",
    "Find $u(x, t)$ that satisfies\n",
    "    \n",
    "$$\n",
    "\\left\\{\\begin{array}{ll}\n",
    "u_t=u_{x x} & \\text { for all } a \\leq x \\leq b, t \\geq 0 \\\\\n",
    "u(x, 0)=\\frac{1}{\\sqrt{4\\pi m}} e^{- x^2/(2m)} & \\text { for all } a \\leq x \\leq b \\\\\n",
    "u(-1, t)=u(1, t)=\\frac{1}{\\sqrt{4\\pi m}} e^{- 1/(2m)} & \\text { for all } t \\geq 0 \\\\\n",
    "\\end{array}\\right.\n",
    "$$\n",
    "\n",
    "where $m > 0$ is a constant. "
   ]
  },
  {
   "cell_type": "code",
   "execution_count": null,
   "metadata": {},
   "outputs": [],
   "source": [
    "import numpy as np\n",
    "import matplotlib.pyplot as plt\n",
    "plt.rcParams['font.size'] = 16\n",
    "\n",
    "def fw_FDM(w, par):\n",
    "    \"\"\"\n",
    "    Return the next time of the heat equation using forward difference method.\n",
    "    \n",
    "    Input:\n",
    "        w: (1D array) Temperature distribution at time t.\n",
    "        par: (dict) Parameter for the forward difference method.\n",
    "    Output:\n",
    "        w_new: (1D array) Temperature distribution at time t+1.\n",
    "    \"\"\"\n",
    "    s = par['D']*par['k']/(par['h']*par['h'])\n",
    "\n",
    "    w_new = np.zeros_like(w[1:-1])\n",
    "\n",
    "    # Main line of the forward difference method\n",
    "    w_new = w[1:-1] + s*(w[2:] - 2.*w[1:-1] + w[:-2])\n",
    "    \"\"\"\n",
    "    This line is equivalent to the following for loop, but much faster.\n",
    "    N = len(w)\n",
    "    for i in range(1, N+1):\n",
    "        w_new[i] = w[i] + s*(w[i-1] - 2*w[i] + w[i+1])\n",
    "    \"\"\"\n",
    "\n",
    "    return w_new\n"
   ]
  },
  {
   "cell_type": "code",
   "execution_count": null,
   "metadata": {},
   "outputs": [],
   "source": [
    "\n",
    "def solve_heat_eq(ic, bc1, bc2, D, a, b, T, N, K, t0=0.):\n",
    "    \"\"\"\n",
    "    Return numerical solution of Heat equation using forward difference method.\n",
    "    \n",
    "    Input:\n",
    "        ic: (1D array) Initial temperature distribution.\n",
    "        bc1: (float or 1D array) Boundary condition at x=a. Constant boundary condition is assumed.\n",
    "        bc2: (float or 1D array) Boundary condition at x=b. Constant boundary condition is assumed.\n",
    "        D: (float) Diffusion coefficient.\n",
    "        a: (float) Left boundary.\n",
    "        b: (float) Right boundary.\n",
    "        T: (float) Final time.\n",
    "        N: (int) Number of spatial grid points.\n",
    "        K: (int) Number of time grid points.\n",
    "        t0: (float) Initial time. (default=0.)\n",
    "    Output:\n",
    "        w: (2D array) Numerical solution.\n",
    "    \"\"\"\n",
    "    w = np.zeros((N+2, K+1))\n",
    "    h = (b-a)/(N+1)\n",
    "    k = (T-t0)/K\n",
    "    par = {'D': D, 'h': h, 'k': k}\n",
    "\n",
    "    # Initial/boundary condition\n",
    "    w[:, 0] = ic\n",
    "    w[0, :] = bc1\n",
    "    w[-1, :] = bc2\n",
    "\n",
    "    # time marching\n",
    "    for j in range(K):\n",
    "        w[1:-1, j+1] = fw_FDM(w[:,j], par=par)\n",
    "\n",
    "    return w"
   ]
  },
  {
   "cell_type": "code",
   "execution_count": null,
   "metadata": {},
   "outputs": [],
   "source": [
    "N = 30\n",
    "K = 10\n",
    "a = -1.\n",
    "b = 1.\n",
    "D = 1.\n",
    "\n",
    "# Try:  T = 0.05 or bigger to see stability issue, \n",
    "#       T = 0.03 for stable solution\n",
    "T = 0.05 \n",
    "x = np.linspace(a, b, N+2)\n",
    "t = np.linspace(0, T, K+1)"
   ]
  },
  {
   "cell_type": "markdown",
   "metadata": {},
   "source": [
    "**Sanity check**\n",
    "\n",
    "Compute the numerical solution to\n",
    "    \n",
    "$$\n",
    "\\left\\{\\begin{array}{ll}\n",
    "u_t=u_{x x} & \\text { for all } a \\leq x \\leq b, t \\geq 0 \\\\\n",
    "u(x, 0)=\\sin(2\\pi x) & \\text { for all } a \\leq x \\leq b \\\\\n",
    "u(-1, t)=u(1, t)=0 & \\text { for all } t \\geq 0 \\\\\n",
    "\\end{array}\\right.\n",
    "$$\n",
    "\n",
    "True solution is available to this problem:\n",
    "\n",
    "$$\n",
    "u(x,t) = e^{-4\\pi^2 t}\\sin(2\\pi x)\n",
    "$$"
   ]
  },
  {
   "cell_type": "code",
   "execution_count": null,
   "metadata": {},
   "outputs": [],
   "source": [
    "#%% Initial condition\n",
    "# set initial condition\n",
    "aa = 2.\n",
    "CC = 2*np.pi/(b-a)\n",
    "AA = aa*CC\n",
    "f = lambda m, x: np.sin(AA*x) \n",
    "m = 0.\n",
    "\n",
    "ic = f(m, x)\n",
    "bc1 = f(m, a)\n",
    "bc2 = f(m, b)\n",
    "\n",
    "# solve heat equation\n",
    "w = solve_heat_eq(ic, bc1, bc2, D, a, b, T, N, K)\n",
    "\n",
    "# true solution\n",
    "u_ = lambda x, t: np.exp(-AA*AA*t)*np.sin(AA*x)\n",
    "u = u_(x.reshape(-1, 1), t)\n",
    "\"\"\"The above line is equivalent to the following for loop, but much faster.\n",
    "for j in range(K+1):\n",
    "    u[:, j] = u_(x, t[j])\n",
    "\"\"\""
   ]
  },
  {
   "cell_type": "code",
   "execution_count": null,
   "metadata": {},
   "outputs": [],
   "source": [
    "#%% plot\n",
    "fig, ax = plt.subplots(1,2, figsize=(13, 6.5), subplot_kw={'projection':'3d'})\n",
    "\n",
    "for j in range(K+1):\n",
    "    ax[0].plot(x, t[j]*np.ones(N+2), w[:, j], label='Numerical')\n",
    "    ax[0].set_title('Numerical solution')\n",
    "    ax[1].plot(x, t[j]*np.ones(N+2), u[:, j], label='True')\n",
    "    ax[1].set_title('True solution')\n",
    "\n",
    "# Change the angle of projection\n",
    "for j in range(len(ax)):\n",
    "    ax[j].set_xlabel('$x$')\n",
    "    ax[j].set_ylabel('$t$')\n",
    "    ax[j].view_init(elev=30, azim=45)\n",
    "\n",
    "plt.show()\n"
   ]
  },
  {
   "cell_type": "code",
   "execution_count": null,
   "metadata": {},
   "outputs": [],
   "source": [
    "#%% Initial condition\n",
    "# set initial condition\n",
    "\n",
    "f = lambda m, x: np.exp(-x*x/(2.*m))/np.sqrt(4.*np.pi*m)\n",
    "\n",
    "m = 0.05\n",
    "ic = f(m, x)\n",
    "bc1 = f(m, a)\n",
    "bc2 = f(m, b)\n",
    "\n",
    "w = solve_heat_eq(ic, bc1, bc2, D, a, b, T, N, K)"
   ]
  },
  {
   "cell_type": "code",
   "execution_count": null,
   "metadata": {},
   "outputs": [],
   "source": [
    "#%% plot\n",
    "fig, ax = plt.subplots(1,1, figsize=(6.5, 6.5), subplot_kw={'projection':'3d'})\n",
    "\n",
    "for j in range(K+1):\n",
    "    ax.plot(x, t[j]*np.ones(N+2), w[:, j])\n",
    "\n",
    "# Change the angle of projection\n",
    "\n",
    "ax.set_xlabel('$x$')\n",
    "ax.set_ylabel('$t$')\n",
    "ax.view_init(elev=30, azim=45)\n",
    "\n",
    "plt.show()\n"
   ]
  },
  {
   "cell_type": "markdown",
   "metadata": {},
   "source": [
    "#### Convergence of forward difference method\n"
   ]
  },
  {
   "cell_type": "markdown",
   "metadata": {},
   "source": [
    "\n",
    "**Remark** (\"stability + consistency = convergence\" still works in PDE.)\n",
    "\n",
    "- As in ODE, there are two sources of errors: discretization (i.e., truncation error) and amplification of the inexact history (stability issue)\n",
    "- As in the methods for ODE, local truncation errors (LTE) give a good picture of total erros as long as the method is stable. (Sauer (2017) p. 396)\n",
    "- In the current settings, LTE comes from discretizing differential operators.\n",
    "  - Second order in space (centered difference) and first order in time (forward difference).\n",
    "  - $\\mathrm{LTE}={\\mathcal{O}\\!\\left( h^2 + k \\right)} ={\\mathcal{O}\\!\\left( h^2\\right)} + {\\mathcal{O}\\!\\left( k \\right)}$.\n",
    "  - This can be seen from the Taylor approximation of $u_xx$ and $u_t$."
   ]
  },
  {
   "cell_type": "markdown",
   "metadata": {},
   "source": [
    "#### Stability of Finite Difference Methods\n",
    "\n"
   ]
  },
  {
   "cell_type": "markdown",
   "metadata": {},
   "source": [
    "**Idea** \n",
    "\n",
    "- Looking at matrix form, time evolution of the forward FDM can be thought of iterative methods: $w_{k+1}=A w_k + b$, where $A$ is a matrix, and $b$ is a vector.\n",
    "- Study eigenvalue of $A$ to see how errors amplify.\n"
   ]
  },
  {
   "cell_type": "markdown",
   "metadata": {},
   "source": [
    "##### Vol Neumann stability analysis\n",
    "\n"
   ]
  },
  {
   "cell_type": "markdown",
   "metadata": {},
   "source": [
    "$$\n",
    "A=\\left[\\begin{array}{ccccc}\n",
    "2 & -1 & 0 & \\ldots & 0 \\\\\n",
    "-1 & 2 & \\ddots & & \\vdots \\\\\n",
    "0 & \\ddots & \\ddots & -1 & 0 \\\\\n",
    "\\vdots & & -1 & 2 & -1 \\\\\n",
    "0 & \\ldots & 0 & -1 & 2\n",
    "\\end{array}\\right]\n",
    "$$"
   ]
  },
  {
   "cell_type": "markdown",
   "metadata": {},
   "source": [
    "###### Discrete Laplacian"
   ]
  },
  {
   "cell_type": "markdown",
   "metadata": {},
   "source": [
    "**Theorem** (Discrete Laplacian matrix)\n",
    "\n",
    "1. The eigenvectors of the matrix $A$ are, for $j = 1, \\cdots , m$, the vectors \n",
    "$$\n",
    "v_j = \\left[\\sin \\frac{j \\pi}{m+1}, \\sin \\frac{2 \\pi j}{m+1}, \\ldots, \\sin \\frac{m \\pi j}{m+1}\\right]^T .\n",
    "$$  \n",
    "\n",
    "2. The corresponding eigenvalues are \n",
    "\n",
    "$$\n",
    "\\lambda_j = 2 − 2 \\cos(\\frac{\\pi  j}{m + 1}) = 4 \\sin^2(\\frac{\\pi  j}{2(m + 1)}),\n",
    "$$\n",
    "\n",
    "3. $A$ is an SPD matrix with eigenvalues $0 < \\lambda_j < 4$.\n"
   ]
  },
  {
   "cell_type": "markdown",
   "metadata": {},
   "source": [
    "**Theorem** (Conditional stability of Forward difference method)\n",
    "\n",
    "Let $h$ be the space step and $k$ be the time step for the Forward Difference Method applied to the heat equation given above with D > 0. If $Dk/h^2 < 1/2$, the Forward Difference Method is stable."
   ]
  },
  {
   "cell_type": "markdown",
   "metadata": {},
   "source": [
    "**Terminology**\n",
    "\n",
    "The forward finite difference method is said to be *conditionally stable* since its stability depends on the chocie of step sizes."
   ]
  },
  {
   "cell_type": "markdown",
   "metadata": {},
   "source": [
    "#### Backward Difference Method for parabolic equations"
   ]
  },
  {
   "cell_type": "markdown",
   "metadata": {},
   "source": [
    "##### Method\n",
    "\n",
    "**Idea**: Use implicit (backward) Euler approximation for time derivative."
   ]
  },
  {
   "cell_type": "markdown",
   "metadata": {},
   "source": [
    "\n",
    "**Backward difference for 1st derivative**\n",
    "\n",
    "$$\n",
    "u_t(x, t) \\approx \\frac{1}{k}(u(x, t)-u(x, t-k))\n",
    "$$\n"
   ]
  },
  {
   "cell_type": "markdown",
   "metadata": {},
   "source": [
    "\n",
    "**Centered-difference for 2nd derivative**\n",
    "\n",
    "$$\n",
    "u_{x x}(x, t) \\approx \\frac{1}{h^2}(u(x+h, t)-2 u(x, t)+u(x-h, t))\n",
    "$$\n"
   ]
  },
  {
   "cell_type": "markdown",
   "metadata": {},
   "source": [
    "Replace $u_{xx}$ and $u_t$ with these formulas in the heat equations:\n",
    "\n",
    "$$\n",
    "\\frac{1}{k}\\left(w_{i j}-w_{i, j-1}\\right)=\\frac{D}{h^2}\\left(w_{i+1, j}-2 w_{i j}+w_{i-1, j}\\right),\n",
    "$$"
   ]
  },
  {
   "cell_type": "markdown",
   "metadata": {},
   "source": [
    "Rearranging,\n",
    "\n",
    "$$\n",
    "-\\sigma w_{i+1, j}+(1+2 \\sigma) w_{i j}-\\sigma w_{i-1, j}=w_{i, j-1},\n",
    "$$\n",
    "\n",
    "where $\\sigma=Dk/h^2$."
   ]
  },
  {
   "cell_type": "markdown",
   "metadata": {},
   "source": [
    "**Stencil** (Backward Euler)\n",
    "\n",
    "![Stencil for backward Euler time discretization](https://upload.wikimedia.org/wikipedia/commons/thumb/c/c6/Implicit_method-stencil.svg/1920px-Implicit_method-stencil.svg.png)\n",
    "\n",
    "Figure: Wikipedia"
   ]
  },
  {
   "cell_type": "markdown",
   "metadata": {},
   "source": [
    "- Matrix form:\n",
    "\n",
    "$$\n",
    "\\left[\\begin{array}{ccccc}\n",
    "1+2 \\sigma & -\\sigma & 0 & \\cdots & 0 \\\\\n",
    "-\\sigma & 1+2 \\sigma & -\\sigma & \\ddots & \\vdots \\\\\n",
    "0 & -\\sigma & 1+2 \\sigma & \\ddots & 0 \\\\\n",
    "\\vdots & \\ddots & \\ddots & \\ddots & -\\sigma \\\\\n",
    "0 & \\cdots & 0 & -\\sigma & 1+2 \\sigma\n",
    "\\end{array}\\right]\\left[\\begin{array}{c}\n",
    "w_{1 j} \\\\\n",
    "\\vdots \\\\\n",
    "w_{m j}\n",
    "\\end{array}\\right]=\\left[\\begin{array}{c}\n",
    "w_{1, j-1} \\\\\n",
    "\\vdots \\\\\n",
    "w_{m, j-1}\n",
    "\\end{array}\\right]+\\sigma\\left[\\begin{array}{c}\n",
    "w_{0 j} \\\\\n",
    "0 \\\\\n",
    "\\vdots \\\\\n",
    "0 \\\\\n",
    "w_{m+1, j}\n",
    "\\end{array}\\right]\n",
    "$$"
   ]
  },
  {
   "cell_type": "markdown",
   "metadata": {},
   "source": [
    "#### Convergence"
   ]
  },
  {
   "cell_type": "markdown",
   "metadata": {},
   "source": [
    "##### Local truncation errors"
   ]
  },
  {
   "cell_type": "markdown",
   "metadata": {},
   "source": [
    "- In the current settings, LTE comes from discretizing differential operators.\n",
    "  - Second order in space (centered difference) and first order in time (backward difference).\n",
    "  - $\\mathrm{LTE}={\\mathcal{O}\\!\\left( h^2 + k \\right)} ={\\mathcal{O}\\!\\left( h^2\\right)} + {\\mathcal{O}\\!\\left( k \\right)}$."
   ]
  },
  {
   "cell_type": "markdown",
   "metadata": {},
   "source": [
    "##### Stability"
   ]
  },
  {
   "cell_type": "markdown",
   "metadata": {},
   "source": [
    "**Theorem** (unconditional stability of Backward Difference Method)\n",
    "\n",
    "Let $h$ be the space step and $k$ be the time step for the Backward Difference Method applied to the heat equation $u_t = D u_{xx}$ with $D > 0$. For any $h, k > 0$, the Backward Difference Method is stable."
   ]
  },
  {
   "cell_type": "markdown",
   "metadata": {},
   "source": [
    "**Proof** (Toggle)\n",
    "\n",
    "<!-- \n",
    "Since our method is in the form (assuming constant boundary conditions)\n",
    "\n",
    "$$\n",
    "Aw^{j} = w^{j-1} + b,\n",
    "$$\n",
    "\n",
    "the error magnifications are more apparent when we study $A^{-1}$:\n",
    "\n",
    "$$\n",
    "w^{j} = A^{-1} w^{j-1} + A^{-1} b.\n",
    "$$\n",
    "Recall the theorem: \n",
    "\n",
    "> $\\lambda \\neq 0$ is an eigenvalue of an invertible matrix $A$ iff $\\lambda^{-1}$ is an eigenvalue of an invertible matrix $A^{-1}$.\n",
    "Eigenvalues of `tridiag(-1, 2, -1)`: $0 < \\lambda_j < 4$.\n",
    "\n",
    "Eigenvalues of $A$: $1 + \\sigma \\lambda_j$\n",
    "\n",
    "Eigenvalues of $A^{-1}$: $\\mu_j = (1 + \\sigma \\lambda_j)^{-1}$\n",
    "\n",
    "$$\n",
    "|\\mu_j| = \\left| \\frac{1}{1 + \\sigma \\lambda_j}\\right| < 1.\n",
    "$$ -->"
   ]
  },
  {
   "cell_type": "markdown",
   "metadata": {},
   "source": [
    "**Remark**\n",
    "\n",
    "- This is reminiscent of how the implicit Euler method resolves stiffness issue of the explicit Euler method in numerical ODE study. (See [Stiffness resolved by implicit Euler in a simple 1D example](https://jhparkyb.github.io/resources/notes/na/ex_StiffODE1DImplicitEuler_lp2000.png))\n",
    "- Since the backward difference method is unconditionally stable, we can take long step sizes. As a result, we can test the accuracy of the method by using many different step sizes. \n",
    "- In contrast, the forward difference method is conditionally stable. Thus, we have limited options for step sizes. This may prevent us from experimenting the convergence of the method in a meaningful way. However, the forward difference method allows us to test stability issues instead."
   ]
  },
  {
   "cell_type": "markdown",
   "metadata": {},
   "source": [
    "**Terminology** (Dirichlet and Neumann boundary conditions)\n",
    "\n",
    "- Dirichlet boundary conditions\n",
    "  - prescribe the value of the solution.\n",
    "  - For the heat equation, they correspond to temperature modulation at the end points by external heat sources.\n",
    "- Neumann boundary conditions\n",
    "  - prescribe the derivative of the solution.\n",
    "  - For the heat equation, they correspond to insulation at the end points by controlling heat flux rate.\n",
    "- Robin boundary conditions\n",
    "  - Mixture of Dirichlet and Newmann boundary conditions.\n",
    "- Homogeneous boundary conditions\n",
    "  - We call boundary conditions *homogeneous* when the prescribed values are 0, whether they are derivatives or values of the solution.\n",
    "  - For example, *homogeneous Neumann boundary conditions* corresponds to complete insulation (no heat flux in or out of the rod) while *homogeneous Dirichlet boundary conditions* corresponds to cooling the ends of the rod to zero absolute temperature."
   ]
  },
  {
   "cell_type": "markdown",
   "metadata": {},
   "source": [
    "##### Computation \n"
   ]
  },
  {
   "cell_type": "markdown",
   "metadata": {},
   "source": [
    "\n",
    "**Example** (Heat equation - Backward Difference Method)\n",
    "\n",
    "Find $u(x, t)$ that satisfies\n",
    "    \n",
    "$$\n",
    "\\left\\{\\begin{array}{ll}\n",
    "u_t=u_{x x} & \\text { for all } a \\leq x \\leq b, t \\geq 0 \\\\\n",
    "u(x, 0)=\\frac{1}{\\sqrt{4\\pi m}} e^{- x^2/(2m)} & \\text { for all } a \\leq x \\leq b \\\\\n",
    "u(-1, t)=u(1, t)=\\frac{1}{\\sqrt{4\\pi m}} e^{- 1/(2m)} & \\text { for all } t \\geq 0 \\\\\n",
    "\\end{array}\\right.\n",
    "$$\n",
    "\n",
    "where $m > 0$ is a constant. "
   ]
  },
  {
   "cell_type": "code",
   "execution_count": null,
   "metadata": {},
   "outputs": [],
   "source": [
    "import numpy as np\n",
    "import matplotlib.pyplot as plt\n",
    "plt.rcParams['font.size'] = 16\n",
    "\n",
    "# import conjugate gradient solver\n",
    "from internallib import CG, tridiag\n",
    "\n",
    "def bw_FDM(w, par):\n",
    "    \"\"\"\n",
    "    Return the next time iterate of the heat equation using backward difference method.\n",
    "    \n",
    "    Input:\n",
    "        w: (1D array) Temperature distribution at time t.\n",
    "        par: (dict) Parameter for the forward difference method.\n",
    "    Output:\n",
    "        w_new: (1D array) Temperature distribution at time t+1.\n",
    "    \"\"\"\n",
    "    # extract parameters\n",
    "    s = par['D']*par['k']/(par['h']*par['h'])\n",
    "    bc1 = par['bc1']\n",
    "    bc2 = par['bc2']\n",
    "\n",
    "    w_new = np.zeros_like(w[1:-1])\n",
    "    b = w[1:-1].copy()\n",
    "    b[0] += s*bc1\n",
    "    b[-1] += s*bc2\n",
    "\n",
    "    # Construct the matrix A\n",
    "    A = tridiag(-s, 1+2*s, -s, len(b))\n",
    "\n",
    "    # Main line of the backward difference method\n",
    "    w_new, _ = CG(A, b, w[1:-1])\n",
    "    \"\"\"\n",
    "    This line is equivalent to the following for loop, but much faster.\n",
    "    N = len(w)\n",
    "    for i in range(1, N+1):\n",
    "        w_new[i] = w[i] + s*(w[i-1] - 2*w[i] + w[i+1])\n",
    "    \"\"\"\n",
    "\n",
    "    return w_new\n"
   ]
  },
  {
   "cell_type": "code",
   "execution_count": null,
   "metadata": {},
   "outputs": [],
   "source": [
    "\n",
    "def solve_heat_eq(ic, bc1, bc2, D, a, b, T, N, K, t0=0., method='backward'):\n",
    "    \"\"\"\n",
    "    Return numerical solution of Heat equation using backward difference method.\n",
    "    \n",
    "    Input:\n",
    "        ic: (1D array) Initial temperature distribution.\n",
    "        bc1: (float or 1D array) Boundary condition at x=a. Constant boundary condition is assumed.\n",
    "        bc2: (float or 1D array) Boundary condition at x=b. Constant boundary condition is assumed.\n",
    "        D: (float) Diffusion coefficient.\n",
    "        a: (float) Left boundary.\n",
    "        b: (float) Right boundary.\n",
    "        T: (float) Final time.\n",
    "        N: (int) Number of spatial grid points.\n",
    "        K: (int) Number of time grid points.\n",
    "        t0: (float) Initial time. (default=0.)\n",
    "        method: (str) 'forward' or 'backward'. (default='backward')\n",
    "    Output:\n",
    "        w: (2D array) Numerical solution.\n",
    "    \"\"\"\n",
    "    w = np.zeros((N+2, K+1))\n",
    "    h = (b-a)/(N+1)\n",
    "    k = (T-t0)/K\n",
    "    par = {'D': D, 'h': h, 'k': k, 'bc1': bc1, 'bc2': bc2}\n",
    "\n",
    "    # Initial/boundary condition\n",
    "    w[:, 0] = ic\n",
    "    w[0, :] = bc1\n",
    "    w[-1, :] = bc2\n",
    "\n",
    "    # time marching\n",
    "    if method == 'forward':\n",
    "        for j in range(K):\n",
    "            w[1:-1, j+1] = fw_FDM(w[:,j], par=par)\n",
    "    elif method == 'backward':        \n",
    "        for j in range(K):\n",
    "            w[1:-1, j+1] = bw_FDM(w[:,j], par=par)\n",
    "\n",
    "    return w"
   ]
  },
  {
   "cell_type": "code",
   "execution_count": null,
   "metadata": {},
   "outputs": [],
   "source": [
    "N = 30\n",
    "K = 10\n",
    "a = -1.\n",
    "b = 1.\n",
    "D = 1.\n",
    "\n",
    "# Try:  T = 0.05 or bigger to see stability issue, \n",
    "#       T = 0.03 for stable solution\n",
    "T = 0.1 \n",
    "x = np.linspace(a, b, N+2)\n",
    "t = np.linspace(0, T, K+1)"
   ]
  },
  {
   "cell_type": "code",
   "execution_count": null,
   "metadata": {},
   "outputs": [],
   "source": [
    "#%% Initial condition\n",
    "# set initial condition\n",
    "\n",
    "f = lambda m, x: np.exp(-x*x/(2.*m))/np.sqrt(4.*np.pi*m)\n",
    "\n",
    "m = 0.05\n",
    "ic = f(m, x)\n",
    "bc1 = f(m, a)\n",
    "bc2 = f(m, b)\n",
    "\n",
    "w = solve_heat_eq(ic, bc1, bc2, D, a, b, T, N, K, method='backward')"
   ]
  },
  {
   "cell_type": "code",
   "execution_count": null,
   "metadata": {},
   "outputs": [],
   "source": [
    "#%% plot\n",
    "fig, ax = plt.subplots(1,1, figsize=(6.5, 6.5), subplot_kw={'projection':'3d'})\n",
    "\n",
    "for j in range(K+1):\n",
    "    ax.plot(x, t[j]*np.ones(N+2), w[:, j])\n",
    "\n",
    "# Change the angle of projection\n",
    "\n",
    "ax.set_xlabel('$x$')\n",
    "ax.set_ylabel('$t$')\n",
    "ax.view_init(elev=30, azim=45)\n",
    "\n",
    "plt.show()\n"
   ]
  },
  {
   "cell_type": "markdown",
   "metadata": {},
   "source": [
    "#### Crank-Nicolson Method"
   ]
  },
  {
   "cell_type": "markdown",
   "metadata": {},
   "source": [
    "**Idea**\n",
    "\n",
    "- Spatial derivatives: Take a weighted average of spatial difference quotients (more cancelation in Taylor expansion $\\longrightarrow$ higher accuracy).\n",
    "- Time derivative: backward difference quotient $\\longrightarrow$ good stability.\n",
    "    "
   ]
  },
  {
   "cell_type": "markdown",
   "metadata": {},
   "source": [
    "**Backward difference for 1st derivative**\n",
    "\n",
    "$$\n",
    "\\frac{1}{k}\\left(w_{i j}-w_{i, j-1}\\right)\n",
    "$$"
   ]
  },
  {
   "cell_type": "markdown",
   "metadata": {},
   "source": [
    "**Averaged centered different quotient for 2nd derivative**\n",
    "\n",
    "$$\n",
    "\\frac{1}{2}\\left(\\frac{w_{i+1, j}-2 w_{i j}+w_{i-1, j}}{h^2}\\right)+\\frac{1}{2}\\left(\\frac{w_{i+1, j-1}-2 w_{i, j-1}+w_{i-1, j-1}}{h^2}\\right)\n",
    "$$"
   ]
  },
  {
   "cell_type": "markdown",
   "metadata": {},
   "source": [
    "**Numerical scheme**\n",
    "\n",
    "Replace $u_{xx}$ and $u_t$ with these formulas in the heat equations $u_t = D u_{xx}$, and rearranging:\n",
    "\n",
    "$$\n",
    "-\\sigma w_{i-1, j}+(2+2 \\sigma) w_{i j}-\\sigma w_{i+1, j}=\\sigma w_{i-1, j-1}+(2-2 \\sigma) w_{i, j-1}+\\sigma w_{i+1, j-1}\n",
    "$$\n",
    "\n",
    "where $\\sigma=Dk/h^2$."
   ]
  },
  {
   "cell_type": "markdown",
   "metadata": {},
   "source": [
    "**Stencil** (Crank-Nicolson)\n",
    "\n",
    "![Stencil for Crank-Nicolson method](https://upload.wikimedia.org/wikipedia/commons/thumb/1/1e/Crank-Nicolson-stencil.svg/1920px-Crank-Nicolson-stencil.svg.png)\n",
    "\n",
    "Figure: Wikipedia"
   ]
  },
  {
   "cell_type": "markdown",
   "metadata": {},
   "source": [
    "- Matrix form:\n",
    "\n",
    "Putting $w_j=\\left[w_{1 j}, \\ldots, w_{m j}\\right]^T$ and $s_j=\\left[w_{0 j}, 0, \\ldots, 0, w_{m+1, j}\\right]^T$, we have\n",
    "\n",
    "$$\n",
    "A w_j=B w_{j-1}+\\sigma\\left(s_{j-1}+s_j\\right),\n",
    "$$\n",
    "\n",
    "where\n",
    "\n",
    "$$\n",
    "A=\\left[\\begin{array}{ccccc}2+2 \\sigma & -\\sigma & 0 & \\cdots & 0 \\\\ -\\sigma & 2+2 \\sigma & -\\sigma & \\ddots & \\vdots \\\\ 0 & -\\sigma & 2+2 \\sigma & \\ddots & 0 \\\\ \\vdots & \\ddots & \\ddots & \\ddots & -\\sigma \\\\ 0 & \\cdots & 0 & -\\sigma & 2+2 \\sigma\\end{array}\\right]\n",
    "$$\n",
    "\n",
    "$$\n",
    "B=\\left[\\begin{array}{ccccc}\n",
    "2-2 \\sigma & \\sigma & 0 & \\cdots & 0 \\\\\n",
    "\\sigma & 2-2 \\sigma & \\sigma & \\ddots & \\vdots \\\\\n",
    "0 & \\sigma & 2-2 \\sigma & \\ddots & 0 \\\\\n",
    "\\vdots & \\ddots & \\ddots & \\ddots & \\sigma \\\\\n",
    "0 & \\cdots & 0 & \\sigma & 2-2 \\sigma\n",
    "\\end{array}\\right]\n",
    "$$"
   ]
  },
  {
   "cell_type": "markdown",
   "metadata": {},
   "source": [
    "##### Stability"
   ]
  },
  {
   "cell_type": "markdown",
   "metadata": {},
   "source": [
    "**Theorem** (Uncondition stability of Crank-Nicolson method for heat equation)\n",
    "\n",
    "The Crank–Nicolson Method applied to the heat equation $u_t = D u_{xx}$ with $D > 0$ is stable for any step sizes $h, k > 0$."
   ]
  },
  {
   "cell_type": "markdown",
   "metadata": {},
   "source": [
    "**Proof** (Toggle)\n",
    "\n",
    "<!-- First, observe that, from the matrix form of the Crank-Nicolson method, the stability can be studied from the eigenvalues of $A^{-1}B$.\n",
    "\n",
    "Note that $A$ and $B$ share the same eigenvectors (see [Discrete Laplacian](#discrete-laplacian))\n",
    "\n",
    "$$\n",
    "v_j = \\left[\\sin \\frac{j \\pi}{m+1}, \\sin \\frac{2 \\pi j}{m+1}, \\ldots, \\sin \\frac{m \\pi j}{m+1}\\right]^T.\n",
    "$$ \n",
    "\n",
    "Using the theorem on eigenvalues of the form $aA+bI$ (this is a past HW problem), we can show that the eigenvalues of $A$ and $B$ are given by, respectively,\n",
    "\n",
    "$$\n",
    "\\begin{split}\n",
    "\\mu_j = 2+ \\sigma\\lambda_j \\\\\n",
    "\\kappa_j = 2-\\sigma\\lambda_j,\n",
    "\\end{split}\n",
    "$$\n",
    "\n",
    "where $0 < \\lambda_j < 4$ are eigenvalues of the discrete Laplacian matrix `tridiag(-1, 2, -1)`.\n",
    "\n",
    "Then, using the lemma on eigenvalues of product of matrices with the same eigenvectors (this is a HW problem), we can show the eigenvalues of $A^{-1}B$ are $\\kappa_j/\\mu_j$, which implies that the spectral radius satisfies\n",
    "\n",
    "$$\n",
    "\\left| \\frac{2- \\sigma\\lambda_j}{2+\\sigma\\lambda_j}\\right| < \\frac{2 + \\sigma\\lambda_j}{2+\\sigma\\lambda_j} = 1\n",
    "$$\n",
    "\n",
    "because $\\sigma\\lambda_j > 0$. -->"
   ]
  },
  {
   "cell_type": "markdown",
   "metadata": {},
   "source": [
    "###### Camparisons of numerical solutions of heat equation: forward, backward, and Crank-Nicolson methods \n"
   ]
  },
  {
   "cell_type": "markdown",
   "metadata": {},
   "source": [
    "**Camparisons of numerical solutions of heat equation**\n",
    "\n",
    "| Forward | Backward | Crank-Nicolson |\n",
    "|---|---|---|\n",
    "| ![Forward](https://upload.wikimedia.org/wikipedia/commons/thumb/4/43/HeatEquationExplicitApproximate.svg/1920px-HeatEquationExplicitApproximate.svg.png) | ![Backward](https://upload.wikimedia.org/wikipedia/commons/thumb/b/bc/HeatEquationImplicitApproximate.svg/1920px-HeatEquationImplicitApproximate.svg.png) | ![Crank-Nicolson](https://upload.wikimedia.org/wikipedia/commons/thumb/4/42/HeatEquationCNApproximate.svg/1920px-HeatEquationCNApproximate.svg.png) | \n",
    "\n",
    "Figure: Wikipedia"
   ]
  },
  {
   "cell_type": "markdown",
   "metadata": {},
   "source": [
    "#### Local truncation error (Accuracy)"
   ]
  },
  {
   "cell_type": "markdown",
   "metadata": {},
   "source": [
    "**Remark**\n",
    "\n",
    "- LTE of Crank-Nicolson method is $\\mathcal{O}\\left(h^2 + k^2\\right)$.\n",
    "  - A proof can be found Sauer (2017) pp. 408-409."
   ]
  },
  {
   "cell_type": "markdown",
   "metadata": {},
   "source": [
    "##### Computation"
   ]
  },
  {
   "cell_type": "markdown",
   "metadata": {},
   "source": [
    "**Example** (Reaction-diffusion equation)\n",
    "\n",
    "Find $u:[0,L]\\times[0,\\infty)\\to \\mathbb{R}$, where $L, D, C > 0$, that satisfies\n",
    "\n",
    "$$\n",
    "\\left\\{\\begin{array}{l}\n",
    "u_t=D u_{x x}+C u \\\\\n",
    "u(x, 0)=\\sin ^2 \\frac{\\pi}{L} x \\text { for all } 0 \\leq x \\leq L \\\\\n",
    "u(0, t)=0 \\text { for all } t \\geq 0 \\\\\n",
    "u(L, t)=0 \\text { for all } t \\geq 0\n",
    "\\end{array}\\right.\n",
    "$$\n",
    "\n"
   ]
  },
  {
   "cell_type": "code",
   "execution_count": null,
   "metadata": {},
   "outputs": [],
   "source": [
    "import numpy as np\n",
    "import matplotlib.pyplot as plt\n",
    "from internallib import tridiag\n",
    "plt.rcParams['font.size'] = 16\n",
    "\n",
    "def CN(w, par):\n",
    "    \"\"\"\n",
    "    Return the next time iterate of the reaction-diffusion equation using Crank-Nicolson method. The boundary condition is assumed to be homogeneous Dirichlet.\n",
    "    \n",
    "    Input:\n",
    "        w: (1D array) Current time iterate.\n",
    "        par: (dict) Parameter for the method.\n",
    "    Output:\n",
    "        w_new: (1D array) Next time iterate.\n",
    "    \"\"\"\n",
    "    # lump constants\n",
    "    s = par['D']*par['k']/(par['h']*par['h'])\n",
    "    kC = par['k']*par['C']\n",
    "    \n",
    "    # solution array\n",
    "    n = len(w[1:-1])\n",
    "    w_new = np.zeros(n)\n",
    "\n",
    "    # create matrices A\n",
    "    diag_A = 2.+2.*s - kC\n",
    "    off_diag_A = -s\n",
    "    A = tridiag(off_diag_A, diag_A, off_diag_A, n)\n",
    "\n",
    "    # create matrices B\n",
    "    diag_B = 2.-2.*s + kC\n",
    "    off_diag_B = s\n",
    "    B = tridiag(off_diag_B, diag_B, off_diag_B, n)\n",
    "\n",
    "    # Main line of the Crank-Nicolson method\n",
    "    w_new = np.linalg.solve(A, B@w[1:-1])\n",
    "    \"\"\"\n",
    "    This line is equivalent to the following for loop, but much faster.\n",
    "    N = len(w)\n",
    "    for i in range(1, N+1):\n",
    "        w_new[i] = w[i] + s*(w[i-1] - 2*w[i] + w[i+1])\n",
    "    \"\"\"\n",
    "\n",
    "    return w_new\n"
   ]
  },
  {
   "cell_type": "code",
   "execution_count": null,
   "metadata": {},
   "outputs": [],
   "source": [
    "def solve_react_diff(ic, bc1, bc2, D, C, L, T, N, K, t0=0.):\n",
    "    \"\"\"\n",
    "    Return numerical solution of reaction-diffusion equation using Crank-Nicolson method. Current version assumes homogeneous Dirichlet boundary condition.\n",
    "    \n",
    "    Input:\n",
    "        ic: (1D array) Initial temperature distribution.\n",
    "        bc1: (float or 1D array) Boundary condition at x=a.\n",
    "        bc2: (float or 1D array) Boundary condition at x=b.\n",
    "        D: (float) Diffusion coefficient.\n",
    "        L: (float) Length of spatial domain.\n",
    "        T: (float) Final time.\n",
    "        N: (int) Number of spatial grid points.\n",
    "        K: (int) Number of time grid points.\n",
    "        t0: (float) Initial time. (default=0.)\n",
    "    Output:\n",
    "        w: (2D array) Numerical solution.\n",
    "    \"\"\"\n",
    "    w = np.zeros((N+2, K+1))\n",
    "    h = L/(N+1)\n",
    "    k = (T-t0)/K\n",
    "    par = {'D': D, 'C': C, 'h': h, 'k': k}\n",
    "    \n",
    "    # Initial/boundary condition\n",
    "    w[:, 0] = ic\n",
    "    w[0, :] = bc1\n",
    "    w[-1, :] = bc2\n",
    "\n",
    "    # time marching\n",
    "    for j in range(K):\n",
    "        w[1:-1, j+1] = CN(w[:,j], par=par)\n",
    "\n",
    "    return w"
   ]
  },
  {
   "cell_type": "code",
   "execution_count": null,
   "metadata": {},
   "outputs": [],
   "source": [
    "N = 39\n",
    "K = 40\n",
    "L = 1.\n",
    "# C > pi^2 D/L^2 --> population growth\n",
    "# Try C = 9.5 for extinction\n",
    "# Try C = 10 for growth\n",
    "C = 9.5 \n",
    "D = 1.\n",
    "\n",
    "T = 2. \n",
    "x = np.linspace(0., L, N+2)\n",
    "t = np.linspace(0., T, K+1)"
   ]
  },
  {
   "cell_type": "code",
   "execution_count": null,
   "metadata": {},
   "outputs": [],
   "source": [
    "#%% Initial condition\n",
    "# set initial condition\n",
    "\n",
    "f = lambda x: np.sin(np.pi*x/L)*np.sin(np.pi*x/L)\n",
    "\n",
    "ic = f(x)\n",
    "bc1 = 0.\n",
    "bc2 = 0.\n",
    "\n",
    "w = solve_react_diff(ic, bc1, bc2, D, C, L, T, N, K)"
   ]
  },
  {
   "cell_type": "code",
   "execution_count": null,
   "metadata": {},
   "outputs": [],
   "source": [
    "#%% plot\n",
    "fig, ax = plt.subplots(1,1, figsize=(6.5, 6.5), subplot_kw={'projection':'3d'})\n",
    "\n",
    "# \"time slice\" plot\n",
    "# for j in range(K+1):\n",
    "#     ax.plot(j*T/K * np.ones_like(x), x, w[:, j])\n",
    "for j in range(K+1):\n",
    "    ax.plot(x, t[j]*np.ones(N+2), w[:, j])\n",
    "\n",
    "\n",
    "# surface plot (toggle)\n",
    "# Note: need to reshape 1st coordinate to a column vector\n",
    "# ax.plot_surface(x.reshape(-1,1), t, w, cmap='viridis', alpha=0.8)\n",
    "\n",
    "# Change the angle of projection\n",
    "\n",
    "ax.set_xlabel('$x$')\n",
    "ax.set_ylabel('$t$')\n",
    "ax.view_init(elev=30, azim=-30)\n",
    "\n",
    "ax.set_title('Reaction-diffusion\\n(numerical solution)')\n",
    "\n",
    "plt.show()\n"
   ]
  },
  {
   "cell_type": "markdown",
   "metadata": {},
   "source": [
    "**Remark**\n",
    "\n",
    "- According to Sauer (2017) p. 411, this equestion can model population growth of an ecological system.\n",
    "  - Population grows if $C > \\pi^2 D/L^2$, and\n",
    "  - it goes extinct if $C < \\pi^2 D/L^2$.\n",
    "  - Ecologists use this model in the opposite way: given population growth rate ($C$)and diffusion rate ($D$), what is the smallest patch size ($L$) that can support the population. $L > \\pi \\sqrt{D/C}$"
   ]
  },
  {
   "cell_type": "markdown",
   "metadata": {},
   "source": [
    "#### Finite difference method for hyperbolic equations\n"
   ]
  },
  {
   "cell_type": "markdown",
   "metadata": {},
   "source": [
    "\n",
    "##### Problem (Wave equation)\n",
    "\n",
    "<p style=\"color:red;\">To be updated</p>\n",
    "\n",
    "> **Problem of interest** (Heat equation)\n",
    ">\n",
    "> Given $f:(a,b) \\to \\mathbb{R}$ and $l,r:[0,\\infty)\\to{\\mathbb{R} }$, find $u:[0,\\infty)\\times[a,b] \\to \\mathbb{R}$ that satisfies\n",
    ">     \n",
    "> $$\n",
    "> \\left\\{\\begin{array}{l}\n",
    "> u_t=D u_{x x} \\text { for all } a \\leq x \\leq b, t \\geq 0 \\\\\n",
    "> u(x, 0)=f(x) \\text { for all } a \\leq x \\leq b \\\\\n",
    "> u(a, t)=l(t) \\text { for all } t \\geq 0 \\\\\n",
    "> u(b, t)=r(t) \\text { for all } t \\geq 0\n",
    "> \\end{array}\\right.\n",
    "> $$\n",
    "\n"
   ]
  },
  {
   "cell_type": "markdown",
   "metadata": {},
   "source": [
    "**Remark** (Basic intuition of wave equation)\n",
    "\n",
    "- $u_t$ is not the speed of the wave. It is the time derivative of the amplitude of the wave. \n",
    "- d'Alembert's formula gives the sense of why $c$ is the speed of the wave.\n",
    "  - d'Alembert's formula gives the analytic solution for certain initial and boundary condition. (See Wikipedia page for details.)\n"
   ]
  },
  {
   "cell_type": "markdown",
   "metadata": {},
   "source": [
    "**Remark** (Constructing finite difference method)\n",
    "\n",
    "- 1st time step\n",
    "  - To keep 2nd order accuracy, we use centered-difference quotient when incorporating $u_t$ from the initial data.\n",
    "  - This introduces a negative time index $w_{i,-1}$. However, this can be resolved by combining (a) the initial data and (b) finite difference formula for time marching ($j=0$).\n",
    "  - Though this may look unphysical (involvement of negative time), there is no problem from the degrees of freedom point of view: use right amount of information to specify right amount of unknowns. "
   ]
  },
  {
   "cell_type": "markdown",
   "metadata": {},
   "source": [
    "**Remark** (stability of wave equation)\n",
    "\n",
    "- Notice the trick that when a numerical update involves past two steps of history, we may consider stacking two sets to make higher dimensional problem. This is reminescent of converting 2nd order ODE to vector form of 1st order ODE.\n",
    "- The CFL condition for the wave equation says \"the distance traveled by the wave ($ck$) in unit time must not exceed the spatial spacing $h$.\" \n",
    "- The theorem says that the CFL condition is a sufficient condition for stability in the wave equation. However, this is not true for more general hyperbolic equations. ( Sauer (2017) p. 417 )"
   ]
  },
  {
   "cell_type": "markdown",
   "metadata": {
    "vscode": {
     "languageId": "plaintext"
    }
   },
   "source": [
    "---\n",
    "This work is licensed under [Creative Commons Attribution-ShareAlike 4.0 International](https://creativecommons.org/licenses/by-sa/4.0/)"
   ]
  }
 ],
 "metadata": {
  "kernelspec": {
   "display_name": "ptrch",
   "language": "python",
   "name": "ptrch"
  },
  "language_info": {
   "codemirror_mode": {
    "name": "ipython",
    "version": 3
   },
   "file_extension": ".py",
   "mimetype": "text/x-python",
   "name": "python",
   "nbconvert_exporter": "python",
   "pygments_lexer": "ipython3",
   "version": "3.8.13"
  },
  "orig_nbformat": 4
 },
 "nbformat": 4,
 "nbformat_minor": 2
}
