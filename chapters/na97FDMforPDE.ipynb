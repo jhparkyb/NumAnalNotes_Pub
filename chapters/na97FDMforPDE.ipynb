{
 "cells": [
  {
   "cell_type": "markdown",
   "metadata": {},
   "source": [
    "### Finite difference methods for partial differential equations (PDE)"
   ]
  },
  {
   "cell_type": "markdown",
   "metadata": {},
   "source": [
    "Main references\n",
    "\n",
    "[^1]: Timothy Sauer (2017) *Numerical Analysis* 3rd Edition. (p. 348)\n",
    "\n",
    "#### Take-aways\n",
    "\n",
    "After studying this chapter, we will be able to\n",
    "\n",
    "TBF\n",
    "\n"
   ]
  },
  {
   "cell_type": "markdown",
   "metadata": {},
   "source": [
    "#### Overview\n"
   ]
  },
  {
   "cell_type": "markdown",
   "metadata": {},
   "source": [
    "\n",
    "- We will apply a single method, finite difference method, for various problems. (In other chapters, we usually study multiple methods for a single, general problem.)\n",
    "\n",
    "##### Problems of interest\n",
    "\n",
    "> **Problem of interest** (Heat equation)\n",
    ">\n",
    "> Given $f:(a,b) \\to \\mathbb{R}$ and $l,r:[0,\\infty)\\to{\\mathbb{R} }$, find $u:[0,\\infty)\\times[a,b] \\to \\mathbb{R}$ that satisfies\n",
    ">     \n",
    "> $$\n",
    "> \\left\\{\\begin{array}{l}\n",
    "> u_t=D u_{x x} \\text { for all } a \\leq x \\leq b, t \\geq 0 \\\\\n",
    "> u(x, 0)=f(x) \\text { for all } a \\leq x \\leq b \\\\\n",
    "> u(a, t)=l(t) \\text { for all } t \\geq 0 \\\\\n",
    "> u(b, t)=r(t) \\text { for all } t \\geq 0\n",
    "> \\end{array}\\right.\n",
    "> $$\n"
   ]
  },
  {
   "cell_type": "markdown",
   "metadata": {},
   "source": [
    "#### Common settings/Notation\n",
    "\n",
    "| symbol | meaning |\n",
    "|---|---|\n",
    "| $k$ | time step size |\n",
    "| $h$ | spatial grid spacing |\n",
    "| $u(x_i, t_j)$ | true solution evaluated at $(x_i, t_j)$ |\n",
    "| $w_{i, j}$ | numerical solution meant to approximate $u(x_i, t_j)$ |\n"
   ]
  },
  {
   "cell_type": "markdown",
   "metadata": {},
   "source": [
    "#### Basics of PDE\n",
    "\n",
    "<p style=\"color:red;\">TBF</p>\n",
    "\n",
    "- Two or more independent variables\n",
    "- Briefly mention when we can find analytic solution. (separation of variable, Fourier seires/Fourier transform)\n",
    "- Focus on 2nd order PDE.\n",
    "  - Classification of 2nd order PDE.\n",
    "  - "
   ]
  },
  {
   "cell_type": "markdown",
   "metadata": {},
   "source": [
    "##### Classfication of 2nd order PDE\n",
    "\n",
    "Given a 2nd order PDE\n",
    "\n",
    "$$\n",
    "A u_{x x}+B u_{x y}+C u_{y y}+F\\left(u_x, u_y, u, x, y\\right)=0,\n",
    "$$\n",
    "\n",
    "the PDE is called\n",
    "\n",
    "| name | condition |\n",
    "|---|---|\n",
    "| parabolic | $$B^2 - 4AC = 0$$ |\n",
    "| hyperbolic | $$B^2 - 4AC > 0$$ |\n",
    "| elliptic | $$B^2 - 4AC < 0$$ |\n"
   ]
  },
  {
   "cell_type": "markdown",
   "metadata": {},
   "source": [
    "**Remark**\n",
    "\n",
    "According to Sauer (2017) Numerical Analysis 3rd ed., the practical difference among the different types of PDE is:\n",
    "- parabolic and hyperbolic\n",
    "  - PDE is defined on an open region.\n",
    "  - Boundary conditions for one variable are specified at one end of the region (initial state) and the system is solved by moving away from the boundary. (Think of time evolution.)\n",
    "- elliptic\n",
    "  - PDE is defined on the entire boundary of a closed region.\n",
    "  - Boundary conditions are imposed literally on the boundary of the region."
   ]
  },
  {
   "cell_type": "markdown",
   "metadata": {},
   "source": [
    "#### Finite difference method for parabolic equations\n"
   ]
  },
  {
   "cell_type": "markdown",
   "metadata": {},
   "source": [
    "\n",
    "##### Problem (Heat equation)\n",
    "\n",
    "> **Problem of interest** (Heat equation)\n",
    ">\n",
    "> Given $f:(a,b) \\to \\mathbb{R}$ and $l,r:[0,\\infty)\\to{\\mathbb{R} }$, find $u:[0,\\infty)\\times[a,b] \\to \\mathbb{R}$ that satisfies\n",
    ">     \n",
    "> $$\n",
    "> \\left\\{\\begin{array}{l}\n",
    "> u_t=D u_{x x} \\text { for all } a \\leq x \\leq b, t \\geq 0 \\\\\n",
    "> u(x, 0)=f(x) \\text { for all } a \\leq x \\leq b \\\\\n",
    "> u(a, t)=l(t) \\text { for all } t \\geq 0 \\\\\n",
    "> u(b, t)=r(t) \\text { for all } t \\geq 0\n",
    "> \\end{array}\\right.\n",
    "> $$\n",
    "\n"
   ]
  },
  {
   "cell_type": "markdown",
   "metadata": {},
   "source": [
    "**Remark** (Heat and diffusion equation)\n",
    "\n",
    "- Heat equation is a special case of diffusion equation.\n",
    "  - Diffusion equation describes spreading-out behaviors of matter. \n",
    "  - Heat equation describes transfer of heat density (i.e., temperature).\n",
    "- Heat equation is a parabolic equation.\n",
    "\n",
    "**Remark** (Interpretation of the equation given above)\n",
    "\n",
    "- The above equation describes heat transfer of a rod (spatial dimension 1).\n",
    "  - The initial temperature distribution at the location $x$ is given by $f(x)$.\n",
    "  - Gain or loss of heat at the end points at time $t$ are given by $l(t)$ and $r(t)$.\n",
    "  - The above equation assumes complete insulation on the lateral surface of the rod.\n",
    "  - Diffusion coefficient or heat conductivity $D$ governs the rate of heat transfer: $D$ large $\\rightarrow$ fast transfer; $D$ small $\\rightarrow$ slow transfer."
   ]
  },
  {
   "cell_type": "markdown",
   "metadata": {},
   "source": [
    "##### Forward difference method"
   ]
  },
  {
   "cell_type": "markdown",
   "metadata": {},
   "source": [
    "**Idea**: confine the domain to a set of grid points, and replace differential operators with their discrete counterparts of finite difference form.\n"
   ]
  },
  {
   "cell_type": "markdown",
   "metadata": {},
   "source": [
    "**Grid domain**\n",
    "\n",
    "Consider a uniform grid domain with the common settings mentioned above."
   ]
  },
  {
   "cell_type": "code",
   "execution_count": 32,
   "metadata": {},
   "outputs": [
    {
     "data": {
      "image/png": "[encoded data removed]",
      "text/plain": [
       "<Figure size 640x480 with 1 Axes>"
      ]
     },
     "metadata": {},
     "output_type": "display_data"
    }
   ],
   "source": [
    "import matplotlib.pyplot as plt\n",
    "import numpy as np\n",
    "\n",
    "fig, ax = plt.subplots()\n",
    "\n",
    "L = 1\n",
    "T = 1\n",
    "N = 8\n",
    "K = 8\n",
    "h = L/N\n",
    "k = T/K\n",
    "\n",
    "x = np.linspace(0, L, N+1)\n",
    "t = np.linspace(0, L, N+1)\n",
    "xx, tt = np.meshgrid(x, t)\n",
    "\n",
    "# grid domain\n",
    "gd = np.zeros((N+1, N+1))\n",
    "\n",
    "gd[0, :] = 1\n",
    "# gd[-1, :] = 1\n",
    "gd[:, 0] = 1\n",
    "gd[:, -1] = 1\n",
    "\n",
    "\"\"\"#%% Add a stencil polygon\n",
    "polygon_points = np.array([[-0.5*h, -0.5*k], [2.5*h, -0.5*k], \n",
    "        [2.5*h, 0.5*k],  [1.5*h, 0.5*k], [1.5*h, 1.5*k],\n",
    "        [0.5*h, 1.5*k], [0.5*h, 0.5*k], [-0.5*h, 0.5*k]])\n",
    "ax.add_patch(plt.Polygon(polygon_points, closed=True, fill=None, edgecolor='r'))\n",
    "\"\"\"\n",
    "\n",
    "ax.scatter(xx[gd==0], tt[gd==0], c='w', edgecolors='b', s=40)\n",
    "ax.scatter(xx[gd==1], tt[gd==1], c='b', s=40)\n",
    "ax.set_aspect('equal')\n",
    "ax.set_xticks(x[::2])\n",
    "ax.set_yticks(t[::2])\n",
    "\n",
    "plt.show()\n"
   ]
  },
  {
   "cell_type": "markdown",
   "metadata": {},
   "source": [
    "\n",
    "**Centered-difference for 2nd derivative**\n",
    "\n",
    "$$\n",
    "u_{x x}(x, t) \\approx \\frac{1}{h^2}(u(x+h, t)-2 u(x, t)+u(x-h, t))\n",
    "$$\n",
    "\n",
    "**Forward difference for 1st derivative**\n",
    "\n",
    "$$\n",
    "u_t(x, t) \\approx \\frac{1}{k}(u(x, t+k)-u(x, t))\n",
    "$$\n",
    "\n",
    "Replace $u_xx$ and $u_t$ with these formulas in the heat equations:\n",
    "\n",
    "$$\n",
    "\\frac{D}{h^2}\\left(w_{i+1, j}-2 w_{i j}+w_{i-1, j}\\right) = \\frac{1}{k}\\left(w_{i, j+1}-w_{i j}\\right)\n",
    "$$"
   ]
  },
  {
   "cell_type": "markdown",
   "metadata": {},
   "source": [
    "**Stencil** (dependency of numerical data)\n",
    "\n",
    "Rearrange the discrete version of heat equation:\n",
    "\n",
    "$$\n",
    "w_{i, j+1} =w_{i j}+\\frac{D k}{h^2}\\left(w_{i+1, j}-2 w_{i j}+w_{i-1, j}\\right) \n",
    "$$\n",
    "\n",
    "![Forward difference stencil](https://upload.wikimedia.org/wikipedia/commons/thumb/c/c2/Explicit_method-stencil.svg/2880px-Explicit_method-stencil.svg.png)\n",
    "\n",
    "The figure uses different index from us. Substitute:\n",
    "\n",
    "- $n\\gets i$\n",
    "- $i\\gets j$\n",
    "\n",
    "Figure: Wikipedia\n",
    "\n",
    "Verify that our grid domain can be fully determined by the initial and boundary data using the stencil."
   ]
  },
  {
   "cell_type": "markdown",
   "metadata": {},
   "source": [
    "##### Convergence of forward difference method\n",
    "\n",
    "To be detailed:\n",
    "\n",
    "- error of the discretization\n",
    "- \"stability + consistency = convergence\" still works as in ODE."
   ]
  },
  {
   "cell_type": "markdown",
   "metadata": {},
   "source": [
    "#### Finite difference method for hyperbolic equations\n"
   ]
  },
  {
   "cell_type": "markdown",
   "metadata": {},
   "source": [
    "\n",
    "##### Problem (Wave equation)\n",
    "\n",
    "<p style=\"color:red;\">To be updated</p>\n",
    "\n",
    "> **Problem of interest** (Heat equation)\n",
    ">\n",
    "> Given $f:(a,b) \\to \\mathbb{R}$ and $l,r:[0,\\infty)\\to{\\mathbb{R} }$, find $u:[0,\\infty)\\times[a,b] \\to \\mathbb{R}$ that satisfies\n",
    ">     \n",
    "> $$\n",
    "> \\left\\{\\begin{array}{l}\n",
    "> u_t=D u_{x x} \\text { for all } a \\leq x \\leq b, t \\geq 0 \\\\\n",
    "> u(x, 0)=f(x) \\text { for all } a \\leq x \\leq b \\\\\n",
    "> u(a, t)=l(t) \\text { for all } t \\geq 0 \\\\\n",
    "> u(b, t)=r(t) \\text { for all } t \\geq 0\n",
    "> \\end{array}\\right.\n",
    "> $$\n",
    "\n"
   ]
  },
  {
   "cell_type": "markdown",
   "metadata": {},
   "source": [
    "**Remark** (Basic intuition of wave equation)\n",
    "\n",
    "- $u_t$ is not the speed of the wave. It is the time derivative of the amplitude of the wave. \n",
    "- d'Alembert's formula gives the sense of why $c$ is the speed of the wave.\n",
    "  - d'Alembert's formula gives the analytic solution for certain initial and boundary condition. (See Wikipedia page for details.)\n"
   ]
  },
  {
   "cell_type": "markdown",
   "metadata": {},
   "source": [
    "**Remark** (Constructing finite difference method)\n",
    "\n",
    "- 1st time step\n",
    "  - To keep 2nd order accuracy, we use centered-difference quotient when incorporating $u_t$ from the initial data.\n",
    "  - This introduces a negative time index $w_{i,-1}$. However, this can be resolved by combining (a) the initial data and (b) finite difference formula for time marching ($j=0$).\n",
    "  - Though this may look unphysical (involvement of negative time), there is no problem from the degrees of freedom point of view: use right amount of information to specify right amount of unknowns. "
   ]
  },
  {
   "cell_type": "markdown",
   "metadata": {},
   "source": [
    "**Remark** (stability of wave equation)\n",
    "\n",
    "- Notice the trick that when a numerical update involves past two steps of history, we may consider stacking two sets to make higher dimensional problem. This is reminescent of converting 2nd order ODE to vector form of 1st order ODE.\n",
    "- The CFL condition for the wave equation says \"the distance traveled by the wave ($ck$) in unit time must not exceed the spatial spacing $h$.\" \n",
    "- The theorem says that the CFL condition is a sufficient condition for stability in the wave equation. However, this is not true for more general hyperbolic equations. ( Sauer (2017) p. 417 )"
   ]
  },
  {
   "cell_type": "markdown",
   "metadata": {
    "vscode": {
     "languageId": "plaintext"
    }
   },
   "source": [
    "---\n",
    "This work is licensed under [Creative Commons Attribution-ShareAlike 4.0 International](https://creativecommons.org/licenses/by-sa/4.0/)"
   ]
  }
 ],
 "metadata": {
  "kernelspec": {
   "display_name": "ptrch",
   "language": "python",
   "name": "ptrch"
  },
  "language_info": {
   "codemirror_mode": {
    "name": "ipython",
    "version": 3
   },
   "file_extension": ".py",
   "mimetype": "text/x-python",
   "name": "python",
   "nbconvert_exporter": "python",
   "pygments_lexer": "ipython3",
   "version": "3.9.1"
  },
  "orig_nbformat": 4
 },
 "nbformat": 4,
 "nbformat_minor": 2
}
