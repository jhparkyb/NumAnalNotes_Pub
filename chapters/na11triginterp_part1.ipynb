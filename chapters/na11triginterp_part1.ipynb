{
 "cells": [
  {
   "cell_type": "markdown",
   "metadata": {},
   "source": [
    "## Trigonometric interpolation"
   ]
  },
  {
   "cell_type": "markdown",
   "metadata": {},
   "source": [
    "**Notation**\n",
    "\n",
    "| symbol | meaning |\n",
    "|---|---|\n",
    "| $\\bar u$ | complex conjugate of $u$ (element-wise complex conjugate for vector or matrix) |\n",
    "| $i$ | $=\\sqrt{-1}$ imaginary unit |\n",
    "| $v^H$, $A^H$, $v^*$, $A^*$ | $\\overline{v}^T$, $\\overline{A}^T$, where $v$ and $A$ are complex vector and matrix respectively (called *conjugate transpose*) |\n",
    "| $(u, v)$ | $v^H u = \\sum_{j=1}^n u_j \\overline{v_j}$, where $u,v\\in C^n$ (Complex dot-product) |\n",
    "| $\\lVert v \\rVert$ | $\\sqrt{(v, v)}$, where $v\\in C^n$ (2-norm of complex vector) |\n",
    "<!-- | $\\mathfrak{i}$ | $=\\sqrt{-1}$ imaginary unit (watch the font! $i$ vs $\\mathfrak{i}=\\sqrt{-1}$) | -->\n"
   ]
  },
  {
   "cell_type": "markdown",
   "metadata": {},
   "source": [
    "### Facts on complex numbers"
   ]
  },
  {
   "cell_type": "markdown",
   "metadata": {},
   "source": [
    "Background knowledge of complex numbers\n",
    "\n",
    "- Sauer (2017) pp. 490--492 provides essential summary of complex numbers.\n",
    "- If this is not enough, you can find a balanced summary that is not too long, but quite kind is available at [Brilliant.org](https://brilliant.org/wiki/complex-numbers/)."
   ]
  },
  {
   "cell_type": "markdown",
   "metadata": {},
   "source": [
    "**Defintion** \n",
    "\n",
    "For $z=a+b i\\in C$,\n",
    "\n",
    "- $\\bar z = a - b i$ (complex conjugate)\n",
    "- $\\mathrm{Re}(z):=a\\in R$ (real part) \n",
    "- $\\mathrm{Im}(z):=b\\in R$ (imaginary part).\n",
    "- $|z|:=\\sqrt{z\\bar z}=\\sqrt{a^2 + b^2}$ (modulus, maginitude)\n",
    "- $e^{i \\theta} := \\cos \\theta+i \\sin \\theta$ (Euler formula)"
   ]
  },
  {
   "cell_type": "markdown",
   "metadata": {},
   "source": [
    "**Facts**\n",
    "\n",
    "1. For $0\\neq z=a+b i\\in C$, it is the case $z=r e^{i \\theta}$, where $r = | z |$ and $\\theta\\in R$ is such that $\\cos(\\theta)=a/r$ and $\\sin(\\theta)=b/r$.\n",
    "2. All exponent rules generalize to complex exponent in the Euler formula settings. That is, for $z,w\\in C$ and $n\\in Z$, we have\n",
    "   1. $e^z e^w = e^{z+w}$\n",
    "   2. $e^z / e^w = e^{z-w}$\n",
    "   3. $(e^z)^n = e^{nz}$\n",
    "      1. $(e^z)^w \\neq e^{zw}$ in general.\n",
    "3. If $z\\in C$ is on the unit circle, i.e. $|z|=1$, then $z^{-1}=\\overline{z}$. In particular, \n",
    "   1. $e^{-\\theta i}=\\overline{e^{\\theta i}}$\n",
    "4. $e^{2\\pi k i} = 1$ for any integer $k$.\n",
    "5. $z$ is real iff $z=\\bar z$. \n",
    "6. Conjugacy:\n",
    "   1. $\\overline{(\\overline{z})}=z$,\n",
    "   2. $\\overline{z+w}=\\overline{z}+\\overline{w}$,\n",
    "   3. $\\overline{zw}=\\overline{z}\\overline{w}$,\n",
    "\n",
    "![polar representation of complex number](https://www.researchgate.net/profile/Ovidiu-Bagdasar/publication/299680029/figure/fig4/AS:647955837108235@1531496118970/Algebraic-and-polar-representation-of-a-complex-number.png)\n",
    "\n",
    "Figure: Ovidiu Bagdasar - ResearchGate (polar representation of complex number)"
   ]
  },
  {
   "cell_type": "markdown",
   "metadata": {},
   "source": []
  },
  {
   "cell_type": "markdown",
   "metadata": {},
   "source": [
    "**Definition** (Root of unity)\n",
    "\n",
    "Let $n$ be a positive integer. A complex number $\\omega$ satisfying $\\omega^n = 1$ is called a *root of unity*. If, in addition, $\\omega^k\\neq 1$ for $1 \\le k < n$, then it is called *primitive root of unity*."
   ]
  },
  {
   "cell_type": "markdown",
   "metadata": {},
   "source": [
    "### Discrete Fourier Transform (DFT)"
   ]
  },
  {
   "cell_type": "markdown",
   "metadata": {},
   "source": [
    "**Theorem** (Orthogonality of primitive roots of unity). \n",
    "\n",
    "Let $\\omega$ be a primitive $n$-th root of unity and $k$ be an integer.\n",
    "Then\n",
    "$$\n",
    "\\sum_{j=0}^{n-1} \\omega^{j k}=\\left\\{\\begin{array}{ll}\n",
    "n & \\text { if } k / n \\text { is an integer } \\\\\n",
    "0 & \\text { otherwise }\n",
    "\\end{array} .\\right.\n",
    "$$\n",
    "\n",
    "In particular, $\\omega=e^{\\pm 2\\pi \\mathfrak{i}/n}$ satisfies this."
   ]
  },
  {
   "cell_type": "markdown",
   "metadata": {},
   "source": [
    "Proof: HW problem (formal proof)"
   ]
  },
  {
   "cell_type": "markdown",
   "metadata": {},
   "source": [
    "Proof without words: See the plot below."
   ]
  },
  {
   "cell_type": "code",
   "execution_count": 1,
   "metadata": {},
   "outputs": [],
   "source": [
    "# AI usage: This plotting code is written with help of Github Copilot\n",
    "import numpy as np\n",
    "import matplotlib.pyplot as plt\n",
    "def plot_root_of_unity(n):\n",
    "    angles = np.linspace(0, 2*np.pi, n, endpoint=False)\n",
    "    roots = np.exp(1j * angles)\n",
    "    \n",
    "    fig, ax = plt.subplots(figsize=(6, 6))\n",
    "    ax.set_aspect('equal')\n",
    "    ax.grid(True)\n",
    "    \n",
    "    # Set coordinate limits\n",
    "    ax.set_xlim(-1.1, 1.1)\n",
    "    ax.set_ylim(-1.1, 1.1)\n",
    "    \n",
    "    # Plot the unit circle\n",
    "    circle = plt.Circle((0, 0), 1, color='black', ls=':', fill=False)\n",
    "    ax.add_artist(circle)\n",
    "    \n",
    "    # Plot the primitive roots of unity\n",
    "    ax.plot(np.real(roots), np.imag(roots), 'bo', markersize=12)\n",
    "    \n",
    "    # Add dashed lines connecting each root to the origin\n",
    "    for root in roots:\n",
    "        ax.plot([0, np.real(root)], [0, np.imag(root)], 'k:', linewidth=0.5)\n",
    "    \n",
    "    # Add x and y coordinate axes as arrows\n",
    "    ax.arrow(-1.1, 0, 2.2, 0, head_width=0.05, head_length=0.1, fc='black', ec='black')\n",
    "    ax.arrow(0, -1.1, 0, 2.2, head_width=0.05, head_length=0.1, fc='black', ec='black')\n",
    "\n",
    "    plt.show()    \n",
    "\n"
   ]
  },
  {
   "cell_type": "code",
   "execution_count": 3,
   "metadata": {},
   "outputs": [
    {
     "data": {
      "image/png": "[encoded data removed]",
      "text/plain": [
       "<Figure size 600x600 with 1 Axes>"
      ]
     },
     "metadata": {},
     "output_type": "display_data"
    }
   ],
   "source": [
    "n = 7\n",
    "plot_root_of_unity(n)"
   ]
  },
  {
   "cell_type": "markdown",
   "metadata": {},
   "source": [
    "This theorem reads:\n",
    "\n",
    "$$\n",
    "\\begin{aligned}\n",
    "1+\\omega^0+\\omega^0+\\omega^0+\\cdots+\\omega^{0}&=n, \\\\\n",
    "1+\\omega+\\omega^2+\\omega^3+\\cdots+\\omega^{n-1}&=0, \\\\\n",
    "1+\\omega^2+\\omega^4+\\omega^6+\\cdots+\\omega^{2(n-1)} & =0, \\\\\n",
    "1+\\omega^3+\\omega^6+\\omega^9+\\cdots+\\omega^{3(n-1)} & =0, \\\\\n",
    "& \\vdots \\\\\n",
    "1+\\omega^{n-1}+\\omega^{(n-1) 2}+\\omega^{(n-1) 3}+\\cdots+\\omega^{(n-1)(n-1)} & =0, \\\\\n",
    "1+\\omega^n+\\omega^{2 n}+\\omega^{3 n}+\\cdots+\\omega^{n(n-1)} &= n.\n",
    "\\end{aligned}\n",
    "$$\n",
    "\n",
    "For $k > n$, \n",
    "\n",
    "$$\n",
    "\\begin{aligned}\n",
    "1+\\omega^{n+1}+\\omega^{(n+1)2}+\\omega^{(n+1)3}+\\cdots+\\omega^{(n+1)(n-1)}&=0, \\\\\n",
    "1+\\omega^{n+2}+\\omega^{(n+2)2}+\\omega^{(n+2)2}+\\cdots+\\omega^{(n+2)(n-1)}&=0, \\\\\n",
    "& \\vdots \\\\\n",
    "1+\\omega^{2n-1}+\\omega^{(2n-1) 2}+\\omega^{(2n-1) 3}+\\cdots+\\omega^{(2n-1)(n-1)} & =0, \\\\\n",
    "1+\\omega^{2n}+\\omega^{4 n}+\\omega^{6 n}+\\cdots+\\omega^{2n(n-1)} &= n.\n",
    "\\end{aligned}\n",
    "$$\n",
    "\n",
    "For $k < 0$,\n",
    "\n",
    "$$\n",
    "\\begin{aligned}\n",
    "1+\\omega^{-n+1}+\\omega^{(-n+1)2}+\\omega^{(-n+1)3}+\\cdots+\\omega^{(-n+1)(n-1)}&=0, \\\\\n",
    "1+\\omega^{-n+2}+\\omega^{(-n+2)2}+\\omega^{(-n+2)2}+\\cdots+\\omega^{(-n+2)(n-1)}&=0, \\\\\n",
    "& \\vdots \\\\\n",
    "1+\\omega^{-1}+\\omega^{(-1) 2}+\\omega^{(-1) 3}+\\cdots+\\omega^{(-1)(n-1)} & =0, \\\\\n",
    "1+\\omega^{-n}+\\omega^{-2 n}+\\omega^{-3 n}+\\cdots+\\omega^{-n(n-1)} &= n.\n",
    "\\end{aligned}\n",
    "$$\n"
   ]
  },
  {
   "cell_type": "markdown",
   "metadata": {},
   "source": [
    "**Definition** (Discrete Fourier Transform)\n",
    "\n",
    "The Discrete Fourier Transform (DFT) of $x=\\left[x_0, \\ldots, x_{n-1}\\right]^T$ is the $n$-dimensional vector $y=\\left[y_0, \\ldots, y_{n-1}\\right]$, where $\\omega=e^{-i 2 \\pi / n}$ and\n",
    "$$\n",
    "y_k=\\frac{1}{\\sqrt{n}} \\sum_{j=0}^{n-1} x_j \\omega^{j k} .\n",
    "$$"
   ]
  },
  {
   "cell_type": "markdown",
   "metadata": {},
   "source": [
    "Clicker Question"
   ]
  },
  {
   "cell_type": "markdown",
   "metadata": {},
   "source": [
    "- Matrix form\n",
    "\n",
    "$$\n",
    "\\left[\\begin{array}{c}\n",
    "y_0 \\\\\n",
    "y_1 \\\\\n",
    "y_2 \\\\\n",
    "\\vdots \\\\\n",
    "y_{n-1}\n",
    "\\end{array}\\right]=\\left[\\begin{array}{c}\n",
    "a_0+i b_0 \\\\\n",
    "a_1+i b_1 \\\\\n",
    "a_2+i b_2 \\\\\n",
    "\\vdots \\\\\n",
    "a_{n-1}+i b_{n-1}\n",
    "\\end{array}\\right]=\\frac{1}{\\sqrt{n}}\\left[\\begin{array}{ccccc}\n",
    "\\omega^0 & \\omega^0 & \\omega^0 & \\cdots & \\omega^0 \\\\\n",
    "\\omega^0 & \\omega^1 & \\omega^2 & \\cdots & \\omega^{n-1} \\\\\n",
    "\\omega^0 & \\omega^2 & \\omega^4 & \\cdots & \\omega^{2(n-1)} \\\\\n",
    "\\omega^0 & \\omega^3 & \\omega^6 & \\cdots & \\omega^{3(n-1)} \\\\\n",
    "\\vdots & \\vdots & \\vdots & & \\vdots \\\\\n",
    "\\omega^0 & \\omega^{n-1} & \\omega^{2(n-1)} & \\cdots & \\omega^{(n-1)^2}\n",
    "\\end{array}\\right]\\left[\\begin{array}{c}\n",
    "x_0 \\\\\n",
    "x_1 \\\\\n",
    "x_2 \\\\\n",
    "\\vdots \\\\\n",
    "x_{n-1}\n",
    "\\end{array}\\right] .\n",
    "$$\n",
    "\n",
    "- The $n \\times n$ matrix above is called the Fourier matrix\n",
    "$$\n",
    "F_n=\\frac{1}{\\sqrt{n}}\\left[\\begin{array}{ccccc}\n",
    "\\omega^0 & \\omega^0 & \\omega^0 & \\cdots & \\omega^0 \\\\\n",
    "\\omega^0 & \\omega^1 & \\omega^2 & \\cdots & \\omega^{n-1} \\\\\n",
    "\\omega^0 & \\omega^2 & \\omega^4 & \\cdots & \\omega^{2(n-1)} \\\\\n",
    "\\omega^0 & \\omega^3 & \\omega^6 & \\cdots & \\omega^{3(n-1)} \\\\\n",
    "\\vdots & \\vdots & \\vdots & & \\vdots \\\\\n",
    "\\omega^0 & \\omega^{n-1} & \\omega^{2(n-1)} & \\cdots & \\omega^{(n-1)^2}\n",
    "\\end{array}\\right] .\n",
    "$$\n",
    "\n",
    "- (Notation within this class) \n",
    "  - For later use, DFT of $n$-vector $v$ without normalization and inverse DFT (IDFT; see below) with $1/n$-normalization.\n",
    "  - In practice, many packages use different normalization such as Matlab and NumPy.\n",
    "$$\n",
    "\\begin{split}\n",
    "\\widetilde{\\mathrm{DFT}}(v; n)&:=\\left[\\begin{array}{ccccc}\n",
    "\\omega^0 & \\omega^0 & \\omega^0 & \\cdots & \\omega^0 \\\\\n",
    "\\omega^0 & \\omega^1 & \\omega^2 & \\cdots & \\omega^{n-1} \\\\\n",
    "\\omega^0 & \\omega^2 & \\omega^4 & \\cdots & \\omega^{2(n-1)} \\\\\n",
    "\\omega^0 & \\omega^3 & \\omega^6 & \\cdots & \\omega^{3(n-1)} \\\\\n",
    "\\vdots & \\vdots & \\vdots & & \\vdots \\\\\n",
    "\\omega^0 & \\omega^{n-1} & \\omega^{2(n-1)} & \\cdots & \\omega^{(n-1)^2}\n",
    "\\end{array}\\right]  \\left[\\begin{array}{c}\n",
    "v_0 \\\\\n",
    "v_1 \\\\\n",
    "v_2 \\\\\n",
    "\\vdots \\\\\n",
    "v_{n-1}\n",
    "\\end{array}\\right] \\\\\n",
    "\\widetilde{\\mathrm{IDFT}}(y; n)&:=\\frac{1}{{n}} \\left[\\begin{array}{ccccc}\n",
    "\\omega^0 & \\omega^0 & \\omega^0 & \\cdots & \\omega^0 \\\\\n",
    "\\omega^0 & \\omega^1 & \\omega^2 & \\cdots & \\omega^{n-1} \\\\\n",
    "\\omega^0 & \\omega^2 & \\omega^4 & \\cdots & \\omega^{2(n-1)} \\\\\n",
    "\\omega^0 & \\omega^3 & \\omega^6 & \\cdots & \\omega^{3(n-1)} \\\\\n",
    "\\vdots & \\vdots & \\vdots & & \\vdots \\\\\n",
    "\\omega^0 & \\omega^{n-1} & \\omega^{2(n-1)} & \\cdots & \\omega^{(n-1)^2}\n",
    "\\end{array}\\right] ^{-1} \\left[\\begin{array}{c}\n",
    "y_0 \\\\\n",
    "y_1 \\\\\n",
    "y_2 \\\\\n",
    "\\vdots \\\\\n",
    "y_{n-1}\n",
    "\\end{array}\\right]\n",
    "\\end{split}\n",
    "$$ \n",
    "\n",
    " \n"
   ]
  },
  {
   "cell_type": "markdown",
   "metadata": {},
   "source": [
    "**Remark** (Intuition)\n",
    "\n",
    "<!-- - Discrete Cosine Transform (DCT) bears the same idea as DFT. Since DFT involves complex numbers, and DCT doesn't, DCT can be visualized easily, and it is often used as a substitute visualization of DFT. -->\n",
    "- DFT decomposes a wave/signal (input; time domain) into frequencies (output).\n",
    "- IDFT reconstruct a signal from the frequency profile.\n",
    "\n",
    "![Discrete Cosine Transform](https://pythonnumericalmethods.studentorg.berkeley.edu/_images/24.02.02-time_frequency.png)\n",
    "\n",
    "Figure: [Kong, Siauw, Bayen](https://pythonnumericalmethods.studentorg.berkeley.edu/notebooks/chapter24.02-Discrete-Fourier-Transform.html) (Discrete Cosine Transform)"
   ]
  },
  {
   "cell_type": "markdown",
   "metadata": {},
   "source": [
    "**Definition** (Unitary matrix)\n",
    "\n",
    "A square complex matrix $U$ is *unitary* if $U^H U= UU^H=I$."
   ]
  },
  {
   "cell_type": "markdown",
   "metadata": {},
   "source": [
    "**Facts** (Fourier matrix)\n",
    "\n",
    "- $y_k=a_k+i b_k$ is a complex number; even when the data is real.\n",
    "- The first row of $n$-by-$n$ Fourier matrix adds up to $n$. Each of the other rows adds up to 0.\n",
    "  - This is a consequence of the Orthogonalizty theorem on primitive roots of unity.\n",
    "\n",
    "- $F_n^{T}=F_n$: (symmetric).\n",
    "- $F_n^{-1} = F_n^H$: (unitary for the normalization $1/\\sqrt{n}$) \n",
    "- $F_n^{-1}=\\overline{F_n}$. \n",
    "  - Proof: HW problem\n",
    "$$\n",
    "F_n^{-1}=\\frac{1}{\\sqrt{n}}\\left[\\begin{array}{ccccc}\n",
    "\\omega^0 & \\omega^0 & \\omega^0 & \\cdots & \\omega^0 \\\\\n",
    "\\omega^0 & \\omega^{-1} & \\omega^{-2} & \\cdots & \\omega^{-(n-1)} \\\\\n",
    "\\omega^0 & \\omega^{-2} & \\omega^{-4} & \\cdots & \\omega^{-2(n-1)} \\\\\n",
    "\\omega^0 & \\omega^{-3} & \\omega^{-6} & \\cdots & \\omega^{-3(n-1)} \\\\\n",
    "\\vdots & \\vdots & \\vdots & & \\vdots \\\\\n",
    "\\omega^0 & \\omega^{-(n-1)} & \\omega^{-2(n-1)} & \\cdots & \\omega^{-(n-1)^2}\n",
    "\\end{array}\\right],\n",
    "$$"
   ]
  },
  {
   "cell_type": "markdown",
   "metadata": {},
   "source": [
    "**Definition** (Inverse Discrete Fourier Transform (IDFT))\n",
    "\n",
    "For $y\\in C^n$, the map $y\\mapsto F^{-1}_n y \\in C^n$ is called Inverse Discrete Fourier Transform."
   ]
  },
  {
   "cell_type": "markdown",
   "metadata": {},
   "source": [
    "**Example** (Sauer (2017) p. 494)\n",
    "\n",
    "Find the DFT of $x=[1, 0, -1, 0]^T$ and $z=[1, 2, 3, 4]^T$.\n",
    "\n"
   ]
  },
  {
   "cell_type": "markdown",
   "metadata": {},
   "source": [
    "We do hand calculation for $x$ and computer implementation for $z$\n",
    " \n",
    "<!-- \n",
    "Let $\\omega$ be the 4th root of unity, or $\\omega=e^{-i \\pi / 2}=\\cos (\\pi / 2)-i \\sin (\\pi / 2)=-i$. Applying the DFT, we get\n",
    "$$\n",
    "\\left[\\begin{array}{l}\n",
    "y_0 \\\\\n",
    "y_1 \\\\\n",
    "y_2 \\\\\n",
    "y_3\n",
    "\\end{array}\\right]=\\frac{1}{\\sqrt{4}}\\left[\\begin{array}{llll}\n",
    "1 & 1 & 1 & 1 \\\\\n",
    "1 & \\omega & \\omega^2 & \\omega^3 \\\\\n",
    "1 & \\omega^2 & \\omega^4 & \\omega^6 \\\\\n",
    "1 & \\omega^3 & \\omega^6 & \\omega^9\n",
    "\\end{array}\\right]\\left[\\begin{array}{r}\n",
    "1 \\\\\n",
    "0 \\\\\n",
    "-1 \\\\\n",
    "0\n",
    "\\end{array}\\right]=\\frac{1}{2}\\left[\\begin{array}{rrrr}\n",
    "1 & 1 & 1 & 1 \\\\\n",
    "1 & -i & -1 & i \\\\\n",
    "1 & -1 & 1 & -1 \\\\\n",
    "1 & i & -1 & -i\n",
    "\\end{array}\\right]\\left[\\begin{array}{r}\n",
    "1 \\\\\n",
    "0 \\\\\n",
    "-1 \\\\\n",
    "0\n",
    "\\end{array}\\right]=\\left[\\begin{array}{l}\n",
    "0 \\\\\n",
    "1 \\\\\n",
    "0 \\\\\n",
    "1\n",
    "\\end{array}\\right]\n",
    "$$ -->"
   ]
  },
  {
   "cell_type": "code",
   "execution_count": 7,
   "metadata": {},
   "outputs": [
    {
     "name": "stdout",
     "output_type": "stream",
     "text": [
      "[[0 0 0 0]\n",
      " [0 1 2 3]\n",
      " [0 2 4 6]\n",
      " [0 3 6 9]]\n",
      "[[ 1.+0.j  1.+0.j  1.+0.j  1.+0.j]\n",
      " [ 1.+0.j  0.+1.j -1.+0.j -0.-1.j]\n",
      " [ 1.+0.j -1.+0.j  1.-0.j -1.+0.j]\n",
      " [ 1.+0.j -0.-1.j -1.+0.j  0.+1.j]]\n",
      "[[0.+0.j]\n",
      " [1.-0.j]\n",
      " [0.+0.j]\n",
      " [1.-0.j]]\n",
      "[[ 5.+0.j]\n",
      " [-1.-1.j]\n",
      " [-1.+0.j]\n",
      " [-1.+1.j]]\n"
     ]
    }
   ],
   "source": [
    "import numpy as np\n",
    "\n",
    "x = np.array([1., 0., -1., 0.])\n",
    "z = np.array([1., 2., 3., 4.])\n",
    "\n",
    "# omega (conjugate of primitive root of unity)\n",
    "n = x.shape[0]\n",
    "w = np.exp(2.*np.pi*1j/n)\n",
    "\n",
    "# intermediate power array (0, 1, 2, 3)\n",
    "k = np.arange(n)\n",
    "\n",
    "# 2d array of powers for DFT \n",
    "pow = k.reshape((-1, 1)) * k.reshape((1, -1))\n",
    "\n",
    "# Fourier matrix of dimension 4\n",
    "F = w**pow\n",
    "\n",
    "# normalizing constant\n",
    "nrml = 1./np.sqrt(n)\n",
    "\n",
    "# DFT of x\n",
    "y1 = nrml * F @ x.reshape((-1,1))\n",
    "\n",
    "# DFT of y\n",
    "y2 = nrml * F @ z.reshape((-1,1))\n",
    "\n",
    "with np.printoptions(precision=2, suppress=True):\n",
    "    print(pow)\n",
    "    print(F)\n",
    "    print(y1)\n",
    "    print(y2)\n"
   ]
  },
  {
   "cell_type": "code",
   "execution_count": 3,
   "metadata": {},
   "outputs": [
    {
     "name": "stdout",
     "output_type": "stream",
     "text": [
      "[[0 0 0 0]\n",
      " [0 1 2 3]\n",
      " [0 2 4 6]\n",
      " [0 3 6 9]]\n",
      "[[ 1.+0.j  1.+0.j  1.+0.j  1.+0.j]\n",
      " [ 1.+0.j  0.-1.j -1.-0.j -0.+1.j]\n",
      " [ 1.+0.j -1.-0.j  1.+0.j -1.-0.j]\n",
      " [ 1.+0.j -0.+1.j -1.-0.j  0.-1.j]]\n",
      "[0.+0.j 1.+0.j 0.-0.j 1.+0.j]\n",
      "[ 5.+0.j -1.+1.j -1.-0.j -1.-1.j]\n"
     ]
    }
   ],
   "source": [
    "import numpy as np\n",
    "\n",
    "x = np.array([1., 0., -1., 0.])\n",
    "z = np.array([1., 2., 3., 4.])\n",
    "\n",
    "w = np.exp(-2.*np.pi*1j/4)\n",
    "\n",
    "k = np.arange(4)\n",
    "pow = (k * k.reshape(-1,1))\n",
    "F = w**pow\n",
    "y1 = (1./np.sqrt(4)) * (F @ x)\n",
    "y2 = (1./np.sqrt(4)) * (F @ z)\n",
    "\n",
    "with np.printoptions(precision=2, suppress=True):\n",
    "    print(pow)\n",
    "    print(F)\n",
    "    print(y1)\n",
    "    print(y2)\n"
   ]
  },
  {
   "cell_type": "markdown",
   "metadata": {},
   "source": [
    "Clicker Question"
   ]
  },
  {
   "cell_type": "markdown",
   "metadata": {},
   "source": [
    "**Theorem** (DFT of real vector)\n",
    "\n",
    "Let $\\left\\{y_k\\right\\}$ be the DFT of $\\left\\{x_j\\right\\}$, where the $x_j$ are real numbers. Then, \n",
    "- $y_0$ is real, and \n",
    "- $y_{n-k}=\\bar{y}_k$ for $k=1, \\ldots, n-1$.\n",
    "  - Hence, if $n$ is even, $y_{n/2}$ is also real."
   ]
  },
  {
   "cell_type": "markdown",
   "metadata": {},
   "source": [
    "###### proof"
   ]
  },
  {
   "cell_type": "markdown",
   "metadata": {},
   "source": [
    "Proof. \n",
    "\n",
    "(First) \n",
    "\n",
    "This is clear: $y_0$ is the sum of the $x_j$ 's divided by $\\sqrt{n}$\n",
    "\n",
    "(Second) \n",
    "\n",
    "- Observation 1: $\\omega^{n-k}=\\overline{\\omega^k}$ for $k=1,2,\\cdots,n$.  \n",
    "  - $\\omega^{n-k}=e^{-i 2 \\pi(n-k) / n}=e^{-i 2 \\pi} e^{i 2 \\pi k / n}=e^{i 2 \\pi k / n}=\\overline{e^{-i 2 \\pi k / n}}=\\omega^k$\n",
    "- Observation 2: $x_j$'s are all real.\n",
    "  -  $\\overline{x_j}=x_j$ for $j=1,2,\\cdots,n$.\n",
    "\n",
    "From the definition of Fourier transform, \n",
    "$$\n",
    "\\begin{aligned}\n",
    "y_{n-k} & =\\frac{1}{\\sqrt{n}} \\sum_{j=0}^{n-1} x_j\\left(\\omega^{n-k}\\right)^j \\\\\n",
    "& =\\frac{1}{\\sqrt{n}} \\sum_{j=0}^{n-1} x_j \\left(\\overline{\\omega^k}\\right)^j \\\\\n",
    "& =\\frac{1}{\\sqrt{n}} \\sum_{j=0}^{n-1} \\overline{x_j\\left(\\omega^k\\right)^j}=\\overline{y_k} .\n",
    "\\end{aligned}\n",
    "$$"
   ]
  },
  {
   "cell_type": "markdown",
   "metadata": {},
   "source": [
    "**Example**\n",
    "\n",
    "Let $n$ be even and the $x_0, \\ldots, x_{n-1}$ be real numbers. Then, the DFT of $x$ replaces them with exactly $n$ other real numbers $a_0, a_1, b_1, a_2, b_2, \\ldots, a_{n / 2}$, the real and imaginary parts of the Fourier transform $y_0, \\ldots, y_{n-1}$. For example, the $n=8$ DFT has the form\n",
    "$$\n",
    "F_8\\left[\\begin{array}{l}\n",
    "x_0 \\\\\n",
    "x_1 \\\\\n",
    "x_2 \\\\\n",
    "x_3 \\\\\n",
    "x_4 \\\\\n",
    "x_5 \\\\\n",
    "x_6 \\\\\n",
    "x_7\n",
    "\\end{array}\\right]=\\left[\\begin{array}{l}\n",
    "a_0 \\\\\n",
    "a_1+i b_1 \\\\\n",
    "a_2+i b_2 \\\\\n",
    "a_3+i b_3 \\\\\n",
    "a_4 \\\\\n",
    "a_3-i b_3 \\\\\n",
    "a_2-i b_2 \\\\\n",
    "a_1-i b_1\n",
    "\\end{array}\\right]=\\left[\\begin{array}{c}\n",
    "y_0 \\\\\n",
    "\\vdots \\\\\n",
    "y_{\\frac{n}{2}-1} \\\\\n",
    "y_{\\frac{n}{2}} \\\\\n",
    "\\bar{y}_{\\frac{n}{2}-1} \\\\\n",
    "\\vdots \\\\\n",
    "\\bar{y}_1\n",
    "\\end{array}\\right] .\n",
    "$$"
   ]
  },
  {
   "cell_type": "markdown",
   "metadata": {},
   "source": [
    "**Remark** \n",
    "\n",
    "This property is exploited by software.\n",
    "\n",
    "- `numpy.fft.rfft` stores only the essential part of the DFT of real data.\n",
    "  - This improves computation and memory management.\n",
    "  - But one needs to be a bit more careful because the shapes of the input and output are different."
   ]
  },
  {
   "cell_type": "markdown",
   "metadata": {},
   "source": [
    "### Fast Fourier Transform (FFT)"
   ]
  },
  {
   "cell_type": "markdown",
   "metadata": {},
   "source": [
    "**Motivation**\n",
    "\n",
    "- DFT applied to an $n$-vector requires $O\\left(n^2\\right)$ operations ($n^2$ multiplications and $n(n-1)$ additions). \n",
    "- Cooley and Tukey [1965] found a way to accomplish the DFT in $O(n \\log n)$ operations, called the *Fast Fourier Transform* (FFT). \n",
    "- The popularity of the FFT for data analysis followed almost immediately. The field of signal processing converted from primarily analog to digital largely due to this algorithm. [Sauer (2017) p. 495]."
   ]
  },
  {
   "cell_type": "markdown",
   "metadata": {},
   "source": [
    "**Example** (4-by-4 FFT; Sauer (2017) p. 497)\n",
    "\n",
    "Here, we omit the normalization part. To complete the DFT with $1/\\sqrt{n}$ normalization, simply divide by $\\sqrt{n}$ the resulting vector. \n"
   ]
  },
  {
   "cell_type": "markdown",
   "metadata": {},
   "source": [
    "\n",
    "1. Settings\n",
    " \n",
    "Let $\\omega=e^{-i 2 \\pi / 4}=-i$. The Discrete Fourier Transform reads\n",
    "\n",
    "$$\n",
    "\\left[\\begin{array}{l}\n",
    "z_0 \\\\\n",
    "z_1 \\\\\n",
    "z_2 \\\\\n",
    "z_3\n",
    "\\end{array}\\right]=\\left[\\begin{array}{cccc}\n",
    "\\omega^0 & \\omega^0 & \\omega^0 & \\omega^0 \\\\\n",
    "\\omega^0 & \\omega^1 & \\omega^2 & \\omega^3 \\\\\n",
    "\\omega^0 & \\omega^2 & \\omega^4 & \\omega^6 \\\\\n",
    "\\omega^0 & \\omega^3 & \\omega^6 & \\omega^9\n",
    "\\end{array}\\right]\\left[\\begin{array}{l}\n",
    "x_0 \\\\\n",
    "x_1 \\\\\n",
    "x_2 \\\\\n",
    "x_3\n",
    "\\end{array}\\right] .\n",
    "$$\n"
   ]
  },
  {
   "cell_type": "markdown",
   "metadata": {},
   "source": [
    "\n",
    "2. Grouping into even and odd index\n",
    "\n",
    "Group terms according to index being even and odd, then it reads, in the equation form:\n",
    "\n",
    "$$\n",
    "\\begin{aligned}\n",
    "& z_0=\\omega^0 x_0+\\omega^0 x_2+\\omega^0\\left(\\omega^0 x_1+\\omega^0 x_3\\right) \\\\\n",
    "& z_1=\\omega^0 x_0+\\omega^2 x_2+\\omega^1\\left(\\omega^0 x_1+\\omega^2 x_3\\right) \\\\\n",
    "& z_2=\\omega^0 x_0+\\omega^4 x_2+\\omega^2\\left(\\omega^0 x_1+\\omega^4 x_3\\right) \\\\\n",
    "& z_3=\\omega^0 x_0+\\omega^6 x_2+\\omega^3\\left(\\omega^0 x_1+\\omega^6 x_3\\right)\n",
    "\\end{aligned}.\n",
    "$$\n",
    "\n",
    "\n",
    "Lower powers using $\\omega^4=1$: \n",
    "\n",
    "$$\n",
    "\\begin{aligned}\n",
    "& z_0=\\left(\\omega^0 x_0+\\omega^0 x_2\\right)+\\omega^0\\left(\\omega^0 x_1+\\omega^0 x_3\\right) \\\\\n",
    "& z_1=\\left(\\omega^0 x_0+\\omega^2 x_2\\right)+\\omega^1\\left(\\omega^0 x_1+\\omega^2 x_3\\right) \\\\\n",
    "& z_2=\\left(\\omega^0 x_0+\\omega^0 x_2\\right)+\\omega^2\\left(\\omega^0 x_1+\\omega^0 x_3\\right) \\\\\n",
    "& z_3=\\left(\\omega^0 x_0+\\omega^2 x_2\\right)+\\omega^3\\left(\\omega^0 x_1+\\omega^2 x_3\\right)\n",
    "\\end{aligned}\n",
    "$$\n"
   ]
  },
  {
   "cell_type": "markdown",
   "metadata": {},
   "source": [
    "3. Recognize repetitions and recursive structure\n",
    "\n",
    "Notice that each term in parentheses in the top two lines is repeated verbatim in the bottom two lines. \n"
   ]
  },
  {
   "cell_type": "markdown",
   "metadata": {},
   "source": [
    "Also, notice that $\\mu=\\omega^2$ is a 2nd root of unity. \n",
    "\n",
    "$$\n",
    "\\begin{aligned}\n",
    "& u_0=\\mu^0 x_0+\\mu^0 x_2\\\\\n",
    "& u_1=\\mu^0 x_0+\\mu^1 x_2\n",
    "\\end{aligned}\n",
    "$$\n",
    "and\n",
    "$$\n",
    "\\begin{aligned}\n",
    "& v_0=\\mu^0 x_1+\\mu^0 x_3 \\\\\n",
    "& v_1=\\mu^0 x_1+\\mu^1 x_3,\n",
    "\\end{aligned}\n",
    "$$\n",
    "These are DFTs with $n=2$:\n",
    "$$\n",
    "\\begin{aligned}\n",
    "& u=\\widetilde{\\mathrm{DFT}}([x_0, x_2]^T, 2)\n",
    "& v=\\widetilde{\\mathrm{DFT}}([x_1, x_3]^T, 2).\n",
    "\\end{aligned}\n",
    "$$\n",
    "<!-- \n",
    "$$\n",
    "\\begin{aligned}\n",
    "& u_0=\\mu^0 x_0+\\mu^0 x_2 \\\\\n",
    "& u_1=\\mu^0 x_0+\\mu^1 x_2\n",
    "\\end{aligned}\n",
    "$$\n",
    "and\n",
    "$$\n",
    "\\begin{aligned}\n",
    "& v_0=\\mu^0 x_1+\\mu^0 x_3 \\\\\n",
    "& v_1=\\mu^0 x_1+\\mu^1 x_3,\n",
    "\\end{aligned}\n",
    "$$\n",
    "where $\\mu=\\omega^2$ is a 2nd root of unity. Both $u=\\left(u_0, u_1\\right)^T$ and $v=\\left(v_0, v_1\\right)^T$ are essentially DFTs with $n=2$; more precisely,\n",
    "$$\n",
    "\\begin{aligned}\n",
    "& u=M_2\\left[\\begin{array}{l}\n",
    "x_0 \\\\\n",
    "x_2\n",
    "\\end{array}\\right] \\\\\n",
    "& v=M_2\\left[\\begin{array}{l}\n",
    "x_1 \\\\\n",
    "x_3\n",
    "\\end{array}\\right] .\n",
    "\\end{aligned}\n",
    "$$ -->\n"
   ]
  },
  {
   "cell_type": "markdown",
   "metadata": {},
   "source": [
    "\n",
    "We can write the original $\\widetilde{\\mathrm{DFT}}([x_0, x_1, x_2, x_3]^T, 4)$ as\n",
    "$$\n",
    "\\begin{aligned}\n",
    "& z_0=u_0+\\omega^0 v_0 \\\\\n",
    "& z_1=u_1+\\omega^1 v_1 \\\\\n",
    "& z_2=u_0+\\omega^2 v_0 \\\\\n",
    "& z_3=u_1+\\omega^3 v_1 .\n",
    "\\end{aligned}\n",
    "$$\n"
   ]
  },
  {
   "cell_type": "markdown",
   "metadata": {},
   "source": [
    "4. Summarize and exploit\n",
    "\n",
    "- In summary, the calculation of the $\\widetilde{\\mathrm{DFT}}(4)$, suppressing the input vector, has been reduced to a pair of $\\widetilde{\\mathrm{DFT}}(2)$ s plus some extra multiplications and additions.\n",
    "- More generally and more precisely, $\\widetilde{\\mathrm{DFT}}(n)$ can be reduced to computing two $\\widetilde{\\mathrm{DFT}}(n/2)$ s plus $2 n-1$ extra operations ( $n-1$ multiplications and $n$ additions). \n",
    "- We can repeat this to $\\widetilde{\\mathrm{DFT}}(n/2)$ and on recursively."
   ]
  },
  {
   "cell_type": "markdown",
   "metadata": {},
   "source": [
    "**Theorem** (Operation Count for FFT; Sauer (2017) p. 497)\n",
    "\n",
    "Let $n$ be a power of 2. Then the Fast Fourier Transform of size $n$ can be completed in $n\\left(2 \\log _2 n-1\\right)+1$ additions and multiplications, plus a division by $\\sqrt{n}$."
   ]
  },
  {
   "cell_type": "markdown",
   "metadata": {},
   "source": [
    "Proof: See Sauer (2017) p. 497."
   ]
  },
  {
   "cell_type": "markdown",
   "metadata": {},
   "source": [
    "**Remark**\n",
    "\n",
    "- Complexity of FFT of $n$-dimension is usually denoted by $O(n\\log n)$ because $\\log_2 n = \\frac{1}{\\log 2} \\log n$: a constant multiple of each other."
   ]
  },
  {
   "cell_type": "markdown",
   "metadata": {},
   "source": [
    "##### Inverse Fast Fourer Transform (IFFT)\n",
    "\n",
    "- Thanks to very nice structure of the Fourier matrix, fast version of Inverse DFT is for free.\n",
    "  - Given a complex vector $y$, just conjugate, apply the FFT, and conjugate the result because:\n",
    "$$\n",
    "F_n^{-1} y=\\bar{F}_n y=\\overline{F_n \\bar{y}} .\n",
    "$$"
   ]
  },
  {
   "cell_type": "markdown",
   "metadata": {},
   "source": [
    "**Remark**\n",
    "\n",
    "- In NumPy, more optimized version of FFT and IFFT are available.\n",
    "  - `numpy.fft` is a collection of FFT tools.\n",
    "  - `numpy.fft.fft` and `numpy.fft.ifft` carry out 1D FFT and IFFT respectively.\n",
    "  - Also, multi-dimensional FFTs are availabe. But you need to know what it does. (Computational project)\n",
    "- Signal processing makes itself its own science, involving many other details. You will want to consult the documentation if you use FFT seriously. ([NumPy FFT](https://numpy.org/doc/stable/reference/routines.fft.html))\n",
    "\n",
    "| fft(a[, n, axis, norm]) | Compute the one-dimensional discrete Fourier Transform. |\n",
    "| :--- | :--- |\n",
    "| ifft(a[, n, axis, norm]) | Compute the one-dimensional inverse discrete Fourier Transform. |\n",
    "| fft2(a[, s, axes, norm]) | Compute the 2-dimensional discrete Fourier Transform. |\n",
    "| ifft2(a[, s, axes, norm]) | Compute the 2-dimensional inverse discrete Fourier Transform. |\n",
    "| fftn(a[, s, axes, norm]) | Compute the N-dimensional discrete Fourier Transform. |\n",
    "| ifftn(a[, s, axes, norm]) | Compute the N-dimensional inverse discrete Fourier Transform. |"
   ]
  },
  {
   "cell_type": "markdown",
   "metadata": {},
   "source": [
    "### Trigonometric Interpolation"
   ]
  },
  {
   "cell_type": "code",
   "execution_count": 4,
   "metadata": {},
   "outputs": [
    {
     "data": {
      "image/png": "[encoded data removed]",
      "text/plain": [
       "<Figure size 900x300 with 1 Axes>"
      ]
     },
     "metadata": {},
     "output_type": "display_data"
    }
   ],
   "source": [
    "\"\"\"Interpolation (only for a figure)\n",
    "\"\"\"\n",
    "import matplotlib.pyplot as plt\n",
    "import numpy as np\n",
    "\n",
    "x = np.arange(8)\n",
    "y = np.random.uniform(1, 5, size=8)\n",
    "\n",
    "plt.figure(figsize=(9, 3))  \n",
    "plt.scatter(x, y)\n",
    "plt.xlabel('t')\n",
    "plt.ylabel('x')\n",
    "plt.show()\n"
   ]
  },
  {
   "cell_type": "markdown",
   "metadata": {},
   "source": [
    "**Theorem** (DFT interpolation)\n",
    "\n",
    "Given an interval $[c, d]$ and positive integer $n$, let $t_j=$ $c+j(d-c) / n$ for $j=0, \\ldots, n-1$, and let $x=\\left(x_0, \\ldots, x_{n-1}\\right)$ denote a vector of $n$ numbers. Define $\\vec{a}+\\vec{b} i=F_n x$, where $F_n$ is the Discrete Fourier Transform matrix. Then the complex function\n",
    "$$\n",
    "Q(t)=\\frac{1}{\\sqrt{n}} \\sum_{k=0}^{n-1}\\left(a_k+i b_k\\right) e^{i 2 \\pi k(t-c) /(d-c)}\n",
    "$$\n",
    "satisfies $Q\\left(t_j\\right)=x_j$ for $j=0, \\ldots, n-1$. \n",
    "\n",
    "Furthermore, if the $x_j$ are real, the real function\n",
    "$$\n",
    "P(t)=\\frac{1}{\\sqrt{n}} \\sum_{k=0}^{n-1}\\left(a_k \\cos \\frac{2 \\pi k(t-c)}{d-c}-b_k \\sin \\frac{2 \\pi k(t-c)}{d-c}\\right)\n",
    "$$\n",
    "satisfies $P\\left(t_j\\right)=x_j$ for $j=0, \\ldots, n-1$."
   ]
  },
  {
   "cell_type": "markdown",
   "metadata": {},
   "source": [
    "Proof: This is direct consequence of DFT and IDFT. We will also prove a more general version later."
   ]
  },
  {
   "cell_type": "markdown",
   "metadata": {},
   "source": [
    "**Remark** \n",
    "\n",
    "- While setting $t_j=$ $c+j(d-c) / n$ for $j=0, \\ldots, n-1$ can make it easier when writing a code, setting $c=0$, $d=L$, $h=(d-c)/n$, and $t_j = jh$ makes discussion simpler. \n",
    "  - In the latter settings, the exponential and trigonometric functions read: \n",
    "\n",
    "$$\n",
    "e^{ \\frac{2k \\pi i}{L} t}, \\cos\\left(\\frac{2k \\pi i}{L} t\\right), \\sin\\left(\\frac{2k \\pi i}{L} t\\right)\n",
    "$$\n",
    "\n",
    "- The second part of the theorem from $P(t)=\\mathrm{Re}[Q(t)]$ and $Q(t_j)=P(t_j)$ for $j=0,1,\\cdots, n-1$ since $x_j\\in R$:\n",
    "$$\n",
    "\\begin{split}\n",
    "Q(t)&=\\frac{1}{\\sqrt{n}} \\sum_{k=0}^{n-1}\\left(a_k+i b_k\\right)\\left(\\cos \\frac{2 \\pi k(t-c)}{d-c}+i \\sin \\frac{2 \\pi k(t-c)}{d-c}\\right)   \n",
    "\\\\\n",
    "&=\\frac{1}{\\sqrt{n}} \\sum_{k=0}^{n-1}\\left(a_k \\cos \\frac{2 \\pi k(t-c)}{d-c}-b_k \\sin \\frac{2 \\pi k(t-c)}{d-c}\\right) \n",
    "\\\\\n",
    "&\\quad + i \\frac{1}{\\sqrt{n}} \\sum_{k=0}^{n-1}\\left(b_k \\cos \\frac{2 \\pi k(t-c)}{d-c} + a_k \\sin \\frac{2 \\pi k(t-c)}{d-c}\\right).\n",
    "\\end{split}\n",
    "$$"
   ]
  },
  {
   "cell_type": "markdown",
   "metadata": {},
   "source": [
    "Clicker question"
   ]
  },
  {
   "cell_type": "markdown",
   "metadata": {},
   "source": [
    "**Fact**\n",
    "\n",
    "For $t = j/n$ and  $j\\in Z$, we have \n",
    "\n",
    "$$\n",
    "\\cos 2(n-k) \\pi t=\\cos 2 k \\pi t \\quad \\text { and }\\quad \\sin 2(n-k) \\pi t=-\\sin 2 k \\pi t \\text {. }\n",
    "$$"
   ]
  },
  {
   "cell_type": "markdown",
   "metadata": {},
   "source": [
    "**Improvement** (Sauer (2017) p. 500)\n",
    "\n",
    "- When $x_j$'s are real, only the first half of the terms are needed. \n",
    "  - By the lemma on the DFT of real data, the coefficients from the latter half of the expansion are the same as those from the first half (except for a change of sign for the sine terms). \n",
    "  - Thus, we can obtain the same result by doubling the cosine and sine terms of indices $k=1,2,\\cdots,n/2-1$.\n",
    "    - Cosine: We double them with no complication.\n",
    "    - Sine: The sign flip in the above fact cancels out another sign flip from the conjugate for real data: $y_{n-k}=\\bar{y}_k$, or $b_{n-k} = - b_{k}$ for $k=1,2,\\cdots, n/2-1$, which results in doubling the sine terms too."
   ]
  },
  {
   "cell_type": "markdown",
   "metadata": {},
   "source": [
    "**Theorem** (DFT interpolation for real data)\n",
    "\n",
    "For an even integer $n$, let $t_j=c+j(d-c) / n$ for $j=0, \\ldots, n-1$, and let $x=$ $\\left(x_0, \\ldots, x_{n-1}\\right)$ denote a vector of $n$ real numbers. Define $\\vec{a}+\\vec{b} i=F_n x$, where $F_n$ is the Discrete Fourier Transform. Then the function\n",
    "$$\n",
    "\\begin{aligned}\n",
    "P_n(t)= & \\frac{a_0}{\\sqrt{n}}+\\frac{2}{\\sqrt{n}} \\sum_{k=1}^{n / 2-1}\\left(a_k \\cos \\frac{2 k \\pi(t-c)}{d-c}-b_k \\sin \\frac{2 k \\pi(t-c)}{d-c}\\right) \\\\\n",
    "& +\\frac{a_{n / 2}}{\\sqrt{n}} \\cos \\frac{n \\pi(t-c)}{d-c}\n",
    "\\end{aligned}\n",
    "$$\n",
    "satisfies $P_n\\left(t_j\\right)=x_j$ for $j=0, \\ldots, n-1$."
   ]
  },
  {
   "cell_type": "markdown",
   "metadata": {},
   "source": [
    "**Example** (Trigonometirc interpolation; Sauer (2017) p. 501)\n",
    "\n",
    "Find the trigonometric interpolant for the data $x = [−2.2,−2.8,−6.1,−3.9,0.0,1.1,−0.6,−1.1]$ on the interval $[0,1]$ at evenly spaced nodes $t_j = hj$ ($j=0,1,\\cdots,7$), $h=1/8$."
   ]
  },
  {
   "cell_type": "markdown",
   "metadata": {},
   "source": [
    "The Fourier transform output, accurate to four decimal places, is\n",
    "\n",
    "$$\n",
    "y=\\left[\\begin{array}{ll}\n",
    "-5.5154 & \\\\ \n",
    "-1.0528  & + 3.6195 i \\\\ \n",
    "1.5910  & - 1.1667 i \\\\ \n",
    "-0.5028  & - 0.2695 i \\\\ \n",
    "-0.7778 & \\\\ \n",
    "-0.5028  & + 0.2695 i \\\\ \n",
    "1.5910  & + 1.1667 i \\\\ \n",
    "-1.0528  & - 3.6195 i \n",
    "\\end{array}\\right]\n",
    "$$\n",
    "\n",
    "Therefore, the interpolating function is\n",
    "$$\n",
    "\\begin{aligned}\n",
    "P_8(t)= & \\frac{-5.5154}{\\sqrt{8}}-\\frac{1.0528}{\\sqrt{2}} \\cos 2 \\pi t-\\frac{3.6195}{\\sqrt{2}} \\sin 2 \\pi t \\\\\n",
    "& +\\frac{1.5910}{\\sqrt{2}} \\cos 4 \\pi t+\\frac{1.1667}{\\sqrt{2}} \\sin 4 \\pi t \\\\\n",
    "& -\\frac{0.5028}{\\sqrt{2}} \\cos 6 \\pi t+\\frac{0.2695}{\\sqrt{2}} \\sin 6 \\pi t \\\\\n",
    "& -\\frac{0.7778}{\\sqrt{8}} \\cos 8 \\pi t\n",
    "\\end{aligned}\n",
    "$$"
   ]
  },
  {
   "cell_type": "markdown",
   "metadata": {},
   "source": [
    "![Trigonometric interpolation](../images/fig_TrigInterpolation.png)"
   ]
  },
  {
   "cell_type": "markdown",
   "metadata": {},
   "source": [
    "HW problem: Produce this plot with what we have learned.\n",
    "- Construct Fourier matrix.\n",
    "- Carry out DFT.\n",
    "- Extract $a_k$ and $b_k$'s.\n",
    "- Construct cosine and sine functions evaluated at finer grid points, say 100.\n",
    "- Take approprate sum.\n",
    "- Plot data points and interpolation.\n",
    "- Do not use `fft` package.\n",
    "- You will want `np.real` and `np.imag` for real and imaginary parts."
   ]
  }
 ],
 "metadata": {
  "kernelspec": {
   "display_name": "ptrch",
   "language": "python",
   "name": "ptrch"
  },
  "language_info": {
   "codemirror_mode": {
    "name": "ipython",
    "version": 3
   },
   "file_extension": ".py",
   "mimetype": "text/x-python",
   "name": "python",
   "nbconvert_exporter": "python",
   "pygments_lexer": "ipython3",
   "version": "3.9.1"
  }
 },
 "nbformat": 4,
 "nbformat_minor": 2
}
