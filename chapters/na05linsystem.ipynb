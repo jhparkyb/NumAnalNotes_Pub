{
 "cells": [
  {
   "cell_type": "code",
   "execution_count": null,
   "metadata": {},
   "outputs": [],
   "source": []
  },
  {
   "cell_type": "markdown",
   "metadata": {},
   "source": [
    "#### Notation/Settings/Acronyms\n",
    "\n",
    "Common settings\n",
    "\n",
    "| symbol | setting |\n",
    "|---|---|\n",
    "| $n$ | a positive integer |\n",
    "| $A$ | nonsingular $n$-by-$n$ matrix |\n",
    "| $b$ | (column) vector of length $n$ |\n",
    "| $x$ | (column) vector of length $n$ |\n",
    "\n",
    "Acronyms\n",
    "\n",
    "|Abbreviation| meaning|\n",
    "|---|---|\n",
    "| SPD | Symmetric positive definite |\n",
    "\n",
    "\n"
   ]
  },
  {
   "cell_type": "markdown",
   "metadata": {},
   "source": [
    "**Problem of interest**\n",
    "\n",
    "Given $A$ and $b$, find $x$ such that\n",
    "\n",
    "$$ Ax = b. $$\n",
    "\n",
    "\n"
   ]
  },
  {
   "cell_type": "markdown",
   "metadata": {},
   "source": [
    "#### Methods\n",
    "\n",
    "- Methods for general matrices\n",
    "   1. Direct methods\n",
    "      - plain Gaussian elimination\n",
    "      - Gaussian elimination using $PA = LU$ decomposition.\n",
    "        - Preliminary: $A=LU$ decomposition\n",
    "   2. Iterative methods\n",
    "      - Jacobi iteration\n",
    "      - Gauss-Seidel iteration\n",
    "- Methods for SPD matrices\n",
    "   1. Direct methods\n",
    "      - Cholesky factorization\n",
    "   2. Iterative methods\n",
    "      - Conjugate gradient method\n",
    "- Framework for improvements\n",
    "   1. Preconditioning\n"
   ]
  },
  {
   "cell_type": "markdown",
   "metadata": {},
   "source": [
    "#### Gaussian elimination\n"
   ]
  },
  {
   "cell_type": "markdown",
   "metadata": {},
   "source": [
    "##### Augmented matrix\n",
    "\n",
    "Compact rearrangement of a system of linear equations in matrix form\n",
    "\n",
    "$$\n",
    "\\begin{aligned}\n",
    "x+2 y-z & =3 \\\\\n",
    "2 x+y-2 z & =3 \\\\\n",
    "-3 x+y+z & =-6 \n",
    "\\end{aligned}\n",
    "\\leftrightarrow\n",
    "\\left[\\begin{array}{rrr:r}\n",
    "1 & 2 & -1 & 3 \\\\\n",
    "2 & 1 & -2 & 3 \\\\\n",
    "-3 & 1 & 1 & -6\n",
    "\\end{array}\\right]\n",
    "$$\n",
    "\n",
    "##### Elementary row operations\n",
    "\n",
    "1. Swap one equation (or a row) for another (row): $R_i \\leftrightarrow R_j$.\n",
    "2. Add or subtract a multiple of one equation (or a row) from another (row): $R_i \\gets R_i + c R_j$.\n",
    "3. Multiply an equation (or a row) by a nonzero constant: $R_i \\gets c R_i$.\n"
   ]
  },
  {
   "cell_type": "markdown",
   "metadata": {},
   "source": [
    "**Example**\n",
    "\n",
    "Solve the following system of linear equations using the augmented matrix and elementary row operations: \n",
    "\n",
    "$$\n",
    "\\begin{aligned}\n",
    "x+2 y-z & =3 \\\\\n",
    "2 x+y-2 z & =3 \\\\\n",
    "-3 x+y+z & =-6 .\n",
    "\\end{aligned}\n",
    "$$"
   ]
  },
  {
   "cell_type": "markdown",
   "metadata": {},
   "source": [
    "**Remark** (back substitution)\n",
    "\n",
    "- While there can be many creative ways to find the solution, we will following one single way: we are *developing a systematic method*.\n",
    "- Let us call, in this class, the first step *elimination*.\n",
    "- The second step (finding unknowns one by one) is called *back substitution* or *back solving*."
   ]
  },
  {
   "cell_type": "markdown",
   "metadata": {},
   "source": [
    "##### Complexity of Gaussian elimination"
   ]
  },
  {
   "cell_type": "markdown",
   "metadata": {},
   "source": [
    "| Step | Complexity (precise) | Complexity (order) | \n",
    "|------|------------|-----|\n",
    "| eliminations | $$ \\frac 2 3 n^3 + \\frac 1 2 n^2 - \\frac 7 6 n $$ | $$=\\mathcal{O}(n^3) $$ | \n",
    "| back substitutions | $$ n^2 $$ |  $$= \\mathcal{O}(n^2) $$ |\n",
    "\n",
    "[Derivation of complexity of eliminations 1](../images/der_ComplexityGaussianEliminations1_lp2000.png)\n",
    "\n",
    "[Derivation of complexity of eliminations 2](../images/der_ComplexityGaussianEliminations2_lp2000.png)\n",
    "\n",
    "[Derivation of complexity of back substitions](../images/der_ComplexityBackSubstitutions_lp2000.png)"
   ]
  },
  {
   "cell_type": "markdown",
   "metadata": {},
   "source": [
    "___"
   ]
  },
  {
   "cell_type": "markdown",
   "metadata": {},
   "source": [
    "**Lemma** (Inverse of row elimination)\n",
    "\n",
    "Let $A$ be an $n$-by-$n$ matrix whose diagonal elements are all 1, and only one column has nonzero elements below diagonal. Then, $A^{-1}$ is of the same form as $A$ except the signs of elements below diagonal being flipped."
   ]
  },
  {
   "cell_type": "code",
   "execution_count": 17,
   "metadata": {},
   "outputs": [
    {
     "name": "stdout",
     "output_type": "stream",
     "text": [
      "A: \n",
      " [[ 1.  0.  0.]\n",
      " [ 2.  1.  0.]\n",
      " [-5.  0.  1.]]\n",
      "\n",
      "B: \n",
      " [[ 1.  0.  0.]\n",
      " [-2.  1.  0.]\n",
      " [ 5. -0.  1.]]\n",
      "\n",
      "A*B: \n",
      " [[1. 0. 0.]\n",
      " [0. 1. 0.]\n",
      " [0. 0. 1.]]\n",
      "\n",
      "A^-1:\n",
      " [[ 1. -0. -0.]\n",
      " [-2.  1.  0.]\n",
      " [ 5.  0.  1.]]\n"
     ]
    }
   ],
   "source": [
    "\"\"\"This script verifies the inversion of a triangular matrix.\n",
    "\n",
    "1. If only one column has nonzero element below the diagonal,\n",
    "    then the matrix inversion is mechanical.\n",
    "2. If more columns has nonzero elements below the diagonal,\n",
    "    then inversion is not that simple. \n",
    "\"\"\"\n",
    "\n",
    "import numpy as np\n",
    "\n",
    "A = np.eye(3)\n",
    "A[1, 0] = 2\n",
    "A[2, 0] = -5\n",
    "# A[2, 1] = 3 # uncomment this line to see case 2\n",
    "\n",
    "B = A.copy()\n",
    "low_diag_ind = np.tril_indices_from(B, -1)\n",
    "B[low_diag_ind] = - A[low_diag_ind]\n",
    "\n",
    "print(\"A: \\n\", A)\n",
    "print(\"\\nB: \\n\", B)\n",
    "print(\"\\nA*B: \\n\", A@B)\n",
    "print(\"\\nA^-1:\\n\", np.linalg.inv(A))\n"
   ]
  },
  {
   "cell_type": "code",
   "execution_count": null,
   "metadata": {},
   "outputs": [],
   "source": []
  },
  {
   "cell_type": "markdown",
   "metadata": {},
   "source": [
    "___"
   ]
  },
  {
   "cell_type": "markdown",
   "metadata": {},
   "source": [
    "##### Application of LU decomposition\n",
    "\n",
    "- Solving systems of linear equations\n",
    "- Determinant\n",
    "- Inverting matrices\n",
    "\n",
    "Reference: [Wikipedia](https://en.wikipedia.org/wiki/LU_decomposition#Applications)"
   ]
  }
 ],
 "metadata": {
  "kernelspec": {
   "display_name": "ptrch",
   "language": "python",
   "name": "ptrch"
  },
  "language_info": {
   "codemirror_mode": {
    "name": "ipython",
    "version": 3
   },
   "file_extension": ".py",
   "mimetype": "text/x-python",
   "name": "python",
   "nbconvert_exporter": "python",
   "pygments_lexer": "ipython3",
   "version": "3.9.1"
  }
 },
 "nbformat": 4,
 "nbformat_minor": 2
}
