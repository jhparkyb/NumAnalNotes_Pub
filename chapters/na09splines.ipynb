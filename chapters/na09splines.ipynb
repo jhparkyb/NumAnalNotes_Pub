{
 "cells": [
  {
   "cell_type": "markdown",
   "metadata": {},
   "source": [
    "## Cubic Splines and Bezier curves\n"
   ]
  },
  {
   "cell_type": "markdown",
   "metadata": {},
   "source": [
    "### Cubic splines"
   ]
  },
  {
   "cell_type": "markdown",
   "metadata": {},
   "source": [
    "Take-aways\n",
    "\n",
    "- Cubic spline\n",
    "  - What are splines?\n",
    "  - How to find cubic splines\n",
    "  - Advantage of cubic splines"
   ]
  },
  {
   "cell_type": "markdown",
   "metadata": {},
   "source": [
    "#### What are splines?"
   ]
  },
  {
   "cell_type": "markdown",
   "metadata": {},
   "source": [
    "**Summary**\n",
    "\n",
    "- A spline is a collection of low-order polynomials glued together.\n",
    "  - Each piece is defined as a piece-wise polynomial over an interval.\n",
    "  - Every piece is $a+bx$ form --> linear spline\n",
    "  - Every piece is $a+bx+cx^2+bx^3$ form --> cubic spline"
   ]
  },
  {
   "cell_type": "markdown",
   "metadata": {},
   "source": [
    "![Linear spline](https://media.geeksforgeeks.org/wp-content/uploads/20210622130721/linearinterpolation-660x426.JPG)\n",
    "\n",
    "Figure: Geeksforgeeks (linear spline)\n",
    "\n",
    "![Cubic spline](https://pythonnumericalmethods.studentorg.berkeley.edu/_images/17.03.01-Illustration_of_cubic_interpolation.jpg)\n",
    "\n",
    "Figure: Python Programming And Numerical Methods (Cubic spline)"
   ]
  },
  {
   "cell_type": "markdown",
   "metadata": {},
   "source": [
    "#### Why do we care?"
   ]
  },
  {
   "cell_type": "markdown",
   "metadata": {},
   "source": [
    "**Motivation**\n",
    "\n",
    "- Recall Runge's phenomenon. ![Runge's phenomenon](https://www.johndcook.com/runge_cauchy.svg) \n",
    "  - One way to alleviate this problem is to Chebyshev nodes: using denser nodes towards the end points. \n",
    "- **New idea**: use several formulas rather than a single one."
   ]
  },
  {
   "cell_type": "markdown",
   "metadata": {},
   "source": [
    "**Clicker Question 1**"
   ]
  },
  {
   "cell_type": "markdown",
   "metadata": {},
   "source": [
    "#### How to find a cubic spline?"
   ]
  },
  {
   "cell_type": "markdown",
   "metadata": {},
   "source": [
    "**Remark**\n",
    "\n",
    "- We focus on cubic spline\n",
    "  - This is just because we are already familiar with linear splines. (Just connect the dots, i.e., piece-wise linear functions). They are very important objects too."
   ]
  },
  {
   "cell_type": "markdown",
   "metadata": {},
   "source": [
    "##### Characterization"
   ]
  },
  {
   "cell_type": "markdown",
   "metadata": {},
   "source": [
    "Give a set of data points $D=\\{(x_1, y_1), \\cdots, (x_n, y_n)\\}$ with $x_i$'s are all distinct, let $S:I\\to \\mathbb{R}$ be a cubic spline, where $I=[x_1, x_n]$. We want the following.\n",
    "\n",
    "1. $S$ passes through all the data points.\n",
    "2. $S$ is continuous.\n",
    "3. $S$ is smooth over the whole interval. ($C^1$ function)\n",
    "4. (Not obvious) $S$ is curvature-smooth. ($C^2$ function)\n",
    "\n",
    "'Curvature-smooth' is not an official terminology, but I improvise it to share the idea."
   ]
  },
  {
   "cell_type": "markdown",
   "metadata": {},
   "source": [
    "In mathematical expressions, this characterization translates as follows.\n",
    "\n",
    "- Form\n",
    "  - $S$ has the form\n",
    "\n",
    "$$\n",
    "\\begin{aligned}\n",
    "& S_1(x)  =y_1+b_1\\left(x-x_1\\right)+c_1\\left(x-x_1\\right)^2+d_1\\left(x-x_1\\right)^3 &\\text { on }\\left[x_1, x_2\\right] \\\\\n",
    "& S_2(x)  =y_2+b_2\\left(x-x_2\\right)+c_2\\left(x-x_2\\right)^2+d_2\\left(x-x_2\\right)^3 &\\text { on }\\left[x_2, x_3\\right] \\\\\n",
    "& \\vdots \\\\\n",
    "& S_{n-1}(x)  =y_{n-1}+b_{n-1}\\left(x-x_{n-1}\\right)+c_{n-1}\\left(x-x_{n-1}\\right)^2+d_{n-1}\\left(x-x_{n-1}\\right)^3 & \\text { on }\\left[x_{n-1}, x_n\\right]\n",
    "\\end{aligned}\n",
    "$$\n",
    "\n",
    "- Property\n",
    "  1. $S_i\\left(x_i\\right)=y_i$ and $S_i\\left(x_{i+1}\\right)=y_{i+1}$ for $i=1, \\ldots, n-1$.\n",
    "  2. $S_{i-1}^{\\prime}\\left(x_i\\right)=S_i^{\\prime}\\left(x_i\\right)$ for $i=2, \\ldots, n-1$.\n",
    "  3. $S_{i-1}^{\\prime \\prime}\\left(x_i\\right)=S_i^{\\prime \\prime}\\left(x_i\\right)$ for $i=2, \\ldots, n-1$"
   ]
  },
  {
   "cell_type": "markdown",
   "metadata": {},
   "source": [
    "##### Degrees of freedom (d.o.f.)"
   ]
  },
  {
   "cell_type": "markdown",
   "metadata": {},
   "source": [
    "- Degrees of freedom\n",
    "\n",
    "| Free variable | d.o.f. | \n",
    "|---|---|\n",
    "| $a_i=y_i$ | 0 |\n",
    "| $b_i$ | $n-1$ |\n",
    "| $c_i$ | $n-1$ |\n",
    "| $d_i$ | $n-1$ |\n",
    "| sum | $3n-3$ |\n",
    "\n",
    "- Equalities\n",
    "\n",
    "| Requirement | No. equations | \n",
    "|---|---|\n",
    "| Property 1* | $n-1$ |\n",
    "| Property 2 | $n-2$ |\n",
    "| Property 3 | $n-2$ |\n",
    "| sum | $3n-5$ |\n",
    "\n",
    "*: 1st equality of Propert 1 is already met by settings $a_i=y_i$. Thus, only the 2nd equality contributes to the requirements.\n",
    "\n",
    "- There are infinitely many cubic splines that satisfy the characterization.\n",
    "  - To pin down a unique spline, we add two more equality conditions. There are many different kinds of cubic splines depending on the conditions additionally imposed."
   ]
  },
  {
   "cell_type": "markdown",
   "metadata": {},
   "source": [
    "#### Natural spline"
   ]
  },
  {
   "cell_type": "markdown",
   "metadata": {},
   "source": [
    "A cubic spline that satisfies the following additional property is called the *natural* cubic spline.\n",
    "\n",
    "- Property 4a\n",
    "  - $S_1^{\\prime \\prime}\\left(x_1\\right)=0$ and $S_{n-1}^{\\prime \\prime}\\left(x_n\\right)=0$. "
   ]
  },
  {
   "cell_type": "markdown",
   "metadata": {},
   "source": [
    "#### How to find cubic splines"
   ]
  },
  {
   "cell_type": "markdown",
   "metadata": {},
   "source": [
    "- Here, we find the natural spline. Other splines differ only by the two additional equalities."
   ]
  },
  {
   "cell_type": "markdown",
   "metadata": {},
   "source": [
    "Step 1: translate the charaterization.\n",
    "\n",
    "- 2nd equality of Property 1 ($n-1$ equations)\n",
    "\n",
    "$$\n",
    "\\begin{gathered}\n",
    "y_2=S_1\\left(x_2\\right)=y_1+b_1\\left(x_2-x_1\\right)+c_1\\left(x_2-x_1\\right)^2+d_1\\left(x_2-x_1\\right)^3 \\\\\n",
    "\\quad \\vdots \\\\\n",
    "y_n=S_{n-1}\\left(x_n\\right)=y_{n-1}+b_{n-1}\\left(x_n-x_{n-1}\\right)+c_{n-1}\\left(x_n-x_{n-1}\\right)^2 \\\\\n",
    "\\quad+d_{n-1}\\left(x_n-x_{n-1}\\right)^3 .\n",
    "\\end{gathered}\n",
    "$$\n",
    "\n",
    "- Property 2 ($n-2$ equations)\n",
    "\n",
    "$$\n",
    "\\begin{aligned}\n",
    "0= & S_1^{\\prime}\\left(x_2\\right)-S_2^{\\prime}\\left(x_2\\right)=b_1+2 c_1\\left(x_2-x_1\\right)+3 d_1\\left(x_2-x_1\\right)^2-b_2 \\\\\n",
    "& \\vdots \\\\\n",
    "0= & S_{n-2}^{\\prime}\\left(x_{n-1}\\right)-S_{n-1}^{\\prime}\\left(x_{n-1}\\right)=b_{n-2}+2 c_{n-2}\\left(x_{n-1}-x_{n-2}\\right) \\\\\n",
    "& +3 d_{n-2}\\left(x_{n-1}-x_{n-2}\\right)^2-b_{n-1},\n",
    "\\end{aligned}\n",
    "$$\n",
    "\n",
    "- Property 3 ($n-2$ equations)\n",
    "\n",
    "$$\n",
    "\\begin{aligned}\n",
    "0 & =S_1^{\\prime \\prime}\\left(x_2\\right)-S_2^{\\prime \\prime}\\left(x_2\\right)=2 c_1+6 d_1\\left(x_2-x_1\\right)-2 c_2 \\\\\n",
    "& \\vdots \\\\\n",
    "0 & =S_{n-2}^{\\prime \\prime}\\left(x_{n-1}\\right)-S_{n-1}^{\\prime \\prime}\\left(x_{n-1}\\right)=2 c_{n-2}+6 d_{n-2}\\left(x_{n-1}-x_{n-2}\\right)-2 c_{n-1} .\n",
    "\\end{aligned}\n",
    "$$"
   ]
  },
  {
   "cell_type": "markdown",
   "metadata": {},
   "source": [
    "Step 2: Introduce convenient notations\n",
    "\n",
    "- $\\delta_i=x_{i+1}-x_i$ \n",
    "- $\\Delta_i=y_{i+1}-y_i$\n",
    "- $c_n=S_{n-1}^{\\prime \\prime}\\left(x_n\\right) / 2$\n",
    "  - This is artificial: there is no $S_{n}(x)$, hence no $c_n$.\n",
    "  - $c_n$ is assigned so that $d_i=(c_{i+1}-c_i)/(3 \\delta_i)$ is still true for $i=n-1$ (see below). \n",
    "- Note that $a_i = y_i = S_{i}(x_{i})$, $b_i = S'_{i}(x_i)$, $c_i = S''_{i}(x_i)/2!$ and $d_i = S'''_{i}(x_i)/3!$. "
   ]
  },
  {
   "cell_type": "markdown",
   "metadata": {},
   "source": [
    "Step 3: System of equations in $c$'s (eliminate $d$'s, $b$'s)\n",
    "\n",
    "- Solve for $d$'s\n",
    "  - The equations from Property 3 involve only $c$'s and $d$'s. \n",
    "  - $i=n-1$ case is true because of $c_n=S_{n-1}^{\\prime \\prime}\\left(x_n\\right) / 2$.\n",
    "\n",
    "$$\n",
    "d_i=\\frac{c_{i+1}-c_i}{3 \\delta_i} \\quad \\text { for } i=1, \\ldots, n-1 .\n",
    "$$\n",
    "\n",
    "- Solve for $b$'s\n",
    "  - Solve equations from Property 1 for $b$', and plug $d$'s in. \n",
    "\n",
    "$$\n",
    "\\begin{aligned}\n",
    "b_i & =\\frac{\\Delta_i}{\\delta_i}-c_i \\delta_i-d_i \\delta_i^2 \\\\\n",
    "& =\\frac{\\Delta_i}{\\delta_i}-c_i \\delta_i-\\frac{\\delta_i}{3}\\left(c_{i+1}-c_i\\right) \\\\\n",
    "& =\\frac{\\Delta_i}{\\delta_i}-\\frac{\\delta_i}{3}\\left(2 c_i+c_{i+1}\\right) \\quad \\text { for } i=1, \\ldots, n-1 .\n",
    "\\end{aligned}\n",
    "$$\n",
    "<!-- for $i=1, \\ldots, n-1$. -->\n",
    "\n",
    "- Substitute $b$'s and $d$'s into the equations from Property 2, which results $n-2$ equations in $c_1, \\ldots, c_n$ :\n",
    "\n",
    "$$\n",
    "\\begin{aligned}\n",
    "\\delta_1 c_1+2\\left(\\delta_1+\\delta_2\\right) c_2+\\delta_2 c_3 &= 3\\left(\\frac{\\Delta_2}{\\delta_2}-\\frac{\\Delta_1}{\\delta_1}\\right) \\\\\n",
    "&\\vdots \\\\\n",
    "\\delta_{n-2} c_{n-2}+2\\left(\\delta_{n-2}+\\delta_{n-1}\\right) c_{n-1}+\\delta_{n-1} c_n &= 3\\left(\\frac{\\Delta_{n-1}}{\\delta_{n-1}}-\\frac{\\Delta_{n-2}}{\\delta_{n-2}}\\right) .\n",
    "\\end{aligned}\n",
    "$$\n",
    "\n",
    "Two more equations are given by the natural spline conditions (Property 4a):\n",
    "$$\n",
    "\\begin{aligned}\n",
    "S_1^{\\prime \\prime}\\left(x_1\\right) & =0 \\rightarrow 2 c_1=0 \\\\\n",
    "S_{n-1}^{\\prime \\prime}\\left(x_n\\right) & =0 \\rightarrow 2 c_n=0 .\n",
    "\\end{aligned}\n",
    "$$"
   ]
  },
  {
   "cell_type": "markdown",
   "metadata": {},
   "source": [
    "Step 4: Matrix form\n",
    "\n",
    "$$\n",
    "\\begin{aligned}\n",
    "&\\left[\\begin{array}{cccccc}1 & 0 & 0 & & & \\\\ \\delta_1 & 2 \\delta_1+2 \\delta_2 & \\delta_2 & \\ddots & & \\\\ 0 & \\delta_2 & 2 \\delta_2+2 \\delta_3 & \\delta_3 & & \\\\ & \\ddots & \\ddots & \\ddots & \\ddots & \\\\ & & & & & \\\\ & & & \\delta_{n-2} & 2 \\delta_{n-2}+2 \\delta_{n-1} & \\delta_{n-1} \\\\ & & & 0 & 0 & 1\\end{array}\\right]\\left[\\begin{array}{c}c_1 \\\\ \\\\ \\\\ \\vdots \\\\ c_n\\end{array}\\right]\n",
    "\\\\\n",
    "&=\\left[\\begin{array}{c}\n",
    "0 \\\\\n",
    "3\\left(\\frac{\\Delta_2}{\\delta_2}-\\frac{\\Delta_1}{\\delta_1}\\right) \\\\\n",
    "\\vdots \\\\\n",
    "3\\left(\\frac{\\Delta_{n-1}}{\\delta_{n-1}}-\\frac{\\Delta_{n-2}}{\\delta_{n-2}}\\right) \\\\\n",
    "0\n",
    "\\end{array}\\right] . \\\\\n",
    "&\n",
    "\\end{aligned}\n",
    "$$\n"
   ]
  },
  {
   "cell_type": "markdown",
   "metadata": {},
   "source": [
    "Step 5: Compute solutions\n",
    "\n",
    "After $c_1, \\ldots, c_n$ are obtained from the matrix form, $b_1, \\ldots, b_{n-1}$ and $d_1, \\ldots, d_{n-1}$ are found from the formulas in Step 3."
   ]
  },
  {
   "cell_type": "markdown",
   "metadata": {},
   "source": [
    "**Algorithm** (Natural cubic spline)\n",
    "\n",
    "- Given \n",
    "  - $x=\\left[x_1, \\ldots, x_n\\right]$ where $x_1 < \\cdots < x_n$\n",
    "  - $y=\\left[y_1, \\ldots, y_n\\right]$ \n",
    "- **for** $ i=1, \\ldots, n-1$\n",
    "  - $a_i=y_i$\n",
    "  - $\\delta_i=x_{i+1}-x_i$\n",
    "  - $\\Delta_i=y_{i+1}-y_i$\n",
    "- Solve the above matrix equation for $c_1, \\ldots, c_n$\n",
    "- **for** $i=1, \\ldots, n-1$\n",
    "  - $d_i=\\frac{c_{i+1}-c_i}{3 \\delta_i}$\n",
    "  - $b_i=\\frac{\\Delta_i}{\\delta_i}-\\frac{\\delta_i}{3}\\left(2 c_i+c_{i+1}\\right)$\n",
    "- Result\n",
    "\n",
    "$$\n",
    "S_i(x)=a_i+b_i\\left(x-x_i\\right)+c_i\\left(x-x_i\\right)^2+d_i\\left(x-x_i\\right)^3 \\text { on }\\left[x_i, x_{i+1}\\right] \\text { for } i=1, \\ldots, n-1 .\n",
    "$$"
   ]
  },
  {
   "cell_type": "markdown",
   "metadata": {},
   "source": [
    "**Remark** (Solvability of natural cubic splines)\n",
    "\n",
    "- Natrual cubic spline always has a unique solution.\n",
    "  - The coefficient matrix for $c$'s is strictly diagonally dominant (SDD), hence invertible. (Sauer (2017) p. 117 Theorem 2.11)"
   ]
  },
  {
   "cell_type": "markdown",
   "metadata": {},
   "source": [
    "**Clicker Question 2**"
   ]
  },
  {
   "cell_type": "markdown",
   "metadata": {},
   "source": [
    "#### Computation"
   ]
  },
  {
   "cell_type": "markdown",
   "metadata": {},
   "source": [
    "- Skip: Computation of cubic spline will be a topic of Group project.\n",
    "- For an example involving several data points, see Sauer (2017) pp. 179-180."
   ]
  },
  {
   "cell_type": "markdown",
   "metadata": {},
   "source": [
    "#### Other cubic splines"
   ]
  },
  {
   "cell_type": "markdown",
   "metadata": {},
   "source": [
    "- Curvature-adjusted cubic spline (Property 4b)\n",
    "  - The user set whatever curvature they want at the end points.\n",
    "  - This introduces, in place of natural spline conditions, the conditions $2c_1=v_1$ and $2c_n=v_n$, where $v_1$ and $v_n$ are chosen curvature (2nd derivative at the end points).\n",
    "  - This preserves SDD property of the matrix, hence the solvability.\n",
    "- Clamped cubic spline (Property 4c)\n",
    "  - The user set whatever tangent slope they want at the end points.\n",
    "  - This introduce, in place of natural spline conditions, $S_1^{\\prime}\\left(x_1\\right)=v_1$ and $S_{n-1}^{\\prime}\\left(x_n\\right)=v_n$. \n",
    "    - Tow more equations are imposed in Property 2 for $S_1^{\\prime}\\left(x_1\\right)=v_1$ at $x_1$ and $S_{n-1}^{\\prime}\\left(x_n\\right)=v_n$ at $x_n$.\n",
    "  - This preserves SDD property of the matrix, hence the solvability.\n",
    "  - The first and last row of the augmented matrix for $c$'s are\n",
    "\n",
    "$$\n",
    "\\begin{aligned}\n",
    "2 \\delta_1 c_1+\\delta_1 c_2 &= 3\\left(\\frac{\\Delta_1}{\\delta_1}-v_1\\right)\\\\\n",
    "\\delta_{n-1} c_{n-1}+2 \\delta_{n-1} c_n &= 3\\left(v_n-\\frac{\\Delta_{n-1}}{\\delta_{n-1}}\\right) .\n",
    "\\end{aligned}\n",
    "$$\n",
    "\n",
    "$$\n",
    "\\left[\\begin{array}{ccccccccc:c}\n",
    "2 \\delta_1 & \\delta_1 & 0 & 0 & \\cdots & \\cdots & 0 & 0 & 0 & 3\\left(\\Delta_1 / \\delta_1-v_1\\right) \\\\\n",
    "0 & 0 & 0 & 0 & \\cdots & \\cdots & 0 & \\delta_{n-1} & 2 \\delta_{n-1} & 3\\left(v_n-\\Delta_{n-1} / \\delta_{n-1}\\right)\n",
    "\\end{array}\\right] .\n",
    "$$\n",
    "\n",
    "- Parabolically terminated cubic spline (Property 4d)\n",
    "  - Set $S_1$ and $S_{n-1}$ to be quadratic polynomials, not cubic.\n",
    "  - This introduces, in place of natural spline conditions, $d_1 = d_{n-1} = 0$, equivalently $c_1 = c_2$ and $c_{n-1}= c_{n}$ thanks to formula for $d$'s in Step 3 of Natural cubic splines.\n",
    "  - In this case, the matrix equation involves only $c_2,\\cdots,c_{n-1}$, leading to a smaller SDD matrix, $(n-2)$-by-$(n-2)$, hence solvable.\n",
    "- Not-a-knot cubic spline (Property 4e)\n",
    "  - Require $d_1=d_2$ and $d_{n-2}=d_{n-1}$.\n",
    "  - This result that $S_1 = S_2$ and $S_{n-2}=S_{n-1}$.\n",
    "    - $S_1^{(j)}(x_2)=S_2^{(j)}(x_2)$ ($j=0,1,2$) are already true by Property 1-3. On top of that, we now have $d_1=d_2$, which is equivalent to $S_1^{(3)}(x_2)=S_2^{(3)}(x_2)$.\n",
    "    - In other words, there is no change of polynomials crossing $x_2$, hence the name.\n",
    "    - The same is true to $x_{n-1}$.\n",
    "  - The first and last row of the augmented matrix for $c$'s are, from $d_1=d_2$, $\\left(c_2-c_1\\right) / \\delta_1=\\left(c_3-c_2\\right) / \\delta_2$, and, from $d_{n-2}=d_{n-1}$, $\\left(c_{n-1}-c_{n-2}\\right) / \\delta_{n-2}=\\left(c_n-c_{n-1}\\right) / \\delta_{n-1}$ implies that\n",
    "\n",
    "$$\n",
    "\\begin{aligned}\n",
    "\\delta_2 c_1-\\left(\\delta_1+\\delta_2\\right) c_2+\\delta_1 c_3=0,\\\\\n",
    "\\delta_{n-1} c_{n-2}-\\left(\\delta_{n-2}+\\delta_{n-1}\\right) c_{n-1}+\\delta_{n-2} c_n=0.\n",
    "\\end{aligned}\n",
    "$$\n",
    "\n",
    "$$\n",
    "\\left[\\begin{array}{cccccccccc|c}\n",
    "\\delta_2 & -\\left(\\delta_1+\\delta_2\\right) & \\delta_1 & 0 & \\cdots & \\cdots & 0 & 0 & 0 & 0 & 0 \\\\\n",
    "0 & 0 & 0 & 0 & \\cdots & \\cdots & 0 & \\delta_{n-1} & -\\left(\\delta_{n-2}+\\delta_{n-1}\\right) & \\delta_{n-2} & 0\n",
    "\\end{array}\\right] .\n",
    "$$"
   ]
  },
  {
   "cell_type": "markdown",
   "metadata": {},
   "source": [
    "**Theorem** (Unique solvability of cubic splines; Sauer (2017) p. 182)\n",
    "\n",
    "Assume that $n \\ge 2$. Then, for a set of data points $(x_1 , y_1 ), . . . , (x_n , y_n )$ with distinct $x$'s and for any one of the end conditions given by Properties 4a–4c, there is a unique cubic spline satisfying the end conditions and fitting the points. The same is true assuming that $n \\ge 3$ for Property 4d and $n \\ge 4$ for Property 4e."
   ]
  },
  {
   "cell_type": "markdown",
   "metadata": {},
   "source": [
    "**Remark** (Why not quadratic spline?)\n",
    "\n",
    "- While quadratic splines are possible, they have some drawbacks. \n",
    "  - They cannot provide us with the control of curvature in a smooth way. For example, they cannot incorporate inflection points smoothly due to the low order of derivative: it is piece-wise linear.\n",
    "    ![Splines of first four degrees](https://engcourses-uofa.ca/wp-content/uploads/PiecewiseInt3.png)\n",
    "\n",
    "    Figure: Engineering at Alberta (Splines of first four degrees)\n",
    "\n",
    "    ![Derivatives of splines of first four degrees](https://engcourses-uofa.ca/wp-content/uploads/piecewise22.png)\n",
    "\n",
    "    Figure: Engineering at Alberta (Derivatives of splines of first four degrees)\n",
    "\n",
    "- Quadratic splines show oscillatory behaviors in certain cases. (For details, see the [reference](https://engcourses-uofa.ca/books/numericalanalysis/piecewise-interpolation/quadratic-spline-interpolation/).)\n",
    "    ![Oscillatory behavior of quadratic spline](https://engcourses-uofa.ca/wp-content/uploads/quadinterpolation.png)\n",
    "\n",
    "    Figure: Engineering at Alberta (Oscillatory behavior of quadratic spline)\n"
   ]
  },
  {
   "cell_type": "markdown",
   "metadata": {},
   "source": [
    "### Bezier Curves"
   ]
  },
  {
   "cell_type": "markdown",
   "metadata": {},
   "source": [
    "Take-aways\n",
    "\n",
    "- Bezier curves\n",
    "  - What are Bezier curves\n",
    "  - How to find Bezier curves\n",
    "  - Advantage of Bezier curves"
   ]
  },
  {
   "cell_type": "markdown",
   "metadata": {},
   "source": [
    "#### What are Bezier curves?"
   ]
  },
  {
   "cell_type": "markdown",
   "metadata": {},
   "source": [
    "- Correct name is $\\mathrm{B\\'ezier}$, but the accent will be omitted for ease of typing.\n",
    "- Bezier curves are splines that allow the user to control the slopes at the knots.\n",
    "- We focus on 3rd order Bezier curves.\n",
    "\n",
    "    ![Bezier curve](https://upload.wikimedia.org/wikipedia/commons/thumb/d/d0/Bezier_curve.svg/1280px-Bezier_curve.svg.png)\n",
    "\n",
    "    Figure: Wikipedia (Bezier curve)"
   ]
  },
  {
   "cell_type": "markdown",
   "metadata": {},
   "source": [
    "#### Why do we care?"
   ]
  },
  {
   "cell_type": "markdown",
   "metadata": {},
   "source": [
    "- Bezier curves are a cornerstone of computer-aided design (CAD) and manufacturing. [Sauer (2017) p. 186]"
   ]
  },
  {
   "cell_type": "markdown",
   "metadata": {},
   "source": [
    "#### How to find Bezier curves?"
   ]
  },
  {
   "cell_type": "markdown",
   "metadata": {},
   "source": [
    "**Summary** (3rd order Bezier curves)\n",
    "\n",
    "- Each piece of a Bezier curve is determined by four points $P_0\\left(x_1, y_1\\right)$, $P_1\\left(x_2, y_2\\right),P_2\\left(x_3, y_3\\right),P_3\\left(x_4, y_4\\right)$.\n",
    "  - The first and last being  endpoints while the middle two are control points. \n",
    "- The curve leaves $\\left(x_1, y_1\\right)$ along the tangent direction $\\left(x_2-x_1, y_2-y_1\\right)$ and ends at $\\left(x_4, y_4\\right)$ along the tangent direction $\\left(x_4-x_3, y_4-y_3\\right)$.\n",
    "- The equations that accomplish this are expressed as a parametric curve $(x(t), y(t))$ for $0 \\leq t \\leq 1$.\n",
    "  "
   ]
  },
  {
   "cell_type": "markdown",
   "metadata": {},
   "source": [
    "**Algorithm** (Bezier curve - Sauer (2017) p. 186)\n",
    "\n",
    "- Given \n",
    "  - endpoints $\\left(x_1, y_1\\right),\\left(x_4, y_4\\right)$ \n",
    "  - control points $\\left(x_2, y_2\\right),\\left(x_3, y_3\\right)$\n",
    "\n",
    "- Set\n",
    "\n",
    "$$\n",
    "\\begin{aligned}\n",
    "b_x & =3\\left(x_2-x_1\\right) \\\\\n",
    "c_x & =3\\left(x_3-x_2\\right)-b_x \\\\\n",
    "d_x & =x_4-x_1-b_x-c_x \\\\\n",
    "b_y & =3\\left(y_2-y_1\\right) \\\\\n",
    "c_y & =3\\left(y_3-y_2\\right)-b_y \\\\\n",
    "d_y & =y_4-y_1-b_y-c_y .\n",
    "\\end{aligned}\n",
    "$$\n",
    "\n",
    "- The Bézier curve is defined for $0 \\leq t \\leq 1$ by\n",
    "\n",
    "$$\n",
    "\\begin{aligned}\n",
    "& x(t)=x_1+b_x t+c_x t^2+d_x t^3 \\\\\n",
    "& y(t)=y_1+b_y t+c_y t^2+d_y t^3 .\n",
    "\\end{aligned}\n",
    "$$"
   ]
  },
  {
   "cell_type": "markdown",
   "metadata": {},
   "source": [
    "**Remark**\n",
    "\n",
    "- The curve constructed by the algorithm given above satisfies all characterization given in the summary (up to scale of tangent vector).\n",
    "  - This is a HW problem."
   ]
  },
  {
   "cell_type": "markdown",
   "metadata": {},
   "source": [
    "#### Computation\n"
   ]
  },
  {
   "cell_type": "markdown",
   "metadata": {},
   "source": [
    "**Example** \n",
    "\n",
    "Find the Bézier curve $(x(t), y(t))$ through the points $(x, y)=(1,1)$ and $(2,2)$ with control points $(1,3)$ and $(3,3)$.\n"
   ]
  },
  {
   "cell_type": "markdown",
   "metadata": {},
   "source": [
    "1. Outline of code\n",
    "   - Plot four given points\n",
    "   - Plot tangent direction\n",
    "2. Construct a dummy function.\n",
    "   - Input four points\n",
    "   - Output parametric curves: a simple line\n",
    "3. Change dummy to Bezier\n",
    "   - Translate algorithm into code\n",
    "4. Check the correctness\n",
    "   - Plot the reslut.\n",
    "   - Compare with the characterization."
   ]
  },
  {
   "cell_type": "code",
   "execution_count": null,
   "metadata": {},
   "outputs": [],
   "source": [
    "import numpy as np\n",
    "import matplotlib.pyplot as plt\n",
    "\n",
    "def bezier(pt):\n",
    "    \"\"\"\n",
    "    Return Bezier curve.\n",
    "    \n",
    "    Input:\n",
    "        pt: 2D array of shape (4, 2).\n",
    "          1st and last rows are end points.\n",
    "          2nd and 3rd row are control points.\n",
    "    Output:\n",
    "        2D array of shape (2, 100). \n",
    "        1st row is x values and 2nd row is y values of Bezier curve.\n",
    "    Note:\n",
    "        When plotting the result, you can use unpacking operator '*'.\n",
    "    \"\"\"\n",
    "    # extracting x and y coordinates\n",
    "    x = pt[:, 0]\n",
    "    y = pt[:, 1]\n",
    "\n",
    "    # Calculating the coefficients (see Algorithm)\n",
    "    bx = 3.*(x[1] - x[0])\n",
    "    cx = 3.*(x[2] - x[1]) - bx\n",
    "    dx = x[3] - x[0] - bx - cx\n",
    "\n",
    "    by = 3.*(y[1] - y[0])\n",
    "    cy = 3.*(y[2] - y[1]) - by\n",
    "    dy = y[3] - y[0] - by - cy\n",
    "\n",
    "    # Creating the (parametric) Bezier curve\n",
    "    t = np.linspace(0, 1, 100)\n",
    "    x = x[0] + bx*t + cx*t*t + dx*t*t*t\n",
    "    y = y[0] + by*t + cy*t*t + dy*t*t*t\n",
    "\n",
    "    return np.vstack((x, y))\n",
    "\n",
    "# End and control points\n",
    "pt = np.array([[1., 1.], [1., 3], [3., 3.], [2., 2.]])\n",
    "print(pt)\n",
    "\n",
    "# Plot the points and tangent lines\n",
    "plt.plot(pt[:, 0], pt[:, 1], 'ro')\n",
    "plt.plot(pt[:2,0], pt[:2, 1], 'r--', pt[2:,0], pt[2:, 1], 'r--')\n",
    "\n",
    "# Plot the Bezier curve\n",
    "curve = bezier(pt)\n",
    "    # This commented line is equivalent to the next line.\n",
    "# plt.plot(curve[0, :], curve[1, :], 'b*') \n",
    "plt.plot(*curve)\n",
    "plt.show()"
   ]
  },
  {
   "cell_type": "markdown",
   "metadata": {},
   "source": [
    "###### Sample code"
   ]
  },
  {
   "cell_type": "markdown",
   "metadata": {},
   "source": [
    "<!-- \n",
    "The four points are $\\left(x_1, y_1\\right)=(1,1),\\left(x_2, y_2\\right)=(1,3),\\left(x_3, y_3\\right)=(3,3)$, and $\\left(x_4, y_4\\right)=(2,2)$. The Bézier formulas yield $b_x=0, c_x=6, d_x=-5$ and $b_y=6, c_y=$ $-6, d_y=1$. The Bézier spline\n",
    "$$\n",
    "\\begin{aligned}\n",
    "& x(t)=1+6 t^2-5 t^3 \\\\\n",
    "& y(t)=1+6 t-6 t^2+t^3\n",
    "\\end{aligned}\n",
    "$$ -->"
   ]
  },
  {
   "cell_type": "markdown",
   "metadata": {},
   "source": [
    "**Remark** (Sauer (2017) p. 187)\n",
    "\n",
    "- Bezier curves can be stacked to fit arbitrary function values and slopes. \n",
    "- They are an improvement over cubic splines, in the sense that the slopes at the nodes can be specified as the user wants them. \n",
    "  - In cubic splines, they are determined as the solution of system of equations. \n",
    "  - However, this freedom comes at the expense of smoothness: The second derivatives from the two different directions generally disagree at the nodes. \n",
    "  - In some applications, this disagreement is an advantage."
   ]
  },
  {
   "cell_type": "markdown",
   "metadata": {},
   "source": [
    "**Remark** (Higher order Bezier curve)\n",
    "\n",
    "- Higher order Bezier curves are also used. In this case, more points must be given. (See [Wikipedia](https://en.wikipedia.org/wiki/B%C3%A9zier_curve#Higher-order_curves) for a bit more details.)\n",
    "\n",
    "| 4th order Bezier curve | 5th order Bezier curve |\n",
    "|---|---|\n",
    "| ![4th order Bezier curve](https://upload.wikimedia.org/wikipedia/commons/thumb/b/bf/B%C3%A9zier_4_big.svg/240px-B%C3%A9zier_4_big.svg.png) <br> Figure: Wikipedia | ![5th order Bezier curve](https://upload.wikimedia.org/wikipedia/commons/thumb/0/0b/BezierCurve.gif/240px-BezierCurve.gif) <br> Figure: Wikipedia |"
   ]
  }
 ],
 "metadata": {
  "kernelspec": {
   "display_name": "ptrch",
   "language": "python",
   "name": "ptrch"
  },
  "language_info": {
   "codemirror_mode": {
    "name": "ipython",
    "version": 3
   },
   "file_extension": ".py",
   "mimetype": "text/x-python",
   "name": "python",
   "nbconvert_exporter": "python",
   "pygments_lexer": "ipython3",
   "version": "3.9.1"
  }
 },
 "nbformat": 4,
 "nbformat_minor": 2
}
