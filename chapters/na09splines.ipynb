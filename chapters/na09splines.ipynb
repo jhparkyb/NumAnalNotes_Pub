{
 "cells": [
  {
   "cell_type": "markdown",
   "metadata": {},
   "source": [
    "## Cubic Splines and Bezier curves\n"
   ]
  },
  {
   "cell_type": "markdown",
   "metadata": {},
   "source": [
    "### Cubic splines"
   ]
  },
  {
   "cell_type": "markdown",
   "metadata": {},
   "source": [
    "Take-aways\n",
    "\n",
    "- Cubic spline\n",
    "  - What are splines?\n",
    "  - How to find cubic splines\n",
    "  - Advantage of cubic splines"
   ]
  },
  {
   "cell_type": "markdown",
   "metadata": {},
   "source": [
    "#### What are splines?"
   ]
  },
  {
   "cell_type": "markdown",
   "metadata": {},
   "source": [
    "**Summary**\n",
    "\n",
    "- A spline is a collection of low-order polynomials glued together.\n",
    "  - Each piece is defined as a piece-wise polynomial over an interval.\n",
    "  - Every piece is $a+bx$ form --> linear spline\n",
    "  - Every piece is $a+bx+cx^2+bx^3$ form --> cubic spline"
   ]
  },
  {
   "cell_type": "markdown",
   "metadata": {},
   "source": [
    "![Linear spline](https://media.geeksforgeeks.org/wp-content/uploads/20210622130721/linearinterpolation-660x426.JPG)\n",
    "\n",
    "Figure: Geeksforgeeks (linear spline)\n",
    "\n",
    "![Cubic spline](https://camo.githubusercontent.com/76f5e6c8a1cf6692d57ef8ba4989f92891dd0f2c05da1728a33c6582536e2a3f/68747470733a2f2f6b6c7567652e696e2d6368656d6e69747a2e64652f6f70656e736f757263652f73706c696e652f63756269635f63325f73706c696e655f6769742e706e67)\n",
    "\n",
    "Figure: ttk592 (Cubic spline)"
   ]
  },
  {
   "cell_type": "markdown",
   "metadata": {},
   "source": [
    "#### Why do we care?"
   ]
  },
  {
   "cell_type": "markdown",
   "metadata": {},
   "source": [
    "**Remark**\n",
    "\n",
    "- Splines can better interpolate data.\n",
    "  - Recall Runge's phenomenon. ![Runge's phenomenon](https://www.johndcook.com/runge_cauchy.svg) "
   ]
  },
  {
   "cell_type": "markdown",
   "metadata": {},
   "source": [
    "#### How to find a cubic spline?"
   ]
  },
  {
   "cell_type": "markdown",
   "metadata": {},
   "source": [
    "### Bezier Curves"
   ]
  },
  {
   "cell_type": "markdown",
   "metadata": {},
   "source": [
    "Take-aways\n",
    "\n",
    "- Bezier curves\n",
    "  - What are Bezier curves\n",
    "  - How to find Bezier curves\n",
    "  - Advantage of Bezier curves"
   ]
  },
  {
   "cell_type": "markdown",
   "metadata": {},
   "source": []
  }
 ],
 "metadata": {
  "kernelspec": {
   "display_name": "ptrch",
   "language": "python",
   "name": "python3"
  },
  "language_info": {
   "codemirror_mode": {
    "name": "ipython",
    "version": 3
   },
   "file_extension": ".py",
   "mimetype": "text/x-python",
   "name": "python",
   "nbconvert_exporter": "python",
   "pygments_lexer": "ipython3",
   "version": "3.12.1"
  }
 },
 "nbformat": 4,
 "nbformat_minor": 2
}
