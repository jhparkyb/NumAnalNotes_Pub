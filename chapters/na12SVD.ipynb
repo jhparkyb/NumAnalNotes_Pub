{
 "cells": [
  {
   "cell_type": "markdown",
   "metadata": {},
   "source": [
    "## Singular Value Decomposition (SVD)"
   ]
  },
  {
   "cell_type": "markdown",
   "metadata": {},
   "source": [
    "Notation"
   ]
  },
  {
   "cell_type": "markdown",
   "metadata": {},
   "source": [
    "| Symbol        | meaning                                                                             |\n",
    "| ------------- | ----------------------------------------------------------------------------------- |\n",
    "| $\\delta_{ij}$ | Kronecker delta, that is $\\delta_{ij}=1$ if $i=j$, and $\\delta_{ij}=0$ if $i\\neq j$ |\n"
   ]
  },
  {
   "cell_type": "markdown",
   "metadata": {},
   "source": [
    "**Summary** (Case I: $m\\ge n$) \n",
    "\n",
    "- For any $m$-by-$n$ matrix $A$ ($m\\ge n$), we can choose \n",
    "  - $\\left\\{u_1, \\ldots, u_m\\right\\}$ orthonormal vectors of length $m$, (left singular vector)\n",
    "  - $\\left\\{v_1, \\ldots, v_n\\right\\}$ orthonormal vectors of length $n$, (right singular vector) and\n",
    "  - $s_1 \\geq \\cdots \\geq$ $s_{n} \\geq 0$, (singular values) satisfying\n",
    "$$\n",
    "\\begin{gathered}\n",
    "A v_1=s_1 u_1 \\\\\n",
    "A v_2=s_2 u_2 \\\\\n",
    "\\vdots \\\\\n",
    "A v_n=s_n u_n .\n",
    "\\end{gathered}\n",
    "$$\n"
   ]
  },
  {
   "cell_type": "markdown",
   "metadata": {},
   "source": [
    "**Geometric Intuition** (Sauer (2017) p. 579)\n",
    "\n",
    "$v_i$'s form the basis of a rectangular coordinate system on which $A$ acts in a simple way: It produces the basis vectors of a new coordinate system, the $u_i$’s, with some stretching quantified by the scalars $s_i$'s. The stretched basis vectors $s_i u_i$ are the semimajor axes of the ellipse.\n",
    "\n",
    "![SVD geometry](https://blogs.sas.com/content/iml/files/2017/08/svd1.png)\n",
    "\n",
    "Figure: Rick Wicklin, SAS blog (Geometry of 2-by-2 SVD)"
   ]
  },
  {
   "cell_type": "markdown",
   "metadata": {},
   "source": [
    "**Example** (Building SVD easy case; Sauer (2017) p. 580)\n",
    "\n",
    "(Step 1)\n",
    "\n",
    "Find the singular values and singular vectors for $A=\\begin{bmatrix}3 & 0 \\\\ 0 & 1/2 \\end{bmatrix}$. \n"
   ]
  },
  {
   "cell_type": "markdown",
   "metadata": {},
   "source": [
    "###### hide/show"
   ]
  },
  {
   "cell_type": "markdown",
   "metadata": {},
   "source": [
    "\n",
    "$$\n",
    "\\begin{aligned} & A\\left[\\begin{array}{l}1 \\\\ 0\\end{array}\\right]=3\\left[\\begin{array}{l}1 \\\\ 0\\end{array}\\right] \\\\ & A\\left[\\begin{array}{l}0 \\\\ 1\\end{array}\\right]=\\frac{1}{2}\\left[\\begin{array}{l}0 \\\\ 1\\end{array}\\right]\\end{aligned}\n",
    "$$\n"
   ]
  },
  {
   "cell_type": "markdown",
   "metadata": {},
   "source": [
    "(Step 2)\n",
    "\n",
    "Find the singular values and singular vectors for $A=\\begin{bmatrix}0 & -1/2 \\\\ 3 & 0 \\\\ 0 & 0 \\end{bmatrix}$.\n"
   ]
  },
  {
   "cell_type": "markdown",
   "metadata": {},
   "source": [
    "###### hide/show"
   ]
  },
  {
   "cell_type": "markdown",
   "metadata": {},
   "source": [
    "\n",
    "\n",
    "$$\n",
    "\\begin{aligned}\n",
    "& A\\left[\\begin{array}{l}\n",
    "1 \\\\\n",
    "0\n",
    "\\end{array}\\right]=3\\left[\\begin{array}{l}\n",
    "0 \\\\\n",
    "1 \\\\\n",
    "0\n",
    "\\end{array}\\right] \\\\\n",
    "& A\\left[\\begin{array}{l}\n",
    "0 \\\\\n",
    "1\n",
    "\\end{array}\\right]=\\frac{1}{2}\\left[\\begin{array}{r}\n",
    "-1 \\\\\n",
    "0 \\\\\n",
    "0\n",
    "\\end{array}\\right]\n",
    "\\end{aligned}\n",
    "$$\n",
    "\n",
    "Even for this simple matrix, guessing singular vectors is not that easy, especially when requiring the left singular vectors be orthogonal."
   ]
  },
  {
   "cell_type": "markdown",
   "metadata": {},
   "source": [
    "(Step 3) \n",
    "\n",
    "Can you do the same for $A=\\begin{bmatrix}2 & -1/2 \\\\ 3 & 1 \\\\ -2 & 5 \\end{bmatrix}$?\n",
    "\n",
    "We need more systematic approach.\n"
   ]
  },
  {
   "cell_type": "markdown",
   "metadata": {},
   "source": [
    "### Fundamentals of SVD"
   ]
  },
  {
   "cell_type": "markdown",
   "metadata": {},
   "source": [
    "**Theorem** (Spectral theorem for real symmetric matrix; Rephrase of Horn and Johnson (2013) Matrix analysis 2ed. Theorem 4.1.5. p. 229)\n",
    "\n",
    "If $A$ is a real symmetric $n$-by-$n$ matrix, then there exists an orthonormal basis of $R^n$ consisting of eigenvectors of $A$. Each eigenvalue of $A$ is real.\n"
   ]
  },
  {
   "cell_type": "markdown",
   "metadata": {},
   "source": [
    "**Lemma** \n",
    "\n",
    "Let $A$ be an $m \\times n$ matrix. The eigenvalues of $A^T A$ are nonnegative.\n",
    "\n"
   ]
  },
  {
   "cell_type": "markdown",
   "metadata": {},
   "source": [
    "Proof\n",
    "\n",
    "Let $v$ be a unit eigenvector of $A^T A$, and $A^T A v=\\lambda v$. Then\n",
    "$$\n",
    "0 \\leq\\|A v\\|^2=v^T A^T A v=\\lambda v^T v=\\lambda .\n",
    "$$"
   ]
  },
  {
   "cell_type": "markdown",
   "metadata": {},
   "source": [
    "**Theorem** (Sauer (2017) p. 581)\n",
    "\n",
    "Let $A$ be an $m \\times n$ matrix where $m \\geq n$. Then there exist two orthonormal bases $\\left\\{v_1, \\ldots, v_n\\right\\}$ of $R^n$, and $\\left\\{u_1, \\ldots, u_m\\right\\}$ of $R^m$, and real numbers $s_1 \\geq \\cdots \\geq s_n \\geq 0$ such that $A v_i=s_i u_i$ for $1 \\leq i \\leq n$. The columns of $V=\\left[v_1|\\ldots| v_n\\right]$, the right singular vectors, are the set of orthonormal eigenvectors of $A^T A$; and the columns of $U=\\left[u_1|\\ldots| u_m\\right]$, the left singular vectors, are the set of orthonormal eigenvectors of $A A^T$. That is, we have $A=USV^T$."
   ]
  },
  {
   "cell_type": "markdown",
   "metadata": {},
   "source": [
    "Constructive version (Human-friendly; Sauer (2017) p. 581)\n",
    "\n",
    "1. $s_i$'s (singular values): Find eigenvalues (nonnegative) of $A^T A$ ($n$-by-$n$) in the decreasing order $s_1^2 \\ge s_2^2 \\ge \\cdots \\ge s_n^2 \\ge 0$ along with\n",
    "1. $v_i$'s (right singular vectors): corresponding eigenvectors $v_i$ ($i=1,2,\\cdots, n$).\n",
    "1. $u_i$'s (left singular vectors): If $s_i \\neq 0$, define $u_i$ by the equation $s_i u_i=A v_i$. Choose each remaining $u_i$ as an arbitrary unit vector subject to being orthogonal to $u_1, \\ldots, u_{i-1}$ ($i=1,2,\\cdots, m$)."
   ]
  },
  {
   "cell_type": "markdown",
   "metadata": {},
   "source": [
    "**Remark** \n",
    "\n",
    "- The SVD is not unique. \n",
    "  - Replacing $v_1$ by $-v_1$ and $u_1$ by $-u_1$ does not change the equality, but changes the matrices $U$ and $V$."
   ]
  },
  {
   "cell_type": "markdown",
   "metadata": {},
   "source": [
    "**Example** (Sauer (2017) p. 581)\n",
    "\n",
    "Find the singular value decomposition of the $4 \\times 2$ matrix\n",
    "$$\n",
    "A=\\left[\\begin{array}{rr}\n",
    "3 & 3 \\\\\n",
    "-3 & -3 \\\\\n",
    "-1 & 1 \\\\\n",
    "1 & -1\n",
    "\\end{array}\\right] .\n",
    "$$"
   ]
  },
  {
   "cell_type": "markdown",
   "metadata": {},
   "source": [
    "Preliminary\n",
    "\n",
    "$$\n",
    "A^T A=\\left[\\begin{array}{ll}\n",
    "20 & 16 \\\\\n",
    "16 & 20\n",
    "\\end{array}\\right]\n",
    "$$\n",
    "\n",
    "Eigenvectors and eigenvalues \n",
    "\n",
    "$$\n",
    "v_1=\\begin{bmatrix}1 / \\sqrt{2} \\\\ 1 / \\sqrt{2}\\end{bmatrix}, \n",
    "\\quad \n",
    "v_2=\\begin{bmatrix}1 / \\sqrt{2} \\\\ -1 / \\sqrt{2}\\end{bmatrix},\n",
    "\\quad\n",
    "\\begin{array}{l}\n",
    "s_1^2=36 \\\\ \n",
    "s_2^2=4\n",
    "\\end{array}\n",
    "$$\n"
   ]
  },
  {
   "cell_type": "markdown",
   "metadata": {},
   "source": [
    "\n",
    "Singular values\n",
    "\n",
    "$$\n",
    "\\begin{array}{l}\n",
    "s_1=6 \\\\ \n",
    "s_2=2\n",
    "\\end{array}\n",
    "$$\n",
    "\n",
    "Right singular vectors\n",
    "\n",
    "$v_1, v_2$ (same as eigenvectors of $A^T A$)\n",
    "\n",
    "Left singular vectors\n",
    "\n",
    "From \n",
    "\n",
    "$$\n",
    "6 u_1=A v_1=\\left[\\begin{array}{r}\n",
    "3 \\sqrt{2} \\\\\n",
    "-3 \\sqrt{2} \\\\\n",
    "0 \\\\\n",
    "0\n",
    "\\end{array}\\right] \\quad 2 u_2=A v_2=\\left[\\begin{array}{r}\n",
    "0 \\\\\n",
    "0 \\\\\n",
    "-\\sqrt{2} \\\\\n",
    "\\sqrt{2}\n",
    "\\end{array}\\right]\n",
    "$$\n",
    "\n",
    "we have\n",
    "\n",
    "$$\n",
    "u_1=\\left[\\begin{array}{r}\n",
    "\\frac{1}{\\sqrt{2}} \\\\\n",
    "-\\frac{1}{\\sqrt{2}} \\\\\n",
    "0 \\\\\n",
    "0\n",
    "\\end{array}\\right] \\quad u_2=\\left[\\begin{array}{r}\n",
    "0 \\\\\n",
    "0 \\\\\n",
    "-\\frac{1}{\\sqrt{2}} \\\\\n",
    "\\frac{1}{\\sqrt{2}}\n",
    "\\end{array}\\right] .\n",
    "$$\n",
    "\n",
    "For $i = 3, 4$, choose\n",
    "$$\n",
    "u_3=\\left[\\begin{array}{c}\n",
    "\\frac{1}{\\sqrt{2}} \\\\\n",
    "\\frac{1}{\\sqrt{2}} \\\\\n",
    "0 \\\\\n",
    "0\n",
    "\\end{array}\\right] \\quad u_4=\\left[\\begin{array}{c}\n",
    "0 \\\\\n",
    "0 \\\\\n",
    "\\frac{1}{\\sqrt{2}} \\\\\n",
    "\\frac{1}{\\sqrt{2}}\n",
    "\\end{array}\\right]\n",
    "$$\n",
    "\n",
    "If such vectors are not easy to guess, we can use Gram-Schmidt starting with $\\{u_1, u_2, e_3, e_4\\}$, where $e_i = [\\delta_{ij}]_{1\\le j \\le 4}^T$ and $\\delta_{ij}$ is Kronecker delta.\n"
   ]
  },
  {
   "cell_type": "markdown",
   "metadata": {},
   "source": [
    "\n",
    "SVD\n",
    "\n",
    "$$\n",
    "A=\\left[\\begin{array}{rr}\n",
    "3 & 3 \\\\\n",
    "-3 & -3 \\\\\n",
    "-1 & 1 \\\\\n",
    "1 & -1\n",
    "\\end{array}\\right]=U S V^T=\\left[\\begin{array}{rrrr}\n",
    "\\frac{1}{\\sqrt{2}} & 0 & \\frac{1}{\\sqrt{2}} & 0 \\\\\n",
    "-\\frac{1}{\\sqrt{2}} & 0 & \\frac{1}{\\sqrt{2}} & 0 \\\\\n",
    "0 & -\\frac{1}{\\sqrt{2}} & 0 & \\frac{1}{\\sqrt{2}} \\\\\n",
    "0 & \\frac{1}{\\sqrt{2}} & 0 & \\frac{1}{\\sqrt{2}}\n",
    "\\end{array}\\right]\\left[\\begin{array}{ll}\n",
    "6 & 0 \\\\\n",
    "0 & 2 \\\\\n",
    "0 & 0 \\\\\n",
    "0 & 0\n",
    "\\end{array}\\right]\\left[\\begin{array}{cc}\n",
    "\\frac{1}{\\sqrt{2}} & \\frac{1}{\\sqrt{2}} \\\\\n",
    "\\frac{1}{\\sqrt{2}} & -\\frac{1}{\\sqrt{2}}\n",
    "\\end{array}\\right] .\n",
    "$$"
   ]
  },
  {
   "cell_type": "markdown",
   "metadata": {},
   "source": [
    "\n",
    "\n",
    "- For any $m$-by-$n$ matrix $A$, no matter $m\\ge n$ or $m \\le n$, we can choose \n",
    "  - $\\left\\{u_1, \\ldots, u_m\\right\\}$ orthonormal vectors of length $m$,\n",
    "  - $\\left\\{v_1, \\ldots, v_n\\right\\}$ orthonormal vectors of length $n$, \n",
    "  - $s_1 \\geq \\cdots \\geq$ $s_{\\min(m,n)} \\geq 0$, satisfying\n",
    "$$\n",
    "\\begin{gathered}\n",
    "A v_1=s_1 u_1 \\\\\n",
    "A v_2=s_2 u_2 \\\\\n",
    "\\vdots \\\\\n",
    "A v_n=s_n u_n .\n",
    "\\end{gathered}\n",
    "$$\n",
    "\n",
    "The vectors are visualized in Figure 12.3. The $v_i$ are called the right singular vectors of the matrix $A$, the $u_i$ are the left singular vectors of $A$, and the $s_i$ are the singular values of $A$. (The reason for this terminology will become clear shortly.)"
   ]
  },
  {
   "cell_type": "markdown",
   "metadata": {},
   "source": [
    "**Example** (Visualization of SVD)\n",
    "\n",
    "- $x=\\left[\\begin{array}{cccc}-10 & -10 & 20 & 20 \\\\ -10 & 20 & 20 & -10\\end{array}\\right]$ \n",
    "- $A=\\left[\\begin{array}{cc}1 & 0.3 \\\\ 0.45 & 1.2\\end{array}\\right]$.\n",
    "- $A=USV^T = \\begin{bmatrix} -0.5819 & -0.8133 \\\\ -0.8133 & 0.5819 \\end{bmatrix} \\begin{bmatrix} 1.4907 & 0 \\\\ 0 & 0.7144 \\end{bmatrix} \\begin{bmatrix} -0.6359 & -0.7718 \\\\ -0.7718 & 0.6359 \\end{bmatrix}$.\n",
    "\n",
    "Example and figures: Alyssa Quek ([SVD visualization](https://alyssaq.github.io/2015/singular-value-decomposition-visualisation/))"
   ]
  },
  {
   "cell_type": "markdown",
   "metadata": {},
   "source": [
    "| | |\n",
    "|---|---|\n",
    "| $$Ax$$ <br> ![Figure 1](https://alyssaq.github.io/blog/images/eigens-transformation_matrix.png) | | \n",
    "| $$V^Tx$$ <br> ![Figure 2](https://alyssaq.github.io/blog/images/svd_Vx.png) | $$SV^Tx$$ <br> ![Figure 3](https://alyssaq.github.io/blog/images/svd_SVx.png) | \n",
    "| $$USV^Tx$$ <br> ![Figure 4](https://alyssaq.github.io/blog/images/svd_USVx.png) | |\n"
   ]
  },
  {
   "cell_type": "markdown",
   "metadata": {},
   "source": [
    "### Appendix"
   ]
  },
  {
   "cell_type": "markdown",
   "metadata": {},
   "source": [
    "#### Raw citations"
   ]
  },
  {
   "cell_type": "markdown",
   "metadata": {},
   "source": [
    "**Theorem** (Horn and Johnson (2013) Matrix analysis 2ed. Theorem 4.1.5. p. 229) \n",
    "\n",
    "A matrix $A \\in M_n$ is Hermitian if and only if there is a unitary $U \\in M_n$ and a real diagonal $\\Lambda \\in M_n$ such that $A=U \\Lambda U^*$, where $M_n$ is the set of $n$-by- $n$ complex matrices. Moreover, $A$ is real and Hermitian (that is, real symmetric) if and only if there is a real orthogonal $P \\in M_n$ and a real diagonal $\\Lambda \\in M_n$ such that $A=P \\Lambda P^T$."
   ]
  },
  {
   "cell_type": "markdown",
   "metadata": {},
   "source": [
    "**Remark**\n",
    "\n",
    "- Observe the subtlety of the statement: If $A$ is symmetric as a complex matrix, then the conclusion is different. (See e.g., [Wikipedia - Complex symmetric matrices](https://en.wikipedia.org/wiki/Symmetric_matrix#Complex_symmetric_matrices))"
   ]
  }
 ],
 "metadata": {
  "kernelspec": {
   "display_name": "ptrch",
   "language": "python",
   "name": "ptrch"
  },
  "language_info": {
   "codemirror_mode": {
    "name": "ipython",
    "version": 3
   },
   "file_extension": ".py",
   "mimetype": "text/x-python",
   "name": "python",
   "nbconvert_exporter": "python",
   "pygments_lexer": "ipython3",
   "version": "3.9.1"
  }
 },
 "nbformat": 4,
 "nbformat_minor": 2
}
