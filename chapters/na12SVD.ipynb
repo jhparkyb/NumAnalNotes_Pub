{
 "cells": [
  {
   "cell_type": "markdown",
   "metadata": {},
   "source": [
    "## Singular Value Decomposition (SVD)"
   ]
  },
  {
   "cell_type": "markdown",
   "metadata": {},
   "source": [
    "**Example** (Visualization of SVD)\n",
    "\n",
    "- $x=\\left[\\begin{array}{cccc}-10 & -10 & 20 & 20 \\\\ -10 & 20 & 20 & -10\\end{array}\\right]$ \n",
    "- $A=\\left[\\begin{array}{cc}1 & 0.3 \\\\ 0.45 & 1.2\\end{array}\\right]$.\n",
    "- $A=USV^T = \\begin{bmatrix} -0.5819 & -0.8133 \\\\ -0.8133 & 0.5819 \\end{bmatrix} \\begin{bmatrix} 1.4907 & 0 \\\\ 0 & 0.7144 \\end{bmatrix} \\begin{bmatrix} -0.6359 & -0.7718 \\\\ -0.7718 & 0.6359 \\end{bmatrix}$.\n",
    "\n",
    "Example and figures: Alyssa Quek ([SVD visualization](https://alyssaq.github.io/2015/singular-value-decomposition-visualisation/))"
   ]
  },
  {
   "cell_type": "markdown",
   "metadata": {},
   "source": [
    "| | |\n",
    "|---|---|\n",
    "| $$Ax$$ <br> ![Figure 1](https://alyssaq.github.io/blog/images/eigens-transformation_matrix.png) | | \n",
    "| $$V^Tx$$ <br> ![Figure 2](https://alyssaq.github.io/blog/images/svd_Vx.png) | $$SV^Tx$$ <br> ![Figure 3](https://alyssaq.github.io/blog/images/svd_SVx.png) | \n",
    "| $$USV^Tx$$ <br> ![Figure 4](https://alyssaq.github.io/blog/images/svd_USVx.png) | |\n"
   ]
  }
 ],
 "metadata": {
  "kernelspec": {
   "display_name": "ptrch",
   "language": "python",
   "name": "ptrch"
  },
  "language_info": {
   "codemirror_mode": {
    "name": "ipython",
    "version": 3
   },
   "file_extension": ".py",
   "mimetype": "text/x-python",
   "name": "python",
   "nbconvert_exporter": "python",
   "pygments_lexer": "ipython3",
   "version": "3.9.1"
  }
 },
 "nbformat": 4,
 "nbformat_minor": 2
}
