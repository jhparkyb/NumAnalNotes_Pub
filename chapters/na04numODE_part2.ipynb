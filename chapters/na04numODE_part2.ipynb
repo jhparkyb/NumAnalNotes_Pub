{
 "cells": [
  {
   "cell_type": "markdown",
   "metadata": {},
   "source": [
    "### Numerical Method for ODEs - part 2"
   ]
  },
  {
   "cell_type": "markdown",
   "metadata": {},
   "source": [
    "This topic is splitted into two just because the editor for `ipynb` is slow.\n",
    "\n",
    "Part 1\n",
    "\n",
    "- Existence and uniqueness\n",
    "- Taylor series method\n",
    "- Local truncation errors and global error\n",
    "- Runge-Kutta method\n",
    "\n",
    "Part 2 \n",
    "\n",
    "- Linear multistep methods\n",
    "- Analysis of linear multistep methods\n",
    "- Stiffness"
   ]
  },
  {
   "cell_type": "markdown",
   "metadata": {},
   "source": [
    "#### Linear multistep methods"
   ]
  },
  {
   "cell_type": "markdown",
   "metadata": {},
   "source": [
    "##### Method\n",
    "\n",
    "Idea: we want $x'(t) \\approx f(t, x(t))$\n",
    "- Observation 1: (Numerical differentiation) Approximations of $x'(t)$ can be obtained by a certain linear combination of $x(t_i)$'s, where $t_i$'s are near $t$.  \n",
    "- Observation 2: A certain average of multiple slopes can give a better slope for the time marching. (Averge can also be expressed by a linear combination.)\n",
    "- $$``(\\text{lin. comb. of history}) = h(\\text{lin. comb. of slope history})\"$$\n"
   ]
  },
  {
   "cell_type": "markdown",
   "metadata": {},
   "source": [
    "\n",
    "> **Definition** (Linear $k$-step method)\n",
    "> \n",
    "> Given the history of length $k$, $\\{x_{n}, x_{n-1}, \\cdots, x_{n-k+1}\\}$, choose appropriate $a_i$'s and $b_i$'s, and compute $x_{n+1}$ such that  \n",
    "> $$\\sum^{i=1}_{-k+1} a_{i}x_{n+i} = h\\sum^{i=1}_{-k+1} b_{i}f_{n+i},$$\n",
    "> where $f_j:=f(t_j, x_j)$.\n"
   ]
  },
  {
   "cell_type": "markdown",
   "metadata": {},
   "source": [
    "**Some important classes of multistep methods**\n",
    "\n",
    "- Adams-Bashforth (AB)\n",
    "  1. Choose $a$'s based on difference quotient: $a_{k+1}=1, a_{k}=-1$ and all other $a$'s are zero.\n",
    "  2. Choose $b$'s based on interpolation of slopes in an explicit way: $b_{k+1}=0$.\n",
    "- Adams-Moulton (AM)\n",
    "  1. Choose $a$'s based on difference quotient: $a_{k+1}=1, a_{k}=-1$ and all other $a$'s are zero.\n",
    "  2. Choose $b$'s based on interpolation of slopes in an implicit way: hence $b_{k+1}\\neq0$.\n",
    "- Backward Differentiation Formula (BDF)\n",
    "  1. Choose $b$'s so that the slope terms are the extreme implicit: $b_{k+1}\\neq0$ and other $b$'s are zero.\n",
    "  2. Choose $a$'s based on numerical differentiation using interpolation, hence the name. \n",
    "- In theory, we can make the most out of the degrees of freedom by tuning $a$'s and $b$'s to obtain as accurate method as possible. But we will see the method of the highest possible order is not a good option."
   ]
  },
  {
   "cell_type": "markdown",
   "metadata": {},
   "source": [
    "##### Adams-Bashforth methods (AB)\n",
    "\n",
    "- Adams-Bashforth methods are explicit multistep methods."
   ]
  },
  {
   "cell_type": "markdown",
   "metadata": {},
   "source": [
    "**Derivation**\n",
    "\n",
    "**Idea**: use the fundemental theorem of calculus and quadrature (e.g., $k=3$)\n",
    "\n",
    "![Interpolation for AB3](https://jhparkyb.github.io/resources/notes/na/fig_AdamsBashforthInterpolation_lp2000.png)\n",
    "\n",
    "1. Suppose $x(t)$ solves the ODE, $x' = f(t,x)$, and integrate \n",
    "\n",
    "$$\n",
    "x\\left(t_{n+1}\\right)\n",
    "=x\\left(t_n\\right)+\\int_{t_n}^{t_{n+1}} x'(t) d t\n",
    "=x\\left(t_n\\right)+\\int_{t_n}^{t_{n+1}} f(t, x(t)) d t\n",
    "$$\n",
    "\n",
    "2. Replace $f(t,x(t))$ with its polynomial interpolation $p(t)$ at $(t_{n-2}, f_{n-2}), (t_{n-1}, f_{n-1}), (t_{n}, f_{n})$, where $f_{j}:=f(t_{j}, x(t_j))$. \n",
    "\n",
    "3. Obtain the method by labeling $x_j\\approx x(t_j)$. It should be clear that it is of the form \n",
    "\n",
    "$$\n",
    "x_{n+1} = x_{n} + A f_{n} + B f_{n-1} + C f_{n-2},\n",
    "$$\n",
    "\n",
    "for some $A,B,C\\in\\mathbb{R}$.\n",
    "\n",
    "4. By carrying out 1-3, we obtain,  \n",
    "\n",
    "$$\n",
    "x_{n+1} = x_{n} + h \\left( \\frac{23}{12} f_{n} - \\frac{16}{12} f_{n-1} + \\frac{5}{12} f_{n-2} \\right).\n",
    "$$"
   ]
  },
  {
   "cell_type": "markdown",
   "metadata": {},
   "source": [
    "> **Example** (AB3)\n",
    ">\n",
    "> Verify one of the non-trivial coefficients from AB3.\n",
    ">\n",
    "> [derivation of AB3](https://jhparkyb.github.io/resources/notes/na/der_AdamsBashforth3_lp2000.png)\n"
   ]
  },
  {
   "cell_type": "markdown",
   "metadata": {},
   "source": [
    "> **Error analysis** (AB3)\n",
    ">\n",
    "> [LTE of AB3](https://jhparkyb.github.io/resources/notes/na/pf_LTE1DAdamsBashforth3_lp2000.png)"
   ]
  },
  {
   "cell_type": "markdown",
   "metadata": {},
   "source": [
    "##### Adams-Moulton methods (AM)\n",
    "\n",
    "- Adams-Moulton methods are implicit multistep methods."
   ]
  },
  {
   "cell_type": "markdown",
   "metadata": {},
   "source": [
    "**Derivation**\n",
    "\n",
    "**Idea**: use the fundemental theorem of calculus and quadrature (e.g., $k=3$)\n",
    "\n",
    "![Interpolation for AB3](https://jhparkyb.github.io/resources/notes/na/fig_AdamsMoultenInterpolation_lp2000.png)\n",
    "\n",
    "1. (same as AB) Suppose $x$ solves the ODE, $x' = f(t,x)$, and integrate \n",
    "\n",
    "$$\n",
    "x\\left(t_{n+1}\\right)\n",
    "=x\\left(t_n\\right)+\\int_{t_n}^{t_{n+1}} x'(t) d t\n",
    "=x\\left(t_n\\right)+\\int_{t_n}^{t_{n+1}} f(t, x(t)) d t\n",
    "$$\n",
    "\n",
    "2. Replace $f(t,x(t))$ with its polynomial interpolation $p(t)$ at $(t_{n-2}, f_{n-2}), (t_{n-1}, f_{n-1}), (t_{n}, f_{n})$, <ins>and</ins> $(t_{n+1}, f_{n+1})$, where $f_{j}:=f(t_{j}, x(t_j))$. \n",
    "\n",
    "3. Obtain the method by labeling $x_j\\approx x(t_j)$. It should be clear that it is of the form \n",
    "\n",
    "$$\n",
    "x_{n+1} = x_{n} + A f_{n+1} + B f_{n} + C f_{n-1} + D f_{n-2},\n",
    "$$\n",
    "\n",
    "for some $A,B,C,D\\in\\mathbb{R}$.\n",
    "\n",
    "4. By carrying out 1-3, we obtain,  \n",
    "\n",
    "$$\n",
    "x_{n+1}=x_{n}+h\\left(\\frac{9}{24} f_{n+1}+\\frac{19}{24} f_{n}-\\frac{5}{24} f_{n-1}+\\frac{1}{24} f_{n-2}\\right).\n",
    "$$"
   ]
  },
  {
   "cell_type": "markdown",
   "metadata": {},
   "source": [
    "> **Question**\n",
    ">\n",
    "> Guess the order of AM3.\n",
    ">\n",
    "> (Reminder) This is **about atmosphere**, not getting it right.\n",
    "> \n",
    "> 1. Think for a short time.\n",
    "> 2. Share your guess with your pair.\n",
    "> 3. Type your answer in clicker.\n",
    "> 4. Feel free to say out loud."
   ]
  },
  {
   "cell_type": "markdown",
   "metadata": {},
   "source": [
    "> **Question**\n",
    ">\n",
    "> ![Half correct LTE of AM3](https://jhparkyb.github.io/resources/notes/na/pf_HalfCorrectErrorAdamsMoulton3_lp3000.png)\n",
    ">\n",
    "> What do you think? Is the proof correct?\n",
    ">\n",
    "> (Reminder) This is **about atmosphere**, not getting it right.\n",
    "> \n",
    "> 1. Think for a short time.\n",
    "> 2. Share your guess with your pair.\n",
    "> 3. Type your answer in clicker.\n",
    "> 4. Feel free to say out loud.\n",
    "> \n"
   ]
  },
  {
   "cell_type": "markdown",
   "metadata": {},
   "source": [
    "#### Backward Differentiation Formula (BDF2)\n",
    "\n",
    "- BDFs are implicit methods."
   ]
  },
  {
   "cell_type": "markdown",
   "metadata": {},
   "source": [
    "##### Derivation ($k=3$)\n",
    "\n",
    "![Interpolation for BDF](https://jhparkyb.github.io/resources/notes/na/fig_BDFInterpolation_lp2000.png)\n",
    "\n",
    "Idea: The methods of Adams' family are based on interpolating the slope functions. Can we obtain interpolating positions, $x$'s? \n",
    "\n",
    "- Given $x_{n-2}, x_{n-1}, x_{n}$ at $t_{n-2}, t_{n-1}, t_{n}$ resp., pretend to know $x_{n+1}$ at $t_{n+1}$ and find a polynomial $p(t)$ interpolating the four points, hence $x(t)\\approx p(t)$.\n",
    "- Assume $x'(t)\\approx p'(t)$, and argue $p'(t_{n+1})\\approx x'(t_{n+1}) = f_{n+1}$.\n",
    "\n",
    "> **Remark**\n",
    ">\n",
    "> We literally look backwards and come up with a formula for the numerical differentiation, hence the name."
   ]
  },
  {
   "cell_type": "markdown",
   "metadata": {},
   "source": [
    "**Example** (First few BDFs)\n",
    "| | | \n",
    "|---|---|\n",
    "| BDF1 | $x_{n+1} - x_{n} = h f_{n+1}$ |\n",
    "| BDF2 | $x_{n+1} - \\frac 4 3 x_{n} + \\frac 1 3 x_{n-1} = \\frac 2 3 h f_{n+1}$ |\n",
    "| BDF3 | $x_{n+1} - \\frac{18}{11} x_{n} + \\frac{9}{11} x_{n-1} - \\frac{2}{11} x_{n-2}= \\frac{6}{11}h f_{n+1}$ |"
   ]
  },
  {
   "cell_type": "markdown",
   "metadata": {},
   "source": [
    "> **Remark** \n",
    ">\n",
    "> - Recall that $f_{n+1}:=f(t_{n+1}, x_{n+1})$. Therefore, every BDF is implicit.\n",
    "> - BDFs are considered good options for 'stiff' problems. "
   ]
  },
  {
   "cell_type": "markdown",
   "metadata": {},
   "source": [
    "> **Example**\n",
    ">\n",
    "> Deriving BDF2 following the idea explained earlier is one of the homework questions."
   ]
  },
  {
   "cell_type": "markdown",
   "metadata": {},
   "source": [
    "#### Predictor-Corrector method\n",
    "\n",
    "Idea: we can combine an explicit and an implicit and hope for some good balance. To this end, make an explicit variant of the implicit method using the result of the explicit method."
   ]
  },
  {
   "cell_type": "markdown",
   "metadata": {},
   "source": [
    "**Example** (AB4-AM3 predictor-corrector method)\n",
    "\n",
    "-  Run the AB4 method (explicit) to *predict* $x_{n+1}$; call it $x_{n+1}^*$ to distinguish from $x_{n+1}$.\n",
    "\n",
    "    $$\n",
    "    x_{n+1}^*=x_{n}+h\\left(\\frac{55}{24} f_{n}-\\frac{59}{24} f_{n-1}+\\frac{37}{24} f_{n-2}-\\frac{9}{24} f_{n-3} \\right)\n",
    "    $$\n",
    "\n",
    "-  Run the AM3 method (variant) using the predicted value on the RHS in $f_{n+1}$: that is, $f(t_{n+1}, x_{n+1}^*)$ instead of $f(t_{n+1}, x_{n+1})$ to *correct* the prediction.\n",
    "\n",
    "    $$\n",
    "    x_{n+1} =x_{n}+h\\left(\\frac{9}{24} f\\left(t_{n+1}, x_{n+1}^*\\right) \n",
    "    +\\frac{19}{24} f_{n}-\\frac{5}{24} f_{n-1}+\\frac{1}{24} f_{n-2} \\right)\n",
    "    $$"
   ]
  },
  {
   "cell_type": "markdown",
   "metadata": {},
   "source": [
    "> **Question**\n",
    ">\n",
    "> Why not AB3-AM4 predictor-corrector?\n",
    ">\n",
    "> (Reminder) This is **about atmosphere**, not getting it right.\n",
    "> \n",
    "> 1. Think for a short time.\n",
    "> 2. Share your guess with your pair.\n",
    "> 3. Type your answer in clicker.\n",
    "> 4. Feel free to say out loud."
   ]
  },
  {
   "cell_type": "markdown",
   "metadata": {},
   "source": [
    "#### Analysis of Linear Multistep methods"
   ]
  },
  {
   "cell_type": "markdown",
   "metadata": {},
   "source": [
    "> **Definition** (Characteristic polynomials)\n",
    "> \n",
    "> The first and second characteristic polynomials associated with a $k$--step method $\n",
    "> \\sum_{i=0}^{k} a_{i}x_i = h\\sum_{i=0}^{k} b_{i}f_i$ is given by \n",
    "> \n",
    "> $$\n",
    "> p(z) = \\sum_{i=0}^{k} a_{i}z^{i},\n",
    "> $$\n",
    "> \n",
    "> and \n",
    "> \n",
    "> $$\n",
    "> q(z) = \\sum_{i=0}^{k} b_{i}z^{i},\n",
    "> $$\n",
    "> \n",
    "> respectively.\n"
   ]
  },
  {
   "cell_type": "markdown",
   "metadata": {},
   "source": [
    "> **Remark** (Notation)\n",
    "> \n",
    "> - The general version of linear multistep method reads: given $x_{n-k+1}, x_{n-k+2}, \\cdots, x_n$, find $x_{n+1}$.\n",
    ">   \n",
    ">   $$\\sum^{i=1}_{-k+1} a_{i}x_{n+i} = h\\sum^{i=1}_{-k+1} b_{i}f_{n+i},$$\n",
    "> \n",
    "> - For notational convenience, we sometimes translate the linear multistep methods to time grid $\\{0, h, 2h, \\cdots, k-1, k\\}$ rather than $\\{t_{n-k+1}, t_{n-k+2}, \\cdots, t_n, t_{n+1}\\}$. \n",
    "> - In this setting, each method reads: given $x_{0}, x_{1}, \\cdots, x_{k-1}$, find $x_{k}$.\n",
    "> - This is just a notational, not essential issue."
   ]
  },
  {
   "cell_type": "markdown",
   "metadata": {},
   "source": [
    "> **Question**\n",
    ">\n",
    "> Find characteristic polynomials of BDF2:\n",
    "> \n",
    "> $$\n",
    "> x_{n+1} - \\frac 4 3 x_{n} + \\frac 1 3 x_{n-1} = \\frac 2 3 h f_{n+1}\n",
    "> $$\n",
    "\n"
   ]
  },
  {
   "cell_type": "markdown",
   "metadata": {},
   "source": [
    "##### Consistency of linear multistep methods"
   ]
  },
  {
   "cell_type": "markdown",
   "metadata": {},
   "source": [
    "> **Theorem** (Order condition of multistep methods)\n",
    "> \n",
    "> The following are equivalent:\n",
    "> \n",
    "> - The LTE of linear multistep method $\\sum_{i=0}^{k} a_{i}x_i = h\\sum_{i=0}^{k} b_{i}f_i$ is of order $m+1$. That is, if the true solution is smooth enough, the local truncation error $\\tau[x]$ satisfies \n",
    "> \n",
    "> $$\n",
    "> \\tau[x]:=\\sum_{i=0}^{k} a_{i}x(t_i) - h\\sum_{i=0}^{k} b_{i} x'(t_i) = \\mathcal{O}(h^{m+1})\n",
    "> $$\n",
    "> - $d_0=d_1=\\cdots=d_m=0$, where\n",
    "> \n",
    "> $$ \n",
    "> \\begin{aligned}\n",
    "> d_0 &=\\sum_{i=0}^k a_i \\\\\n",
    "> d_1 &=\\sum_{i=0}^k\\left(i a_i-b_i\\right) \\\\\n",
    "> d_2 &=\\sum_{i=0}^k\\left(\\frac{i^2}{2}  a_i-i b_i\\right) \\\\\n",
    "> & \\vdots \\\\\n",
    "> d_j &=\\sum_{i=0}^k\\left(\\frac{i^j}{j !} a_i-\\frac{i^{j-1}}{(j-1) !} b_i\\right) \\quad(j \\geq 1)\n",
    "> \\end{aligned}\n",
    "> $$\n"
   ]
  },
  {
   "cell_type": "markdown",
   "metadata": {},
   "source": [
    "> **Remark** (consistency order) \n",
    ">\n",
    "> - When a multistep method satisfies $d_0=d_1=\\cdots=d_m=0$ ($m \\ge 1$), we say the method is *consistent (to order $m$)*. That is, it discretizes the ODE $x'=f(t,x)$ in a consistent manner: the formula approaches the ODE as $h\\to 0$. This is just a different terminology of the order of LTE (often with the order omitted).\n",
    "> - For the reason we can see from the previous theorem, people often say \"LTE can be measured by how much the true solution fails to satisfy the method.\"\n",
    "> - We skip the proof in favor of more computations. For a proof see, e.g., Kincaid and Cheney (2002) Numerical analysis - Mathematics of Scientific Computing (p. 553)."
   ]
  },
  {
   "cell_type": "markdown",
   "metadata": {},
   "source": [
    "> **Theorem** (Consistency of multistep methods)\n",
    ">\n",
    "> Let $p(z)$ and $q(z)$ are the first and second characteristic polynomials of a multistep method. If \n",
    "> \n",
    "> $$\n",
    "> p(1)=0 \\text{ and } p'(1)=q(1),\n",
    "> $$\n",
    "> \n",
    "> then the method is consistent (to order $m$ with $m\\ge1$).\n"
   ]
  },
  {
   "cell_type": "markdown",
   "metadata": {},
   "source": [
    "> **Remark**\n",
    ">\n",
    "> - This theorem on the consistency is just a different way of expressing the order condition of $d_0=d_1=0$.\n",
    "\n",
    "[Proof of consistency using characterisitc polynomial](https://jhparkyb.github.io/resources/notes/na/pf_ConsistencyMultistepCharPoly_lp2000.png)"
   ]
  },
  {
   "cell_type": "markdown",
   "metadata": {},
   "source": [
    "> **Example**\n",
    ">\n",
    "> Checking consistency will be part of convergence examples. We skip separate examples to avoid repetitions."
   ]
  },
  {
   "cell_type": "markdown",
   "metadata": {},
   "source": [
    "##### Zero-stability of linear multistep methods"
   ]
  },
  {
   "cell_type": "markdown",
   "metadata": {},
   "source": [
    "> **Definition** (zero-stability)\n",
    "> \n",
    "> A linear $k$--step method is *zero-stable* if there is a constant $C > 0$ such that, for any $\\{x_i\\}$ and $\\{y_i\\}$ that have been generated by the same method but with different initial values $x_0, x_1,\\cdots, x_{k-1}$ and $y_0, y_1,\\cdots, y_{k-1}$ respectively, we have \n",
    "> \n",
    "> $$\n",
    "> |x_n - y_n| \\le C \\max\\{|x_0 - y_0|, \\cdots, |x_{k-1} - y_{k-1}|\\}\n",
    "> $$\n",
    "> \n",
    "> for all $n\\le N$, where $N$ is the last time index for the final time of an IVP: $T=hN$. \n"
   ]
  },
  {
   "cell_type": "markdown",
   "metadata": {},
   "source": [
    "> **Remark**\n",
    ">\n",
    "> - In words, (zero-)stable method does not amplify the error (in the first few steps).\n",
    "> - While the definition of zero-stability describes the behavior that we desire, it is not easy to check. Fortunately, there is a much simpler way to check whether a method has this property. "
   ]
  },
  {
   "cell_type": "markdown",
   "metadata": {},
   "source": [
    "> **Definition** (Root condition)\n",
    "> \n",
    "> A polynomial $p(z)$ of degree $k$ is said to satisfy the *root condition* if its roots are in the closed unit circle $\\{z \\in \\mathbb{C} \\; : \\; |z|\\le 1\\}$ and any roots of modulus 1 is simple."
   ]
  },
  {
   "cell_type": "markdown",
   "metadata": {},
   "source": [
    "> **Theorem** (Root condition checks zero-stability)\n",
    ">\n",
    "> A linear $k$-step method is zero-stable if and only if its first characteristic polynomial satisfies the root condition.\n",
    "\n",
    "![Unit circle](https://www.math.uvic.ca/~jvbutter/PreCalcReview/generated/latex-image/image-110.svg)\n",
    "\n",
    "Figure: Jane Butterfield, Gary MacGillivray"
   ]
  },
  {
   "cell_type": "markdown",
   "metadata": {},
   "source": [
    "> **Remark**\n",
    ">\n",
    "> - Many textbooks define (zero-)stability using the root condition while many others take the same approach as these notes. \n",
    "> - The definition of zero-stability chosen in these notes shows more vividly the behavior of numerical methods while the root condition makes it easier to check.\n",
    "> - Some authors (e.g., Sauer) also further distinguish *strongly stable* and *weakly stable* methods: \n",
    ">   - If the only root of the first characteristic polynomial with modulus 1 is 1, it is called *strongly stable*. \n",
    ">   - Otherwise, we say the method is *weakly stable*."
   ]
  },
  {
   "cell_type": "markdown",
   "metadata": {},
   "source": [
    "> **Example**\n",
    ">\n",
    "> Checking zero-stability will be part of convergence examples. We skip separate examples to avoid repetitions."
   ]
  },
  {
   "cell_type": "markdown",
   "metadata": {},
   "source": [
    "##### Convergence of linear multistep methods"
   ]
  },
  {
   "cell_type": "markdown",
   "metadata": {},
   "source": [
    "> **Defintion**\n",
    "> \n",
    "> A $k$--step method is said to be *convergent* if \n",
    "> \n",
    "> $$\n",
    "> \\max_{0\\le i\\le N}\\{|x_i-x(t_i)|\\}\\to 0 \\text{ as } h \\to 0\n",
    "> $$\n",
    "> whenever the initial values satisfy $\\max_{0\\le i\\le k-1}\\{|x_i-x(t_i)|\\}\\to 0$  as $h \\to 0$."
   ]
  },
  {
   "cell_type": "markdown",
   "metadata": {},
   "source": [
    "> **Remark**\n",
    ">\n",
    "> - In words, \"numerical solution must be close to the true one as a (discrete) <ins>trajectory</ins>,\" not only the final position.\n",
    "> - This definition is fair because, if initial values are inaccurate, there is no way for a method to give accurate trajectory.\n",
    "> - The conditions on the starting values strike a great balance of practicality and theoretical value. \n",
    ">   - It bears theoretical merit because it guarantees convergence as we would want (i.e., convergence as trajectory). \n",
    ">   - It is practical because, even though it looks complicated, we can use Runge-Kutta method for the first $k-1$ steps to satisfy those conditions."
   ]
  },
  {
   "cell_type": "markdown",
   "metadata": {},
   "source": [
    "> **Theorem** (Dahlquist equivalence theorem)\n",
    ">\n",
    "> A multistep method is convergent if and only if it is stable and consistent. \n",
    "\n",
    "We do not present a proof of this theorem."
   ]
  },
  {
   "cell_type": "markdown",
   "metadata": {},
   "source": [
    "> **Example**\n",
    ">\n",
    "> Show the explicit Euler is convergent. \n",
    ">\n",
    "> $$ x_{n+1} = x_n + h f(t_n, x_n)$$\n",
    "\n",
    "[Example: convergence of explicit Euler method](https://jhparkyb.github.io/resources/notes/na/ex_ConvergenceExplicitEuler_lp2000.png)"
   ]
  },
  {
   "cell_type": "markdown",
   "metadata": {},
   "source": [
    "> **Example**\n",
    ">\n",
    "> Show the AM2 is convergent.  \n",
    ">\n",
    "> $$x_{n+1}=x_{n}+h\\left(\\frac{5}{12} f_{n+1}+\\frac{8}{12} f_{n}-\\frac{1}{12} f_{n-1}\\right)$$\n",
    "\n",
    "[Example: convergence of AM2](https://jhparkyb.github.io/resources/notes/na/ex_ConvergenceAM2_lp2000.png)"
   ]
  },
  {
   "cell_type": "markdown",
   "metadata": {},
   "source": [
    "> **Remark**\n",
    ">\n",
    "> While we have a nice result as above, we also have some pessimistic results."
   ]
  },
  {
   "cell_type": "markdown",
   "metadata": {},
   "source": [
    "> **Theorem** (Dahlquist first barrier; barrier on consistency)\n",
    "> \n",
    "> The order of a (zero-)stable linear k-step method cannot exceed $k + 1$ if k is odd, and cannot exceed $k + 2$ if k is even. In particular, if the method is explicit, then it cannot exceed $k$.\n",
    "\n",
    "We do not present a proof of this theorem."
   ]
  },
  {
   "cell_type": "markdown",
   "metadata": {},
   "source": [
    "#### Numerical methods for stiff ODEs"
   ]
  },
  {
   "cell_type": "markdown",
   "metadata": {},
   "source": [
    "##### Stiffness\n",
    "\n",
    "- There is no clear definition for this. Rather, it is a phenomenon. [^1]\n",
    "    ![Lambert's opinion on stiffness](https://jhparkyb.github.io/resources/images/na/na_StiffnessLambert.png)\n",
    "- The following descriptions show some aspects of stiffness, though none of them gives a perfect one. \n",
    "  - *Stiffness occurs when stability requirements, rather than those of accuracy, constrain the step length*. [^1]\n",
    "  - *Stiffness occurs when some components of the solution decay much more rapidly than others.* (in multi-dimensional settings)[^1]\n",
    "  - *Stiffness arises when attracting solutions are surrounded with fast-changing nearby solutions. This is often a sign of multiple timescales in the system* (namely, the system undergoes rapid changes at some times while it does not change much for periods of other times.)[^2]\n",
    "\n",
    "\n",
    "\n",
    "[^1]: J. D. Lambert (1991) *Numerical Methods for Ordinary Differential Systems - The Initial Value Problem*. (pp. 216-224)\n",
    "\n",
    "[^2]: Timothy Sauer (2017) *Numerical Analysis* 3rd Edition. (p. 348)\n",
    "\n"
   ]
  },
  {
   "cell_type": "markdown",
   "metadata": {},
   "source": [
    "> **Example** (Stiff ODE)\n",
    ">\n",
    "> 1. The following IVP has a unique solution $x(t) = (x_0 - b)e^{a t} +b$: $$\\begin{cases} \\dot x = a(x-b) \\\\ x(0)=x_0. \\end{cases}$$\n",
    "> 2. The Explicit Euler method is known to be convergent: it is consistent and zero-stable.\n",
    "> 3. However, the following example shows that the explicit Euler method needs small step size for a different reason than accuracy.  "
   ]
  },
  {
   "cell_type": "code",
   "execution_count": 5,
   "metadata": {},
   "outputs": [
    {
     "data": {
      "image/png": "[encoded data removed]",
      "text/plain": [
       "<Figure size 800x600 with 1 Axes>"
      ]
     },
     "metadata": {},
     "output_type": "display_data"
    }
   ],
   "source": [
    "\"\"\"This example shows stiffness in the numerical solution of an ODE.\n",
    "- vary the following parameters for a good illustration of stiffness:\n",
    "  h = 0.001, 0.01, 0.05\n",
    "  a = -50.,\n",
    "\"\"\"\n",
    "import numpy as np\n",
    "import matplotlib.pyplot as plt\n",
    "plt.rcParams['font.size'] = 16\n",
    "\n",
    "# experiemental parameters\n",
    "h = 0.05\n",
    "a = -50.\n",
    "\n",
    "# numerical settings\n",
    "N = 10\n",
    "T = h*N\n",
    "tt = np.arange(0., T+0.5*h, h)\n",
    "\n",
    "# IVP settings\n",
    "f = lambda t, x: a*(x - b)\n",
    "x0 = 2.\n",
    "b = 3.\n",
    "\n",
    "# exact solution\n",
    "x_exact = (x0 - b)*np.exp(a*tt) + b\n",
    "\n",
    "# numerical solution: explicit Euler\n",
    "xx = np.zeros(N+1)\n",
    "xx[0] = x0\n",
    "for i in range(N):\n",
    "    xx[i+1] = xx[i] + h*f(tt[i], xx[i])\n",
    "\n",
    "# plot\n",
    "fig, ax = plt.subplots(1, 1, figsize=(8, 6))\n",
    "ax.plot(tt, x_exact,'r--' , label='exact')\n",
    "ax.plot(tt, xx, 'bo-', label='explicit Euler')\n",
    "ax.legend()\n",
    "ax.set_xlabel('t')\n",
    "ax.set_ylabel('x')\n",
    "ax.set_title(f'Explicit Euler (h={h:g})')\n",
    "plt.show()"
   ]
  },
  {
   "cell_type": "markdown",
   "metadata": {},
   "source": [
    "##### Summary\n",
    "\n",
    "- There is another stability issue, different from zero-stability, related to *stiffness*.\n",
    "- Stiffness leads to a concept *A-stability* or *linear stability*. However, we do not pursue this in this course. Just be aware of this issue.\n",
    "- Stiffness forces small step sizes, making many methods less useful.\n",
    "- Generally speaking, explicit methods are unfavorable for stiff problems while implicit methods work better. Implicit Euler method and BDF2 is among the most robust method in this regard.\n",
    "- Dahlquist second barrier tells us the limited options for stiff problems."
   ]
  },
  {
   "cell_type": "markdown",
   "metadata": {},
   "source": [
    "> **Theorem** (Dahlquist second barrier)\n",
    ">\n",
    "> No explicit linear multistep methods are A-stable (i.e., inadequate for stiff ODEs). Furthermore, the maximal order of an (implicit) A-stable linear multistep method is 2.\n",
    "\n",
    "We do not present a proof of this theorem."
   ]
  },
  {
   "cell_type": "markdown",
   "metadata": {},
   "source": [
    "##### Analysis\n"
   ]
  },
  {
   "cell_type": "markdown",
   "metadata": {},
   "source": [
    "Explicit calculations with a simple example show the issue vividly.\n",
    "\n",
    "> **Example** (stiffness)\n",
    ">\n",
    "> Consider an IVP\n",
    "> $$\n",
    "> \\begin{cases}\\dot x = -50 x \\\\ x(0) = 1, \\end{cases}\n",
    "> $$\n",
    "> \n",
    "> whose true solution is $x(t) = e^{-50t}$.\n",
    ">\n",
    "> ![Slope field of stiff equation](https://jhparkyb.github.io/resources/notes/na/fig_StiffEqnDirectionField_lp2000.png)\n",
    "> \n",
    "> [Stiffness in a simple 1D example with explicit Euler](https://jhparkyb.github.io/resources/notes/na/ex_StiffODE1DExplicitEuler_lp2000.png)\n",
    ">\n",
    "> [Stiffness resolved by implicit Euler in a simple 1D example](https://jhparkyb.github.io/resources/notes/na/ex_StiffODE1DImplicitEuler_lp2000.png)"
   ]
  },
  {
   "cell_type": "markdown",
   "metadata": {
    "vscode": {
     "languageId": "plaintext"
    }
   },
   "source": [
    "---\n",
    "This work is licensed under [Creative Commons Attribution-ShareAlike 4.0 International](https://creativecommons.org/licenses/by-sa/4.0/)"
   ]
  }
 ],
 "metadata": {
  "kernelspec": {
   "display_name": "ptrch",
   "language": "python",
   "name": "ptrch"
  },
  "language_info": {
   "codemirror_mode": {
    "name": "ipython",
    "version": 3
   },
   "file_extension": ".py",
   "mimetype": "text/x-python",
   "name": "python",
   "nbconvert_exporter": "python",
   "pygments_lexer": "ipython3",
   "version": "3.9.1"
  },
  "orig_nbformat": 4
 },
 "nbformat": 4,
 "nbformat_minor": 2
}
