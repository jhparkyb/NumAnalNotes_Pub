{
 "cells": [
  {
   "cell_type": "markdown",
   "metadata": {},
   "source": [
    "## Trigonometric interpolation"
   ]
  },
  {
   "cell_type": "markdown",
   "metadata": {},
   "source": [
    "**Notation**\n",
    "\n",
    "| symbol | meaning |\n",
    "|---|---|\n",
    "| $\\bar u$ | complex conjugate of $u$ (element-wise complex conjugate for vector or matrix) |\n",
    "| $i$ | $=\\sqrt{-1}$ imaginary unit |\n",
    "| $v^H$, $A^H$ | $\\overline{v}^T$, $\\overline{A}^T$, where $v$ and $A$ are complex vector and matrix respectively (called *conjugate transpose*) |\n",
    "| $(u, v)$ | $v^H u = \\sum_{j=1}^n u_j \\overline{v_j}$, where $u,v\\in C^n$ (Complex dot-product) |\n",
    "| $\\lVert v \\rVert$ | $\\sqrt{(v, v)}$, where $v\\in C^n$ (2-norm of complex vector) |\n",
    "<!-- | $\\mathfrak{i}$ | $=\\sqrt{-1}$ imaginary unit (watch the font! $i$ vs $\\mathfrak{i}=\\sqrt{-1}$) | -->\n"
   ]
  },
  {
   "cell_type": "markdown",
   "metadata": {},
   "source": [
    "### Facts on complex numbers"
   ]
  },
  {
   "cell_type": "markdown",
   "metadata": {},
   "source": [
    "**Defintion** \n",
    "\n",
    "For $z=a+b i\\in C$,\n",
    "\n",
    "- $\\bar z = a - b i$ (complex conjugate)\n",
    "- $\\mathrm{Re}(z):=a$ (real part) \n",
    "- $\\mathrm{Im}(z):=b$ (imaginary part).\n",
    "- $|z|:=\\sqrt{z\\bar z}=\\sqrt{a^2 + b^2}$ (modulus, maginitude)\n",
    "- $e^{i \\theta} := \\cos \\theta+i \\sin \\theta$ (Euler formula)"
   ]
  },
  {
   "cell_type": "markdown",
   "metadata": {},
   "source": [
    "**Facts**\n",
    "\n",
    "1. For $z=a+b i\\in C$, it is the case $z=r e^{i \\theta}$, where $r = | z |$ and $\\theta\\in R$ is such that $\\cos(\\theta)=a$ and $\\sin(\\theta)=b$.\n",
    "2. All exponent rules generalize to complex exponent in the Euler formula settings. That is, for $z,w\\in C$, we have\n",
    "   1. $e^z e^w = e^{z+w}$\n",
    "   2. $e^z / e^w = e^{z-w}$\n",
    "   3. $(e^z)^w = e^{zw}$\n",
    "3. If $z\\in C$ is on the unit circle, i.e. $|z|=1$, then $z^{-1}=\\overline{z}$. In particular, $e^{-\\theta i}=\\overline{e^{\\theta i}}$\n",
    "\n",
    "![polar representation of complex number](https://www.researchgate.net/profile/Ovidiu-Bagdasar/publication/299680029/figure/fig4/AS:647955837108235@1531496118970/Algebraic-and-polar-representation-of-a-complex-number.png)\n",
    "\n",
    "Figure: Ovidiu Bagdasar - ResearchGate (polar representation of complex number)"
   ]
  },
  {
   "cell_type": "markdown",
   "metadata": {},
   "source": [
    "**Definition** (Root of unity)\n",
    "\n",
    "Let $n$ be a positive integer. A complex number $\\omega$ satisfying $\\omega^n = 1$ is called a *root of unity*. If, in addition, $\\omega^k\\neq 1$ for $1 \\le k < n$, then it is called *primitive root of unity*."
   ]
  },
  {
   "cell_type": "markdown",
   "metadata": {},
   "source": [
    "### Discrete Fourier Transform (DFT)"
   ]
  },
  {
   "cell_type": "markdown",
   "metadata": {},
   "source": [
    "**Theorem** (Orthogonality of primitive roots of unity). \n",
    "\n",
    "Let $\\omega$ be a primitive $n$-th root of unity and $k$ be an integer.\n",
    "Then\n",
    "$$\n",
    "\\sum_{j=0}^{n-1} \\omega^{j k}=\\left\\{\\begin{array}{ll}\n",
    "n & \\text { if } k / n \\text { is an integer } \\\\\n",
    "0 & \\text { otherwise }\n",
    "\\end{array} .\\right.\n",
    "$$\n",
    "\n",
    "In particular, $\\omega=e^{\\pm 2\\pi \\mathfrak{i}/n}$ satisfies this."
   ]
  },
  {
   "cell_type": "markdown",
   "metadata": {},
   "source": [
    "Proof: HW problem"
   ]
  },
  {
   "cell_type": "markdown",
   "metadata": {},
   "source": [
    "This theorem reads:\n",
    "\n",
    "$$\n",
    "\\begin{aligned}\n",
    "1+\\omega+\\omega^2+\\omega^3+\\cdots+\\omega^{n-1}&=0, \\\\\n",
    "1+\\omega^2+\\omega^4+\\omega^6+\\cdots+\\omega^{2(n-1)} & =0, \\\\\n",
    "1+\\omega^3+\\omega^6+\\omega^9+\\cdots+\\omega^{3(n-1)} & =0, \\\\\n",
    "& \\vdots \\\\\n",
    "1+\\omega^{n-1}+\\omega^{(n-1) 2}+\\omega^{(n-1) 3}+\\cdots+\\omega^{(n-1)(n-1)} & =0, \\\\\n",
    "1+\\omega^n+\\omega^{2 n}+\\omega^{3 n}+\\cdots+\\omega^{n(n-1)} &= n.\n",
    "\\end{aligned}\n",
    "$$\n",
    "\n",
    "For $k > n$, \n",
    "\n",
    "$$\n",
    "\\begin{aligned}\n",
    "1+\\omega^{n+1}+\\omega^{(n+1)2}+\\omega^{(n+1)3}+\\cdots+\\omega^{(n+1)(n-1)}&=0, \\\\\n",
    "1+\\omega^{n+2}+\\omega^{(n+2)2}+\\omega^{(n+2)2}+\\cdots+\\omega^{(n+2)(n-1)}&=0, \\\\\n",
    "& \\vdots \\\\\n",
    "1+\\omega^{2n-1}+\\omega^{(2n-1) 2}+\\omega^{(2n-1) 3}+\\cdots+\\omega^{(2n-1)(n-1)} & =0, \\\\\n",
    "1+\\omega^{2n}+\\omega^{4 n}+\\omega^{6 n}+\\cdots+\\omega^{2n(n-1)} &= n.\n",
    "\\end{aligned}\n",
    "$$\n",
    "\n",
    "For $k < 0$,\n",
    "\n",
    "$$\n",
    "\\begin{aligned}\n",
    "1+\\omega^{-n+1}+\\omega^{(-n+1)2}+\\omega^{(-n+1)3}+\\cdots+\\omega^{(-n+1)(n-1)}&=0, \\\\\n",
    "1+\\omega^{-n+2}+\\omega^{(-n+2)2}+\\omega^{(-n+2)2}+\\cdots+\\omega^{(-n+2)(n-1)}&=0, \\\\\n",
    "& \\vdots \\\\\n",
    "1+\\omega^{-1}+\\omega^{(-1) 2}+\\omega^{(-1) 3}+\\cdots+\\omega^{(-1)(n-1)} & =0, \\\\\n",
    "1+\\omega^{-n}+\\omega^{-2 n}+\\omega^{-3 n}+\\cdots+\\omega^{-n(n-1)} &= n.\n",
    "\\end{aligned}\n",
    "$$\n"
   ]
  },
  {
   "cell_type": "markdown",
   "metadata": {},
   "source": [
    "**Definition** (Discrete Fourier Transform)\n",
    "\n",
    "The Discrete Fourier Transform (DFT) of $x=\\left[x_0, \\ldots, x_{n-1}\\right]^T$ is the $n$-dimensional vector $y=\\left[y_0, \\ldots, y_{n-1}\\right]$, where $\\omega=e^{-i 2 \\pi / n}$ and\n",
    "$$\n",
    "y_k=\\frac{1}{\\sqrt{n}} \\sum_{j=0}^{n-1} x_j \\omega^{j k} .\n",
    "$$"
   ]
  },
  {
   "cell_type": "markdown",
   "metadata": {},
   "source": [
    "- Matrix form\n",
    "\n",
    "$$\n",
    "\\left[\\begin{array}{c}\n",
    "y_0 \\\\\n",
    "y_1 \\\\\n",
    "y_2 \\\\\n",
    "\\vdots \\\\\n",
    "y_{n-1}\n",
    "\\end{array}\\right]=\\left[\\begin{array}{c}\n",
    "a_0+i b_0 \\\\\n",
    "a_1+i b_1 \\\\\n",
    "a_2+i b_2 \\\\\n",
    "\\vdots \\\\\n",
    "a_{n-1}+i b_{n-1}\n",
    "\\end{array}\\right]=\\frac{1}{\\sqrt{n}}\\left[\\begin{array}{ccccc}\n",
    "\\omega^0 & \\omega^0 & \\omega^0 & \\cdots & \\omega^0 \\\\\n",
    "\\omega^0 & \\omega^1 & \\omega^2 & \\cdots & \\omega^{n-1} \\\\\n",
    "\\omega^0 & \\omega^2 & \\omega^4 & \\cdots & \\omega^{2(n-1)} \\\\\n",
    "\\omega^0 & \\omega^3 & \\omega^6 & \\cdots & \\omega^{3(n-1)} \\\\\n",
    "\\vdots & \\vdots & \\vdots & & \\vdots \\\\\n",
    "\\omega^0 & \\omega^{n-1} & \\omega^{2(n-1)} & \\cdots & \\omega^{(n-1)^2}\n",
    "\\end{array}\\right]\\left[\\begin{array}{c}\n",
    "x_0 \\\\\n",
    "x_1 \\\\\n",
    "x_2 \\\\\n",
    "\\vdots \\\\\n",
    "x_{n-1}\n",
    "\\end{array}\\right] .\n",
    "$$\n",
    "\n",
    "- The $n \\times n$ matrix above is called the Fourier matrix\n",
    "$$\n",
    "F_n=\\frac{1}{\\sqrt{n}}\\left[\\begin{array}{ccccc}\n",
    "\\omega^0 & \\omega^0 & \\omega^0 & \\cdots & \\omega^0 \\\\\n",
    "\\omega^0 & \\omega^1 & \\omega^2 & \\cdots & \\omega^{n-1} \\\\\n",
    "\\omega^0 & \\omega^2 & \\omega^4 & \\cdots & \\omega^{2(n-1)} \\\\\n",
    "\\omega^0 & \\omega^3 & \\omega^6 & \\cdots & \\omega^{3(n-1)} \\\\\n",
    "\\vdots & \\vdots & \\vdots & & \\vdots \\\\\n",
    "\\omega^0 & \\omega^{n-1} & \\omega^{2(n-1)} & \\cdots & \\omega^{(n-1)^2}\n",
    "\\end{array}\\right] .\n",
    "$$\n"
   ]
  },
  {
   "cell_type": "markdown",
   "metadata": {},
   "source": [
    "**Facts** (Fourier matrix)\n",
    "\n",
    "- $y_k=a_k+i b_k$ is a complex number. \n",
    "\n",
    "- Fourier matrix is symmetric. \n",
    "- The first row of $n$-by-$n$ Fourier matrix adds up to $n$. Each of the other rows adds up to 0.\n",
    "  - This is a consequence of the Orthogonalizty theorem on primitive roots of unity.\n",
    "- $F_n^{-1}=\\overline{F_n}$.\n",
    "  - Proof: HW problem\n",
    "$$\n",
    "F_n^{-1}=\\frac{1}{\\sqrt{n}}\\left[\\begin{array}{ccccc}\n",
    "\\omega^0 & \\omega^0 & \\omega^0 & \\cdots & \\omega^0 \\\\\n",
    "\\omega^0 & \\omega^{-1} & \\omega^{-2} & \\cdots & \\omega^{-(n-1)} \\\\\n",
    "\\omega^0 & \\omega^{-2} & \\omega^{-4} & \\cdots & \\omega^{-2(n-1)} \\\\\n",
    "\\omega^0 & \\omega^{-3} & \\omega^{-6} & \\cdots & \\omega^{-3(n-1)} \\\\\n",
    "\\vdots & \\vdots & \\vdots & & \\vdots \\\\\n",
    "\\omega^0 & \\omega^{-(n-1)} & \\omega^{-2(n-1)} & \\cdots & \\omega^{-(n-1)^2}\n",
    "\\end{array}\\right],\n",
    "$$"
   ]
  },
  {
   "cell_type": "markdown",
   "metadata": {},
   "source": [
    "**Definition** (Inverse Discrete Fourier Transform (IDFT))\n",
    "\n",
    "For $y\\in C^n$, the map $y\\mapsto F^{-1}_n y \\in C^n$ is called Inverse Discrete Fourier Transform."
   ]
  },
  {
   "cell_type": "markdown",
   "metadata": {},
   "source": [
    "**Remark** (Intuition)\n",
    "\n",
    "- Discrete Cosine Transform (DCT) bears the same idea as DFT. Since DFT involves complex numbers, and DCT doesn't, DCT can be visualized easily, and it is often used as a substitute visualization of DFT.\n",
    "- DFT or DCT decompose a wave/signal (input of DFT or DCT; time domain) into frequencies (output of DFT or DCT).\n",
    "- IDFT or IDCT reconstruct a signal from the frequency profile.\n",
    "\n",
    "![Discrete Cosine Transform](https://pythonnumericalmethods.studentorg.berkeley.edu/_images/24.02.02-time_frequency.png)\n",
    "\n",
    "Figure: [Kong, Siauw, Bayen](https://pythonnumericalmethods.studentorg.berkeley.edu/notebooks/chapter24.02-Discrete-Fourier-Transform.html) (Discrete Cosine Transform)"
   ]
  },
  {
   "cell_type": "markdown",
   "metadata": {},
   "source": [
    "**Example** \n",
    "\n",
    "Find the DFT of $x=[1, 0, -1, 0]^T$ and $z=[1, 2, 3, 4]^T$.\n",
    "\n"
   ]
  },
  {
   "cell_type": "code",
   "execution_count": 13,
   "metadata": {},
   "outputs": [
    {
     "name": "stdout",
     "output_type": "stream",
     "text": [
      "[[0 0 0 0]\n",
      " [0 1 2 3]\n",
      " [0 2 4 6]\n",
      " [0 3 6 9]]\n",
      "[[ 1.+0.j  1.+0.j  1.+0.j  1.+0.j]\n",
      " [ 1.+0.j  0.-1.j -1.-0.j -0.+1.j]\n",
      " [ 1.+0.j -1.-0.j  1.+0.j -1.-0.j]\n",
      " [ 1.+0.j -0.+1.j -1.-0.j  0.-1.j]]\n",
      "[0.+0.j 1.+0.j 0.-0.j 1.+0.j]\n",
      "[ 5.+0.j -1.+1.j -1.-0.j -1.-1.j]\n"
     ]
    }
   ],
   "source": [
    "import numpy as np\n",
    "\n",
    "x = np.array([1., 0., -1., 0.])\n",
    "z = np.array([1., 2., 3., 4.])\n",
    "\n",
    "n = len(x)\n",
    "\n",
    "w = np.exp(-2.*np.pi*1j/n)\n",
    "\n",
    "kk = np.arange(n)\n",
    "pow = (kk * kk.reshape(-1,1))\n",
    "F = w**pow\n",
    "y1 = (1./np.sqrt(n)) * (F@x)\n",
    "y2 = (1./np.sqrt(n)) * (F@z)\n",
    "\n",
    "with np.printoptions(precision=2, suppress=True):\n",
    "    print(pow)\n",
    "    print(F)\n",
    "    print(y1)\n",
    "    print(y2)\n"
   ]
  },
  {
   "cell_type": "markdown",
   "metadata": {},
   "source": [
    "**Theorem** (DFT of real vector)\n",
    "\n",
    "Let $\\left\\{y_k\\right\\}$ be the DFT of $\\left\\{x_j\\right\\}$, where the $x_j$ are real numbers. Then, \n",
    "- $y_0$ is real, and \n",
    "- $y_{n-k}=\\bar{y}_k$ for $k=1, \\ldots, n-1$."
   ]
  },
  {
   "cell_type": "markdown",
   "metadata": {},
   "source": [
    "###### proof"
   ]
  },
  {
   "cell_type": "markdown",
   "metadata": {},
   "source": [
    "Proof. \n",
    "\n",
    "(First) \n",
    "\n",
    "This is clear: $y_0$ is the sum of the $x_j$ 's divided by $\\sqrt{n}$\n",
    "\n",
    "(Second) \n",
    "\n",
    "- Observation 1: $\\omega^{n-k}=\\overline{\\omega^k}$ for $k=1,2,\\cdots,n$.  \n",
    "  - $\\omega^{n-k}=e^{-i 2 \\pi(n-k) / n}=e^{-i 2 \\pi} e^{i 2 \\pi k / n}=e^{i 2 \\pi k / n}=\\overline{e^{-i 2 \\pi k / n}}=\\omega^k$\n",
    "- Observation 2: $\\overline{x_j}=x_j$ for $j=1,2,\\cdots,n$.\n",
    "  - $x_j$'s are all real.\n",
    "\n",
    "From the definition of Fourier transform, \n",
    "$$\n",
    "\\begin{aligned}\n",
    "y_{n-k} & =\\frac{1}{\\sqrt{n}} \\sum_{j=0}^{n-1} x_j\\left(\\omega^{n-k}\\right)^j \\\\\n",
    "& =\\frac{1}{\\sqrt{n}} \\sum_{j=0}^{n-1} x_j \\left(\\overline{\\omega^k}\\right)^j \\\\\n",
    "& =\\frac{1}{\\sqrt{n}} \\sum_{j=0}^{n-1} \\overline{x_j\\left(\\omega^k\\right)^j}=\\overline{y_k} .\n",
    "\\end{aligned}\n",
    "$$"
   ]
  },
  {
   "cell_type": "markdown",
   "metadata": {},
   "source": [
    "**Example**\n",
    "\n",
    "Let $n$ be even and the $x_0, \\ldots, x_{n-1}$ be real numbers. Then, the DFT of $x$ replaces them with exactly $n$ other real numbers $a_0, a_1, b_1, a_2, b_2, \\ldots, a_{n / 2}$, the real and imaginary parts of the Fourier transform $y_0, \\ldots, y_{n-1}$. For example, the $n=8$ DFT has the form\n",
    "$$\n",
    "F_8\\left[\\begin{array}{l}\n",
    "x_0 \\\\\n",
    "x_1 \\\\\n",
    "x_2 \\\\\n",
    "x_3 \\\\\n",
    "x_4 \\\\\n",
    "x_5 \\\\\n",
    "x_6 \\\\\n",
    "x_7\n",
    "\\end{array}\\right]=\\left[\\begin{array}{l}\n",
    "a_0 \\\\\n",
    "a_1+i b_1 \\\\\n",
    "a_2+i b_2 \\\\\n",
    "a_3+i b_3 \\\\\n",
    "a_4 \\\\\n",
    "a_3-i b_3 \\\\\n",
    "a_2-i b_2 \\\\\n",
    "a_1-i b_1\n",
    "\\end{array}\\right]=\\left[\\begin{array}{c}\n",
    "y_0 \\\\\n",
    "\\vdots \\\\\n",
    "y_{\\frac{n}{2}-1} \\\\\n",
    "y_{\\frac{n}{2}} \\\\\n",
    "\\bar{y}_{\\frac{n}{2}-1} \\\\\n",
    "\\vdots \\\\\n",
    "\\bar{y}_1\n",
    "\\end{array}\\right] .\n",
    "$$"
   ]
  },
  {
   "cell_type": "markdown",
   "metadata": {},
   "source": [
    "**Remark** \n",
    "\n",
    "This property is exploited by software.\n",
    "\n",
    "- `numpy.fft.rfft` stores only the essential part of the DFT.\n",
    "  - This improves computation and memory.\n",
    "  - But one needs to be a bit more careful because the shapes of the input and output are different."
   ]
  },
  {
   "cell_type": "markdown",
   "metadata": {},
   "source": [
    "### Fast Fourier Transform (FFT)"
   ]
  },
  {
   "cell_type": "markdown",
   "metadata": {},
   "source": []
  }
 ],
 "metadata": {
  "kernelspec": {
   "display_name": "ptrch",
   "language": "python",
   "name": "python3"
  },
  "language_info": {
   "codemirror_mode": {
    "name": "ipython",
    "version": 3
   },
   "file_extension": ".py",
   "mimetype": "text/x-python",
   "name": "python",
   "nbconvert_exporter": "python",
   "pygments_lexer": "ipython3",
   "version": "3.12.1"
  }
 },
 "nbformat": 4,
 "nbformat_minor": 2
}
