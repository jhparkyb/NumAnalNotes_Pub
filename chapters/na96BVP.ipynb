{
 "cells": [
  {
   "cell_type": "markdown",
   "metadata": {},
   "source": [
    "### Methods for boundary value problems"
   ]
  },
  {
   "cell_type": "markdown",
   "metadata": {},
   "source": [
    "Main references\n",
    "\n",
    "[^1]: Timothy Sauer (2017) *Numerical Analysis* 3rd Edition. (p. 348)\n",
    "\n",
    "#### Take-aways\n",
    "\n",
    "After studying this chapter, we will be able to\n",
    "\n",
    "TBF\n",
    "\n"
   ]
  },
  {
   "cell_type": "markdown",
   "metadata": {},
   "source": [
    "#### Overview\n",
    "\n",
    "##### Problem of interest\n",
    "\n",
    "> **Problem of interest** (Two points boundary value problem)\n",
    ">\n",
    "> Given $f:\\mathbb{R}^{3} \\to \\mathbb{R}$, find $y:[a,b]\\to \\mathbb{R}$ that satisfies\n",
    ">     \n",
    "> $$\n",
    "> \\begin{cases}\n",
    "> y'' = f(t, y, y') \\\\\n",
    "> y(a) = y_a \\\\\n",
    "> y(b) = y_b.\n",
    "> \\end{cases}\n",
    "> $$\n"
   ]
  },
  {
   "cell_type": "markdown",
   "metadata": {},
   "source": [
    "#### Shooting method\n",
    "\n",
    "##### Method outline\n",
    "\n",
    "1. Construct an associated zero finding problem $F(s^*)=0$, whose evaluation corresponds to an IVP.\n",
    "   1. Pose an IVP: Choose one boundary condition (typically the left boundary point $y_a$) and supplement it with a guess initial velocity $y'(a)=s$.\n",
    "   2. Input of $F$ is the guess initial velocity $s$. \n",
    "   3. Output of $F$ is the final position $y_N$ of the numerical solution to the IVP. (An IVP solver is implemented. And the dimension is increased to $\\mathbb{R}^2$ by augmenting the velocity component.)\n",
    "2. Solve the zero finding problem.\n",
    "3. Find the solution to the BVP by computing the trajectory of the IVP associated with the found zero."
   ]
  },
  {
   "cell_type": "markdown",
   "metadata": {
    "vscode": {
     "languageId": "plaintext"
    }
   },
   "source": [
    "---\n",
    "This work is licensed under [Creative Commons Attribution-ShareAlike 4.0 International](https://creativecommons.org/licenses/by-sa/4.0/)"
   ]
  }
 ],
 "metadata": {
  "kernelspec": {
   "display_name": "ptrch",
   "language": "python",
   "name": "ptrch"
  },
  "language_info": {
   "codemirror_mode": {
    "name": "ipython",
    "version": 3
   },
   "file_extension": ".py",
   "mimetype": "text/x-python",
   "name": "python",
   "nbconvert_exporter": "python",
   "pygments_lexer": "ipython3",
   "version": "3.8.13"
  },
  "orig_nbformat": 4
 },
 "nbformat": 4,
 "nbformat_minor": 2
}
