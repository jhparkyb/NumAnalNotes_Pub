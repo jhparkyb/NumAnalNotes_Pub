{
 "cells": [
  {
   "cell_type": "markdown",
   "metadata": {},
   "source": [
    "### Numerical differentiation and integration"
   ]
  },
  {
   "cell_type": "markdown",
   "metadata": {},
   "source": [
    "#### Take-aways\n",
    "\n",
    "After studying this notes, we will be able to\n",
    "\n",
    "**Numerical differentiation**\n",
    "\n",
    "- use basic numerical differentiation to approximate derivatives,\n",
    "  - write forward/backward/centered different quotient,\n",
    "  - derive an accelerated method from another method using Richardson's extrapolation, \n",
    "- explain inherent difficulty of numerical differentiation,\n",
    "- prove the order of accuracy of each basic numerical differentiation,\n",
    "\n",
    "**Quadrature (numerical integration)**\n",
    "\n",
    "- explain how Newton-Cotes formula works,\n",
    "  - explain the idea behind Newton-Cotes formula,\n",
    "  - derive Newton-Cotes formula for a given order,\n",
    "- explain how Gaussian quadrature works,\n",
    "  - explain the idea behind Gaussian quadrature,\n",
    "  - derive Gaussian quadrature associated to a constant weight function and for a given order,\n",
    "  - give the definition of orthogonal functions with respect to a weighted-integeral-induced inner product,\n",
    "  - find a set of orthogonal functions given a weighted integral,\n",
    "  - verify accuracy of Gaussian quadrature directly from manual check,\n",
    "- explain composite rules,\n",
    "  - carry out change of intervals for integrals and quadrature formulas,\n",
    "  - construct a composite rule from a given Newton-Cotes formula and Gaussian quadrature, \n",
    "- summarize basic facts related to quadrature,\n",
    "  - summarize what methods are available for numerical integrations,\n",
    "  - summarize basic properties of orthogonal functions: they are oscilatory and have distinct zeros inside the interval\n",
    "- conduct error analysis for the methods covered,\n",
    "  - prove general error estimates of Newton-Cotes formulas,\n",
    "  - prove general error estimates of composite Newton-Cotes formulas,\n",
    "  - prove the accuracy of Gaussian quadrature,\n",
    "  <!-- - prove the optimality of Gaussian quadrature,\n",
    "  - prove error estimates of Gaussian quadrature with the error formula of Hermite interpolation provided,\n",
    "  - prove error estimates of composite Gaussian quadrature with the error formula of Hermite interpolation provided, -->\n"
   ]
  },
  {
   "cell_type": "markdown",
   "metadata": {},
   "source": [
    "#### Overview\n",
    "\n",
    "##### Problem of interest\n",
    "\n",
    "> ***Problem of interest***\n",
    ">\n",
    ">  - (numerical differentiation) \n",
    ">   Assuming only function evaluations $f$ are feasibles, but not $f^\\prime$,  find an approximation of  $f^\\prime(x)$\n",
    "> - (numerical integration/quadrature) \n",
    ">   Assuming function evaluations $f$ are available, find an approximation of $\\int_{a}^{b} f(x) dx$ for some $a < b$."
   ]
  },
  {
   "cell_type": "markdown",
   "metadata": {},
   "source": [
    "##### Methods \n",
    "\n",
    "(Numerical differentiation)\n",
    "\n",
    "1. Forward difference quotient\n",
    "2. Backward difference quotient\n",
    "3. Centered difference quotient\n",
    "4. Richardson's extrapolation\n",
    "\n",
    "(Quadrature or Numerical integration)\n",
    "\n",
    "1. Newton-Cotes's method\n",
    "   1. Trapezoidal rule\n",
    "   2. Simpson's rule\n",
    "   3. Higher order method\n",
    "2. Gaussian quadrature\n",
    "3. Composite methods of the above"
   ]
  },
  {
   "cell_type": "markdown",
   "metadata": {},
   "source": [
    "#### Forward/Backward/Centered difference quotient (Num Diff)"
   ]
  },
  {
   "cell_type": "markdown",
   "metadata": {},
   "source": [
    "##### Method\n",
    "\n",
    "![Forward/Backward difference quotient](https://jhparkyb.github.io/resources/notes/na/104ASlides_NumDiffInt006.png)\n",
    "\n",
    "![Centered difference quotient](https://jhparkyb.github.io/resources/notes/na/104ASlides_NumDiffInt007.png)"
   ]
  },
  {
   "cell_type": "markdown",
   "metadata": {},
   "source": [
    "##### Analysis\n",
    "\n",
    "[Proof of convergence of forward/backward difference quotient (Exercise)]()\n",
    "\n",
    "[Proof of convergence of centered fifference quotient](https://jhparkyb.github.io/resources/notes/na/104ABoardWork_NumDiffInt001.png)"
   ]
  },
  {
   "cell_type": "markdown",
   "metadata": {},
   "source": [
    "#### Richardson's extrapolation\n",
    "\n",
    "Richardson's extrapolation is a trick to obtain a more accurate numerical method out of another method. This very useful trick is not very different from middle school mathematics. \n",
    "\n",
    "![Repeated decimal to fraction](https://wtskills.com/wp-content/uploads/2021/04/image-617-768x317.png)\n",
    "\n",
    "Figure: https://wtskills.com/\n",
    "\n",
    "> **Example** (Accelerating centered difference quotient)\n",
    ">\n",
    "> [Accelerating centered difference quotient 1](https://jhparkyb.github.io/resources/notes/na/ex_RichardsonExtrapCenDiff1_lp2000.png)\n",
    ">\n",
    "> [Accelerating centered difference quotient 2](https://jhparkyb.github.io/resources/notes/na/ex_RichardsonExtrapCenDiff2_lp2000.png)"
   ]
  },
  {
   "cell_type": "markdown",
   "metadata": {},
   "source": [
    "> **Question**\n",
    ">\n",
    "> What do you think is it more of? A magic or clever idea but not quite a magic? Why?\n",
    ">\n",
    "> (Reminder) This is **about atmosphere**, not getting it right.\n",
    "> \n",
    "> 1. Think for a short time.\n",
    "> 2. Share your guess with your pair.\n",
    "> 3. Type your answer in clicker.\n",
    "> 4. Feel free to say out loud."
   ]
  },
  {
   "cell_type": "markdown",
   "metadata": {},
   "source": [
    "##### Inherent difficulty of numerical differentiation\n",
    "\n",
    "Rounding error may destroy everything if you pursue too much precision.\n",
    "\n",
    "> **Example** \n",
    "> \n",
    "> - $f'(x)=\\frac{f(x+h) - f(x-h)}{2h}+{\\mathcal{O}\\!\\left( h^2 \\right)} $  tells you the smaller $h$ gets the more accurate the approximation is. \n",
    "> - Every time you store something you have rounding error. Thus, what you really compute is $$\\frac{f(x+h) + e_1 - f(x-h)-e_2}{2h} = \\frac{f(x+h)  - f(x-h)}{2h} + \\frac{e_1 -e_2}{2h},$$ where $e_1, e_2$ represent rounding errors.\n",
    "> - 2nd term may amplify the error as $h$ gets smaller. \n",
    "> - Or, the numerator may just be zero to the computer since they are so close: leading to $f'(x)=0$.\n",
    "\n",
    "![Limitation of numerical differentiation](https://upload.wikimedia.org/wikipedia/commons/4/41/AbsoluteErrorNumericalDifferentiationExample.png)\n"
   ]
  },
  {
   "cell_type": "code",
   "execution_count": 14,
   "metadata": {},
   "outputs": [
    {
     "name": "stdout",
     "output_type": "stream",
     "text": [
      "               h  centered diff quot         error\n",
      "0   1.000000e+00            3.194528  4.762462e-01\n",
      "1   1.000000e-01            2.722815  4.532735e-03\n",
      "2   1.000000e-02            2.718327  4.530492e-05\n",
      "3   1.000000e-03            2.718282  4.530467e-07\n",
      "4   1.000000e-04            2.718282  4.530566e-09\n",
      "5   1.000000e-05            2.718282  5.858691e-11\n",
      "6   1.000000e-06            2.718282  1.634572e-10\n",
      "7   1.000000e-07            2.718282  5.858736e-11\n",
      "8   1.000000e-08            2.718282  6.602751e-09\n",
      "9   1.000000e-09            2.718282  6.602751e-09\n",
      "10  1.000000e-10            2.718281  6.727366e-07\n",
      "11  1.000000e-11            2.718292  1.042949e-05\n",
      "12  1.000000e-12            2.718492  2.102696e-04\n",
      "13  1.000000e-13            2.717826  4.558642e-04\n",
      "14  1.000000e-14            2.708944  9.337648e-03\n",
      "15  1.000000e-15            2.886580  1.682980e-01\n",
      "16  1.000000e-16            0.000000  2.718282e+00\n",
      "17  1.000000e-17            0.000000  2.718282e+00\n",
      "18  1.000000e-18            0.000000  2.718282e+00\n",
      "19  1.000000e-19            0.000000  2.718282e+00\n"
     ]
    },
    {
     "data": {
      "image/png": "[encoded data removed]",
      "text/plain": [
       "<Figure size 432x288 with 1 Axes>"
      ]
     },
     "metadata": {
      "needs_background": "light"
     },
     "output_type": "display_data"
    }
   ],
   "source": [
    "\"\"\"\n",
    "This example shows errorneous behavior of numerical differentiation when we take too small spacing.\n",
    "\"\"\"\n",
    "import numpy as np\n",
    "import pandas as pd\n",
    "import matplotlib.pyplot as plt\n",
    "plt.rcParams.update({'font.size': 16})\n",
    "\n",
    "# set the parameters\n",
    "N = 20\n",
    "x0 = 1.\n",
    "f = lambda x: np.exp(x)\n",
    "fp = lambda x: np.exp(x)\n",
    "\n",
    "# some intitial tasks\n",
    "der_true = fp(x0)\n",
    "\n",
    "# create an array for many different h's (vectorized computing)\n",
    "hh = 10.**(-np.arange(N))\n",
    "\n",
    "# compute 'cdq': standing for 'centered difference quotient'\n",
    "cdq = (f(x0 + hh) - f(x0 - hh))/(2*hh)\n",
    "\n",
    "# report the result in DataFrame\n",
    "cols = [\"h\", \"centered diff quot\", \"error\"]\n",
    "df = pd.DataFrame(columns=cols)\n",
    "df['h'] = hh\n",
    "df['centered diff quot'] = cdq\n",
    "df['error'] = np.abs(cdq - der_true)\n",
    "\n",
    "print(df)\n",
    "\n",
    "# plot the result\n",
    "fig, ax = plt.subplots()\n",
    "\n",
    "ax.plot(df['h'][::-1], df['error'][::-1], \"ob--\")\n",
    "ax.set_yscale(\"log\")\n",
    "ax.set_xscale(\"log\")\n",
    "ax.set_xlabel(\"h\")\n",
    "ax.set_ylabel(\"error\")\n",
    "ax.set_title(\"Error caused by\\ncentered diff quot\\nfor derivative of $e^x$ at $x=1$\")\n",
    "\n",
    "plt.show()\n"
   ]
  },
  {
   "cell_type": "markdown",
   "metadata": {},
   "source": [
    "> **Remark** (computation tips)\n",
    ">\n",
    "> Observe  \n",
    "> - that the above code only uses what we covered in the programming basics, and\n",
    "> - how vectorized coding and slicing makes the code concise \n",
    ">   - (vectorization + broadcasting) there are no `for` loops, hence concise and fast,\n",
    ">   - (slicing) there is no extra copy for plotting reversed $h$ values. (Try getting rid of `[::-1]` and plotting it.)"
   ]
  },
  {
   "cell_type": "markdown",
   "metadata": {},
   "source": [
    "**Transition**: Below, we are now studying numerical integrations (a.k.a. *quadrature*)\n",
    "\n",
    "> ***Problem of interest***\n",
    ">\n",
    "> - (numerical integration/quadrature) \n",
    ">   Assuming function evaluations $f$ are available, find an approximation of $\\int_{a}^{b} f(x) dx$ for some $a < b$."
   ]
  },
  {
   "cell_type": "markdown",
   "metadata": {},
   "source": [
    "#### Newton-Cotes formula (Quadrature)"
   ]
  },
  {
   "cell_type": "markdown",
   "metadata": {},
   "source": [
    "##### Method\n",
    "\n",
    "- Idea: Integrate a similar function that is simple instead of $f$: interpolating polynomial.\n",
    "\n",
    "> **Definition** (Newton-Cotes formula)\n",
    ">\n",
    "> Given $a<b$, let $x_i = a + di$ ($i=0,1,\\cdots,n$), where $d=(b-a)/n$, be *equally spaced nodes* on $[a,b]$. Then, the *Newton-Cotes formula* of order $n$ (or degree $n$) for  $\\int_a^b f(x)dx$ is given by\n",
    "> $$\\sum_{i=0}^n A_i f(x_i),$$\n",
    "> where \n",
    "> $$A_i = \\int_a^b \\ell_i(x) dx \\quad \\text{and} \\quad \n",
    "    \\ell_{i}(x)=\\prod_{\\substack{j=0 \\\\ j \\neq i}}^{n} \\frac{x-x_{j}}{x_{i}-x_{j}}.$$"
   ]
  },
  {
   "cell_type": "markdown",
   "metadata": {},
   "source": [
    "\n",
    "1. Degree 1: Trapezoidal rule\n",
    "    ![Trapezoidal rule](https://upload.wikimedia.org/wikipedia/commons/thumb/4/40/Trapezoidal_rule_illustration.svg/440px-Trapezoidal_rule_illustration.svg.png)\n",
    "    \n",
    "    $$\\int_{a}^{b} f(x) d x \\approx \\frac{b-a}{2}[f(a)+f(b)]$$\n",
    "\n",
    "    <!-- ![Trapezoidal rule](https://jhparkyb.github.io/resources/notes/na/104ASlides_NumDiffInt015.png) -->\n",
    "2. Degree 2: Simpson's rule\n",
    "   ![Simpson's rule](https://upload.wikimedia.org/wikipedia/commons/thumb/c/ca/Simpsons_method_illustration.svg/440px-Simpsons_method_illustration.svg.png)\n",
    "\n",
    "   $$\\int_a^b f(x) d x \\approx \\frac{b-a}{6}\\left[f(a)+4 f\\left(\\frac{a+b}{2}\\right)+f(b)\\right]$$\n",
    "3. Degree 3 or above is possible.\n"
   ]
  },
  {
   "cell_type": "markdown",
   "metadata": {},
   "source": [
    "##### Summary (Newton-Cotes)\n",
    "\n",
    "- Newton-Cotes rule (single interval) of order $n$ is obtained by \n",
    "    1. dividing the interval evenly into $n$ pieces, hence $n+1$ nodes, \n",
    "    1. finding an interpolating polynomial $p\\in\\Pi_n$ of $f$ on the nodes, and \n",
    "    1. integrating $p$ instead of $f$: $\\int_a^b p(x)dx$.\n",
    "- The general error of Newton-Cotes rule (single) interval of order $n$ is ${\\mathcal{O}\\!\\left( (b-a)^{n+2} \\right)}$.\n",
    "- The error of Simpson's rule ($n=2$) is better than the general accuracy: ${\\mathcal{O}\\!\\left( (b-a)^{5} \\right)}$"
   ]
  },
  {
   "cell_type": "markdown",
   "metadata": {},
   "source": [
    "##### Analysis: Error of Newton-Cotes formula\n",
    "\n",
    "> **Theorem** (Error of Newton-Cotes formular: single interval)\n",
    ">\n",
    "> Suppose $h>0$ and $f$ is smooth on $[a,a+h]$. Newton-Cotes formula of degree $n$ on $[a,a+h]$ satisfies\n",
    "> $$\n",
    "> \\left|\\int_{a}^{a+h} f(x) d x-\\sum_{i=0}^{n} A_{i} f\\left(x_{i}\\right)\\right| \\leq \\frac{\\hat M}{(n+1) !}h^{n+2},\n",
    "> $$\n",
    "> where $\\hat M:=\\max_{a\\le x \\le a+h} |f^{(n+1)}(x)|$ and $x_{i}=a+ ih/n$ ($i$--th node; $i=0,1,2,\\cdots,n$).\n",
    "\n"
   ]
  },
  {
   "cell_type": "markdown",
   "metadata": {},
   "source": [
    "#### Composite rules\n",
    "\n",
    "**Motivation**: We may need higher accuracy of integrals. But higher order interpolations would not do the job (Runge's phenomenon). Instead, we chop the interval into smaller pieces, use a low order quadrature formula for small intervals, and add them up.\n",
    "\n",
    "$$``\\sum_{\\text{subintervals}} (\\text{quadrature on each subinterval})\"$$\n",
    "\n",
    "![Composite rules](https://upload.wikimedia.org/wikipedia/commons/thumb/4/4b/Composite_trapezoidal_rule_illustration_small.png/1600px-Composite_trapezoidal_rule_illustration_small.png?20070922134859) \n",
    "\n",
    "![Composite Simpson's rule](https://upload.wikimedia.org/wikipedia/commons/thumb/f/fc/Simpson%27s_One-Third_Rule.gif/440px-Simpson%27s_One-Third_Rule.gif)"
   ]
  },
  {
   "cell_type": "markdown",
   "metadata": {},
   "source": [
    "##### Change of intervals\n",
    "\n",
    "**Motivation**: Composite rules lead to applying a quadrature rule (single interval) to many different intervals, and we need to recompute quadrature formulas for each interval. But this can be done more efficiently using change of intervals. For example, 4 subintervals lead to quadrature rules on 4 different intervals: \n",
    "    $$\\begin{split}\n",
    "    \\int_{0}^1 f(x) dx & = \\int_{0}^{1/4} f(x)dx + \\int_{1/4}^{1/2} f(x)dx \\\\ \n",
    "        &+ \\int_{1/2}^{3/4} f(x)dx + \\int_{3/4}^{1} f(x)dx \n",
    "    \\end{split} $$\n",
    "\n",
    "![Change of interval](https://jhparkyb.github.io/resources/notes/na/104ASlides_NumDiffInt020.png)\n",
    "\n",
    "Guidelines\n",
    "1. Show $$\\lambda(t)= \\frac{b-a}{d-c} t + \\frac{ad-bd}{d-c}.$$\n",
    "2. Carry out change of integral.\n",
    "3. Apply Newton-Cotes on $t$--domain.\n",
    "\n",
    "[Derivation of quadrature formula for a new interval](https://jhparkyb.github.io/resources/notes/na/104ABoardWork_NumDiffInt011.png)\n"
   ]
  },
  {
   "cell_type": "markdown",
   "metadata": {
    "slideshow": {
     "slide_type": "slide"
    }
   },
   "source": [
    "> **Example** (Composite Trapezoidal rule)\n",
    ">\n",
    "> ![Composite trapezoidal rule](https://jhparkyb.github.io/resources/notes/na/104ASlides_NumDiffInt016.png)\n",
    "\n"
   ]
  },
  {
   "cell_type": "markdown",
   "metadata": {},
   "source": [
    "##### Analysis: Error of composite Newton-Cotes formula\n",
    "\n",
    "> **Theorem** (Error of Newton-Cotes formular: single interval)\n",
    ">\n",
    "> Suppose $f$ is smooth on $[a,b]$. The composite Newton-Cotes formula of degree $n$ involving $k$ uniform subintervals satisfies\n",
    "> $$\n",
    "> \\left|\\int_{a}^{b} f(x) d x-\\sum_{j=1}^k \\sum_{i=0}^{n} A_{i} f\\left(x_{j,i}\\right)\\right| \\leq \\frac{M(b-a)}{(n+1) !}h^{n+1} ,\n",
    "> $$\n",
    "> where $M:=\\max_{a\\le x \\le b} |f^{(n+1)}(x)|$ and $x_{j,i}=a+(j-1)h + ih/n$ ($i$--th node in $j$--th subinterval; $i=0,1,2,\\cdots,n$ and  $j=1,2,\\cdots,k$).\n",
    "\n"
   ]
  },
  {
   "cell_type": "markdown",
   "metadata": {},
   "source": [
    "#### Gaussian Quadrature"
   ]
  },
  {
   "cell_type": "markdown",
   "metadata": {},
   "source": [
    " \n"
   ]
  },
  {
   "cell_type": "markdown",
   "metadata": {},
   "source": [
    "##### Preliminary concepts\n",
    "\n",
    "> **Weighted integrals**\n",
    "> \n",
    "> We sometimes want to weight differently when summing up or integrate: for some weight function $w:[a,b]\\to(0,\\infty)$, \n",
    "> \n",
    "> $$\\int_a^b f(x) {\\color{red}w(x)} dx.$$"
   ]
  },
  {
   "cell_type": "markdown",
   "metadata": {},
   "source": [
    "> **Motivation** (Quadrature formula for Weighted integrals)\n",
    ">\n",
    "> Let $w$ be some some positive weight function. Then, for any distinct $x_0, x_1, \\cdots, x_n\\in[a,b]$, the quadrature formula\n",
    "> \n",
    "> $$\\sum_{i=0}^{n} \\tilde A_i f(x_i)$$ \n",
    "> \n",
    "> is $\\Pi_n$-exact, where, $\\tilde A_i = \\int_a^b \\ell_i(x) {\\color{red}w(x)} dx$.\n",
    ">\n",
    "> Can we do better? How?\n"
   ]
  },
  {
   "cell_type": "markdown",
   "metadata": {},
   "source": [
    "> **Definition** (Orthogonal functions)\n",
    ">\n",
    "> Let $w$ be some some positive weight function and functions $p(x)$ and $q(x)$ are defined on $[a,b]$. We way they are *orthogonal* with respect to $\\int_a^b (\\ \\cdot \\ , \\ \\cdot \\ )w(x)dx$ or simply with respect to $w$ if\n",
    "> $$\\int_a^b p(x)q(x)w(x)dx=0.$$"
   ]
  },
  {
   "cell_type": "markdown",
   "metadata": {},
   "source": [
    "> **Remark**\n",
    ">\n",
    "> $\\int_a^b (\\ \\cdot \\ , \\ \\cdot \\ )w(x)dx$ is in fact an inner product (generalization of dot product)."
   ]
  },
  {
   "cell_type": "markdown",
   "metadata": {},
   "source": [
    "> **Theorem** (Accuracy of Gaussian quadrature)\n",
    ">\n",
    "> Let $w$ be a positive weight function and $q\\in\\Pi_{n+1}$ be $w$--orthogonal to $\\Pi_n$, that is, $\\int_a^b q(x)p(x)w(x)dx=0$ ($\\forall p\\in\\Pi_n$). If $x_0, x_1, \\cdots, x_n\\in[a,b]$ are chosen to be the zeros of $q$, then the quadrature  $\\sum_{i=0}^{n} \\tilde A_i f(x_i)$ is $\\Pi_{2n+1}$--exact, where $\\tilde A_i = \\int_a^b \\ell_i(x) w(x)dx$. \n",
    ">\n",
    "\n",
    "> **Definition** (Gaussian Quadrature)\n",
    ">\n",
    "> The quadrature appearing in the theorem is called *Gaussian quadrature*.\n",
    "\n",
    "[Proof of accuracy of Gaussian quadrature](https://jhparkyb.github.io/resources/notes/na/104ABoardWork_NumDiffInt016.png)"
   ]
  },
  {
   "cell_type": "markdown",
   "metadata": {},
   "source": [
    "> **Example** (Gauss-Legendre)\n",
    "> \n",
    "> | Nodes | Weights |\n",
    "> |:-:|:-:|\n",
    "> | $$-\\frac{1}{\\sqrt{3}}, \\ \\frac{1}{\\sqrt{3}}$$ | $1$, $1$ |\n",
    "> | $$-\\sqrt{\\frac{3}{5}}, \\ 0, \\ \\sqrt{\\frac{3}{5}}$$ | $$\\frac{5}{9},\\ \\frac{8}{9}, \\ \\frac{5}{9}$$ |\n",
    "> \n",
    "> ![Gauss-Legendre2](https://upload.wikimedia.org/wikipedia/commons/thumb/9/93/Comparison_Gaussquad_trapezoidal.svg/1920px-Comparison_Gaussquad_trapezoidal.svg.png)\n",
    ">\n",
    "> Figure: Wikipedia\n",
    "\n",
    "[Nodes and weights of more Gauss-Legendre quadratures](https://en.wikipedia.org/wiki/Gaussian_quadrature#Gauss%E2%80%93Legendre_quadrature)"
   ]
  },
  {
   "cell_type": "markdown",
   "metadata": {},
   "source": [
    "##### Example code of Gauss-Legendre3 "
   ]
  },
  {
   "cell_type": "code",
   "execution_count": null,
   "metadata": {},
   "outputs": [],
   "source": [
    "import numpy as np\n",
    "\n",
    "def gauss3(height, a: float, b:float):\n",
    "    \"\"\"\n",
    "    Return approximate integral using Gauss-Legendre3 quadrature\n",
    "    \n",
    "    INPUT\n",
    "        f: function to integrate (lambda or explicite function)\n",
    "        a, b: lower and upper limits of the interval of integral\n",
    "    OUPUT\n",
    "        approximate integral\n",
    "    \"\"\"\n",
    "\n",
    "    # Gauss-Legendre3 nodes for [-1,1]\n",
    "    tmp = np.sqrt(3.0/5)\n",
    "    ref_nodes = np.array([-tmp, 0, tmp])\n",
    "\n",
    "    # Gauss-Legendre3 nodes for [0,1]\n",
    "    ref_nodes = (ref_nodes + 1)/2 \n",
    "    \n",
    "    # Gauss-Legendre3 weights (weights are the same for any interval)\n",
    "    g3_weights = np.array([5./9, 8./9, 5./9])\n",
    "    \n",
    "    # left end points of subintervals \n",
    "    left_pts = a\n",
    "\n",
    "    # Gauss-Legendre3 nodes for the interval [a,b]\n",
    "    xx = left_pts + (b-a)*ref_nodes # broadcasting in effect\n",
    "\n",
    "    # evaluate functions at all nodes\n",
    "    height = f(xx)\n",
    "\n",
    "    # extract heights at middle nodes (weight 8/9 will apply)\n",
    "    height_mid = height[1] \n",
    "\n",
    "    # extract heights at middle nodes (weight 5/9 will apply)\n",
    "    height_side = height[[0,2]]\n",
    "\n",
    "    # (b-a)/2 comes from change of interval\n",
    "    return (b-a)/2*(g3_weights[0]*np.sum(height_side) + g3_weights[1]*np.sum(height_mid))\n",
    "\n",
    "f = lambda x: x**5 #np.sin(np.pi*x)\n",
    "a = 0\n",
    "b = 1\n",
    "\n",
    "num_int = gauss3(f, a, b)\n",
    "\n",
    "print(f\"integral of f from {a} to {b} \\n using Gauss-Legendre3: \\n     {num_int}\")"
   ]
  },
  {
   "cell_type": "markdown",
   "metadata": {},
   "source": [
    "##### Example code of composite Gauss-Legendre3 "
   ]
  },
  {
   "cell_type": "markdown",
   "metadata": {},
   "source": [
    "\n",
    "### Tips\n",
    "\n",
    "- Use broadcasting for nodes and weights (review `numpy_basics.ipynb` if necessary).\n",
    "  For example,  3-by-1 + 1-by-5 = 3-by-5. \n",
    "  $$\\begin{bmatrix} 9 \\\\ 8 \\\\ 7 \\end{bmatrix} + \\begin{bmatrix} 10 & 20 & 30 & 40 & 50 \\end{bmatrix}  = \\begin{bmatrix} 19 & 29 & 39 & 49 & 59 \\\\ 18 & 28 & 38 & 48 & 58 \\\\ 17 & 27 & 37 & 47 & 57 \\end{bmatrix}$$\n",
    "\n",
    "(nodes array, $x_{i,j}=$ $i$-th Gauss-Legendre3 node of $j$-th subinterval)\n",
    "|Subinterval| $[x_0, x_1]$ | $[x_1, x_2]$| $[x_2, x_3]$| ... | $[x_{k-1}, x_k]$|\n",
    "|:-:|:-:|:-:|:-:|:-:|:-:|\n",
    "|array entry| $x_{0,0}$ | $x_{0,1}$ | $x_{0,2}$ | ... | $x_{0,k-1}$ |\n",
    "|array entry| $x_{1,0}$ | $x_{1,1}$ | $x_{1,2}$ | ... | $x_{1,k-1}$ |\n",
    "|array entry| $x_{2,0}$ | $x_{2,1}$ | $x_{2,2}$ | ... | $x_{2,k-1}$ |   \n",
    "\n",
    "(weight array)\n",
    "|Subinterval| $[x_0, x_1]$ | $[x_1, x_2]$| $[x_2, x_3]$| ... | $[x_{k-1}, x_k]$|\n",
    "|:-:|:-:|:-:|:-:|:-:|:-:|\n",
    "|array entry| 5/9 | 5/9 | 5/9 | ... | 5/9 |\n",
    "|array entry| 8/9 | 8/9 | 8/9 | ... | 8/9 |\n",
    "|array entry| 5/9 | 5/9 | 5/9 | ... | 5/9 | \n",
    "\n",
    "    "
   ]
  },
  {
   "cell_type": "code",
   "execution_count": null,
   "metadata": {},
   "outputs": [],
   "source": [
    "import numpy as np\n",
    "\n",
    "def comp_gauss3(height, a: float, b:float, k: int):\n",
    "    \"\"\"\n",
    "    Return approximate integral using composite Gauss-Legendre3 quadrature\n",
    "    \n",
    "    INPUT\n",
    "        f: function to integrate (lambda or explicite function)\n",
    "        a, b: lower and upper limits of the interval of integral\n",
    "        k: #of subintervals of composite version\n",
    "    OUPUT\n",
    "        approximate integral\n",
    "    \"\"\"\n",
    "\n",
    "        # Gauss-Legendre3 nodes for [-1,1]\n",
    "    tmp = np.sqrt(3.0/5)\n",
    "    ref_nodes = np.array([-tmp, 0, tmp])\n",
    "\n",
    "    # Gauss-Legendre3 nodes for [0,1]\n",
    "    ref_nodes = (ref_nodes + 1)/2 \n",
    "    \n",
    "    # Gauss-Legendre3 weights (weights are the same for any interval)\n",
    "    g3_weights = np.array([5./9, 8./9, 5./9])\n",
    "    \n",
    "    # left end points of subintervals\n",
    "    h = (b-a)/k \n",
    "    left_pts = np.arange(a, b, h)\n",
    "\n",
    "    # array for all nodes for the quadrature\n",
    "    # each column corresponds to Gauss-Legendre3 nodes for each subinterval\n",
    "    xx = left_pts + h*ref_nodes.reshape((-1,1)) # broadcasting in effect\n",
    "\n",
    "    # evaluate functions at all nodes\n",
    "    height = f(xx)\n",
    "\n",
    "    # extract heights at middle nodes (weight 8/9 will apply)\n",
    "    height_mid = height[1,:] \n",
    "\n",
    "    # extract heights at middle nodes (weight 5/9 will apply)\n",
    "    height_side = height[[0,2],:]\n",
    "\n",
    "    # h/2 comes from change of interval\n",
    "    return h/2*(g3_weights[0]*np.sum(height_side) + g3_weights[1]*np.sum(height_mid))\n",
    "\n",
    "f = lambda x: np.sin(np.pi*x)\n",
    "a = 0\n",
    "b = 1\n",
    "k = 5\n",
    "\n",
    "num_int = comp_gauss3(f, a, b, k)\n",
    "\n",
    "print(f\" integral of f from {a} to {b} \\n using composite Gauss-Legendre3 \\n with {k} subinterval: \\n       {num_int}\")"
   ]
  },
  {
   "cell_type": "markdown",
   "metadata": {},
   "source": [
    "> **Theorem** (The accuracy of Gaussian quadratures are best possible) \n",
    "> \n",
    "> No quadrature rule for integrals over $[a,b]$ with respect to positive a weight function that involves $(n+1)$ nodes can be exact for $\\Pi_{2n+2}$.\n",
    "\n",
    "<!-- (Proof) \n",
    "\n",
    "For any nodes $x_0, x_1, \\cdots, x_n \\in [a,b]$, consider $g(x)=\\prod_{i=0}^n (x-x_i)^2$. Then, $g\\in\\Pi_{2n+2}$ and strictly positive except at a finite number of points. Thus, $\\int_a^b g(x)w(x)dx > 0$. However, for any quadrature rule of the type $\\sum_{i=0}^n \\tilde A_i g(x_i)$ results in $0$. Therefore, it cannot be $\\Pi_{2n+2}$-exact. -->"
   ]
  },
  {
   "cell_type": "markdown",
   "metadata": {},
   "source": [
    "Concern: What if the the roots of the orthogonal polynomials are complex, repeated, or outside the interval?\n",
    "\n",
    "> **Theorem** (Oscillatory behavior of orthogonal functions)\n",
    ">\n",
    "> "
   ]
  },
  {
   "cell_type": "markdown",
   "metadata": {},
   "source": []
  },
  {
   "cell_type": "markdown",
   "metadata": {
    "vscode": {
     "languageId": "plaintext"
    }
   },
   "source": [
    "---\n",
    "This work is licensed under [Creative Commons Attribution-ShareAlike 4.0 International](https://creativecommons.org/licenses/by-sa/4.0/)"
   ]
  },
  {
   "cell_type": "markdown",
   "metadata": {},
   "source": []
  }
 ],
 "metadata": {
  "kernelspec": {
   "display_name": "ptrch",
   "language": "python",
   "name": "ptrch"
  },
  "language_info": {
   "codemirror_mode": {
    "name": "ipython",
    "version": 3
   },
   "file_extension": ".py",
   "mimetype": "text/x-python",
   "name": "python",
   "nbconvert_exporter": "python",
   "pygments_lexer": "ipython3",
   "version": "3.8.13"
  },
  "orig_nbformat": 4
 },
 "nbformat": 4,
 "nbformat_minor": 2
}
