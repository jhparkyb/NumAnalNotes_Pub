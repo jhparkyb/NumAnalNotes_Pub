{
 "cells": [
  {
   "cell_type": "markdown",
   "metadata": {},
   "source": [
    "### Numerical differentiation and integration"
   ]
  },
  {
   "cell_type": "markdown",
   "metadata": {},
   "source": [
    "#### Take-aways\n",
    "\n",
    "After studying this notes, we will be able to\n",
    "\n",
    "TBC\n"
   ]
  },
  {
   "cell_type": "markdown",
   "metadata": {},
   "source": [
    "#### Overview\n",
    "\n",
    "##### Problem of interest\n",
    "\n",
    "> ***Problem of interest*** (Interpolation)\n",
    ">\n",
    "> Given a set of pairs,\n",
    "> | $x_0$ | $x_1$ |$x_2$  |... | $x_n$ |\n",
    "> |:-:|:-:|:-:|:-:|:-:|\n",
    "> | $y_0$ | $y_1$ |$y_2$  |... | $y_n$ |\n",
    ">\n",
    "> - (numerical differentiation) \n",
    ">   \n",
    ">   find an approximation of  $f^\\prime(x_i)$ for some $0\\le i \\le n$,\n",
    "> - (numerical integration/quadrature) \n",
    ">   \n",
    ">   find an approximation of $\\int_{x_0}^{x_n} f(x) dx$, where $y_i=f(x_i)$ for $0\\le i \\le n$."
   ]
  },
  {
   "cell_type": "markdown",
   "metadata": {},
   "source": [
    "##### Methods \n",
    "\n",
    "(Numerical differentiation)\n",
    "\n",
    "1. Forward difference quotient\n",
    "2. Backward difference quotient\n",
    "3. Centered difference quotient\n",
    "4. Richardson's extrapolation\n",
    "\n",
    "(Quadrature or Numerical integration)\n",
    "\n",
    "1. Newton-Cotes's method\n",
    "   1. Trapezoidal rule\n",
    "   2. Simpson's rule\n",
    "   3. Higher order method\n",
    "2. Gaussian quadrature\n",
    "3. Composite methods of the above"
   ]
  },
  {
   "cell_type": "markdown",
   "metadata": {},
   "source": [
    "#### Forward/Backward/Centered difference quotient"
   ]
  },
  {
   "cell_type": "markdown",
   "metadata": {},
   "source": [
    "##### Method\n",
    "\n",
    "![Forward/Backward difference quotient](https://jhparkyb.github.io/resources/notes/na/104ASlides_NumDiffInt006.png)\n",
    "\n",
    "![Centered difference quotient](https://jhparkyb.github.io/resources/notes/na/104ASlides_NumDiffInt007.png)"
   ]
  },
  {
   "cell_type": "markdown",
   "metadata": {},
   "source": [
    "##### Analysis\n",
    "\n",
    "[Proof of convergence of forward/backward difference quotient (Exercise)]()\n",
    "\n",
    "[Proof of convergence of centered fifference quotient](https://jhparkyb.github.io/resources/notes/na/104ABoardWork_NumDiffInt001.png)"
   ]
  },
  {
   "cell_type": "markdown",
   "metadata": {},
   "source": [
    "#### Richardson's extrapolation\n",
    "\n",
    "Richardson's extrapolation is a trick to obtain a more accurate numerical method out of another method.\n",
    "\n",
    "@@@ working line\n",
    "\n",
    "> **Example** (Accelerating centered difference quotient)\n",
    ">\n",
    "> ![Accelerating centered difference quotient]()"
   ]
  },
  {
   "cell_type": "markdown",
   "metadata": {
    "vscode": {
     "languageId": "plaintext"
    }
   },
   "source": [
    "---\n",
    "This work is licensed under [Creative Commons Attribution-ShareAlike 4.0 International](https://creativecommons.org/licenses/by-sa/4.0/)"
   ]
  },
  {
   "cell_type": "markdown",
   "metadata": {},
   "source": []
  }
 ],
 "metadata": {
  "kernelspec": {
   "display_name": "ptrch",
   "language": "python",
   "name": "ptrch"
  },
  "language_info": {
   "codemirror_mode": {
    "name": "ipython",
    "version": 3
   },
   "file_extension": ".py",
   "mimetype": "text/x-python",
   "name": "python",
   "nbconvert_exporter": "python",
   "pygments_lexer": "ipython3",
   "version": "3.9.1"
  },
  "orig_nbformat": 4
 },
 "nbformat": 4,
 "nbformat_minor": 2
}
