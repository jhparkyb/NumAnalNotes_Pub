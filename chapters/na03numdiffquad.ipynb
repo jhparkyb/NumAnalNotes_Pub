{
 "cells": [
  {
   "cell_type": "markdown",
   "metadata": {},
   "source": [
    "### Numerical differentiation and integration"
   ]
  },
  {
   "cell_type": "markdown",
   "metadata": {},
   "source": [
    "#### Take-aways\n",
    "\n",
    "After studying this notes, we will be able to\n",
    "\n",
    "TBC\n"
   ]
  },
  {
   "cell_type": "markdown",
   "metadata": {},
   "source": [
    "#### Overview\n",
    "\n",
    "##### Problem of interest\n",
    "\n",
    "> ***Problem of interest***\n",
    ">\n",
    ">  - (numerical differentiation) \n",
    ">   Assuming only function evaluations $f$ are feasibles, but not $f^\\prime$,  find an approximation of  $f^\\prime(x)$\n",
    "> - (numerical integration/quadrature) \n",
    ">   Assuming function evaluations $f$ are available, find an approximation of $\\int_{a}^{b} f(x) dx$ for some $a < b$."
   ]
  },
  {
   "cell_type": "markdown",
   "metadata": {},
   "source": [
    "##### Methods \n",
    "\n",
    "(Numerical differentiation)\n",
    "\n",
    "1. Forward difference quotient\n",
    "2. Backward difference quotient\n",
    "3. Centered difference quotient\n",
    "4. Richardson's extrapolation\n",
    "\n",
    "(Quadrature or Numerical integration)\n",
    "\n",
    "1. Newton-Cotes's method\n",
    "   1. Trapezoidal rule\n",
    "   2. Simpson's rule\n",
    "   3. Higher order method\n",
    "2. Gaussian quadrature\n",
    "3. Composite methods of the above"
   ]
  },
  {
   "cell_type": "markdown",
   "metadata": {},
   "source": [
    "#### Forward/Backward/Centered difference quotient (Num Diff)"
   ]
  },
  {
   "cell_type": "markdown",
   "metadata": {},
   "source": [
    "##### Method\n",
    "\n",
    "![Forward/Backward difference quotient](https://jhparkyb.github.io/resources/notes/na/104ASlides_NumDiffInt006.png)\n",
    "\n",
    "![Centered difference quotient](https://jhparkyb.github.io/resources/notes/na/104ASlides_NumDiffInt007.png)"
   ]
  },
  {
   "cell_type": "markdown",
   "metadata": {},
   "source": [
    "##### Analysis\n",
    "\n",
    "[Proof of convergence of forward/backward difference quotient (Exercise)]()\n",
    "\n",
    "[Proof of convergence of centered fifference quotient](https://jhparkyb.github.io/resources/notes/na/104ABoardWork_NumDiffInt001.png)"
   ]
  },
  {
   "cell_type": "markdown",
   "metadata": {},
   "source": [
    "#### Richardson's extrapolation\n",
    "\n",
    "Richardson's extrapolation is a trick to obtain a more accurate numerical method out of another method. This very useful trick is not very different from middle school mathematics. \n",
    "\n",
    "![Repeated decimal to fraction](https://wtskills.com/wp-content/uploads/2021/04/image-617-768x317.png)\n",
    "\n",
    "Figure: https://wtskills.com/\n",
    "\n",
    "> **Example** (Accelerating centered difference quotient)\n",
    ">\n",
    "> [Accelerating centered difference quotient 1](https://jhparkyb.github.io/resources/notes/na/ex_RichardsonExtrapCenDiff1_lp2000.png)\n",
    ">\n",
    "> [Accelerating centered difference quotient 2](https://jhparkyb.github.io/resources/notes/na/ex_RichardsonExtrapCenDiff2_lp2000.png)"
   ]
  },
  {
   "cell_type": "markdown",
   "metadata": {},
   "source": [
    "**Transition**: Below, we are now studying numerical integrations (a.k.a. *quadrature*)\n",
    "\n",
    "> ***Problem of interest***\n",
    ">\n",
    "> - (numerical integration/quadrature) \n",
    ">   Assuming function evaluations $f$ are available, find an approximation of $\\int_{a}^{b} f(x) dx$ for some $a < b$."
   ]
  },
  {
   "cell_type": "markdown",
   "metadata": {},
   "source": [
    "#### Newton-Cotes formula (Quadrature)"
   ]
  },
  {
   "cell_type": "markdown",
   "metadata": {},
   "source": [
    "##### Method\n",
    "\n",
    "- Idea: Integrate a similar function that is simple instead of $f$: interpolating polynomial.\n",
    "\n",
    "> **Definition** (Newton-Cotes formula)\n",
    ">\n",
    "> Given $a<b$, let $x_i = a + di$ ($i=0,1,\\cdots,n$), where $d=(b-a)/n$, be *equally spaced nodes* on $[a,b]$. Then, the *Newton-Cotes formula* of order $n$ (or degree $n$) for  $\\int_a^b f(x)dx$ is given by\n",
    "> $$\\sum_{i=0}^n A_i f(x_i),$$\n",
    "> where \n",
    "> $$A_i = \\int_a^b \\ell_i(x) dx \\quad \\text{and} \\quad \n",
    "    \\ell_{i}(x)=\\prod_{\\substack{j=0 \\\\ j \\neq i}}^{n} \\frac{x-x_{j}}{x_{i}-x_{j}}.$$"
   ]
  },
  {
   "cell_type": "markdown",
   "metadata": {},
   "source": [
    "\n",
    "1. Degree 1: Trapezoidal rule\n",
    "    ![Trapezoidal rule](https://upload.wikimedia.org/wikipedia/commons/thumb/4/40/Trapezoidal_rule_illustration.svg/440px-Trapezoidal_rule_illustration.svg.png)\n",
    "    \n",
    "    $$\\int_{a}^{b} f(x) d x \\approx \\frac{b-a}{2}[f(a)+f(b)]$$\n",
    "\n",
    "    <!-- ![Trapezoidal rule](https://jhparkyb.github.io/resources/notes/na/104ASlides_NumDiffInt015.png) -->\n",
    "2. Degree 2: Simpson's rule\n",
    "   ![Simpson's rule](https://upload.wikimedia.org/wikipedia/commons/thumb/c/ca/Simpsons_method_illustration.svg/440px-Simpsons_method_illustration.svg.png)\n",
    "\n",
    "   $$\\int_a^b f(x) d x \\approx \\frac{b-a}{6}\\left[f(a)+4 f\\left(\\frac{a+b}{2}\\right)+f(b)\\right]$$\n",
    "3. Degree 3 or above is possible.\n"
   ]
  },
  {
   "cell_type": "markdown",
   "metadata": {},
   "source": [
    "##### Summary\n",
    "\n",
    "- Newton-Cotes rule (single interval) of order $n$ is obtained by \n",
    "    1. dividing the interval evenly into $n$ pieces, hence $n+1$ nodes, \n",
    "    1. finding an interpolating polynomial $p\\in\\Pi_n$ of $f$ on the nodes, and \n",
    "    1. integrating $p$ instead of $f$: $\\int_a^b p(x)dx$.\n",
    "- The general error of Newton-Cotes rule (single) interval of order $n$ is ${\\mathcal{O}\\!\\left( (b-a)^{n+2} \\right)}$.\n",
    "- The error of Simpson's rule ($n=2$) is better than the general accuracy: ${\\mathcal{O}\\!\\left( (b-a)^{5} \\right)}$"
   ]
  },
  {
   "cell_type": "markdown",
   "metadata": {},
   "source": [
    "##### Analysis: Error of Newton-Cotes formula\n",
    "\n",
    "> **Theorem** (Error of Newton-Cotes formular: single interval)\n",
    ">\n",
    "> For $h>0$, Newton-Cotes formula of degree $n$ on $[a,a+h]$ satisfies\n",
    "> $$\n",
    "> \\left|\\int_{a}^{a+h} f(x) d x-\\sum_{i=0}^{n} A_{i} f\\left(x_{i}\\right)\\right| \\leq \\frac{\\hat M}{(n+1) !}h^{n+2},\n",
    "> $$\n",
    "> where $\\hat M:=\\max_{a\\le x \\le a+h} |f^{(n+1)}(x)|$ and $x_{i}=a+ ih/n$ ($i$--th node; $i=0,1,2,\\cdots,n$).\n",
    "\n"
   ]
  },
  {
   "cell_type": "markdown",
   "metadata": {},
   "source": [
    "#### Composite rules\n",
    "\n",
    "**Motivation**: We may need higher accuracy of integrals. But higher order interpolations would not do the job (Runge's phenomenon). Instead, we chop the interval into smaller pieces, use a low order quadrature formula for small intervals, and add them up.\n",
    "\n",
    "![Composite rules](https://upload.wikimedia.org/wikipedia/commons/thumb/4/4b/Composite_trapezoidal_rule_illustration_small.png/1600px-Composite_trapezoidal_rule_illustration_small.png?20070922134859) \n",
    "\n",
    "![Composite Simpson's rule](https://upload.wikimedia.org/wikipedia/commons/thumb/f/fc/Simpson%27s_One-Third_Rule.gif/440px-Simpson%27s_One-Third_Rule.gif)"
   ]
  },
  {
   "cell_type": "markdown",
   "metadata": {},
   "source": [
    "##### Change of intervals\n",
    "\n",
    "**Motivation**: Composite rules lead to applying a quadrature rule (single interval) to many different intervals, and we need recompute quadrature formulas for each interval. But this can be done more efficiently using change of intervals.\n",
    "\n",
    "![Change of interval](https://jhparkyb.github.io/resources/notes/na/104ASlides_NumDiffInt020.png)\n",
    "\n",
    "[Derivation of quadrature formula for a new interval](https://jhparkyb.github.io/resources/notes/na/104ABoardWork_NumDiffInt012.png)\n"
   ]
  },
  {
   "cell_type": "markdown",
   "metadata": {},
   "source": []
  },
  {
   "cell_type": "markdown",
   "metadata": {
    "vscode": {
     "languageId": "plaintext"
    }
   },
   "source": [
    "---\n",
    "This work is licensed under [Creative Commons Attribution-ShareAlike 4.0 International](https://creativecommons.org/licenses/by-sa/4.0/)"
   ]
  },
  {
   "cell_type": "markdown",
   "metadata": {},
   "source": []
  }
 ],
 "metadata": {
  "kernelspec": {
   "display_name": "ptrch",
   "language": "python",
   "name": "ptrch"
  },
  "language_info": {
   "codemirror_mode": {
    "name": "ipython",
    "version": 3
   },
   "file_extension": ".py",
   "mimetype": "text/x-python",
   "name": "python",
   "nbconvert_exporter": "python",
   "pygments_lexer": "ipython3",
   "version": "3.9.1"
  },
  "orig_nbformat": 4
 },
 "nbformat": 4,
 "nbformat_minor": 2
}
