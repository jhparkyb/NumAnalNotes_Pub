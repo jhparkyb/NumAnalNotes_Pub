{
 "cells": [
  {
   "cell_type": "markdown",
   "metadata": {},
   "source": [
    "### Numerical differentiation and integration"
   ]
  },
  {
   "cell_type": "markdown",
   "metadata": {},
   "source": [
    "#### Take-aways\n",
    "\n",
    "After studying this notes, we will be able to\n"
   ]
  },
  {
   "cell_type": "markdown",
   "metadata": {},
   "source": [
    "#### Overview\n",
    "\n",
    "##### Problem of interest\n",
    "\n",
    "> ***Problem of interest*** (Interpolation)\n",
    ">\n",
    "> Given a set of pairs,\n",
    "> | $x_0$ | $x_1$ |$x_2$  |... | $x_n$ |\n",
    "> |:-:|:-:|:-:|:-:|:-:|\n",
    "> | $y_0$ | $y_1$ |$y_2$  |... | $y_n$ |\n",
    ">\n",
    "> - (numerical differentiation) \n",
    ">   \n",
    ">   find an approximation of  $f^\\prime(x_i)$ for some $0\\le i \\le n$,\n",
    "> - (numerical integration/quadrature) \n",
    ">   \n",
    ">   find an approximation of $\\int_{x_0}^{x_n} f(x) dx$, where $y_i=f(x_i)$ for $0\\le i \\le n$."
   ]
  },
  {
   "cell_type": "markdown",
   "metadata": {},
   "source": [
    "##### Methods \n",
    "\n",
    "(Numerical differentiation)\n",
    "\n",
    "1. Forward difference quotient\n",
    "2. Backward difference quotient\n",
    "3. Centered difference quotient\n",
    "4. Richardson's extrapolation"
   ]
  },
  {
   "cell_type": "markdown",
   "metadata": {},
   "source": [
    "#### Forward/Backward/Centered difference quotient"
   ]
  },
  {
   "cell_type": "markdown",
   "metadata": {},
   "source": [
    "##### Method\n",
    "\n",
    "![Forward/Backward difference quotient](https://jhparkyb.github.io/resources/notes/na/104ASlides_NumDiffInt006.png)\n",
    "\n",
    "![Centered difference quotient](https://jhparkyb.github.io/resources/notes/na/104ASlides_NumDiffInt007.png)"
   ]
  },
  {
   "cell_type": "markdown",
   "metadata": {},
   "source": [
    "##### Analysis\n",
    "\n",
    "[Proof of convergence of forward/backward difference quotient (Exercise)]()\n",
    "\n",
    "[Proof of convergence of centered fifference quotient](https://jhparkyb.github.io/resources/notes/na/104ABoardWork_NumDiffInt001.png)"
   ]
  },
  {
   "cell_type": "markdown",
   "metadata": {},
   "source": [
    "#### Newton form"
   ]
  },
  {
   "cell_type": "markdown",
   "metadata": {},
   "source": [
    "##### Method\n",
    "\n",
    "- Find a sequence of polynomials rather than a single one right away.\n",
    "- Increase the degrees of polynomials as interpolating more and more points.\n",
    "\n",
    "The method can be best understood by an example.\n",
    "\n",
    "![Example of interpolation: Newton form](https://jhparkyb.github.io/resources/notes/na/104ASlides_Approximation014.png)\n",
    "\n",
    "[Finding interpolating polynomial in the Newton form 1](https://jhparkyb.github.io/resources/notes/na/104ABoardWork_Approximation001.png)\n",
    "\n",
    "[Finding interpolating polynomial in the Newton form 2](https://jhparkyb.github.io/resources/notes/na/104ABoardWork_Approximation002.png)"
   ]
  },
  {
   "cell_type": "markdown",
   "metadata": {},
   "source": [
    "#### Lagrange form"
   ]
  },
  {
   "cell_type": "markdown",
   "metadata": {},
   "source": [
    "##### Method\n",
    "\n",
    "![Lagrange basis](https://jhparkyb.github.io/resources/notes/na/104ASlides_Approximation011.png)\n",
    "\n",
    "![Lagrange basis example](https://jhparkyb.github.io/resources/notes/na/104ASlides_Approximation012.png)\n",
    "\n",
    "![Example of interpolation: Lagrange form](https://jhparkyb.github.io/resources/notes/na/104ASlides_Approximation014.png)\n"
   ]
  },
  {
   "cell_type": "markdown",
   "metadata": {},
   "source": [
    "#### Basic polynomial interpolation (approximation) summary "
   ]
  },
  {
   "cell_type": "markdown",
   "metadata": {},
   "source": [
    "| | Vandermonde | Lagrange| Newton|\n",
    "|:-:|:-:|:-:|:-:|\n",
    "| Basis | $1,x,x_2, \\cdots$ | $l_i(x)=\\prod_{j\\neq i} \\frac{x−x_j}{x_i−x_j}$| $1,(x−x_0),(x−x_0)(x−x_1),\\cdots$|\n",
    "| Pros | Some algebraic beauty | Convenient for proofs (writing out interpolation is immediate)| Computationally efficient (recursive structure) |\n",
    "| Numerical aspect | Inaccurate and in- efficient: the ma- trix is ill-conditioned and inverting a ma- trix is among expen- sive computations | Efficient when nodes are fixed but possibly the data (i.e., y-coordinates) changes  | Efficient when nodes get added (newly added terms do not affect the previous interpolations). Also, finding coefficients can be efficient when equipped with divided differences|"
   ]
  },
  {
   "cell_type": "markdown",
   "metadata": {},
   "source": [
    "> **Theorem** (Unique interpolation theorem)\n",
    ">\n",
    "> If $x_0,x_1,\\cdots ,x_n$ are distinct real, then, for arbitrary values $y_0,y_1,\\cdots,y_n$, there is a unique polynomial $p \\in \\Pi_n$ such that \n",
    "> $$ p(x_i ) = y_i, \\quad (0\\le i \\le n).$$"
   ]
  },
  {
   "cell_type": "markdown",
   "metadata": {},
   "source": [
    "![Example of interpolation: Lagrange form](https://jhparkyb.github.io/resources/notes/na/104ASlides_Approximation016.png)"
   ]
  },
  {
   "cell_type": "markdown",
   "metadata": {},
   "source": [
    "#### Appendix"
   ]
  },
  {
   "cell_type": "markdown",
   "metadata": {},
   "source": [
    "##### Runge's phenomenon"
   ]
  },
  {
   "cell_type": "markdown",
   "metadata": {},
   "source": [
    "**Natural guess**\n",
    "\n",
    "The more nodes we introduce, the more exact the polynomial approximation will become.\n",
    "\n",
    "**Fact**\n",
    "\n",
    "This may not be true even for infitely smooth functions. \n",
    "\n",
    "> **Example** [Runge's phenomenon (Dynamic example)](https://blogs.mathworks.com/cleve/2018/12/10/explore-runges-polynomial-interpolation-phenomenon/)\n",
    ">\n",
    "> $$\\frac{1}{1+25x^2}$$"
   ]
  },
  {
   "cell_type": "markdown",
   "metadata": {},
   "source": [
    "##### Chebychev polynomials"
   ]
  },
  {
   "cell_type": "markdown",
   "metadata": {},
   "source": [
    "![Chebychev polynomial 1](https://jhparkyb.github.io/resources/notes/na/104ASlides_Approximation019.png)\n",
    "\n",
    "![Chebychev polynomial 2](https://jhparkyb.github.io/resources/notes/na/104ASlides_Approximation020.png)\n",
    "\n",
    "![Chebychev polynomial 3](https://jhparkyb.github.io/resources/notes/na/104ASlides_Approximation021.png)"
   ]
  },
  {
   "cell_type": "markdown",
   "metadata": {},
   "source": [
    "##### Divided differences"
   ]
  },
  {
   "cell_type": "markdown",
   "metadata": {},
   "source": [
    "![Divided differences 1](https://jhparkyb.github.io/resources/notes/na/104ASlides_Approximation026.png)\n",
    "\n",
    "![Divided differences 2](https://jhparkyb.github.io/resources/notes/na/104ASlides_Approximation027.png)\n",
    "\n",
    "![Divided differences 3](https://jhparkyb.github.io/resources/notes/na/104ASlides_Approximation028.png)"
   ]
  },
  {
   "cell_type": "markdown",
   "metadata": {},
   "source": [
    "##### Horner's algorithm: efficient evaluation of interpolation"
   ]
  },
  {
   "cell_type": "markdown",
   "metadata": {},
   "source": [
    "Efficient way of evaluating polynomails.\n",
    "\n",
    "![Example of Horner's algorithm](https://jhparkyb.github.io/resources/notes/na/104ASlides_Approximation010.png)"
   ]
  },
  {
   "cell_type": "markdown",
   "metadata": {
    "vscode": {
     "languageId": "plaintext"
    }
   },
   "source": [
    "---\n",
    "This work is licensed under [Creative Commons Attribution-ShareAlike 4.0 International](https://creativecommons.org/licenses/by-sa/4.0/)"
   ]
  },
  {
   "cell_type": "markdown",
   "metadata": {},
   "source": []
  }
 ],
 "metadata": {
  "kernelspec": {
   "display_name": "ptrch",
   "language": "python",
   "name": "ptrch"
  },
  "language_info": {
   "codemirror_mode": {
    "name": "ipython",
    "version": 3
   },
   "file_extension": ".py",
   "mimetype": "text/x-python",
   "name": "python",
   "nbconvert_exporter": "python",
   "pygments_lexer": "ipython3",
   "version": "3.9.1"
  },
  "orig_nbformat": 4
 },
 "nbformat": 4,
 "nbformat_minor": 2
}
