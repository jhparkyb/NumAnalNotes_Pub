{
 "cells": [
  {
   "cell_type": "markdown",
   "metadata": {},
   "source": [
    "## Linear System"
   ]
  },
  {
   "cell_type": "markdown",
   "metadata": {},
   "source": [
    "### Overview\n"
   ]
  },
  {
   "cell_type": "markdown",
   "metadata": {},
   "source": [
    "\n",
    "#### Take-aways\n",
    "\n",
    "After studying this material, we will be able to\n",
    "\n",
    "- TBF"
   ]
  },
  {
   "cell_type": "markdown",
   "metadata": {},
   "source": [
    "#### Notation/Settings/Acronyms\n",
    "\n",
    "Common settings\n",
    "\n",
    "| symbol | setting |\n",
    "|---|---|\n",
    "| $n$ | a positive integer |\n",
    "| $A$ | nonsingular $n$-by-$n$ matrix |\n",
    "| $b$ | (column) vector of length $n$ |\n",
    "| $x$ | (column) vector of length $n$ |\n",
    "\n",
    "Acronyms\n",
    "\n",
    "|Abbreviation| meaning|\n",
    "|---|---|\n",
    "| SPD | Symmetric positive definite |\n",
    "\n",
    "Common convention\n",
    "\n",
    "| expression | meaning |\n",
    "|---|---|\n",
    "| $a_{ij}$, $a_{i,j}$, $A_{ij}$, $A_{i,j}$ | $(i,j)$-component of a matrix $A$ ($i$-th row, $j$-th column) |\n",
    "\n"
   ]
  },
  {
   "cell_type": "markdown",
   "metadata": {},
   "source": [
    "**Problem of interest**\n",
    "\n",
    "Given $A$ and $b$, find $x$ such that\n",
    "\n",
    "$$ Ax = b. $$\n",
    "\n",
    "\n"
   ]
  },
  {
   "cell_type": "markdown",
   "metadata": {},
   "source": [
    "#### Methods\n",
    "\n",
    "- Methods for general matrices\n",
    "   1. Direct methods\n",
    "      - plain Gaussian elimination\n",
    "      - Gaussian elimination using $PA = LU$ decomposition.\n",
    "        - Preliminary: $A=LU$ decomposition\n",
    "   2. **Iterative methods**\n",
    "      - **Jacobi iteration**\n",
    "      - **Gauss-Seidel iteration**\n",
    "- Methods for SPD matrices\n",
    "   1. Direct methods\n",
    "      - Cholesky factorization\n",
    "   2. Iterative methods\n",
    "      - Conjugate gradient method\n",
    "- Framework for improvements\n",
    "   1. Preconditioning\n",
    "\n",
    "**Remark**\n",
    "\n",
    "- Direct method: Gives the exact solution in a finite number of steps. \n",
    "  - Caveat: rounding errors may destroy this nature in practice.\n",
    "- Itervative method: Gives approximate solution every step. \n",
    "  - Theoreicially, true solution is obtained as a limit. \n",
    "  - In practice, a reasonable number of iterations can give a very good approximate solution."
   ]
  },
  {
   "cell_type": "markdown",
   "metadata": {},
   "source": [
    "### Jacobi Method\n"
   ]
  },
  {
   "cell_type": "markdown",
   "metadata": {},
   "source": [
    "#### Algorithm\n",
    "\n",
    "- **Input** \n",
    "  - $A=D+L+U$ ($D$ diagonal, $L$ strictly lower trangular, $U$ strictly upper triangular part of $A$ respectively), \n",
    "  - $b$, \n",
    "  - $x_0\\in\\mathbb{R}^{n}$ (initial guess)\n",
    "- **For** $k=0,1,2,\\cdots$ **do**\n",
    "  - $x_{k+1}=D^{-1} (b-(L+U)x_k )$\n",
    "- **Output**\n",
    "  - $x_\\infty$\n",
    "\n"
   ]
  },
  {
   "cell_type": "markdown",
   "metadata": {},
   "source": [
    "### Gauss-Seidel Method\n"
   ]
  },
  {
   "cell_type": "markdown",
   "metadata": {},
   "source": [
    "#### Algorithm\n",
    "\n",
    "- **Input** \n",
    "  - $A=D+L+U$ ($D$ diagonal, $L$ strictly lower trangular, $U$ strictly upper triangular part of $A$ respectively), \n",
    "  - $b$, \n",
    "  - $x_0\\in\\mathbb{R}^{n}$ (initial guess)\n",
    "- **For** $k=0,1,2,\\cdots$ **do**\n",
    "  - $x_{k+1}=D^{-1} (b-U x_k - L x_{k+1} )$\n",
    "- **Output**\n",
    "  - $x_\\infty$\n",
    "\n"
   ]
  },
  {
   "cell_type": "markdown",
   "metadata": {},
   "source": [
    "**Remark**\n",
    "\n",
    "- According to Sauer (2017) p. 113, Gauss-Seidel often converges faster than Jacobi if the method converges."
   ]
  },
  {
   "cell_type": "markdown",
   "metadata": {},
   "source": [
    "### Successive Over-Relaxation method (SOR)"
   ]
  },
  {
   "cell_type": "markdown",
   "metadata": {},
   "source": [
    "**Idea**\n",
    "\n",
    "- Slightly \"overshoot\" \"toward the solution.\"\n",
    "- How? Weighted average: $\\omega \\text{(Gauss-Seidel)} + (1-\\omega)\\text{(current iterate)}$ with $\\omega > 1$."
   ]
  },
  {
   "cell_type": "markdown",
   "metadata": {},
   "source": [
    "#### Algorithm\n",
    "\n",
    "- **Input** \n",
    "  - $A=D+L+U$ ($D$ diagonal, $L$ strictly lower trangular, $U$ strictly upper triangular part of $A$ respectively), \n",
    "  - $b$, \n",
    "  - $x_0\\in\\mathbb{R}^{n}$ (initial guess)\n",
    "  - $\\omega > 1$ (relaxation paramter)\n",
    "- **For** $k=0,1,2,\\cdots$ **do**\n",
    "  - $x_{k+1}=(1-\\omega) x_k + \\omega D^{-1} (b-U x_k - L x_{k+1} )$, or equivalently\n",
    "  - $x_{k+1}=(\\omega L+D)^{-1}\\left[(1-\\omega) D x_k-\\omega U x_k\\right]+\\omega(D+\\omega L)^{-1} b$\n",
    "- **Output**\n",
    "  - $x_\\infty$"
   ]
  },
  {
   "cell_type": "markdown",
   "metadata": {},
   "source": [
    "### Practical considerations\n",
    "\n",
    "- Each step of iterative methods take operations of an order of $n^2$.\n",
    "- Good approximation solution may be available.\n",
    "  - We can use it as the initial guess. \n",
    "  - In that case, iterative methods may only a few iterations to yield the solution of desired precision.\n",
    "  - Time evolution of some system is a good example of this: previous state serves as a good initial guess because the state does not change dramatically for a short period of time.\n",
    "- Matrix may be sparse (i.e., most entries are zeros).\n",
    "  - In this case, one step of a iterative method takes operations of an order of $n$.\n",
    "  - Numerical methods for partial differential equations are good example: discrete version of differential operators end up being represented as a sparse matrix."
   ]
  }
 ],
 "metadata": {
  "kernelspec": {
   "display_name": "ptrch",
   "language": "python",
   "name": "ptrch"
  },
  "language_info": {
   "codemirror_mode": {
    "name": "ipython",
    "version": 3
   },
   "file_extension": ".py",
   "mimetype": "text/x-python",
   "name": "python",
   "nbconvert_exporter": "python",
   "pygments_lexer": "ipython3",
   "version": "3.8.13"
  }
 },
 "nbformat": 4,
 "nbformat_minor": 2
}
