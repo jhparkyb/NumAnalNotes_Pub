{
 "cells": [
  {
   "cell_type": "markdown",
   "metadata": {},
   "source": [
    "### Finite difference methods (FDM) for partial differential equations (PDE)"
   ]
  },
  {
   "cell_type": "markdown",
   "metadata": {},
   "source": [
    "Main references\n",
    "\n",
    "[^1]: Timothy Sauer (2017) *Numerical Analysis* 3rd Edition. (p. 348)\n",
    "\n",
    "#### Take-aways\n",
    "\n",
    "After studying this chapter, we will be able to\n",
    "\n",
    "TBF\n",
    "\n"
   ]
  },
  {
   "cell_type": "markdown",
   "metadata": {},
   "source": [
    "#### Common settings/Notation\n",
    "\n",
    "| symbol | meaning |\n",
    "|---|---|\n",
    "| $k$ | time step size |\n",
    "| $h$ | spatial grid spacing |\n",
    "| $u(x_i, t_j)$ | true solution evaluated at $(x_i, t_j)$ |\n",
    "| $w_{i, j}$ | numerical solution meant to approximate $u(x_i, t_j)$ |\n"
   ]
  },
  {
   "cell_type": "markdown",
   "metadata": {},
   "source": [
    "#### Finite difference method for hyperbolic equations\n"
   ]
  },
  {
   "cell_type": "markdown",
   "metadata": {},
   "source": [
    "\n",
    "##### Problem (Wave equation)\n",
    "\n",
    "<p style=\"color:red;\">To be updated</p>\n",
    "\n",
    "> **Problem of interest** (Heat equation)\n",
    ">\n",
    "> Given $f:(a,b) \\to \\mathbb{R}$ and $l,r:[0,\\infty)\\to{\\mathbb{R} }$, find $u:[0,\\infty)\\times[a,b] \\to \\mathbb{R}$ that satisfies\n",
    ">     \n",
    "> $$\n",
    "> \\left\\{\\begin{array}{l}\n",
    "> u_t=D u_{x x} \\text { for all } a \\leq x \\leq b, t \\geq 0 \\\\\n",
    "> u(x, 0)=f(x) \\text { for all } a \\leq x \\leq b \\\\\n",
    "> u(a, t)=l(t) \\text { for all } t \\geq 0 \\\\\n",
    "> u(b, t)=r(t) \\text { for all } t \\geq 0\n",
    "> \\end{array}\\right.\n",
    "> $$\n",
    "\n"
   ]
  },
  {
   "cell_type": "markdown",
   "metadata": {},
   "source": [
    "**Remark** (Basic intuition of wave equation)\n",
    "\n",
    "- $u_t$ is not the speed of the wave. It is the time derivative of the amplitude of the wave. \n",
    "- d'Alembert's formula gives the sense of why $c$ is the speed of the wave.\n",
    "  - d'Alembert's formula gives the analytic solution for certain initial and boundary condition. (See Wikipedia page for details.)\n"
   ]
  },
  {
   "cell_type": "markdown",
   "metadata": {},
   "source": [
    "**Remark** (Constructing finite difference method)\n",
    "\n",
    "- 1st time step\n",
    "  - To keep 2nd order accuracy, we use centered-difference quotient when incorporating $u_t$ from the initial data.\n",
    "  - This introduces a negative time index $w_{i,-1}$. However, this can be resolved by combining (a) the initial data and (b) finite difference formula for time marching ($j=0$).\n",
    "  - Though this may look unphysical (involvement of negative time), there is no problem from the degrees of freedom point of view: use right amount of information to specify right amount of unknowns. "
   ]
  },
  {
   "cell_type": "markdown",
   "metadata": {},
   "source": [
    "**Remark** (stability of wave equation)\n",
    "\n",
    "- Notice the trick that when a numerical update involves past two steps of history, we may consider stacking two sets to make higher dimensional problem. This is reminescent of converting 2nd order ODE to vector form of 1st order ODE.\n",
    "- The CFL condition for the wave equation says \"the distance traveled by the wave ($ck$) in unit time must not exceed the spatial spacing $h$.\" \n",
    "- The theorem says that the CFL condition is a sufficient condition for stability in the wave equation. However, this is not true for more general hyperbolic equations. ( Sauer (2017) p. 417 )"
   ]
  },
  {
   "cell_type": "markdown",
   "metadata": {
    "vscode": {
     "languageId": "plaintext"
    }
   },
   "source": [
    "---\n",
    "This work is licensed under [Creative Commons Attribution-ShareAlike 4.0 International](https://creativecommons.org/licenses/by-sa/4.0/)"
   ]
  }
 ],
 "metadata": {
  "kernelspec": {
   "display_name": "ptrch",
   "language": "python",
   "name": "ptrch"
  },
  "language_info": {
   "codemirror_mode": {
    "name": "ipython",
    "version": 3
   },
   "file_extension": ".py",
   "mimetype": "text/x-python",
   "name": "python",
   "nbconvert_exporter": "python",
   "pygments_lexer": "ipython3",
   "version": "3.8.13"
  },
  "orig_nbformat": 4
 },
 "nbformat": 4,
 "nbformat_minor": 2
}
