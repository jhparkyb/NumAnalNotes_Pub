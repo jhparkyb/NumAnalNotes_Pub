{
 "cells": [
  {
   "cell_type": "markdown",
   "metadata": {},
   "source": [
    "### Finite difference methods (FDM) for partial differential equations (PDE)"
   ]
  },
  {
   "cell_type": "markdown",
   "metadata": {},
   "source": [
    "Main references\n",
    "\n",
    "[^1]: Timothy Sauer (2017) *Numerical Analysis* 3rd Edition. (p. 348)\n",
    "\n",
    "#### Take-aways\n",
    "\n",
    "After studying this chapter, we will be able to\n",
    "\n",
    "TBF\n",
    "\n"
   ]
  },
  {
   "cell_type": "markdown",
   "metadata": {},
   "source": [
    "#### Common settings/Notation\n",
    "\n",
    "| symbol | meaning |\n",
    "|---|---|\n",
    "| $k$ | time step size |\n",
    "| $h$ | spatial grid spacing |\n",
    "| $u(x_i, t_j)$ | true solution evaluated at $(x_i, t_j)$ |\n",
    "| $w_{i, j}$ | numerical solution meant to approximate $u(x_i, t_j)$ |\n"
   ]
  },
  {
   "cell_type": "markdown",
   "metadata": {},
   "source": [
    "#### Finite difference method for hyperbolic equations\n"
   ]
  },
  {
   "cell_type": "markdown",
   "metadata": {},
   "source": [
    "\n",
    "##### Problem (Wave equation)\n",
    "\n",
    "\n",
    "**Problem of interest** (Wave equation)\n",
    "\n",
    "Given $f,g:(a,b)\\to \\mathbb{R}$ and $l,r:[0,\\infty)\\to{\\mathbb{R} }$, find $u:[0,\\infty)\\times[a,b] \\to \\mathbb{R}$ that satisfies\n",
    "$$\n",
    "\\left\\{\\begin{array}{l}\n",
    "u_{tt} = c^2 u_{xx} \\\\\n",
    "u(x, 0)=f(x) \\text { for all } a \\leq x \\leq b \\\\\n",
    "u_t(x, 0)=g(x) \\text { for all } a \\leq x \\leq b \\\\\n",
    "u(a, t)=l(t) \\text { for all } t \\geq 0 \\\\\n",
    "u(b, t)=r(t) \\text { for all } t \\geq 0\n",
    "\\end{array}\\right.\n",
    "$$"
   ]
  },
  {
   "cell_type": "markdown",
   "metadata": {},
   "source": [
    "**Remark** (Basic intuition of wave equation)\n",
    "\n",
    "- $u_t$ is not the speed of the wave. It is the time derivative of the amplitude of the wave. \n",
    "- d'Alembert's formula gives the sense of why $c$ is the speed of the wave.\n",
    "  - d'Alembert's formula gives the analytic solution for certain initial and boundary condition. (See Wikipedia page for details.)\n",
    "  \n",
    "  $$\n",
    "  u(x, t)=\\frac{1}{2}[f(x-c t)+f(x+c t)]+\\frac{1}{2 c} \\int_{x-c t}^{x+c t} g(\\xi) d \\xi\n",
    "  $$ \n"
   ]
  },
  {
   "cell_type": "markdown",
   "metadata": {},
   "source": [
    "##### Finite Difference Method"
   ]
  },
  {
   "cell_type": "markdown",
   "metadata": {},
   "source": [
    "**Remark** \n",
    "\n",
    "- \"Forward\" or \"Backward\" method does not make sense for the wave equation. \n",
    "- We only have 2nd order partial derivatives."
   ]
  },
  {
   "cell_type": "markdown",
   "metadata": {},
   "source": [
    "**Centered different quotient for 2nd derivative**\n",
    "\n",
    "$$\n",
    "u_{tt}(x_i, t_j)\\approx \\frac{w_{i, j+1}-2 w_{i j}+w_{i, j-1}}{h^2}\n",
    "$$\n",
    "\n",
    "$$\n",
    "u_{xx}(x_i, t_j)\\approx \\frac{w_{i+1, j}-2 w_{i j}+w_{i-1, j}}{h^2}\n",
    "$$"
   ]
  },
  {
   "cell_type": "markdown",
   "metadata": {},
   "source": [
    "**Numerical scheme**\n",
    "\n",
    "Replace $u_{tt}$ and $u_{xx}$, then the wave equations $u_{t6} = c^2 u_{xx}$ reads:\n",
    "\n",
    "$$\n",
    "\\frac{w_{i, j+1}-2 w_{i j}+w_{i, j-1}}{k^2}-c^2 \\frac{w_{i-1, j}-2 w_{i j}+w_{i+1, j}}{h^2}=0\n",
    "$$\n",
    "\n",
    "Rearranging:\n",
    "\n",
    "$$\n",
    "w_{i, j+1}=\\left(2-2 \\sigma^2\\right) w_{i j}+\\sigma^2 w_{i-1, j}+\\sigma^2 w_{i+1, j}-w_{i, j-1},\n",
    "$$\n",
    "\n",
    "where $\\sigma=ck/h$."
   ]
  },
  {
   "cell_type": "markdown",
   "metadata": {},
   "source": [
    "**Stencil** (FDM for wave equation)\n",
    "\n",
    "![Stencil of FDM for wave equation](https://www.researchgate.net/profile/Muhammad-Ajaib-2/publication/235696971/figure/fig1/AS:359776686620680@1462788855055/Stencil-for-the-FDM-of-the-1-D-wave-equation-It-represents-the-expression-given-in.png)\n",
    "\n",
    "Figure: ResearchGate - Muhammand Adeel Ajaib \n",
    "\n",
    "The figure uses different index from us. Substitute:\n",
    "\n",
    "- $n\\gets j$\n",
    "- $j\\gets i$"
   ]
  },
  {
   "cell_type": "markdown",
   "metadata": {},
   "source": [
    "**Centered difference quotient for 1st time step**\n",
    "\n",
    "- The numerical scheme requires data from two previous time steps. \n",
    "- We need to use initial velocity to determine the first time step, not the FDM.\n",
    "\n",
    "$$\n",
    "u_t\\left(x_i, t_j\\right) \\approx \\frac{w_{i, j+1}-w_{i, j-1}}{2 k}\n",
    "$$"
   ]
  },
  {
   "cell_type": "markdown",
   "metadata": {},
   "source": [
    "In conjunction withwith the initial velocity, we have\n",
    "\n",
    "$$\n",
    "g(x_i)=u_t\\left(x_i, t_0\\right) \\approx \\frac{w_{i, 1}-w_{i, -1}}{2 k}.\n",
    "$$"
   ]
  },
  {
   "cell_type": "markdown",
   "metadata": {},
   "source": [
    "**Remark** (Constructing finite difference method)\n",
    "\n",
    "- 1st time step\n",
    "  - To keep 2nd order accuracy, we use centered-difference quotient when incorporating $u_t$ from the initial data.\n",
    "  - This introduces a negative time index $w_{i,-1}$. However, this can be resolved by combining (a) the initial data and (b) finite difference formula for time marching ($j=0$). Below are the details.\n",
    "  - Though this may look unphysical (involvement of negative time), there is no problem from the degrees of freedom point of view: use right amount of information to specify right amount of unknowns. "
   ]
  },
  {
   "cell_type": "markdown",
   "metadata": {},
   "source": [
    "Plug $w_{i, -1}= w_{i, 1} - {2 k}g(x_i)$ into \n",
    "\n",
    "$w_{i, 1}=\\left(2-2 \\sigma^2\\right) w_{i, 0}+\\sigma^2 w_{i-1, 0}+\\sigma^2 w_{i+1, 0}-w_{i, -1}$, \n",
    "\n",
    "then we have \n",
    "\n",
    "$w_{i 1}=\\left(2-2 \\sigma^2\\right) w_{i 0}+\\sigma^2 w_{i-1,0}+\\sigma^2 w_{i+1,0}-w_{i 1}+2 k g\\left(x_i\\right)$, \n",
    "\n",
    "and futher solve for $w_{i1}$ to arrive at \n",
    "\n",
    "$$\n",
    "w_{i 1}=\\left(1-\\sigma^2\\right) w_{i 0}+k g\\left(x_i\\right)+\\frac{\\sigma^2}{2}\\left(w_{i-1,0}+w_{i+1,0}\\right)\n",
    "$$\n",
    "\n",
    "With the initial ($j=0$) and first ($j=1$) time steps available, we can now write the numerical scheme."
   ]
  },
  {
   "cell_type": "markdown",
   "metadata": {},
   "source": [
    "- Matrix form:\n",
    "\n",
    "Put \n",
    "\n",
    "$$\n",
    "A=\\left[\\begin{array}{ccccc}\n",
    "2-2 \\sigma^2 & \\sigma^2 & 0 & \\cdots & 0 \\\\\n",
    "\\sigma^2 & 2-2 \\sigma^2 & \\sigma^2 & \\ddots & \\vdots \\\\\n",
    "0 & \\sigma^2 & 2-2 \\sigma^2 & \\ddots & 0 \\\\\n",
    "\\vdots & \\ddots & \\ddots & \\ddots & \\sigma^2 \\\\\n",
    "0 & \\cdots & 0 & \\sigma^2 & 2-2 \\sigma^2\n",
    "\\end{array}\\right]\n",
    "$$\n",
    "\n",
    "Then, the computation of the first time step reads:\n",
    "\n",
    "$\n",
    "\\left[\\begin{array}{c}\n",
    "w_{11} \\\\\n",
    "\\vdots \\\\\n",
    "w_{m 1}\n",
    "\\end{array}\\right]=\\frac{1}{2} A\\left[\\begin{array}{c}\n",
    "w_{10} \\\\\n",
    "\\vdots \\\\\n",
    "w_{m 0}\n",
    "\\end{array}\\right]+k\\left[\\begin{array}{c}\n",
    "g\\left(x_1\\right) \\\\\n",
    "\\vdots \\\\\n",
    "g\\left(x_m\\right)\n",
    "\\end{array}\\right]+\\frac{1}{2} \\sigma^2\\left[\\begin{array}{c}\n",
    "w_{00} \\\\\n",
    "0 \\\\\n",
    "\\vdots \\\\\n",
    "0 \\\\\n",
    "w_{m+1,0}\n",
    "\\end{array}\\right]\n",
    "$\n"
   ]
  },
  {
   "cell_type": "markdown",
   "metadata": {},
   "source": [
    "\n",
    "Or, setting $[w_{10}, \\cdots, w_{m0}]^T = [f(x_{1}), \\cdots, f(x_{m})]^T$, we can write in the most explicit way:\n",
    "\n",
    "$$\n",
    "\\left[\\begin{array}{c}\n",
    "w_{11} \\\\\n",
    "\\vdots \\\\\n",
    "w_{m 1}\n",
    "\\end{array}\\right]=\\frac{1}{2} A\\left[\\begin{array}{c}\n",
    "f(x_{1}) \\\\\n",
    "\\vdots \\\\\n",
    "f(x_{m})\n",
    "\\end{array}\\right]+k\\left[\\begin{array}{c}\n",
    "g\\left(x_1\\right) \\\\\n",
    "\\vdots \\\\\n",
    "g\\left(x_m\\right)\n",
    "\\end{array}\\right]+\\frac{1}{2} \\sigma^2\\left[\\begin{array}{c}\n",
    "w_{00} \\\\\n",
    "0 \\\\\n",
    "\\vdots \\\\\n",
    "0 \\\\\n",
    "w_{m+1,0}\n",
    "\\end{array}\\right]\n",
    "$$\n",
    "\n",
    "\n",
    "And from then on, we compute\n",
    "\n",
    "$$\n",
    "\\left[\\begin{array}{c}\n",
    "w_{1, j+1} \\\\\n",
    "\\vdots \\\\\n",
    "w_{m, j+1}\n",
    "\\end{array}\\right]=A\\left[\\begin{array}{c}\n",
    "w_{1 j} \\\\\n",
    "\\vdots \\\\\n",
    "w_{m j}\n",
    "\\end{array}\\right]-\\left[\\begin{array}{c}\n",
    "w_{1, j-1} \\\\\n",
    "\\vdots \\\\\n",
    "w_{m, j-1}\n",
    "\\end{array}\\right]+\\sigma^2\\left[\\begin{array}{c}\n",
    "u_{0 j} \\\\\n",
    "0 \\\\\n",
    "\\vdots \\\\\n",
    "0 \\\\\n",
    "w_{m+1, j}\n",
    "\\end{array}\\right]\n",
    "$$"
   ]
  },
  {
   "cell_type": "markdown",
   "metadata": {},
   "source": [
    "##### Computation"
   ]
  },
  {
   "cell_type": "markdown",
   "metadata": {},
   "source": [
    "\n",
    "**Example** (Wave equation)\n",
    "\n",
    "Compute the numerical solution of \n",
    "\n",
    "$$\n",
    "\\left\\{\\begin{array}{l}\n",
    "u_{tt} = c^2 u_{xx} \\\\\n",
    "u(x, 0)= f(x) \\text { for all } a \\leq x \\leq b \\\\\n",
    "u_t(x, 0) = g(x) \\text { for all } a \\leq x \\leq b \\\\\n",
    "u(a, t)=l(t) \\text { for all } t \\geq 0 \\\\\n",
    "u(b, t)=r(t) \\text { for all } t \\geq 0\n",
    "\\end{array}\\right.\n",
    "$$\n",
    "\n",
    "where $a=0$, $b=\\pi$, $c=2$, $f(x) = \\sin(\\pi x)$, and $g(x)=l(x)=r(x)=0$."
   ]
  },
  {
   "cell_type": "code",
   "execution_count": 1,
   "metadata": {},
   "outputs": [],
   "source": [
    "import numpy as np\n",
    "from internallib import tridiag\n",
    "import matplotlib.pyplot as plt\n",
    "plt.rcParams['font.size'] = 16\n",
    "\n",
    "def FDM_wave(w, par):\n",
    "    \"\"\"\n",
    "    Return the next time iterate of the wave equation using finite difference method.\n",
    "    \n",
    "    Input:\n",
    "        w: (2D array) State vectors of two prior times (2-by-spatial_dim).\n",
    "        par: (dict) Parameter for the finite difference method.\n",
    "    Output:\n",
    "        w_new: (1D array) State vector of next time.\n",
    "    \"\"\"\n",
    "    s = par['c']*par['k']/(par['h'])\n",
    "    k = par['k']    # Time step\n",
    "    x = par['x']    # Spatial grid\n",
    "    t = par['t']    # Time grid\n",
    "    j = par['j']    # Current time index (center of the stencil; start from 0)\n",
    "\n",
    "    l = par['l']    # Boundary condition at left (lambda fn)\n",
    "    r = par['r']    # Boundary condition at right (lambda fn)\n",
    "    f = par['f']    # Initial distribution condition (lambda fn)\n",
    "    g = par['g']    # Initial velocity condition (lambda fn)\n",
    "\n",
    "    # Initialize arrays\n",
    "    w_new = np.zeros_like(w[0])\n",
    "    b_vec = w_new.copy() # name: vector coming from boundary\n",
    "\n",
    "    # Construct the wave equation matrix\n",
    "    A = tridiag(s*s, 2-2*s*s, s*s, len(w_new))\n",
    "    b_vec[0] = l(t[j])\n",
    "    b_vec[-1] = r(t[j])\n",
    "\n",
    "    # Main time marching loop\n",
    "    if j == 0:\n",
    "        w_new[1:-1] = 0.5*A@f(x[1:-1]) + k*g(x[1:-1]) + 0.5*s*s*b_vec\n",
    "    else:\n",
    "        w_new[1:-1] = A@w[1, 1:-1] - w[0, 1:-1] + s*s*b_vec\n",
    "\n",
    "    return w_new\n"
   ]
  },
  {
   "cell_type": "code",
   "execution_count": 2,
   "metadata": {},
   "outputs": [],
   "source": [
    "\n",
    "def solve_wave_eq(ic, iv, l, r, c, a, b, T, N, K, t0=0.):\n",
    "    \"\"\"\n",
    "    Return numerical solution of Heat equation using forward difference method.\n",
    "    \n",
    "    Input:\n",
    "        ic: (function) Initial temperature distribution.\n",
    "        iv: (function) Initial velocity distribution.\n",
    "        l: (function) Left boundary condition.\n",
    "        r: (function) right boundary condition.\n",
    "        c: (float) wave propagation speed.\n",
    "        a: (float) Left boundary.\n",
    "        b: (float) Right boundary.\n",
    "        T: (float) Final time.\n",
    "        N: (int) Number of spatial grid points.\n",
    "        K: (int) Number of time grid points.\n",
    "        t0: (float) Initial time. (default=0.)\n",
    "    Output:\n",
    "        w: (2D array) Numerical solution.\n",
    "    \"\"\"\n",
    "    w = np.zeros((N+2, K+1))\n",
    "    h = (b-a)/(N+1)\n",
    "    k = (T-t0)/K\n",
    "    par = {'c': c, 'h': h, 'k': k, 'x': np.linspace(a, b, N+2), 't': np.linspace(t0, T, K+1), 'l': l, 'r': r, 'f': ic, 'g': iv}\n",
    "\n",
    "    # time marching\n",
    "    for j in range(K):\n",
    "        par['j'] = j\n",
    "        w[j+1, :] = FDM_wave(w[j:j+1, :], par=par)\n",
    "\n",
    "    return w"
   ]
  },
  {
   "cell_type": "code",
   "execution_count": 3,
   "metadata": {},
   "outputs": [
    {
     "ename": "ValueError",
     "evalue": "matmul: Input operand 1 has a mismatch in its core dimension 0, with gufunc signature (n?,k),(k,m?)->(n?,m?) (size 30 is different from 31)",
     "output_type": "error",
     "traceback": [
      "\u001b[0;31m---------------------------------------------------------------------------\u001b[0m",
      "\u001b[0;31mValueError\u001b[0m                                Traceback (most recent call last)",
      "Input \u001b[0;32mIn [3]\u001b[0m, in \u001b[0;36m<cell line: 14>\u001b[0;34m()\u001b[0m\n\u001b[1;32m     10\u001b[0m r \u001b[38;5;241m=\u001b[39m \u001b[38;5;28;01mlambda\u001b[39;00m t: \u001b[38;5;241m0.\u001b[39m\n\u001b[1;32m     12\u001b[0m \u001b[38;5;66;03m# Try:  T = 0.05 or bigger to see stability issue, \u001b[39;00m\n\u001b[1;32m     13\u001b[0m \u001b[38;5;66;03m#       T = 0.03 for stable solution\u001b[39;00m\n\u001b[0;32m---> 14\u001b[0m w \u001b[38;5;241m=\u001b[39m \u001b[43msolve_wave_eq\u001b[49m\u001b[43m(\u001b[49m\u001b[43mic\u001b[49m\u001b[38;5;241;43m=\u001b[39;49m\u001b[38;5;28;43;01mlambda\u001b[39;49;00m\u001b[43m \u001b[49m\u001b[43mx\u001b[49m\u001b[43m:\u001b[49m\u001b[43m \u001b[49m\u001b[43mnp\u001b[49m\u001b[38;5;241;43m.\u001b[39;49m\u001b[43msin\u001b[49m\u001b[43m(\u001b[49m\u001b[43mx\u001b[49m\u001b[43m)\u001b[49m\u001b[43m,\u001b[49m\u001b[43m \u001b[49m\u001b[43miv\u001b[49m\u001b[38;5;241;43m=\u001b[39;49m\u001b[38;5;28;43;01mlambda\u001b[39;49;00m\u001b[43m \u001b[49m\u001b[43mx\u001b[49m\u001b[43m:\u001b[49m\u001b[43m \u001b[49m\u001b[38;5;241;43m0\u001b[39;49m\u001b[38;5;241;43m*\u001b[39;49m\u001b[43mx\u001b[49m\u001b[43m,\u001b[49m\u001b[43m \u001b[49m\u001b[43ml\u001b[49m\u001b[38;5;241;43m=\u001b[39;49m\u001b[38;5;28;43;01mlambda\u001b[39;49;00m\u001b[43m \u001b[49m\u001b[43mt\u001b[49m\u001b[43m:\u001b[49m\u001b[43m \u001b[49m\u001b[38;5;241;43m0\u001b[39;49m\u001b[38;5;241;43m*\u001b[39;49m\u001b[43mt\u001b[49m\u001b[43m,\u001b[49m\u001b[43m \u001b[49m\u001b[43mr\u001b[49m\u001b[38;5;241;43m=\u001b[39;49m\u001b[38;5;28;43;01mlambda\u001b[39;49;00m\u001b[43m \u001b[49m\u001b[43mt\u001b[49m\u001b[43m:\u001b[49m\u001b[43m \u001b[49m\u001b[38;5;241;43m0\u001b[39;49m\u001b[38;5;241;43m*\u001b[39;49m\u001b[43mt\u001b[49m\u001b[43m,\u001b[49m\u001b[43m \u001b[49m\u001b[43mc\u001b[49m\u001b[38;5;241;43m=\u001b[39;49m\u001b[43mc\u001b[49m\u001b[43m,\u001b[49m\u001b[43m \u001b[49m\u001b[43ma\u001b[49m\u001b[38;5;241;43m=\u001b[39;49m\u001b[43ma\u001b[49m\u001b[43m,\u001b[49m\u001b[43m \u001b[49m\u001b[43mb\u001b[49m\u001b[38;5;241;43m=\u001b[39;49m\u001b[43mb\u001b[49m\u001b[43m,\u001b[49m\u001b[43m \u001b[49m\u001b[43mT\u001b[49m\u001b[38;5;241;43m=\u001b[39;49m\u001b[43mT\u001b[49m\u001b[43m,\u001b[49m\u001b[43m \u001b[49m\u001b[43mN\u001b[49m\u001b[38;5;241;43m=\u001b[39;49m\u001b[43mN\u001b[49m\u001b[43m,\u001b[49m\u001b[43m \u001b[49m\u001b[43mK\u001b[49m\u001b[38;5;241;43m=\u001b[39;49m\u001b[43mK\u001b[49m\u001b[43m)\u001b[49m\n",
      "Input \u001b[0;32mIn [2]\u001b[0m, in \u001b[0;36msolve_wave_eq\u001b[0;34m(ic, iv, l, r, c, a, b, T, N, K, t0)\u001b[0m\n\u001b[1;32m     26\u001b[0m \u001b[38;5;28;01mfor\u001b[39;00m j \u001b[38;5;129;01min\u001b[39;00m \u001b[38;5;28mrange\u001b[39m(K):\n\u001b[1;32m     27\u001b[0m     par[\u001b[38;5;124m'\u001b[39m\u001b[38;5;124mj\u001b[39m\u001b[38;5;124m'\u001b[39m] \u001b[38;5;241m=\u001b[39m j\n\u001b[0;32m---> 28\u001b[0m     w[j\u001b[38;5;241m+\u001b[39m\u001b[38;5;241m1\u001b[39m, :] \u001b[38;5;241m=\u001b[39m \u001b[43mFDM_wave\u001b[49m\u001b[43m(\u001b[49m\u001b[43mw\u001b[49m\u001b[43m[\u001b[49m\u001b[43mj\u001b[49m\u001b[43m:\u001b[49m\u001b[43mj\u001b[49m\u001b[38;5;241;43m+\u001b[39;49m\u001b[38;5;241;43m1\u001b[39;49m\u001b[43m,\u001b[49m\u001b[43m \u001b[49m\u001b[43m:\u001b[49m\u001b[43m]\u001b[49m\u001b[43m,\u001b[49m\u001b[43m \u001b[49m\u001b[43mpar\u001b[49m\u001b[38;5;241;43m=\u001b[39;49m\u001b[43mpar\u001b[49m\u001b[43m)\u001b[49m\n\u001b[1;32m     30\u001b[0m \u001b[38;5;28;01mreturn\u001b[39;00m w\n",
      "Input \u001b[0;32mIn [1]\u001b[0m, in \u001b[0;36mFDM_wave\u001b[0;34m(w, par)\u001b[0m\n\u001b[1;32m     36\u001b[0m \u001b[38;5;66;03m# Main time marching loop\u001b[39;00m\n\u001b[1;32m     37\u001b[0m \u001b[38;5;28;01mif\u001b[39;00m j \u001b[38;5;241m==\u001b[39m \u001b[38;5;241m0\u001b[39m:\n\u001b[0;32m---> 38\u001b[0m     w_new[\u001b[38;5;241m1\u001b[39m:\u001b[38;5;241m-\u001b[39m\u001b[38;5;241m1\u001b[39m] \u001b[38;5;241m=\u001b[39m \u001b[38;5;241;43m0.5\u001b[39;49m\u001b[38;5;241;43m*\u001b[39;49m\u001b[43mA\u001b[49m\u001b[38;5;129;43m@f\u001b[39;49m\u001b[43m(\u001b[49m\u001b[43mx\u001b[49m\u001b[43m[\u001b[49m\u001b[38;5;241;43m1\u001b[39;49m\u001b[43m:\u001b[49m\u001b[38;5;241;43m-\u001b[39;49m\u001b[38;5;241;43m1\u001b[39;49m\u001b[43m]\u001b[49m\u001b[43m)\u001b[49m \u001b[38;5;241m+\u001b[39m k\u001b[38;5;241m*\u001b[39mg(x[\u001b[38;5;241m1\u001b[39m:\u001b[38;5;241m-\u001b[39m\u001b[38;5;241m1\u001b[39m]) \u001b[38;5;241m+\u001b[39m \u001b[38;5;241m0.5\u001b[39m\u001b[38;5;241m*\u001b[39ms\u001b[38;5;241m*\u001b[39ms\u001b[38;5;241m*\u001b[39mb_vec\n\u001b[1;32m     39\u001b[0m \u001b[38;5;28;01melse\u001b[39;00m:\n\u001b[1;32m     40\u001b[0m     w_new[\u001b[38;5;241m1\u001b[39m:\u001b[38;5;241m-\u001b[39m\u001b[38;5;241m1\u001b[39m] \u001b[38;5;241m=\u001b[39m A\u001b[38;5;129m@w\u001b[39m[\u001b[38;5;241m1\u001b[39m, \u001b[38;5;241m1\u001b[39m:\u001b[38;5;241m-\u001b[39m\u001b[38;5;241m1\u001b[39m] \u001b[38;5;241m-\u001b[39m w[\u001b[38;5;241m0\u001b[39m, \u001b[38;5;241m1\u001b[39m:\u001b[38;5;241m-\u001b[39m\u001b[38;5;241m1\u001b[39m] \u001b[38;5;241m+\u001b[39m s\u001b[38;5;241m*\u001b[39ms\u001b[38;5;241m*\u001b[39mb_vec\n",
      "\u001b[0;31mValueError\u001b[0m: matmul: Input operand 1 has a mismatch in its core dimension 0, with gufunc signature (n?,k),(k,m?)->(n?,m?) (size 30 is different from 31)"
     ]
    }
   ],
   "source": [
    "N = 30\n",
    "K = 30\n",
    "a = 0.\n",
    "b = np.pi\n",
    "c = 2.\n",
    "T = 0.5\n",
    "ic = lambda x: np.sin(x)\n",
    "iv = lambda x: 0.\n",
    "l = lambda t: 0.\n",
    "r = lambda t: 0.\n",
    "\n",
    "# Try:  T = 0.05 or bigger to see stability issue, \n",
    "#       T = 0.03 for stable solution\n",
    "w = solve_wave_eq(ic=lambda x: np.sin(x), iv=lambda x: 0*x, l=lambda t: 0*t, r=lambda t: 0*t, c=c, a=a, b=b, T=T, N=N, K=K)"
   ]
  },
  {
   "cell_type": "code",
   "execution_count": null,
   "metadata": {},
   "outputs": [],
   "source": [
    "#%% plot\n",
    "fig, ax = plt.subplots(1,2, figsize=(13, 6.5), subplot_kw={'projection':'3d'})\n",
    "\n",
    "for j in range(K+1):\n",
    "    ax[0].plot(x, j[j]*np.ones(N+2), w1[:, j], label='Numerical')\n",
    "    ax[0].set_title('Numerical solution')\n",
    "    # ax[1].plot(x, j[j]*np.ones(N+2), u[:, j], label='True')\n",
    "    # ax[1].set_title('True solution')\n",
    "\n",
    "# Change the angle of projection\n",
    "for j in range(len(ax)):\n",
    "    ax[j].set_xlabel('$x$')\n",
    "    ax[j].set_ylabel('$t$')\n",
    "    ax[j].view_init(elev=30, azim=45)\n",
    "\n",
    "plt.show()\n"
   ]
  },
  {
   "cell_type": "markdown",
   "metadata": {},
   "source": []
  },
  {
   "cell_type": "markdown",
   "metadata": {},
   "source": [
    "**Remark** (stability of wave equation)\n",
    "\n",
    "- Notice the trick that when a numerical update involves past two steps of history, we may consider stacking two sets to make higher dimensional problem. This is reminescent of converting 2nd order ODE to vector form of 1st order ODE.\n",
    "- The CFL condition for the wave equation says \"the distance traveled by the wave ($ck$) in unit time must not exceed the spatial spacing $h$.\" \n",
    "- The theorem says that the CFL condition is a sufficient condition for stability in the wave equation. However, this is not true for more general hyperbolic equations. ( Sauer (2017) p. 417 )"
   ]
  },
  {
   "cell_type": "markdown",
   "metadata": {
    "vscode": {
     "languageId": "plaintext"
    }
   },
   "source": [
    "---\n",
    "This work is licensed under [Creative Commons Attribution-ShareAlike 4.0 International](https://creativecommons.org/licenses/by-sa/4.0/)"
   ]
  }
 ],
 "metadata": {
  "kernelspec": {
   "display_name": "ptrch",
   "language": "python",
   "name": "ptrch"
  },
  "language_info": {
   "codemirror_mode": {
    "name": "ipython",
    "version": 3
   },
   "file_extension": ".py",
   "mimetype": "text/x-python",
   "name": "python",
   "nbconvert_exporter": "python",
   "pygments_lexer": "ipython3",
   "version": "3.8.13"
  },
  "orig_nbformat": 4
 },
 "nbformat": 4,
 "nbformat_minor": 2
}
