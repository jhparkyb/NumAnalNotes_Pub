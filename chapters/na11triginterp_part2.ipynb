{
 "cells": [
  {
   "cell_type": "markdown",
   "metadata": {},
   "source": [
    "## Trigonometric interpolation"
   ]
  },
  {
   "cell_type": "markdown",
   "metadata": {},
   "source": [
    "**Notation**\n",
    "\n",
    "| symbol | meaning |\n",
    "|---|---|\n",
    "| $\\bar u$ | complex conjugate of $u$ (element-wise complex conjugate for vector or matrix) |\n",
    "| $i$ | $=\\sqrt{-1}$ imaginary unit |\n",
    "| $v^H$, $A^H$ | $\\overline{v}^T$, $\\overline{A}^T$, where $v$ and $A$ are complex vector and matrix respectively (called *conjugate transpose*) |\n",
    "| $(u, v)$ | $v^H u = \\sum_{j=1}^n u_j \\overline{v_j}$, where $u,v\\in C^n$ (Complex dot-product) |\n",
    "| $\\lVert v \\rVert$ | $\\sqrt{(v, v)}$, where $v\\in C^n$ (2-norm of complex vector) |\n",
    "<!-- | $\\mathfrak{i}$ | $=\\sqrt{-1}$ imaginary unit (watch the font! $i$ vs $\\mathfrak{i}=\\sqrt{-1}$) | -->\n"
   ]
  },
  {
   "cell_type": "markdown",
   "metadata": {},
   "source": [
    "### FFT and signal processing"
   ]
  },
  {
   "cell_type": "markdown",
   "metadata": {},
   "source": [
    "**Theorem** (Orthogonal Function Interpolation; Sauer (2017) p. 506)\n",
    "\n",
    "Let $f_0(t), \\ldots, f_{n-1}(t)$ be functions of $t$ and $t_0, \\ldots, t_{n-1}$ be real numbers. Assume that the $n \\times n$ matrix\n",
    "$$\n",
    "A=\\left[\\begin{array}{cccc}\n",
    "f_0\\left(t_0\\right) & f_0\\left(t_1\\right) & \\cdots & f_0\\left(t_{n-1}\\right) \\\\\n",
    "f_1\\left(t_0\\right) & f_1\\left(t_1\\right) & \\cdots & f_1\\left(t_{n-1}\\right) \\\\\n",
    "\\vdots & \\vdots & & \\vdots \\\\\n",
    "f_{n-1}\\left(t_0\\right) & f_{n-1}\\left(t_1\\right) & \\cdots & f_{n-1}\\left(t_{n-1}\\right)\n",
    "\\end{array}\\right]\n",
    "$$\n",
    "is a real $n \\times n$ orthogonal matrix. If $y=A x$, the function\n",
    "$$\n",
    "F(t)=\\sum_{k=0}^{n-1} y_k f_k(t)\n",
    "$$\n",
    "interpolates $\\left(t_0, x_0\\right), \\ldots,\\left(t_{n-1}, x_{n-1}\\right)$, that is $F\\left(t_j\\right)=x_j$ for $j=0, \\ldots, n-1$.\n"
   ]
  },
  {
   "cell_type": "markdown",
   "metadata": {},
   "source": [
    "Proof. The fact $y=A x$ implies that\n",
    "$$\n",
    "x=A^{-1} y=A^T y,\n",
    "$$\n",
    "and it follows that\n",
    "$$\n",
    "x_j=\\sum_{k=0}^{n-1} a_{k j} y_k=\\sum_{k=0}^{n-1} y_k f_k\\left(t_j\\right)\n",
    "$$\n",
    "for $j=0, \\ldots, n-1$, which completes the proof."
   ]
  },
  {
   "cell_type": "markdown",
   "metadata": {},
   "source": [
    "**Lemma** (Sauer (2017) p. 506)\n",
    "\n",
    "Let $n \\geq 1$ and $k, l$ be integers. Then\n",
    "$$\n",
    "\\begin{aligned}\n",
    "& \\sum_{j=0}^{n-1} \\cos \\frac{2 \\pi j k}{n} \\cos \\frac{2 \\pi j l}{n}= \\begin{cases}n & \\text { if both }(k-l) / n \\text { and }(k+l) / n \\text { are integers } \\\\\n",
    "\\frac{n}{2} & \\text { if exactly one of }(k-l) / n \\text { and }(k+l) / n \\text { is an integer } \\\\\n",
    "0 & \\text { if neither is an integer }\\end{cases} \\\\\n",
    "& \\sum_{j=0}^{n-1} \\cos \\frac{2 \\pi j k}{n} \\sin \\frac{2 \\pi j l}{n}=0 \\\\\n",
    "& \\sum_{j=0}^{n-1} \\sin \\frac{2 \\pi j k}{n} \\sin \\frac{2 \\pi j l}{n}= \\begin{cases}0 & \\text { if both }(k-l) / n \\text { and }(k+l) / n \\text { are integers } \\\\\n",
    "\\frac{n}{2} & \\text { if }(k-l) / n \\text { is an integer and }(k+l) / n \\text { is not } \\\\\n",
    "-\\frac{n}{2} & \\text { if }(k+l) / n \\text { is an integer and }(k-l) / n \\text { is not } \\\\\n",
    "0 & \\text { if neither is an integer }\\end{cases}\n",
    "\\end{aligned}\n",
    "$$"
   ]
  },
  {
   "cell_type": "markdown",
   "metadata": {},
   "source": [
    "Proof: HW problem."
   ]
  },
  {
   "cell_type": "markdown",
   "metadata": {},
   "source": [
    "**Example** (Sauer (2017) p. 506)\n",
    "\n",
    "Let $[c, d]$ be an interval and let $n$ be an even positive integer. Then the lemma shows that the assumptions of the theorem on orthogonal function interpolation are satisfied for $t_j=c+j(d-c) / n, j=0, \\ldots, n-1$, and\n",
    "$$\n",
    "\\begin{aligned}\n",
    "f_0(t) & =\\sqrt{\\frac{1}{n}} \\\\\n",
    "f_1(t) & =\\sqrt{\\frac{2}{n}} \\cos \\frac{2 \\pi(t-c)}{d-c} \\\\\n",
    "f_2(t) & =\\sqrt{\\frac{2}{n}} \\sin \\frac{2 \\pi(t-c)}{d-c} \\\\\n",
    "f_3(t) & =\\sqrt{\\frac{2}{n}} \\cos \\frac{4 \\pi(t-c)}{d-c} \\\\\n",
    "f_4(t) & =\\sqrt{\\frac{2}{n}} \\sin \\frac{4 \\pi(t-c)}{d-c} \\\\\n",
    "& \\vdots \\\\\n",
    "f_{n-1}(t) & =\\frac{1}{\\sqrt{n}} \\cos \\frac{n \\pi(t-c)}{d-c} .\n",
    "\\end{aligned}\n",
    "$$\n"
   ]
  },
  {
   "cell_type": "markdown",
   "metadata": {},
   "source": [
    "\n",
    "The matrix is\n",
    "$$\n",
    "A=\\sqrt{\\frac{2}{n}}\\left[\\begin{array}{cccc}\n",
    "\\frac{1}{\\sqrt{2}} & \\frac{1}{\\sqrt{2}} & \\cdots & \\frac{1}{\\sqrt{2}} \\\\\n",
    "1 & \\cos \\frac{2 \\pi}{n} & \\cdots & \\cos \\frac{2 \\pi(n-1)}{n} \\\\\n",
    "0 & \\sin \\frac{2 \\pi}{n} & \\cdots & \\sin \\frac{2 \\pi(n-1)}{n} \\\\\n",
    "\\vdots & \\vdots & & \\vdots \\\\\n",
    "\\frac{1}{\\sqrt{2}} & \\frac{1}{\\sqrt{2}} \\cos \\pi & \\cdots & \\frac{1}{\\sqrt{2}} \\cos (n-1) \\pi\n",
    "\\end{array}\\right] .\n",
    "$$"
   ]
  },
  {
   "cell_type": "markdown",
   "metadata": {},
   "source": [
    "**Example** (Trigonometirc interpolation revisited; Sauer (2017) p. 501)\n",
    "\n",
    "Find the trigonometric interpolant for the data $x = [−2.2,−2.8,−6.1,−3.9,0.0,1.1,−0.6,−1.1]$ on the interval $[0,1]$ at evenly spaced nodes $t_j = hj$ ($j=0,1,\\cdots,7$), $h=1/8$. This time, use the basis functions that are given above."
   ]
  },
  {
   "cell_type": "markdown",
   "metadata": {},
   "source": [
    "$$\n",
    "A x=\\sqrt{\\frac{2}{8}}\\left[\\begin{array}{ccclc}\n",
    "\\frac{1}{\\sqrt{2}} & \\frac{1}{\\sqrt{2}} & \\frac{1}{\\sqrt{2}} & \\cdots & \\frac{1}{\\sqrt{2}} \\\\\n",
    "1 & \\cos 2 \\pi \\frac{1}{8} & \\cos 2 \\pi \\frac{2}{8} & \\cdots & \\cos 2 \\pi \\frac{7}{8} \\\\\n",
    "0 & \\sin 2 \\pi \\frac{1}{8} & \\sin 2 \\pi \\frac{2}{8} & \\cdots & \\sin 2 \\pi \\frac{7}{8} \\\\\n",
    "1 & \\cos 4 \\pi \\frac{1}{8} & \\cos 4 \\pi \\frac{2}{8} & \\cdots & \\cos 4 \\pi \\frac{7}{8} \\\\\n",
    "0 & \\sin 4 \\pi \\frac{1}{8} & \\sin 4 \\pi \\frac{2}{8} & \\cdots & \\sin 4 \\pi \\frac{7}{8} \\\\\n",
    "1 & \\cos 6 \\pi \\frac{1}{8} & \\cos 6 \\pi \\frac{2}{8} & \\cdots & \\cos 6 \\pi \\frac{7}{8} \\\\\n",
    "0 & \\sin 6 \\pi \\frac{1}{8} & \\sin 6 \\pi \\frac{2}{8} & \\cdots & \\sin 6 \\pi \\frac{7}{8} \\\\\n",
    "\\frac{1}{\\sqrt{2}} & \\frac{1}{\\sqrt{2}} \\cos \\pi & \\frac{1}{\\sqrt{2}} \\cos 2 \\pi & \\cdots & \\frac{1}{\\sqrt{2}} \\cos 7 \\pi\n",
    "\\end{array}\\right]\\left[\\begin{array}{r}\n",
    "-2.2 \\\\\n",
    "-2.8 \\\\\n",
    "-6.1 \\\\\n",
    "-3.9 \\\\\n",
    "0.0 \\\\\n",
    "1.1 \\\\\n",
    "-0.6 \\\\\n",
    "-1.1\n",
    "\\end{array}\\right]\n",
    "\\approx\n",
    "\\left[\\begin{array}{r}\n",
    "-5.5154 \\\\\n",
    "-1.4889 \\\\\n",
    "-5.1188 \\\\\n",
    "2.2500 \\\\\n",
    "1.6500 \\\\\n",
    "-0.7111 \\\\\n",
    "0.3812 \\\\\n",
    "-0.7778\n",
    "\\end{array}\\right] .\n",
    "$$\n",
    "\n",
    "The formula (10.26) gives the interpolating function,\n",
    "$$\n",
    "\\begin{aligned}\n",
    "P(t)= & -1.95-0.7445 \\cos 2 \\pi t-2.5594 \\sin 2 \\pi t \\\\\n",
    "& +1.125 \\cos 4 \\pi t+0.825 \\sin 4 \\pi t \\\\\n",
    "& -0.3555 \\cos 6 \\pi t+0.1906 \\sin 6 \\pi t \\\\\n",
    "& -0.2750 \\cos 8 \\pi t,\n",
    "\\end{aligned}\n",
    "$$"
   ]
  },
  {
   "cell_type": "markdown",
   "metadata": {},
   "source": [
    "This agrees with the one obtained from DFT with real data.\n",
    "\n",
    "$$\n",
    "\\begin{aligned}\n",
    "P_8(t)= & \\frac{-5.5154}{\\sqrt{8}}-\\frac{1.0528}{\\sqrt{2}} \\cos 2 \\pi t-\\frac{3.6195}{\\sqrt{2}} \\sin 2 \\pi t \\\\\n",
    "& +\\frac{1.5910}{\\sqrt{2}} \\cos 4 \\pi t+\\frac{1.1667}{\\sqrt{2}} \\sin 4 \\pi t \\\\\n",
    "& -\\frac{0.5028}{\\sqrt{2}} \\cos 6 \\pi t+\\frac{0.2695}{\\sqrt{2}} \\sin 6 \\pi t \\\\\n",
    "& -\\frac{0.7778}{\\sqrt{8}} \\cos 8 \\pi t\n",
    "\\end{aligned}\n",
    "$$"
   ]
  }
 ],
 "metadata": {
  "kernelspec": {
   "display_name": "ptrch",
   "language": "python",
   "name": "ptrch"
  },
  "language_info": {
   "codemirror_mode": {
    "name": "ipython",
    "version": 3
   },
   "file_extension": ".py",
   "mimetype": "text/x-python",
   "name": "python",
   "nbconvert_exporter": "python",
   "pygments_lexer": "ipython3",
   "version": "3.9.1"
  }
 },
 "nbformat": 4,
 "nbformat_minor": 2
}
