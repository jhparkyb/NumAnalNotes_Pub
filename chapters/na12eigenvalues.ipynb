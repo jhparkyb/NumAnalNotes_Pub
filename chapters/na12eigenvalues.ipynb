{
 "cells": [
  {
   "cell_type": "markdown",
   "metadata": {},
   "source": [
    "## Methods for eigenvalues"
   ]
  },
  {
   "cell_type": "markdown",
   "metadata": {},
   "source": [
    "### Preliminary"
   ]
  },
  {
   "cell_type": "markdown",
   "metadata": {},
   "source": [
    "![Gershgorin disks](https://www.wolfram.com/language/12/complex-visualization/assets.en/gerschgorin-disks/O_47.png)\n",
    "\n",
    "Figure: Wolfram (Gershgorin disks)"
   ]
  },
  {
   "cell_type": "markdown",
   "metadata": {},
   "source": [
    "### Hessenberg form"
   ]
  },
  {
   "cell_type": "markdown",
   "metadata": {},
   "source": [
    "- Efficiency of the QR algorithm increases considerably if we first put $A$ into upper Hessenberg form. [Sauer (2017) p. 570]\n",
    "  - Hessenberg form introduces as many zeros into $$ as possible while preserving all eigenvalues. \n",
    "- Upper Hessenberg form eliminates the final difficulty—convergence to multiple complex eigenvalues— and the QR iteration will always proceed to 1 × 1 or 2 × 2 blocks. [Sauer (2017) p. 570]"
   ]
  },
  {
   "cell_type": "markdown",
   "metadata": {},
   "source": [
    "**Definition** (Hessenberg form)\n",
    "\n",
    "The $m \\times n$ matrix $A$ is in upper Hessenberg form if $a_{i j}=0$ for $i>j+1$.\n",
    "\n",
    "$$\n",
    "\\left[\\begin{array}{lllll}\n",
    "\\times & \\times & \\times & \\times & \\times \\\\\n",
    "\\times & \\times & \\times & \\times & \\times \\\\\n",
    "& \\times & \\times & \\times & \\times \\\\\n",
    "& & \\times & \\times & \\times \\\\\n",
    "& & & \\times & \\times\n",
    "\\end{array}\\right]\n",
    "$$\n"
   ]
  },
  {
   "cell_type": "markdown",
   "metadata": {},
   "source": [
    "**Theorem** (Hessenberg form)\n",
    "\n",
    "Let $A$ be a square matrix. There exists an orthogonal matrix $Q$ such that $A=Q B Q^T$ and $B$ is in upper Hessenberg form."
   ]
  },
  {
   "cell_type": "markdown",
   "metadata": {},
   "source": [
    "**Remark**\n",
    "\n",
    "\n",
    "- There is a finite algorithm for putting matrices in upper Hessenberg form by similarity transformations. See the construction below.\n"
   ]
  },
  {
   "cell_type": "markdown",
   "metadata": {},
   "source": [
    "**Summary** (Finding eigenvalues for general matrix; not necessarily symmetric)\n",
    "\n",
    "1.  Convert a matrix into upper Hessenberg form.\n",
    "2.  Apply the shifted QR algorithm."
   ]
  },
  {
   "cell_type": "markdown",
   "metadata": {},
   "source": []
  }
 ],
 "metadata": {
  "language_info": {
   "name": "python"
  }
 },
 "nbformat": 4,
 "nbformat_minor": 2
}
