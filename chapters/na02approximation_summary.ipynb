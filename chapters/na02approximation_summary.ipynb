{
 "cells": [
  {
   "cell_type": "markdown",
   "metadata": {},
   "source": [
    "### Polynomial Approximation"
   ]
  },
  {
   "cell_type": "markdown",
   "metadata": {},
   "source": [
    "#### Overview\n",
    "\n",
    "##### Problem of interest\n",
    "\n",
    "> ***Problem of interest*** (Interpolation)\n",
    ">\n",
    "> Given a set of pairs,\n",
    "> | $x_0$ | $x_1$ |$x_2$  |... | $x_n$ |\n",
    "> |:-:|:-:|:-:|:-:|:-:|\n",
    "> | $y_0$ | $y_1$ |$y_2$  |... | $y_n$ |\n",
    ">\n",
    "> find a polynomial $p(x)$ of minimal degree that interpolates the pairs, that is,  for $i=0,1,2,\\cdots,n$, \n",
    "> $$p(x_i)=y_i .$$"
   ]
  },
  {
   "cell_type": "markdown",
   "metadata": {},
   "source": [
    "##### Methods (rather forms)\n",
    "\n",
    "1. Vandermonde matrix\n",
    "2. Lagrange form\n",
    "3. Newton form"
   ]
  },
  {
   "cell_type": "markdown",
   "metadata": {},
   "source": [
    "#### Vandermonde matrix"
   ]
  },
  {
   "cell_type": "markdown",
   "metadata": {},
   "source": [
    "##### Method\n",
    "\n",
    "![Vandermonde matrix](https://jhparkyb.github.io/resources/notes/na/104ASlides_Approximation005.png)\n",
    "\n",
    "- It can be shown that the coefficient matrix is invertible.\n",
    "- What else. Invert this!"
   ]
  },
  {
   "cell_type": "markdown",
   "metadata": {},
   "source": [
    "##### Analysis\n",
    "\n",
    "In favor of more computational activities, we skip the proof the invertibility of Vandermonde matrix. If interested, see the links.\n",
    "\n",
    "[Proof of invertibility of Vandermonde matrix 1](https://jhparkyb.github.io/resources/notes/na/104ASlides_Approximation006.png)\n",
    "\n",
    "[Proof of invertibility of Vandermonde matrix 2](https://jhparkyb.github.io/resources/notes/na/104ASlides_Approximation007.png)"
   ]
  },
  {
   "cell_type": "markdown",
   "metadata": {},
   "source": [
    "#### Newton form"
   ]
  },
  {
   "cell_type": "markdown",
   "metadata": {},
   "source": [
    "##### Method\n",
    "\n",
    "- Find a sequence of polynomials rather than a single one right away.\n",
    "- Increase the degrees of polynomials as interpolating more and more points.\n",
    "\n",
    "The method can be best understood by an example.\n",
    "\n",
    "![Example of interpolation: Newton form](https://jhparkyb.github.io/resources/notes/na/104ASlides_Approximation014.png)\n",
    "\n",
    "[Finding interpolating polynomial in the Newton form 1](https://jhparkyb.github.io/resources/notes/na/104ABoardWork_Approximation001.png)\n",
    "\n",
    "[Finding interpolating polynomial in the Newton form 2](https://jhparkyb.github.io/resources/notes/na/104ABoardWork_Approximation002.png)"
   ]
  },
  {
   "cell_type": "markdown",
   "metadata": {},
   "source": [
    "#### Lagrange form"
   ]
  },
  {
   "cell_type": "markdown",
   "metadata": {},
   "source": [
    "##### Method\n",
    "\n",
    "![Lagrange basis](https://jhparkyb.github.io/resources/notes/na/104ASlides_Approximation011.png)\n",
    "\n",
    "![Lagrange basis example](https://jhparkyb.github.io/resources/notes/na/104ASlides_Approximation012.png)\n",
    "\n",
    "![Example of interpolation: Lagrange form](https://jhparkyb.github.io/resources/notes/na/104ASlides_Approximation014.png)\n"
   ]
  },
  {
   "cell_type": "markdown",
   "metadata": {},
   "source": [
    "#### Basic polynomial interpolation (approximation) summary "
   ]
  },
  {
   "cell_type": "markdown",
   "metadata": {},
   "source": [
    "| | Vandermonde | Lagrange| Newton|\n",
    "|:-:|:-:|:-:|:-:|\n",
    "| Basis | $1,x,x_2, \\cdots$ | $l_i(x)=\\prod_{j\\neq i} \\frac{x−x_j}{x_i−x_j}$| $1,(x−x_0),(x−x_0)(x−x_1),\\cdots$|\n",
    "| Pros | Some algebraic beauty | Convenient for proofs (writing out interpolation is immediate)| Computationally efficient (recursive structure) |\n",
    "| Numerical aspect | Inaccurate and in- efficient: the ma- trix is ill-conditioned and inverting a ma- trix is among expen- sive computations | Efficient when nodes are fixed but possibly the data (i.e., y-coordinates) changes  | Efficient when nodes get added (newly added terms do not affect the previous interpolations). Also, finding coefficients can be efficient when equipped with divided differences|"
   ]
  },
  {
   "cell_type": "markdown",
   "metadata": {},
   "source": [
    "> **Theorem** (Unique interpolation theorem)\n",
    ">\n",
    "> If $x_0,x_1,\\cdots ,x_n$ are distinct real, then, for arbitrary values $y_0,y_1,\\cdots,y_n$, there is a unique polynomial $p \\in \\Pi_n$ such that \n",
    "> $$ p(x_i ) = y_i, \\quad (0\\le i \\le n).$$"
   ]
  },
  {
   "cell_type": "markdown",
   "metadata": {},
   "source": [
    "![Example of interpolation: Lagrange form](https://jhparkyb.github.io/resources/notes/na/104ASlides_Approximation016.png)"
   ]
  },
  {
   "cell_type": "markdown",
   "metadata": {},
   "source": [
    "#### Appendix"
   ]
  },
  {
   "cell_type": "markdown",
   "metadata": {},
   "source": [
    "##### Runge's phenomenon"
   ]
  },
  {
   "cell_type": "markdown",
   "metadata": {},
   "source": [
    "**Natural guess**\n",
    "\n",
    "The more nodes we introduce, the more exact the polynomial approximation will become.\n",
    "\n",
    "**Fact**\n",
    "\n",
    "This may not be true even for infitely smooth functions. \n",
    "\n",
    "> **Example** [Runge's phenomenon (Dynamic example)](https://blogs.mathworks.com/cleve/2018/12/10/explore-runges-polynomial-interpolation-phenomenon/)\n",
    ">\n",
    "> $$\\frac{1}{1+25x^2}$$"
   ]
  },
  {
   "cell_type": "markdown",
   "metadata": {},
   "source": [
    "##### Chebychev polynomials"
   ]
  },
  {
   "cell_type": "markdown",
   "metadata": {},
   "source": [
    "![Chebychev polynomial 1](https://jhparkyb.github.io/resources/notes/na/104ASlides_Approximation019.png)\n",
    "\n",
    "![Chebychev polynomial 2](https://jhparkyb.github.io/resources/notes/na/104ASlides_Approximation020.png)\n",
    "\n",
    "![Chebychev polynomial 3](https://jhparkyb.github.io/resources/notes/na/104ASlides_Approximation021.png)"
   ]
  },
  {
   "cell_type": "markdown",
   "metadata": {},
   "source": [
    "##### Divided differences"
   ]
  },
  {
   "cell_type": "markdown",
   "metadata": {},
   "source": [
    "![Divided differences 1](https://jhparkyb.github.io/resources/notes/na/104ASlides_Approximation026.png)\n",
    "\n",
    "![Divided differences 2](https://jhparkyb.github.io/resources/notes/na/104ASlides_Approximation027.png)\n",
    "\n",
    "![Divided differences 3](https://jhparkyb.github.io/resources/notes/na/104ASlides_Approximation028.png)"
   ]
  },
  {
   "cell_type": "markdown",
   "metadata": {},
   "source": [
    "##### Horner's algorithm: efficient evaluation of interpolation"
   ]
  },
  {
   "cell_type": "markdown",
   "metadata": {},
   "source": [
    "Efficient way of evaluating polynomails.\n",
    "\n",
    "![Example of Horner's algorithm](https://jhparkyb.github.io/resources/notes/na/104ASlides_Approximation010.png)"
   ]
  },
  {
   "cell_type": "markdown",
   "metadata": {
    "vscode": {
     "languageId": "plaintext"
    }
   },
   "source": [
    "---\n",
    "This work is licensed under [Creative Commons Attribution-ShareAlike 4.0 International](https://creativecommons.org/licenses/by-sa/4.0/)"
   ]
  },
  {
   "cell_type": "markdown",
   "metadata": {},
   "source": []
  }
 ],
 "metadata": {
  "kernelspec": {
   "display_name": "ptrch",
   "language": "python",
   "name": "ptrch"
  },
  "language_info": {
   "codemirror_mode": {
    "name": "ipython",
    "version": 3
   },
   "file_extension": ".py",
   "mimetype": "text/x-python",
   "name": "python",
   "nbconvert_exporter": "python",
   "pygments_lexer": "ipython3",
   "version": "3.9.1"
  },
  "orig_nbformat": 4
 },
 "nbformat": 4,
 "nbformat_minor": 2
}
