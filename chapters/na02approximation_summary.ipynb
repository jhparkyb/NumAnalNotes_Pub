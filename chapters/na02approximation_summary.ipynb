{
 "cells": [
  {
   "cell_type": "markdown",
   "metadata": {},
   "source": [
    "### Polynomial Approximation"
   ]
  },
  {
   "cell_type": "markdown",
   "metadata": {},
   "source": [
    "#### Take-aways\n",
    "\n",
    "After studying this chapter, we will be able to\n",
    "\n",
    "Main topics\n",
    "\n",
    "- use the Unique Interpolation Theorem in an effective way,\n",
    "  - state the Unique Interpolation Theorem,\n",
    "  - apply the Unique Interpolation Theorem (check assumptions),\n",
    "  - state and use error formula of polynomial interpolation,\n",
    "  - examine interpolation settings from the degrees of freedom perspective,\n",
    "- use different forms of interpolations appropriately,\n",
    "  - write the Newton and Lagrange forms of interpolation,\n",
    "  - write Vendermonde matrix and use its invertibility when needed,\n",
    "  - summarize pros and cons of Newton and Lagrange form of interpolation,\n",
    "- find interpolating polynomials,\n",
    "  - calculate interpolating polynomials for simple examples,\n",
    "  - draw Lagrange basis functions,\n",
    "- Be aware the difficulty of polynomial interpolation,\n",
    "  - explain what Runge's phenomenon is and what it tells us,\n",
    "  - be aware that Runge's phenomenon is resolved by Chebyshev nodes,\n",
    "- explain basic properties of Chebyshev polynomails,\n",
    "  - use basic properties of them,\n",
    "  - prove basic properties of them,\n",
    "\n",
    "Analysis of these will be treated in more detail later and in M104C. For now, remembering and using these results is the focus. **The results of this chapter underpin what follows throughout the quarter**.\n"
   ]
  },
  {
   "cell_type": "markdown",
   "metadata": {},
   "source": [
    "#### Overview\n",
    "\n",
    "##### Problem of interest\n",
    "\n",
    "> ***Problem of interest*** (Interpolation)\n",
    ">\n",
    "> Given a set of pairs $(x_0,y_0), (x_1,y_1), (x_2,y_2),\\cdots, (x_n,y_n)$, where $x_i$'s are distinct, find a polynomial $p(x)$ of minimal degree that interpolates the pairs, that is,  for $i=0,1,2,\\cdots,n$, \n",
    "> $$p(x_i)=y_i .$$\n",
    "<!-- > \n",
    "| $x_0$ | $x_1$ |$x_2$  |... | $x_n$ |\n",
    "|---|---|---|---|---|\n",
    "| $y_0$ | $y_1$ |$y_2$  |... | $y_n$ |\n",
    ">  -->"
   ]
  },
  {
   "cell_type": "markdown",
   "metadata": {},
   "source": [
    "> **Question**\n",
    ">\n",
    "> Discuss what happens if we drop the word 'distinct'? Also, what happens if we drop the word 'minimal'?\n",
    ">\n",
    "> (Reminder) This is **about atmosphere**, not getting it right.\n",
    "> \n",
    "> 1. Think for a short time.\n",
    "> 2. Share your guess with your pair.\n",
    "> 3. Type your answer in clicker.\n",
    "> 4. Feel free to say out loud."
   ]
  },
  {
   "cell_type": "markdown",
   "metadata": {},
   "source": [
    "##### Methods (rather forms)\n",
    "\n",
    "1. Vandermonde matrix\n",
    "2. Lagrange form\n",
    "3. Newton form"
   ]
  },
  {
   "cell_type": "markdown",
   "metadata": {},
   "source": [
    "#### Vandermonde matrix"
   ]
  },
  {
   "cell_type": "markdown",
   "metadata": {},
   "source": [
    "> **Theorem** (Unique interpolation theorem)\n",
    ">\n",
    "> If $x_0,x_1,\\cdots ,x_n$ are distinct real, then, for arbitrary values $y_0,y_1,\\cdots,y_n$, there is a unique polynomial $p \\in \\Pi_n$ such that \n",
    "> $$ p(x_i ) = y_i, \\quad (0\\le i \\le n).$$"
   ]
  },
  {
   "cell_type": "markdown",
   "metadata": {},
   "source": [
    "##### Method\n",
    "\n",
    "Start by brute force. \n",
    "\n",
    "![Vandermonde matrix](https://jhparkyb.github.io/resources/notes/na/104ASlides_Approximation005.png)\n",
    "\n",
    "- It can be shown that the coefficient matrix is invertible.\n",
    "- What else. Invert this!"
   ]
  },
  {
   "cell_type": "markdown",
   "metadata": {},
   "source": [
    "##### Analysis\n",
    "\n",
    "In favor of more computational activities, we skip the proof the invertibility of Vandermonde matrix. This may be covered in 104C.\n",
    " \n",
    "<!--If interested, see the links.\n",
    "\n",
    "[Proof of invertibility of Vandermonde matrix 1](https://jhparkyb.github.io/resources/notes/na/104ASlides_Approximation006.png)\n",
    "\n",
    "[Proof of invertibility of Vandermonde matrix 2](https://jhparkyb.github.io/resources/notes/na/104ASlides_Approximation007.png)\n",
    "-->"
   ]
  },
  {
   "cell_type": "markdown",
   "metadata": {},
   "source": [
    "#### Newton form"
   ]
  },
  {
   "cell_type": "markdown",
   "metadata": {},
   "source": [
    "##### Method\n",
    "\n",
    "- Find a sequence of polynomials rather than a single one right away.\n",
    "- Increase the degrees of polynomials as interpolating more and more points.\n",
    "\n",
    "The method can be best understood by an example.\n"
   ]
  },
  {
   "cell_type": "markdown",
   "metadata": {},
   "source": [
    "\n",
    "> **Example**\n",
    ">\n",
    "> Following the previous proof, find a polynomial (of minimal degree) interpolating in the Newton form\n",
    ">\n",
    "| $x$ | 0 | 1 | 2 | 3 |\n",
    "|---|---|---|---|---|\n",
    "| $y$ | 1 | 1 | 2 | 3 |\n",
    "\n",
    "[Finding interpolating polynomial in the Newton form](https://jhparkyb.github.io/resources/notes/na/104ABoardWork_Approximation001.png)\n"
   ]
  },
  {
   "cell_type": "markdown",
   "metadata": {},
   "source": [
    "#### Lagrange form"
   ]
  },
  {
   "cell_type": "markdown",
   "metadata": {},
   "source": [
    "> **Remark**\n",
    ">\n",
    "> Given $\\{(x_i,y_i)\\}_{0\\le i \\le n}$, by the unique interpolation theorem, we know the (minimal) order of the interpolating polynomial, $\\Pi_n = \\mathcal{P}_n  := \\{p \\ :\\ p \\text{ is a polynomail}, \\deg(p)=n\\}$. \n",
    "> \n",
    "> We can think of the interpolation problem as finding a *basis* $\\{p_i \\}_{0\\le i \\le n}$ for $\\Pi_n$ and a *coordniate vector* $(c_i)_{0\\le i \\le n} \\in {\\mathbb{R}^{n+1}}$, whose linear combination $p(x)=\\sum_{0\\le i \\le n} c_i p_i(x)$ satisfies the interpolation conditions $p(x_i)=y_i$. "
   ]
  },
  {
   "cell_type": "markdown",
   "metadata": {},
   "source": [
    "##### Method\n",
    "\n",
    "![Lagrange basis](https://jhparkyb.github.io/resources/notes/na/104ASlides_Approximation011.png)\n",
    "\n",
    "> **Remark**\n",
    ">\n",
    "> Carefully observe the index $j\\neq i$, but not $i\\neq j$: the former means '$j$ ranges over appropriate values except for $i$ while the latter the roles are flipped. How do you know what is fixed and what is varying? Look at the left hand side, where nothing is varying.\n",
    "\n",
    "![Lagrange basis example](https://jhparkyb.github.io/resources/notes/na/104ASlides_Approximation012.png)\n"
   ]
  },
  {
   "cell_type": "markdown",
   "metadata": {},
   "source": [
    "> **Question** (Think about this while doing the example)\n",
    ">\n",
    "> What is the minimal information to determine Lagrange basis? \n",
    ">\n",
    "> (Reminder) This is **about atmosphere**, not getting it right.\n",
    "> \n",
    "> 1. Think for a short time.\n",
    "> 2. Share your guess with your pair.\n",
    "> 3. Type your answer in clicker.\n",
    "> 4. Feel free to say out loud."
   ]
  },
  {
   "cell_type": "markdown",
   "metadata": {},
   "source": [
    "\n",
    "> **Example**\n",
    ">\n",
    "> Following the previous proof, find a polynomial (of minimal degree) interpolating in the Lagrange form\n",
    ">\n",
    "| $x$ | 1 | 2 | 3 | 4 |\n",
    "|---|---|---|---|---|\n",
    "| $y$ | 1 | 1 | 2 | 3 |\n"
   ]
  },
  {
   "cell_type": "markdown",
   "metadata": {},
   "source": [
    "\n",
    "> **Answer** \n",
    ">\n",
    "> $$\n",
    "> \\begin{split}\n",
    "> p(x)&=y_0\\ell_0(x) + y_1\\ell_1(x) + y_2\\ell_2(x) + y_3\\ell_3(x)\n",
    "> \\\\\n",
    "> &=\\ell_0(x) + \\ell_1(x) + 2\\ell_2(x) + 3\\ell_3(x)\n",
    "> \\end{split},\n",
    "> $$\n",
    "> \n",
    "> where the $\\ell_i$ ($i=0,1,2,3$) are Lagrange basis subordinate to the nodes $\\{1,2,3,4\\}$.\n",
    "\n",
    "![Example: Lagrange basis](https://jhparkyb.github.io/resources/notes/na/104ABoardWork_Approximation003.png)\n"
   ]
  },
  {
   "cell_type": "markdown",
   "metadata": {},
   "source": [
    "<!-- > **Remark**\n",
    ">\n",
    "> Observe the dependency: Nodes determines Lagrange basis. -->\n"
   ]
  },
  {
   "cell_type": "markdown",
   "metadata": {},
   "source": [
    "#### Basic polynomial interpolation (approximation) summary "
   ]
  },
  {
   "cell_type": "markdown",
   "metadata": {},
   "source": [
    "| | Vandermonde | Lagrange| Newton|\n",
    "|---|---|---|---|\n",
    "| Basis | $1,x,x_2, \\cdots$ | $l_i(x)=\\prod_{j\\neq i} \\frac{x−x_j}{x_i−x_j}$| $1,(x−x_0),(x−x_0)(x−x_1),\\cdots$|\n",
    "| Pros | Some algebraic beauty | Convenient for proofs (writing out interpolation is immediate)| Computationally efficient (recursive structure) |\n",
    "| Numerical aspect | Inaccurate and inefficient: the matrix is ill-conditioned and inverting a matrix is among expensive computations | Efficient when nodes are fixed but possibly the data (i.e., y-coordinates) changes  | Efficient when nodes get added (newly added terms do not affect the previous interpolations). Also, finding coefficients can be efficient when equipped with divided differences|"
   ]
  },
  {
   "cell_type": "markdown",
   "metadata": {},
   "source": [
    "![Example of interpolation: Lagrange form](https://jhparkyb.github.io/resources/notes/na/104ASlides_Approximation016.png)\n",
    "\n",
    "Proof: M104C"
   ]
  },
  {
   "cell_type": "markdown",
   "metadata": {},
   "source": [
    "#### Challenges and overcomes in polynomial approximation"
   ]
  },
  {
   "cell_type": "markdown",
   "metadata": {},
   "source": [
    "##### Runge's phenomenon"
   ]
  },
  {
   "cell_type": "markdown",
   "metadata": {},
   "source": [
    "**Natural guess**\n",
    "\n",
    "The more nodes we introduce, the more exact the polynomial approximation will become.\n",
    "\n",
    "**Fact**\n",
    "\n",
    "This may not be true even for infitely smooth functions. \n",
    "\n",
    "> **Example** [Runge's phenomenon (Dynamic example)](https://blogs.mathworks.com/cleve/2018/12/10/explore-runges-polynomial-interpolation-phenomenon/)\n",
    ">\n",
    "> $$\\frac{1}{1+25x^2}$$"
   ]
  },
  {
   "cell_type": "markdown",
   "metadata": {},
   "source": [
    "##### Chebychev polynomials"
   ]
  },
  {
   "cell_type": "markdown",
   "metadata": {},
   "source": [
    "![Chebychev polynomial 1](https://jhparkyb.github.io/resources/notes/na/104ASlides_Approximation019.png)\n",
    "\n",
    "![Chebychev polynomial 2](https://jhparkyb.github.io/resources/notes/na/104ASlides_Approximation020.png)\n",
    "\n",
    "[Proof of characterization of Chebyshev polynomials using cosine and inverse cosine](https://jhparkyb.github.io/resources/notes/na/104ABoardWork_Approximation009.png)\n",
    "\n",
    "[Proof of basic properties of Chebyshev polynomials](https://jhparkyb.github.io/resources/notes/na/104ABoardWork_Approximation010.png)"
   ]
  },
  {
   "cell_type": "markdown",
   "metadata": {},
   "source": [
    "Runge's phenomenon and Chebyshev nodes\n",
    "\n",
    "- The last property tells us how to find the zeros of Chebyshev polynomials. \n",
    "- If they are used as nodes for interpolation, they are called *Chebyshev nodes*.\n",
    "- If we use the Chebyshev nodes, the Runge's phenomenon is remedied."
   ]
  },
  {
   "cell_type": "markdown",
   "metadata": {
    "vscode": {
     "languageId": "plaintext"
    }
   },
   "source": [
    "---\n",
    "This work is licensed under [Creative Commons Attribution-ShareAlike 4.0 International](https://creativecommons.org/licenses/by-sa/4.0/)"
   ]
  },
  {
   "cell_type": "markdown",
   "metadata": {},
   "source": []
  }
 ],
 "metadata": {
  "kernelspec": {
   "display_name": "ptrch",
   "language": "python",
   "name": "ptrch"
  },
  "language_info": {
   "codemirror_mode": {
    "name": "ipython",
    "version": 3
   },
   "file_extension": ".py",
   "mimetype": "text/x-python",
   "name": "python",
   "nbconvert_exporter": "python",
   "pygments_lexer": "ipython3",
   "version": "3.9.1"
  },
  "orig_nbformat": 4
 },
 "nbformat": 4,
 "nbformat_minor": 2
}
