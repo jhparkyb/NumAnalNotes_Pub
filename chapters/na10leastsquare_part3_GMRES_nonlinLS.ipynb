{
 "cells": [
  {
   "cell_type": "markdown",
   "metadata": {},
   "source": [
    "## GMRES"
   ]
  },
  {
   "cell_type": "markdown",
   "metadata": {},
   "source": []
  },
  {
   "cell_type": "markdown",
   "metadata": {},
   "source": [
    "### Why do we care?"
   ]
  },
  {
   "cell_type": "markdown",
   "metadata": {},
   "source": [
    "## Nonlinear least square"
   ]
  },
  {
   "cell_type": "markdown",
   "metadata": {},
   "source": [
    "**Theorem** (Vector dot product rule)\n",
    "\n",
    "Let $u\\left(x_1, \\ldots, x_n\\right)$ and $v\\left(x_1, \\ldots, x_n\\right)$ be $\\mathbb{R}^n$-vector-valued functions, and let $A\\left(x_1, \\ldots, x_n\\right)$ be an $n \\times n$ matrix function. The dot product $u^T v$ is a scalar function. Then, we have\n",
    "\n",
    "\n",
    "$$\n",
    "\\nabla\\left(u^T v\\right)=v^T D u+u^T D v,\n",
    "$$\n",
    "\n",
    "and\n",
    "\n",
    "$$\n",
    "D(A v)=A \\cdot D v+\\sum_{i=1}^n v_i D a_i,\n",
    "$$\n",
    "\n",
    "where $a_i$ denotes the $i$ th column of $A$."
   ]
  },
  {
   "cell_type": "markdown",
   "metadata": {},
   "source": [
    "### Appendix"
   ]
  },
  {
   "cell_type": "markdown",
   "metadata": {
    "vscode": {
     "languageId": "plaintext"
    }
   },
   "source": [
    "---\n",
    "This work is licensed under [Creative Commons Attribution-ShareAlike 4.0 International](https://creativecommons.org/licenses/by-sa/4.0/)"
   ]
  }
 ],
 "metadata": {
  "kernelspec": {
   "display_name": "ptrch",
   "language": "python",
   "name": "ptrch"
  },
  "language_info": {
   "codemirror_mode": {
    "name": "ipython",
    "version": 3
   },
   "file_extension": ".py",
   "mimetype": "text/x-python",
   "name": "python",
   "nbconvert_exporter": "python",
   "pygments_lexer": "ipython3",
   "version": "3.8.13"
  },
  "orig_nbformat": 4
 },
 "nbformat": 4,
 "nbformat_minor": 2
}
