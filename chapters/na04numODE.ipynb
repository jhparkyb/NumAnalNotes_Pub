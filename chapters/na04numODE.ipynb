{
 "cells": [
  {
   "cell_type": "markdown",
   "metadata": {},
   "source": [
    "### Numerical Method for ODEs"
   ]
  },
  {
   "cell_type": "markdown",
   "metadata": {},
   "source": [
    "#### Take-aways\n",
    "\n",
    "After studying this chapter, we will be able to\n",
    "\n",
    "- explain what we mean by 'solve an ordinary differential equation (ODE)' or an initial value theorem (IVP),\n",
    "  - draw slope field and integral curves,\n",
    "  - draw discrete integral curves (this is not an official terminology) on slope a field, \n",
    "  - explain how integral curves and its discrete versions are related,\n",
    "- discuss the existence and uniqueness of the solution of an ODE,\n",
    "  - write, check, and use Lipschitz continuity,\n",
    "  - state the most common form of Picard-Lindelof theorem,\n",
    "  - check whether an ODE has a unique solution,\n",
    "- explain important concepts related numerical methods for ODEs,\n",
    "  - explain what is the local truncation errors and what is global errors,\n",
    "  - explain consistency and consistency order,\n",
    "  - explain what is zero-stability,\n",
    "  - write the root condition,\n",
    "  - explain stiffness of ODEs,\n",
    "- explain each class of numerical methods, i.e., Runge-Kutta methods, linear multi-step methods,\n",
    "  - explain ideas behind the methods in an intuitive language,\n",
    "  - give a good estimate of the order of accuracy for important methods from the efficiency-accuracy trade-off point of view,\n",
    "  - decide zero-stability of multi-step methods,\n",
    "  - decide the convergence of multi-step methods,\n",
    "- explain what to be careful of when choosing a numerical method for ODEs,\n",
    "  - explain Dahlquist first and second barrier theorem,\n",
    "  - explain what methods are recommended for stiff ODEs,\n"
   ]
  },
  {
   "cell_type": "markdown",
   "metadata": {},
   "source": [
    "> **Warning**\n",
    ">\n",
    "> This topic is quite a \"big chunk,\" meaning it is hard to see the whole picture until we finish the discussions and reiterate them. A special patience is needed. "
   ]
  },
  {
   "cell_type": "markdown",
   "metadata": {},
   "source": [
    "#### Overview\n",
    "\n",
    "##### Problem of interest\n",
    "\n",
    "> **Problem of interest** (initial value problem)\n",
    ">\n",
    ">  Given an ordinary differential equation (ODE) supplemented with an initial condition\n",
    "> $$\\begin{cases} \\frac{d}{dt} x(t) = f(t, x) & (t>t_0) \\\\ x(t_0) = x_0, & \\end{cases}$$\n",
    ">\n",
    "> find a function $x(t)$ that satisfies the equality, where $t_0, x_0\\in \\mathbb{R}$, $x:[t_0,\\infty)\\to\\mathbb{R}$, and $f:[t_0,\\infty)\\times\\mathbb{R}\\to\\mathbb{R}$.\n"
   ]
  },
  {
   "cell_type": "markdown",
   "metadata": {},
   "source": [
    "> **Terminology**\n",
    ">\n",
    "> - IVP: An ODE supplemented with an initial condition is called *initial value problem* (IVP). "
   ]
  },
  {
   "cell_type": "markdown",
   "metadata": {},
   "source": [
    "> **Usual settings and notation**\n",
    ">\n",
    "> The following will be assumed unless otherwise mentioned:\n",
    ">\n",
    "> - Initial time: $t_0=0$\n",
    "> - Final time: $T<\\infty$ \n",
    ">   - For computational purposes, we usually assume some finite final time.\n",
    ">   - Therefore, we usually want a solution $x:[0,T]\\to\\mathbb{R}$.\n",
    "> - time derivative: $\\dot x (t) :=\\frac{d}{dt} x(t)=x^\\prime(t)$ (we often follow physics convention)"
   ]
  },
  {
   "cell_type": "markdown",
   "metadata": {},
   "source": [
    "> **Example** (A slope field and solutions to ODE)\n",
    "> \n",
    "> ![Slope field and integral curves](https://ximera.osu.edu/ode/main/directionFields/fig010304.jpg)\n",
    ">\n",
    "> Figure: Slope field ($f(t,x)=\\frac{t-x}{1+t^2}$) and integral curves (https://ximera.osu.edu/)\n",
    ">\n",
    "> Each curves corresponds to a solution to the ODE $\\dot x=\\frac{t-x}{1+t^2}$ associated to a different initial condition $x(0)=x_0$."
   ]
  },
  {
   "cell_type": "markdown",
   "metadata": {},
   "source": [
    "> **Big picture** (Solutions to ODE and their numerical solutions)\n",
    ">\n",
    "> Under certain conditions (so that we do not need to worry about technical issues),\n",
    "> - for each initial condition $x(0)=x_0$, there is a unique solution $x(t)$. We can think of this as an *evolution* of a system or *trajectory* of a particle.\n",
    "> - For each IVP, different numerical methods lead to different numerical solutions while the true solution is unique.\n",
    "> - Each numerical method differs by what kind of slope we use to compute the next position.\n",
    ">\n",
    "> ![Different numerical methods for the same IVP](https://upload.wikimedia.org/wikipedia/commons/thumb/2/2d/Numerical_integration_illustration%2C_step%3D1.svg/800px-Numerical_integration_illustration%2C_step%3D1.svg.png)\n",
    ">\n",
    "> Figure: Wikipedia (Illustration of numerical integration for the differential equation; IVP $\\dot x(t)=x$, $x(0)=1$; Blue - Euler method; Green - Midpoint method; Red - Exact solution)\n"
   ]
  },
  {
   "cell_type": "markdown",
   "metadata": {},
   "source": [
    "##### Methods \n",
    "\n",
    "1. Taylor series methods (single step)\n",
    "2. Runge-Kutta methods (single step)\n",
    "3. Linear multistep methods\n",
    "   1. Adam-Bashforth methods\n",
    "   2. Adam-Moulton methods\n",
    "   3. Backward differentation formulas (BDFs)"
   ]
  },
  {
   "cell_type": "markdown",
   "metadata": {},
   "source": [
    "##### Important concepts\n",
    "\n",
    "- Lipschitz conditunity\n",
    "- Local truncation errors (LTE)\n",
    "- Consistency and consistency order (or order of accuracy)\n",
    "- Zero stability\n",
    "- Global errors\n",
    "- Convergence of numerical methods for ODEs\n",
    "- Dahlquist barriers"
   ]
  },
  {
   "cell_type": "markdown",
   "metadata": {},
   "source": [
    "##### Important preliminary\n",
    "\n",
    "- Taylor's theorem for 2D functions. (Math 6A)\n",
    "\n",
    "| | |\n",
    "|---|---|\n",
    "| [2D Taylor review 1](https://jhparkyb.github.io/resources/notes/vcal/expos_2DTaylorIntro1Review1D_lp1000.png) | [2D Taylor review 2](https://jhparkyb.github.io/resources/notes/vcal/expos_2DTaylorIntro2Poly2D_lp1000.png)| \n",
    "| [2D Taylor review 3](https://jhparkyb.github.io/resources/notes/vcal/expos_2DTaylorIntro3QuadAppr1_lp1000.png)| [2D Taylor review 4](https://jhparkyb.github.io/resources/notes/vcal/expos_2DTaylorIntro3QuadAppr2_lp1000.png)|\n",
    "| [2D Taylor review 5](https://jhparkyb.github.io/resources/notes/vcal/ex_CalQuadForm_lp2000.png)| [2D Taylor review 6 <br> (Theorem)](https://jhparkyb.github.io/resources/notes/vcal/thm_2orderTaylor2D_lp2000.png) | \n",
    "| [2D Taylor review 7](https://jhparkyb.github.io/resources/notes/vcal/thm_2orderTaylor2DIncVecForm_lp2000.png)| [2D Taylor review 8](https://jhparkyb.github.io/resources/notes/vcal/ex_Cal2DTaylor01_1_lp2000.png)|\n",
    "| [2D Taylor review 9](https://jhparkyb.github.io/resources/notes/vcal/ex_Cal2DTaylor01_2_lp2000.png)| [2D Taylor review 10](https://jhparkyb.github.io/resources/notes/vcal/expos_OrganizingHessianEntries_lp2000.png)| | |\n"
   ]
  },
  {
   "cell_type": "markdown",
   "metadata": {},
   "source": [
    "#### Existence and uniqueness\n",
    "\n",
    "> **Motivation**\n",
    "> \n",
    "> The problem of interest in this chapter is less when it comes to whether the problem even makes sense, that is, *whether the solution actually exists*. (Compare it with 'whether a zero, an interpolating polynomial, derivative, or an integral of a function.') Fortunately, there are some sufficient contidions that guarantee the existence of the solution of an IVP.  "
   ]
  },
  {
   "cell_type": "markdown",
   "metadata": {},
   "source": [
    "> **Definition** (Lipschitz continuity)\n",
    ">\n",
    "> Let $f:D\\to\\mathbb{R}$ be a function, where $D\\subset\\mathbb{R}$. If there exists $L>0$ such that $f$ satisfies, for any $x,y\\in D$, \n",
    "> $$|f(x)- f(y)| \\le L|x-y|,$$\n",
    "> we say $f$ is *Lipschitz continuous* on $D$. $L$ is called a $Lipschitz$ constant."
   ]
  },
  {
   "cell_type": "markdown",
   "metadata": {},
   "source": [
    "![Visualization of Lipschitz continuity](https://upload.wikimedia.org/wikipedia/commons/5/58/Lipschitz_Visualisierung.gif)\n",
    "\n",
    "Figure: Wikipedia"
   ]
  },
  {
   "cell_type": "markdown",
   "metadata": {},
   "source": [
    "> **Definition** (Continuity of bivariate function)\n",
    ">\n",
    "> $f:\\mathbb{R}^2 \\to \\mathbb{R}$ is said to be *continuous* at $(x_0, y_0)$ if $\\lim_{(x,y)\\to(x_0,y_0)} f(x,y) = f(x_0, y_0)$. $f:D\\subset\\mathbb{R}^2 \\to \\mathbb{R}$ is said to be continuous if it is continuous at every point in $D$. "
   ]
  },
  {
   "cell_type": "markdown",
   "metadata": {},
   "source": [
    "\n",
    "| Discontinuous bivariate function | Discontinuous bivariate function |\n",
    "|---|---|\n",
    "| ![Discontinuous 2D function](https://legacy-www.math.harvard.edu/archive/21a_fall_09/exhibits/bitch/function.png)| ![Discontinuous 2D function](https://www.researchgate.net/profile/Alexander-Duester/publication/336774482/figure/fig22/AS:960233434271751@1605948899217/Two-dimensional-discontinuous-function-Hx-edocumentclass12ptminimal.png)|\n",
    "\n",
    "Figure: https://legacy-www.math.harvard.edu/ (left), https://www.researchgate.net/ (right)"
   ]
  },
  {
   "cell_type": "markdown",
   "metadata": {},
   "source": [
    "> **Theorem** (Picard-Lindelöf: Existence and uniqueness)\n",
    "> \n",
    ">  Let $D=\\{(t,x)\\ : \\ |t-t_0|\\le \\alpha, |x-x_0|\\le \\beta\\}$ be a rectangular domain and let $(t_0, x_0) \\in D$. If $f:D\\to \\mathbb{R}$ is continuous on $D$ and if $f$ is Lipschitz continuous in the second variable, that is, there exists $L>0$ such that $|f(t,x)- f(t,y)| \\le L|x-y|$ for all $(t,x),(t,y)\\in D$, then the IVP,\n",
    "> $$\\begin{cases} \\frac{d}{dt} x(t) = f(t, x) & (t>t_0) \\\\ x(t_0) = x_0 & \\end{cases},$$\n",
    "> has a unique solution $x(t)$ on $(t_0 - \\delta, t_0 +\\delta)$ for some $\\delta>0$. "
   ]
  },
  {
   "cell_type": "markdown",
   "metadata": {},
   "source": [
    "> **Theorem** (Existence and uniqueness - ver 2)\n",
    "> \n",
    ">  Let $D=[a,b]\\times\\mathbb{R}$ be a stripe domain in $\\mathbb{R}^2$. If $f:D\\to \\mathbb{R}$ is continuous on $D$ and if $f$ is Lipschitz continuous in the second variable, that is, there exists $L>0$ such that $|f(t,x)- f(t,y)| \\le L|x-y|$ for all $(t,x),(t,y)\\in D$, then the IVP,\n",
    "> $$\\begin{cases} \\frac{d}{dt} x(t) = f(t, x) & (t>a) \\\\ x(a) = x_0 & \\end{cases},$$\n",
    "> has a unique solution $x(t)$ defined on the **whole interval** $[a,b]$. "
   ]
  },
  {
   "cell_type": "markdown",
   "metadata": {},
   "source": [
    "> **Remark** \n",
    ">\n",
    "> - A rough summary is that *if the slope function behaves well, we have a well-defined (local) solution*.\n",
    "> - A long time solution $x:[t_0,T]\\to \\mathbb{R}$ or $x:[t_0,\\infty)\\to \\mathbb{R}$, as opposed to a local solution $x:(t_0 - \\delta,t_0 + \\delta)\\to \\mathbb{R}$, may or may not exist, and its analysis usually involves a serious study. (We don't discuss this in detail in this course.)\n",
    "> - There are many versions of Picard-Lindelof theorem. Slightly different assumptions lead to slightly different conclusions. The above is the most standard one, but our textbook states a version tailored to an introductory course.\n",
    "> - A finer version of Picard-Lindelof theorem states what conditions lead to existence and what to uniqueness.\n",
    ">   - In the above theorem, continuity of $f$ on $D$ implies the existence of a solution, but not necessarily uniqueness. \n",
    ">   - If $f$ is Lipschitz continuous in the second variable, in addition to the continuity on $D$, then the solution is unique."
   ]
  },
  {
   "cell_type": "markdown",
   "metadata": {},
   "source": [
    "> **Example** \n",
    ">\n",
    "> Verify that an IVP $\\dot x(t)=x^{2/3}$ subject to $x(0)=0$ has a solution around $t=0$, but it is not unique. "
   ]
  },
  {
   "cell_type": "markdown",
   "metadata": {},
   "source": [
    "[Picard-Lindelof non-uniqueness example](https://jhparkyb.github.io/resources/notes/na/ex_PicardLindelofNonUnique_lp2000.png)"
   ]
  },
  {
   "cell_type": "markdown",
   "metadata": {},
   "source": [
    "___\n",
    "**Transition**: From now on, we focus on numerical methods and their analysis while not worrying much about the existence and uniqueness of the solution to an IVP."
   ]
  },
  {
   "cell_type": "markdown",
   "metadata": {},
   "source": [
    "**IVP settings**\n",
    "\n",
    "| symbol | detail |\n",
    "|---|---|\n",
    "| IVP | $$\\begin{cases} \\frac{d}{dt} x(t) = f(t, x) & (t>t_0) \\\\ x(t_0) = x_0 & \\end{cases},$$ |\n",
    "| $T$ | final time ($\\mathbb{R}$; starting time $t_0$ is usually set to 0) |"
   ]
  },
  {
   "cell_type": "markdown",
   "metadata": {},
   "source": [
    "\n",
    " **Numerical settings**\n",
    " \n",
    "| symbol | detail |\n",
    "|---|---|\n",
    "| $N$ | number of discrete time steps ($\\mathbb{N}$) |\n",
    "| $h$ | time step size ($T/N$) | \n",
    "| $t_n$ | $n$-th time grid point ($t_n=hn$, where $n=0, 1, 2, \\cdots, N$) |\n",
    "| $x_n$ | $n$-th time iterate of numerical solution |"
   ]
  },
  {
   "cell_type": "markdown",
   "metadata": {},
   "source": [
    "> **Remark**\n",
    ">\n",
    "> Carefully distinguish $x(t_n)$ and $x_n$:\n",
    "> - $x(t_n)$: evaluation of the *true solution* ($x(t)$) at a time grid point $t_n$.\n",
    "> - $x_n$: $n$-th time iterate of the *numerical solution*.\n",
    "> - We can expect $x(t_n)\\approx x_n$, but we have $x(t_n) \\neq x_n$ in general."
   ]
  },
  {
   "cell_type": "markdown",
   "metadata": {},
   "source": [
    "#### Taylor series methods"
   ]
  },
  {
   "cell_type": "markdown",
   "metadata": {},
   "source": [
    "##### Method\n",
    "\n",
    "Idea: Use Taylor expansion to approximate the next position.\n",
    "\n",
    "Supposing the true solution is smooth enough, $$x(t+h)=x(t)+h \tx^{\\prime}(t)+\\frac{h^{2}}{2 !} x^{\\prime \\prime}(t)+\\frac{h^{3}}{3 !} x^{\\prime \\prime \\prime}(t)+\\frac{h^{4}}{4 !} x^{(4)}(t)+\\cdots,$$ simply *truncate* somewhere. \n",
    "\n",
    "> **Taylor series Method**\n",
    ">\n",
    "> Given $(t_n, x_n)$, compute $t_{n+1}=t_n + h$ and $$x_{n+1}=x_n+h \tx^{\\prime}(t_n, x_n)+\\frac{h^{2}}{2 !} x^{\\prime \\prime}(t_n, x_n)+\\cdots + \\frac{h^{k}}{k !} x^{(k)}(t_n, x_n).$$"
   ]
  },
  {
   "cell_type": "markdown",
   "metadata": {},
   "source": [
    "> **Remark**\n",
    ">\n",
    "> - The description of the Taylor series method is not explicit. See the example. \n",
    "> - Derivatives of x depend only on $t$ in theory. However, concrete calculations of them involve $f(t,x)$ and its derivatives. Hence, we need both $t_n$ and $x_n$ to evaluate, say, $x^{\\prime\\prime}(t_n)$."
   ]
  },
  {
   "cell_type": "markdown",
   "metadata": {},
   "source": [
    "> **Example** (3rd order Taylor-series method)\n",
    ">\n",
    "> $$\\begin{cases}\n",
    "> x'(t)=f(t,x)=\\cos t - \\sin x + t^2 \n",
    "> \\\\\n",
    "> x(-1)=3\n",
    "> \\end{cases}$$\n",
    "\n",
    "[Review: Chain rule of bivariate functions](https://jhparkyb.github.io/resources/notes/na/summ_2dFunChainRule_lp2000.png)\n",
    "\n",
    "[Example: 3rd order Taylor-series method](https://jhparkyb.github.io/resources/notes/na/ex_TaylorSeriesMethod_lp2000.png)"
   ]
  },
  {
   "cell_type": "markdown",
   "metadata": {},
   "source": [
    "##### Summary\n"
   ]
  },
  {
   "cell_type": "markdown",
   "metadata": {},
   "source": [
    "##### Analysis\n",
    "\n",
    "Assuming $(t_n, x_n)$ is exact and the solution is smooth, the error of $k$-th order Taylor series method is given by $$\\underbrace{x(t+h)}_{x(t_{n+1})}-(\\underbrace{x(t)+h \tx^{\\prime}(t)+\\frac{h^{2}}{2 !} x^{\\prime \\prime}(t)+\\cdots + \\frac{h^{k}}{k !} x^{(k)}(t)}_{x_{n+1}})={\\mathcal{O}\\!\\left( h^{k+1} \\right)} $$\n"
   ]
  },
  {
   "cell_type": "markdown",
   "metadata": {},
   "source": [
    "#### Several single-step methods\n",
    "\n",
    "Just for a more concrete picture, we look at several examples of numerical methods\n",
    "\n",
    "- Explicit Euler\n",
    "  $$x_{n+1}= x_n + hf(t_n, x_n)$$\n",
    "- Implicit Euler\n",
    "  $$x_{n+1}= x_n + hf(t_{n+1}, x_{n+1})$$\n",
    "- (implicit) Midpoint rule\n",
    "$$x_{n+1} = x_{n} + hf(t_n + \\frac h 2, \\frac 1 2 (x_{n}+x_{n+1}))$$\n",
    "- (implicit) Trapezoidal rule\n",
    "$$x_{n+1} = x_{n} + \\frac h 2 \\left(f(t_n, x_n)+f(t_{n+1}, x_{n+1})\\right)$$\n",
    "\n",
    "> **Remark**\n",
    ">\n",
    "> - Explicit methods: $x_{n+1}$ only appears on the left hand side by itself.\n",
    "> - Implicit methods: $x_{n+1}$ appears on the right hand side as an input of $f$.\n",
    "\n",
    "![Explicit and implicit Euler comparison](https://jhparkyb.github.io/resources/notes/na/fig_ExplicitImplicitEulerComparison_lp2000.png)"
   ]
  },
  {
   "cell_type": "markdown",
   "metadata": {},
   "source": [
    "#### Local truncation error and global error\n",
    "\n",
    "[Local truncation error and global error](https://jhparkyb.github.io/resources/notes/na/diag_LTEvsGlobalerr_lp2000.png)\n",
    "\n",
    "- Global error is NOT a mere accumulation of the local truncation errors (LTE).\n",
    "- Nonetheless, we usually have $$\\text{(order of global error)} = \\text{(order of LTE)} - 1,$$ as if the global error were the sum of LTEs: $$``\\sum_{i=1}^N \\text{LTE}_i = \\sum_{i=1}^N {\\mathcal{O}\\!\\left( h^{k+1} \\right)}= \\underbrace{Nh}_{T\\text{ (const)}} {\\mathcal{O}\\!\\left( h^{k} \\right)} = {\\mathcal{O}\\!\\left( h^{k} \\right)}\"$$\n",
    "- There is no strict agreement that which one must be referred to as the *order* of a method between the order of LTE and the global error. However, if not specified to be about the LTE, the order of a method usually means that of the global error. Be aware of this, and ask each other when clarity is desired. \n"
   ]
  },
  {
   "cell_type": "markdown",
   "metadata": {},
   "source": [
    "\n",
    "#### Rough picture of analysis of numerical methods of ODEs\n",
    "\n",
    "1. Study LTEs. (how accurate)\n",
    "2. Study zero-stability. (how stable in terms of propagation of error of starting points)\n",
    "3. Combine these two aspects to argue convergence. (whether the method converges to the true solution) \n",
    "4. Study how \"robust\" a method is. (how well capture the behavior of \"stiff\" problems; its meaning covered later.)"
   ]
  },
  {
   "cell_type": "markdown",
   "metadata": {},
   "source": [
    "#### Runge-Kutta Methods (RK)"
   ]
  },
  {
   "cell_type": "markdown",
   "metadata": {},
   "source": [
    "##### Method\n"
   ]
  },
  {
   "cell_type": "markdown",
   "metadata": {},
   "source": [
    "\n",
    "Idea: Sample several slopes and decide a final one.\n",
    "\n",
    "Illustration of an RK4 (taking samples from four places).\n",
    "| | |\n",
    "|---|---|\n",
    "| ![RK4-0](https://slopefield.files.wordpress.com/2016/03/rk4-00-intro.png)| ![RK4-1](https://slopefield.files.wordpress.com/2016/03/euler-alone1.png) |\n",
    "| ![RK4-2](https://slopefield.files.wordpress.com/2016/03/k21.png)| ![RK4-3](https://slopefield.files.wordpress.com/2016/03/k31.png) |\n",
    "| ![RK4-4](https://slopefield.files.wordpress.com/2016/03/k41.png)| ![RK4-compare](https://slopefield.files.wordpress.com/2016/03/rk4-euler-comparison.png) |\n",
    "\n",
    "Figure: Bogdan Stăncescu (Thanks for sharing very nice figures!)"
   ]
  },
  {
   "cell_type": "markdown",
   "metadata": {},
   "source": [
    "> **Warning**\n",
    ">\n",
    "> Runge-Kutta methods are really good methods but they are fairly sophisticated ones. Don't lose faith even if you don't digest it right away."
   ]
  },
  {
   "cell_type": "markdown",
   "metadata": {},
   "source": [
    "> **Example** Heun's method (a version of RK2)\n",
    "> $$\n",
    "> x(t+h)=x(t)+\\frac{1}{2}\\left(F_1+F_2\\right),$$\n",
    "> where\n",
    "> $$\\begin{cases}\n",
    "> F_1=h f(t, x) \\\\\n",
    "> F_2=h f\\left(t+h, x+F_1\\right)\n",
    "> \\end{cases}$$"
   ]
  },
  {
   "cell_type": "markdown",
   "metadata": {},
   "source": [
    "###### Derivation of Heun's method\n",
    "\n",
    "[Derivation of Heun's method 1](https://jhparkyb.github.io/resources/notes/na/der_RK2HeunPage1_lp3000.png)\n",
    "\n",
    "[Derivation of Heun's method 2](https://jhparkyb.github.io/resources/notes/na/der_RK2HeunPage2_lp3000.png)\n"
   ]
  },
  {
   "cell_type": "markdown",
   "metadata": {},
   "source": [
    "Heun's method is not the only such methods. Every time we choose appropriate numbers for $\\alpha,\\beta,w_1,w_2$ below, we have a method of order 2 (i.e., order 3 for one step):\n",
    "$$\\begin{split}\n",
    "x(t+h)&=x+w_{1} h f+w_{2} h f(t+\\alpha h, x+\\beta h f)+\\mathcal{O}\\left(h^{3}\\right)\n",
    "\\\\\n",
    "&=x+w_{1} h f+w_{2} h\\left[f+\\alpha h f_{t}+\\beta h f f_{x}\\right]+\\mathcal{O}\\left(h^{3}\\right)\n",
    "\\end{split}\n",
    "$$\n",
    "\n",
    "\n",
    "Recall Taylor expansion of $x$ requires\n",
    "\n",
    "$$\n",
    "x(t+h)=x+\\frac{1}{2} h f+\\frac{1}{2} h\\left[f+h f_{t}+h f f_{x}\\right]+O\\left(h^{3}\\right).\n",
    "$$\n",
    "\n",
    "We have a method of order 2 if\n",
    "$$\n",
    "w_{1}+w_{2} =1, \\quad\n",
    "w_{2} \\alpha =\\frac{1}{2}, \\quad\n",
    "w_{2} \\beta =\\frac{1}{2}.\n",
    "$$\n",
    "\n",
    "$w_1=0, w_2=1, \\alpha=\\beta=\\frac{1}{2}$ leads to the *modified Euler* method."
   ]
  },
  {
   "cell_type": "markdown",
   "metadata": {},
   "source": [
    "> **Example** The classical RK4 (a version of RK4)\n",
    "> $$\\begin{split}\n",
    "> &\\left\\{\\begin{array}{l}\n",
    "> F_1=h f(t, x) \\\\\n",
    "> F_2=h f\\left(t+\\frac{1}{2} h, x+\\frac{1}{2} F_1\\right) \\\\\n",
    "> F_3=h f\\left(t+\\frac{1}{2} h, x+\\frac{1}{2} F_2\\right) \\\\\n",
    "> F_4=h f\\left(t+h, x+F_3\\right)\n",
    "> \\end{array}\\right.\n",
    "> \\\\\n",
    "> &x(t+h)=x(t)+\\frac{1}{6}\\left(F_1+2 F_2+2 F_3+F_4\\right)\n",
    "> \\end{split}\n",
    "> $$"
   ]
  },
  {
   "cell_type": "markdown",
   "metadata": {},
   "source": [
    "###### Butcher's tableau\n",
    "\n",
    "A compact way to represent Runge-Kutta method.\n",
    "\n",
    "$$\\begin{array}{c|cccc}\n",
    "c_1 & a_{11} & a_{12} & \\cdots & a_{1 s} \\\\\n",
    "c_2 & a_{21} & a_{22} & \\cdots & a_{2 s} \\\\\n",
    "\\vdots & \\vdots & \\vdots & \\ddots & \\vdots \\\\\n",
    "c_s & a_{s 1} & a_{s 2} & \\cdots & a_{s s} \\\\\n",
    "\\hline & b_1 & b_2 & \\cdots & b_s \n",
    "\\end{array} \n",
    "=\n",
    "\\begin{array}{l|l}\n",
    "c & A \\\\\n",
    "\\hline & b^T\n",
    "\\end{array}\n",
    "$$\n",
    "\n",
    "- $s$: number of stages\n",
    "- $c$: step sizes for each stage\n",
    "- $b$: weights for intermediate slopes to obtain the final time marching\n",
    "- $A$: each row of $A$ consists of weights for intermediate slopes to obtain intermediate slopes.\n"
   ]
  },
  {
   "cell_type": "markdown",
   "metadata": {},
   "source": [
    "> **Example** (Butcher's tableau of the modified Euler method)\n",
    ">\n",
    "> $$\\begin{array}{c|cc}\n",
    "> 0 & 0 & 0 \\\\\n",
    "> 1/2 & 1/2 & 0 \\\\\n",
    "> \\hline & 0 & 1\n",
    "> \\end{array}$$\n",
    ">\n",
    "> Write the modified Euler method using its Butcher's tableau.\n",
    "> \n",
    "> [Butcher's tableau to modified Euler method](https://jhparkyb.github.io/resources/notes/na/ex_ButcherTabToModifiedEuler_lp2000.png)"
   ]
  },
  {
   "cell_type": "markdown",
   "metadata": {},
   "source": [
    "> **Example** (Butcher's tableau of the classical RK4)\n",
    ">\n",
    "> Write the Butcher's tableau of the classical RK4.\n",
    "> \n",
    "> [Classical RK4 to Butcher's tableau](https://jhparkyb.github.io/resources/notes/na/ex_ClassicRK4ToButcherTab_lp2000.png)\n",
    "<!-- > $$\n",
    "\\begin{array}{c|cccc}\n",
    "0 & 0 & 0 & 0 & 0 \\\\\n",
    "1 / 2 & 1 / 2 & 0 & 0 & 0 \\\\\n",
    "1 / 2 & 0 & 1 / 2 & 0 & 0 \\\\\n",
    "1 & 0 & 0 & 1 & 0 \\\\\n",
    "\\hline & 1 / 6 & 1 / 3 & 1 / 3 & 1 / 6\n",
    "\\end{array}\n",
    "$$ -->"
   ]
  },
  {
   "cell_type": "markdown",
   "metadata": {},
   "source": [
    "> **Question**\n",
    ">\n",
    "> What good do we get from this complicated undertaking? (The convergence analysis is even more complicated.)\n",
    ">\n",
    "> (Reminder) This is **about atmosphere**, not getting it right.\n",
    "> \n",
    "> 1. Think for a short time.\n",
    "> 2. Share your guess with your pair.\n",
    "> 3. Type your answer in clicker.\n",
    "> 4. Feel free to say out loud."
   ]
  },
  {
   "cell_type": "markdown",
   "metadata": {},
   "source": [
    "##### Summary\n",
    "\n",
    "The accuracy (of the global error) obtained from computational cost (measured by the number of function evaluations) is irregular.\n",
    "\n",
    "|\\# function eval.| 1 | 2 | 3 | 4 | 5 | 6 | 7 | 8 |\n",
    "|---|---|---|---|---|---|---|---|---|\n",
    "|Max order of accuracy | 1 | 2 | 3 | 4 | **4** | **5** | **6** | **6** |\n",
    "\n"
   ]
  },
  {
   "cell_type": "markdown",
   "metadata": {},
   "source": [
    "##### Analysis\n"
   ]
  },
  {
   "cell_type": "markdown",
   "metadata": {},
   "source": [
    "Analysis of Runge-Kutta methods is quite involved. Derivation of Heun's method will make a good exercise for analysis aspect of the subject."
   ]
  },
  {
   "cell_type": "markdown",
   "metadata": {},
   "source": [
    "#### Linear multistep method"
   ]
  },
  {
   "cell_type": "markdown",
   "metadata": {},
   "source": [
    "##### Method\n",
    "\n",
    "Idea: we want $x'(t) \\approx f(t, x(t))$\n",
    "- Observation 1: (Numerical differentiation) Approximations of $x'(t)$ can be obtained by a certain linear combination of $x'(t_i)$'s, where $t_i$'s are near $t$.  \n",
    "- Observation 2: A certain average of multiple slopes can give a better slope for the time marching. (Averge can also be expressed by a linear combination.)\n",
    "- $$``(\\text{lin. comb. of history} = h(\\text{lin. comb. of slope history})\"$$\n"
   ]
  },
  {
   "cell_type": "markdown",
   "metadata": {},
   "source": [
    "\n",
    "> **Definition** (Linear $k$-step method)\n",
    "> \n",
    "> Given the history of length $k$, $\\{x_{n}, x_{n-1}, \\cdots, x_{n-k+1}\\}$, choose appropriate $a_i$'s and $b_i$'s, and compute $x_{n+1}$ such that  \n",
    "> $$\\sum_{i=1}^{-k+1} a_{i}x_{n+i} = h\\sum_{i=1}^{-k+1} b_{i}f_{n+i},$$\n",
    "> where $f_j:=f(t_j, x_j)$.\n"
   ]
  },
  {
   "cell_type": "markdown",
   "metadata": {},
   "source": [
    "**Some important classes of multistep methods**\n",
    "\n",
    "- Adams-Bashforth (AB)\n",
    "  1. Choose $a$'s based on difference quotient: $a_{k+1}=1, a_{k}=-1$ and all other $a$'s are zero.\n",
    "  2. Choose $b$'s based on interpolation of slopes in an explicit way: $b_{k+1}=0$.\n",
    "- Adams-Moulton (AM)\n",
    "  1. Choose $a$'s based on difference quotient: $a_{k+1}=1, a_{k}=-1$ and all other $a$'s are zero.\n",
    "  2. Choose $b$'s based on interpolation of slopes in an implicit way: hence $b_{k+1}\\neq0$.\n",
    "- Backward Differentiation Formula (BDF)\n",
    "  1. Choose $b$'s so that the slope terms are the extreme implicit: $b_{k+1}\\neq0$ and other $b$'s are zero.\n",
    "  2. Choose $a$'s based on numerical differentiation using interpolation, hence the name. \n",
    "- In theory, we can make the most out of the degrees of freedom by tuning $a$'s and $b$'s to obtain as accurate method as possible. But we will see the method of the highest possible order is not a good option."
   ]
  },
  {
   "cell_type": "markdown",
   "metadata": {},
   "source": [
    "##### Adams-Bashforth methods (AB)\n",
    "\n",
    "- Adams-Bashforth methods are explicit multistep methods."
   ]
  },
  {
   "cell_type": "markdown",
   "metadata": {},
   "source": [
    "**Derivation**\n",
    "\n",
    "**Idea**: use the fundemental theorem of calculus and quadrature (e.g., $k=3$)\n",
    "\n",
    "![Interpolation for AB3](https://jhparkyb.github.io/resources/notes/na/fig_AdamsBashforthInterpolation_lp2000.png)\n",
    "\n",
    "1. Suppose $x$ solves the ODE, $x' = f(t,x)$, and integrate \n",
    "\n",
    "$$\n",
    "x\\left(t_{n+1}\\right)\n",
    "=x\\left(t_n\\right)+\\int_{t_n}^{t_{n+1}} x'(t) d t\n",
    "=x\\left(t_n\\right)+\\int_{t_n}^{t_{n+1}} f(t, x(t)) d t\n",
    "$$\n",
    "\n",
    "2. Replace $f(t,x(t))$ with its polynomial interpolation $p(t)$ at $(t_{n-2}, f_{n-2}), (t_{n-1}, f_{n-1}), (t_{n}, f_{n})$, where $f_{j}:=f(t_{j}, x(t_j))$. \n",
    "\n",
    "3. Obtain the method by labeling $x_j\\approx x(t_j)$. It should be clear that it is of the form \n",
    "\n",
    "$$\n",
    "x_{n+1} = x_{n} + A f_{n} + B f_{n-1} + C f_{n-2},\n",
    "$$\n",
    "\n",
    "for some $A,B,C\\in\\mathbb{R}$.\n",
    "\n",
    "4. By carrying out 1-3, we obtain,  \n",
    "\n",
    "$$\n",
    "x_{n+1} = x_{n} + h \\left( \\frac{23}{12} f_{n} - \\frac{16}{12} f_{n-1} + \\frac{5}{12} f_{n-2} \\right).\n",
    "$$"
   ]
  },
  {
   "cell_type": "markdown",
   "metadata": {},
   "source": [
    "> **Example** (AB3)\n",
    ">\n",
    "> Verify one of the non-trivial coefficients from AB3.\n",
    ">\n",
    "> [derivation of AB3](https://jhparkyb.github.io/resources/notes/na/der_AdamsBashforth3_lp2000.png)\n"
   ]
  },
  {
   "cell_type": "markdown",
   "metadata": {},
   "source": [
    "> **Error analysis** (AB3)\n",
    ">\n",
    "> [LTE of AB3](https://jhparkyb.github.io/resources/notes/na/pf_LTE1DAdamsBashforth3_lp2000.png)"
   ]
  },
  {
   "cell_type": "markdown",
   "metadata": {},
   "source": [
    "##### Adams-Moulton methods (AM)\n",
    "\n",
    "- Adams-Moulton methods are implicit multistep methods."
   ]
  },
  {
   "cell_type": "markdown",
   "metadata": {},
   "source": [
    "**Derivation**\n",
    "\n",
    "**Idea**: use the fundemental theorem of calculus and quadrature (e.g., $k=3$)\n",
    "\n",
    "![Interpolation for AB3](https://jhparkyb.github.io/resources/notes/na/fig_AdamsMoultenInterpolation_lp2000.png)\n",
    "\n",
    "1. (same as AB) Suppose $x$ solves the ODE, $x' = f(t,x)$, and integrate \n",
    "\n",
    "$$\n",
    "x\\left(t_{n+1}\\right)\n",
    "=x\\left(t_n\\right)+\\int_{t_n}^{t_{n+1}} x'(t) d t\n",
    "=x\\left(t_n\\right)+\\int_{t_n}^{t_{n+1}} f(t, x(t)) d t\n",
    "$$\n",
    "\n",
    "2. Replace $f(t,x(t))$ with its polynomial interpolation $p(t)$ at $(t_{n-2}, f_{n-2}), (t_{n-1}, f_{n-1}), (t_{n}, f_{n})$, <ins>and</ins> $(t_{n+1}, f_{n+1})$, where $f_{j}:=f(t_{j}, x(t_j))$. \n",
    "\n",
    "3. Obtain the method by labeling $x_j\\approx x(t_j)$. It should be clear that it is of the form \n",
    "\n",
    "$$\n",
    "x_{n+1} = x_{n} + A f_{n+1} + B f_{n} + C f_{n-1} + D f_{n-2},\n",
    "$$\n",
    "\n",
    "for some $A,B,C,D\\in\\mathbb{R}$.\n",
    "\n",
    "4. By carrying out 1-3, we obtain,  \n",
    "\n",
    "$$\n",
    "x_{n+1}=x_{n}+h\\left(\\frac{9}{24} f_{n+1}+\\frac{19}{24} f_{n}-\\frac{5}{24} f_{n-1}+\\frac{1}{24} f_{n-2}\\right).\n",
    "$$"
   ]
  },
  {
   "cell_type": "markdown",
   "metadata": {},
   "source": [
    "> **Question**\n",
    ">\n",
    "> Guess the order of AM3.\n",
    ">\n",
    "> (Reminder) This is **about atmosphere**, not getting it right.\n",
    "> \n",
    "> 1. Think for a short time.\n",
    "> 2. Share your guess with your pair.\n",
    "> 3. Type your answer in clicker.\n",
    "> 4. Feel free to say out loud."
   ]
  },
  {
   "cell_type": "markdown",
   "metadata": {},
   "source": [
    "> **Question**\n",
    ">\n",
    "> ![Half correct LTE of AM3](https://jhparkyb.github.io/resources/notes/na/pf_HalfCorrectErrorAdamsMoulton3_lp3000.png)\n",
    ">\n",
    "> What do you think? Is the proof correct?\n",
    ">\n",
    "> (Reminder) This is **about atmosphere**, not getting it right.\n",
    "> \n",
    "> 1. Think for a short time.\n",
    "> 2. Share your guess with your pair.\n",
    "> 3. Type your answer in clicker.\n",
    "> 4. Feel free to say out loud.\n",
    "> \n"
   ]
  },
  {
   "cell_type": "markdown",
   "metadata": {},
   "source": [
    "#### Numerical methods for stiff ODEs"
   ]
  },
  {
   "cell_type": "markdown",
   "metadata": {},
   "source": [
    "##### Stiffness\n",
    "\n",
    "- There is no clear definition for this. Rather, it is a phenomenon. [^1]\n",
    "    ![Lambert's opinion on stiffness](https://jhparkyb.github.io/resources/images/na/na_StiffnessLambert.png)\n",
    "- The following descriptions show some aspects of stiffness, though none of them gives a perfect one. \n",
    "  - *Stiffness occurs when stability requirements, rather than those of accuracy, constrain the step length*. [^1]\n",
    "  - *Stiffness occurs when some components of the solution decay much more rapidly than others.* [^1]\n",
    "  - *Attracting solutions are surrounded with fast-changing nearby solutions. This is often a sign of multiple timescales in the system.* [^2]\n",
    "\n",
    "\n",
    "\n",
    "[^1]: J. D. Lambert (1991) *Numerical Methods for Ordinary Differential Systems - The Initial Value Problem*. (pp. 216-224)\n",
    "\n",
    "[^2]: Timothy Sauer (2017) *Numerical Analysis* 3rd Edition. (p. 348)\n",
    "\n"
   ]
  },
  {
   "cell_type": "markdown",
   "metadata": {},
   "source": [
    "> **Example** (Stiff ODE)\n",
    ">\n",
    "> 1. The following IVP has a unique solution $x(t) = (x_0 - b)e^{a t} +b$: $$\\begin{cases} \\dot x = a(x-b) \\\\ x(0)=x_0. \\end{cases}$$\n",
    "> 2. The Explicit Euler method is known to be convergent: it is consistent and zero-stable.\n",
    "> 3. However, the following example shows that the explicit Euler method needs small step size for a different reason.  "
   ]
  },
  {
   "cell_type": "code",
   "execution_count": 2,
   "metadata": {},
   "outputs": [
    {
     "data": {
      "image/png": "[encoded data removed]",
      "text/plain": [
       "<Figure size 576x432 with 1 Axes>"
      ]
     },
     "metadata": {
      "needs_background": "light"
     },
     "output_type": "display_data"
    }
   ],
   "source": [
    "\"\"\"This example shows stiffness in the numerical solution of an ODE.\n",
    "- vary the following parameters for a good illustration of stiffness:\n",
    "  h = 0.001, 0.01, 0.05\n",
    "  a = -50.,\n",
    "\"\"\"\n",
    "import numpy as np\n",
    "import matplotlib.pyplot as plt\n",
    "plt.rcParams['font.size'] = 16\n",
    "\n",
    "# experiemental parameters\n",
    "h = 0.05\n",
    "a = -50.\n",
    "\n",
    "# numerical settings\n",
    "N = 10\n",
    "T = h*N\n",
    "tt = np.arange(0., T+0.5*h, h)\n",
    "\n",
    "# IVP settings\n",
    "f = lambda t, x: a*(x - b)\n",
    "x0 = 2.\n",
    "b = 3.\n",
    "\n",
    "# exact solution\n",
    "x_exact = (x0 - b)*np.exp(a*tt) + b\n",
    "\n",
    "# numerical solution: explicit Euler\n",
    "xx = np.zeros(N+1)\n",
    "xx[0] = x0\n",
    "for i in range(N):\n",
    "    xx[i+1] = xx[i] + h*f(tt[i], xx[i])\n",
    "\n",
    "# plot\n",
    "fig, ax = plt.subplots(1, 1, figsize=(8, 6))\n",
    "ax.plot(tt, x_exact,'r--' , label='exact')\n",
    "ax.plot(tt, xx, 'bo-', label='explicit Euler')\n",
    "ax.legend()\n",
    "ax.set_xlabel('t')\n",
    "ax.set_ylabel('x')\n",
    "ax.set_title(f'Explicit Euler (h={h:g})')\n",
    "plt.show()"
   ]
  },
  {
   "cell_type": "markdown",
   "metadata": {},
   "source": [
    "##### Summary\n",
    "\n",
    "- There is another stability issue, different from zero-stability, related to *stiffness*.\n",
    "- Stiffness leads to a concept *A-stability* or *linear stability*. However, we do not pursue this in this course. Just be aware of this issue.\n",
    "- Stiffness forces small step sizes for many numerical methods, making many methods useless.\n",
    "- Generally speaking, explicit methods are unfavorable for stiff problems while implicit methods work better. Implicit Euler method and BDF2 is among the most robust method in this regard.\n"
   ]
  },
  {
   "cell_type": "markdown",
   "metadata": {},
   "source": [
    "##### Analysis\n"
   ]
  },
  {
   "cell_type": "markdown",
   "metadata": {},
   "source": [
    "Explicit calculations with a simple example show the issue vividly.\n",
    "\n",
    "> **Example** (stiffness)\n",
    ">\n",
    "> [Stiffness in a simple 1D example with explicit Euler](https://jhparkyb.github.io/resources/notes/na/ex_StiffODE1DExplicitEuler_lp2000.png)\n",
    ">\n",
    "> [Stiffness resolved by implicit Euler in a simple 1D example](https://jhparkyb.github.io/resources/notes/na/ex_StiffODE1DImplicitEuler_lp2000.png)"
   ]
  },
  {
   "cell_type": "markdown",
   "metadata": {
    "vscode": {
     "languageId": "plaintext"
    }
   },
   "source": [
    "---\n",
    "This work is licensed under [Creative Commons Attribution-ShareAlike 4.0 International](https://creativecommons.org/licenses/by-sa/4.0/)"
   ]
  }
 ],
 "metadata": {
  "kernelspec": {
   "display_name": "ptrch",
   "language": "python",
   "name": "ptrch"
  },
  "language_info": {
   "codemirror_mode": {
    "name": "ipython",
    "version": 3
   },
   "file_extension": ".py",
   "mimetype": "text/x-python",
   "name": "python",
   "nbconvert_exporter": "python",
   "pygments_lexer": "ipython3",
   "version": "3.8.13"
  },
  "orig_nbformat": 4
 },
 "nbformat": 4,
 "nbformat_minor": 2
}
