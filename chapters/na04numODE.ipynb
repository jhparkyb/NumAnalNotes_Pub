{
 "cells": [
  {
   "cell_type": "markdown",
   "metadata": {},
   "source": [
    "### Numerical differentiation and integration"
   ]
  },
  {
   "cell_type": "markdown",
   "metadata": {},
   "source": [
    "#### Take-aways\n",
    "\n",
    "After studying this chapter, we will be able to\n",
    "\n",
    "TBF\n"
   ]
  },
  {
   "cell_type": "markdown",
   "metadata": {},
   "source": [
    "#### Overview\n",
    "\n",
    "##### Problem of interest\n",
    "\n",
    "> **Problem of interest** (initial value problem)\n",
    ">\n",
    ">  Given an ordinary differential equation (ODE) supplemented with an initial condition\n",
    "> $$\\begin{cases} \\frac{d}{dt} x(t) = f(t, x) & (t>t_0) \\\\ x(t_0) = x_0 & \\end{cases},$$\n",
    ">\n",
    "> find a solution $x(t)$ that satisfies the equality, where $t_0, x_0\\in \\mathbb{R}$, $x:[t_0,\\infty)\\to\\mathbb{R}$, and $f:[t_0,\\infty)\\times\\mathbb{R}\\to\\mathbb{R}$.\n"
   ]
  },
  {
   "cell_type": "markdown",
   "metadata": {},
   "source": [
    "> **Terminology**\n",
    ">\n",
    "> - IVP: An ODE supplemented with an initial condition is called *initial value problem* (IVP). "
   ]
  },
  {
   "cell_type": "markdown",
   "metadata": {},
   "source": [
    "> **Usual settings and notation**\n",
    ">\n",
    "> The following will be assumed unless otherwise mentioned:\n",
    ">\n",
    "> - Initial time: $t_0=0$\n",
    "> - Final time: $T<\\infty$ \n",
    ">   - For computational purposes, we usually assume some finite final time.\n",
    ">   - Therefore, we usually want a solution $x:[0,T]\\to\\mathbb{R}$.\n",
    "> - time derivative: $\\dot x (t) :=\\frac{d}{dt} x(t)$ (we often follow physics convention)"
   ]
  },
  {
   "cell_type": "markdown",
   "metadata": {},
   "source": [
    "> **Example** (A slope field and solutions to ODE)\n",
    "> \n",
    "> ![Slope field and integral curves](https://ximera.osu.edu/ode/main/directionFields/fig010304.jpg)\n",
    ">\n",
    "> Figure: Slope field ($f(t,x)=\\frac{t-x}{1+t^2}$) and integral curves (https://ximera.osu.edu/)\n",
    ">\n",
    "> Each curves corresponds to a solution to the ODE $\\dot x=\\frac{t-x}{1+t^2}$ associated to a different initial condition $x(0)=x_0$."
   ]
  },
  {
   "cell_type": "markdown",
   "metadata": {},
   "source": [
    "> **Big picture** (Solutions to ODE and their numerical solutions)\n",
    ">\n",
    "> Under certain conditions (so that we do not need to worry about technical issues),\n",
    "> - for each initial condition $x(0)=x_0$, there is a unique solution $x(t)$. We can think of this as an *evolution* of a system or *trajectory* of a particle.\n",
    "> - For each IVP, different numerical methods lead to different numerical solutions while the true solution is unique.\n",
    "> - Each numerical method differs by what kind of slope we use to compute the next position.\n",
    ">\n",
    "> ![Different numerical methods for the same IVP](https://upload.wikimedia.org/wikipedia/commons/thumb/2/2d/Numerical_integration_illustration%2C_step%3D1.svg/800px-Numerical_integration_illustration%2C_step%3D1.svg.png)\n",
    ">\n",
    "> Figure: Wikipedia (Illustration of numerical integration for the differential equation; IVP $\\dot x(t)=x$, $x(0)=1$; Blue - Euler method; Green - Midpoint method; Red - Exact solution)\n"
   ]
  },
  {
   "cell_type": "markdown",
   "metadata": {},
   "source": [
    "##### Methods \n",
    "\n",
    "1. Taylor's methods\n",
    "2. Runge-Kutta methods\n",
    "3. Linear multistep methods\n",
    "   1. Adam-Bashforth methods\n",
    "   2. Adam-Moulton methods\n",
    "   3. Backward differentation formulas (BDFs)"
   ]
  },
  {
   "cell_type": "markdown",
   "metadata": {},
   "source": [
    "##### Important concepts\n",
    "\n",
    "- Lipschitz conditunity\n",
    "- Local truncation errors (LTE)\n",
    "- Consistency and consistency order (or order of accuracy)\n",
    "- Zero stability\n",
    "- Global errors\n",
    "- Convergence of numerical methods for ODEs\n",
    "- Dahlquist barriers"
   ]
  },
  {
   "cell_type": "markdown",
   "metadata": {},
   "source": [
    "##### Important preliminary\n",
    "\n",
    "- Taylor's theorem for 2D functions. (Math 6A)"
   ]
  },
  {
   "cell_type": "markdown",
   "metadata": {},
   "source": [
    "#### Theoretical Backgrounds\n",
    "\n",
    "> **Motivation**\n",
    "> \n",
    "> The problem of interest in this chapter is less when it comes to whether the problem even makes sense, that is, *whether the solution actually exists*. (Compare it with 'whether a zero, an interpolating polynomial, derivative, or an integral of a function.') Fortunately, there are some sufficient contidions that guarantee the existence of the solution of an IVP.  "
   ]
  },
  {
   "cell_type": "markdown",
   "metadata": {},
   "source": [
    "> **Definition** (Lipschitz continuity - single variable)\n",
    ">\n",
    "> Let $f:D\\to\\mathbb{R}$ be a function, where $D\\subset\\mathbb{R}$. If there exists $L>0$ such that $f$ satisfies, for any $x,y\\in D$, \n",
    "> $$|f(x)- f(y)| \\le L|x-y|,$$\n",
    "> we say $f$ is *Lipschitz continuous* on $D$. $L$ is called a $Lipschitz$ constant."
   ]
  },
  {
   "cell_type": "markdown",
   "metadata": {},
   "source": [
    "![Visualization of Lipschitz continuity](https://upload.wikimedia.org/wikipedia/commons/5/58/Lipschitz_Visualisierung.gif)\n",
    "\n",
    "Figure: Wikipedia"
   ]
  },
  {
   "cell_type": "markdown",
   "metadata": {},
   "source": [
    "> **Definition** (Continuity of bivariate function)\n",
    ">\n",
    "> $f:\\mathbb{R}^2 \\to \\mathbb{R}$ is said to be *continuous* at $(x_0, y_0)$ if $\\lim_{(x,y)\\to(x_0,y_0)} f(x,y) = f(x_0, y_0)$. $f:D\\subset\\mathbb{R}^2 \\to \\mathbb{R}$ is said to be continuous if it is continuous at every point in $D$. "
   ]
  },
  {
   "cell_type": "markdown",
   "metadata": {},
   "source": [
    "> **Theorem** (Picard-Lindelöf)\n",
    "> \n",
    ">  Let $D=\\{(t,x)\\ : \\ |t-t_0|\\le \\alpha, |x-x_0|\\le \\beta\\}$ be a rectangular domain and let $(t_0, x_0) \\in D$. If $f:D\\to \\mathbb{R}$ is continuous on $D$ and if $f$ is Lipschitz continuous in the second variable, that is, there exists $L>0$ such that $|f(t,x)- f(t,y)| \\le L|x-y|$ for all $(t,x),(t,y)\\in D$, then the IVP,\n",
    "> $$\\begin{cases} \\frac{d}{dt} x(t) = f(t, x) & (t>t_0) \\\\ x(t_0) = x_0 & \\end{cases},$$\n",
    "> has a unique solution on $(t_0 - \\delta, t_0 +\\delta)$ for some $\\delta>0$. "
   ]
  },
  {
   "cell_type": "markdown",
   "metadata": {},
   "source": [
    "> **Remark** \n",
    ">\n",
    "> - A rough summary is that *if the slope function behaves well, we have a well-defined (local) solution*.\n",
    "> - A long time solution $x:[t_0,T]\\to \\mathbb{R}$ or $x:[t_0,\\infty)\\to \\mathbb{R}$, as opposed to a local solution $x:(t_0 - \\delta,t_0 + \\delta)\\to \\mathbb{R}$, may or may not exist, and it usually involves a serious study. \n",
    "> - There are many versions of Picard-Lindelof theorem. Slightly different assumptions lead to slightly different conclusions. \n",
    "> - The above is the most standard one, but our textbook states a version tailored to an introductory course.\n",
    "> - A finer version of Picard-Lindelof theorem states what conditions lead to existence and what to uniqueness.\n",
    ">   - In the above theorem, continuity of $f$ on $D$ implies the existence of a solution, but not necessarily uniqueness. \n",
    ">   - If $f$ is Lipschitz continuous in the second variable, in addition to the continuity on $D$, then the solution is unique."
   ]
  },
  {
   "cell_type": "markdown",
   "metadata": {},
   "source": [
    "> **Example** \n",
    ">\n",
    "> Verify that an IVP $\\dot x(t)=x^{2/3}$ subject to $x(0)=0$ has a solution around $t=0$, but it is not unique. "
   ]
  },
  {
   "cell_type": "markdown",
   "metadata": {},
   "source": [
    "[Picard-Lindelof non-uniqueness example](https://jhparkyb.github.io/resources/notes/na/ex_PicardLindelofNonUnique_lp2000.png)"
   ]
  },
  {
   "cell_type": "markdown",
   "metadata": {},
   "source": [
    "___\n",
    "**Transition**: From now on, we focus on numerical methods and their analysis while not worrying much about the existence and uniqueness of the solution to an IVP."
   ]
  },
  {
   "cell_type": "markdown",
   "metadata": {},
   "source": [
    "#### Taylor's methods"
   ]
  },
  {
   "cell_type": "markdown",
   "metadata": {},
   "source": [
    "##### Method\n"
   ]
  },
  {
   "cell_type": "markdown",
   "metadata": {},
   "source": [
    "##### Summary\n"
   ]
  },
  {
   "cell_type": "markdown",
   "metadata": {},
   "source": [
    "##### Analysis\n"
   ]
  },
  {
   "cell_type": "markdown",
   "metadata": {},
   "source": [
    "> **Question**\n",
    ">\n",
    "> TBF\n",
    ">\n",
    "> (Reminder) This is **about atmosphere**, not getting it right.\n",
    "> \n",
    "> 1. Think for a short time.\n",
    "> 2. Share your guess with your pair.\n",
    "> 3. Type your answer in clicker.\n",
    "> 4. Feel free to say out loud."
   ]
  },
  {
   "cell_type": "markdown",
   "metadata": {},
   "source": [
    "#### Method1 (TBC)"
   ]
  },
  {
   "cell_type": "markdown",
   "metadata": {},
   "source": [
    "##### Method\n"
   ]
  },
  {
   "cell_type": "markdown",
   "metadata": {},
   "source": [
    "##### Summary\n"
   ]
  },
  {
   "cell_type": "markdown",
   "metadata": {},
   "source": [
    "##### Analysis\n"
   ]
  },
  {
   "cell_type": "markdown",
   "metadata": {},
   "source": [
    "> **Question**\n",
    ">\n",
    "> TBF\n",
    ">\n",
    "> (Reminder) This is **about atmosphere**, not getting it right.\n",
    "> \n",
    "> 1. Think for a short time.\n",
    "> 2. Share your guess with your pair.\n",
    "> 3. Type your answer in clicker.\n",
    "> 4. Feel free to say out loud."
   ]
  },
  {
   "cell_type": "markdown",
   "metadata": {},
   "source": [
    "#### Method1 (TBC)"
   ]
  },
  {
   "cell_type": "markdown",
   "metadata": {},
   "source": [
    "##### Method\n"
   ]
  },
  {
   "cell_type": "markdown",
   "metadata": {},
   "source": [
    "##### Summary\n"
   ]
  },
  {
   "cell_type": "markdown",
   "metadata": {},
   "source": [
    "##### Analysis\n"
   ]
  },
  {
   "cell_type": "markdown",
   "metadata": {},
   "source": [
    "> **Question**\n",
    ">\n",
    "> TBF\n",
    ">\n",
    "> (Reminder) This is **about atmosphere**, not getting it right.\n",
    "> \n",
    "> 1. Think for a short time.\n",
    "> 2. Share your guess with your pair.\n",
    "> 3. Type your answer in clicker.\n",
    "> 4. Feel free to say out loud."
   ]
  },
  {
   "cell_type": "markdown",
   "metadata": {},
   "source": [
    "#### Method1 (TBC)"
   ]
  },
  {
   "cell_type": "markdown",
   "metadata": {},
   "source": [
    "##### Method\n"
   ]
  },
  {
   "cell_type": "markdown",
   "metadata": {},
   "source": [
    "##### Summary\n"
   ]
  },
  {
   "cell_type": "markdown",
   "metadata": {},
   "source": [
    "##### Analysis\n"
   ]
  },
  {
   "cell_type": "markdown",
   "metadata": {},
   "source": [
    "> **Question**\n",
    ">\n",
    "> TBF\n",
    ">\n",
    "> (Reminder) This is **about atmosphere**, not getting it right.\n",
    "> \n",
    "> 1. Think for a short time.\n",
    "> 2. Share your guess with your pair.\n",
    "> 3. Type your answer in clicker.\n",
    "> 4. Feel free to say out loud."
   ]
  },
  {
   "cell_type": "markdown",
   "metadata": {
    "vscode": {
     "languageId": "plaintext"
    }
   },
   "source": [
    "---\n",
    "This work is licensed under [Creative Commons Attribution-ShareAlike 4.0 International](https://creativecommons.org/licenses/by-sa/4.0/)"
   ]
  }
 ],
 "metadata": {
  "kernelspec": {
   "display_name": "ptrch",
   "language": "python",
   "name": "ptrch"
  },
  "language_info": {
   "codemirror_mode": {
    "name": "ipython",
    "version": 3
   },
   "file_extension": ".py",
   "mimetype": "text/x-python",
   "name": "python",
   "nbconvert_exporter": "python",
   "pygments_lexer": "ipython3",
   "version": "3.8.13"
  },
  "orig_nbformat": 4
 },
 "nbformat": 4,
 "nbformat_minor": 2
}
