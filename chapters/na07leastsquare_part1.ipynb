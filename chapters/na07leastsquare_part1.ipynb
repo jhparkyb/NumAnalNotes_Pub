{
 "cells": [
  {
   "cell_type": "markdown",
   "metadata": {},
   "source": [
    "## Least square"
   ]
  },
  {
   "cell_type": "markdown",
   "metadata": {},
   "source": [
    "#### Take-aways\n",
    "\n",
    "After studying this chapter, we will be able to\n",
    "\n",
    "TBF\n"
   ]
  },
  {
   "cell_type": "markdown",
   "metadata": {},
   "source": [
    "### Overview\n"
   ]
  },
  {
   "cell_type": "markdown",
   "metadata": {},
   "source": [
    "\n",
    "#### Settings/Notation\n",
    "\n",
    "Common settings\n",
    "\n",
    "| symbol | setting |\n",
    "|---|---|\n",
    "| $m$ | a positive integer; number of observations; number of equations |\n",
    "| $n$ | a positive integer; number of parameters; number of unknowns |\n",
    "| $A$ | full rank $m$-by-$n$ matrix with $m \\gg n$ (skinny matrix) |\n",
    "| $b$ | (column) vector of length $m$ |\n",
    "| $x$ | (column) vector of length $n$ |\n",
    "\n",
    "$$\n",
    "\\| x \\| = \\| x \\|_2=\\sqrt{x_1^2 +\\cdots + x_n^2} \\quad \\text{(2-norm)}\n",
    "$$ \n",
    "\n"
   ]
  },
  {
   "cell_type": "markdown",
   "metadata": {},
   "source": [
    "\n",
    "#### Problem of interest\n",
    "\n",
    "Given an over-determined (or inconsistent) system $Ax=b$, find the \"best\" $x$.\n"
   ]
  },
  {
   "cell_type": "markdown",
   "metadata": {},
   "source": [
    "#### Why do we care?\n"
   ]
  },
  {
   "cell_type": "markdown",
   "metadata": {},
   "source": [
    "- The \"equality\" conditions that $x$ should satisfy are only within some margin of errors (Sauer 2017)\n",
    "  - Using aggregated data (hence too many conditions to satisfy) to determine a better solution. \n",
    "  - E.g.: Measurements of celestial bodies. In fact, predicting the orbit of an ateroid Ceres was at the heart of the invention of the method. ([Wikipedia page on history of least square](https://en.wikipedia.org/wiki/Least_squares#History))\n",
    "- The least square method inspires many other statistical methods and signal processing.\n",
    "  - Ridge regression, also known as Tikhonov regularization (LS + $\\ell^2$ penalty)\n",
    "  - LASSO (LS + $\\ell^1$ penalty)\n",
    "  - Elastic net (LS + $\\ell^1$ penalty + $\\ell^2$ penalty)\n",
    "\n",
    "| | |\n",
    "|---|---|\n",
    "| ![determine an elliptical orbit using least square](https://upload.wikimedia.org/wikipedia/commons/thumb/1/1f/X33-ellips-1.svg/1920px-X33-ellips-1.svg.png) <br> Figure: determine an elliptical orbit using least square (Wikipedia) | ![fitting parabola model with many data](https://upload.wikimedia.org/wikipedia/commons/thumb/e/e3/Linear_least_squares2.svg/1024px-Linear_least_squares2.svg.png) <br> Figure: fitting parabola model with many data (Wikipedia) |"
   ]
  },
  {
   "cell_type": "markdown",
   "metadata": {},
   "source": [
    "### What we can do\n",
    "\n"
   ]
  },
  {
   "cell_type": "markdown",
   "metadata": {},
   "source": [
    "#### Fitting data by least square"
   ]
  },
  {
   "cell_type": "markdown",
   "metadata": {},
   "source": [
    "1. Choose a model $\\longrightarrow$ dimension and meaning of $x$\n",
    "2. Force the model to fit the data $\\longrightarrow$ $Ax=b$ \n",
    "3. Solve the normal equation $\\longrightarrow$ compute $x$ such that $A^T Ax = A^T b$\n",
    "4. Diagnostics $\\longrightarrow$ plots and statistics"
   ]
  },
  {
   "cell_type": "markdown",
   "metadata": {},
   "source": [
    "### Why it works"
   ]
  },
  {
   "cell_type": "markdown",
   "metadata": {},
   "source": [
    "#### Projection"
   ]
  },
  {
   "cell_type": "markdown",
   "metadata": {},
   "source": [
    "**Example** \n",
    "\n",
    "Find \"the best\" solution to \n",
    "$$\n",
    "\\begin{aligned}\n",
    "& x_1+x_2=2 \\\\\n",
    "& x_1-x_2=1 \\\\\n",
    "& x_1+x_2=3\n",
    "\\end{aligned} \n",
    "\\Longleftrightarrow\n",
    "\\left[\\begin{array}{rr}\n",
    "1 & 1 \\\\\n",
    "1 & -1 \\\\\n",
    "1 & 1\n",
    "\\end{array}\\right]\\left[\\begin{array}{l}\n",
    "x_1 \\\\\n",
    "x_2\n",
    "\\end{array}\\right]=\\left[\\begin{array}{l}\n",
    "2 \\\\\n",
    "1 \\\\\n",
    "3\n",
    "\\end{array}\\right]\n",
    "$$"
   ]
  },
  {
   "cell_type": "markdown",
   "metadata": {},
   "source": [
    "**Idea 1**\n",
    "\n",
    "Matrix muliplication $\\Longleftrightarrow$ Linear combination of column vectors\n",
    "\n",
    "$$\n",
    "x_1\\left[\\begin{array}{l}\n",
    "1 \\\\\n",
    "1 \\\\\n",
    "1\n",
    "\\end{array}\\right]+x_2\\left[\\begin{array}{r}\n",
    "1 \\\\\n",
    "-1 \\\\\n",
    "1\n",
    "\\end{array}\\right]=\\left[\\begin{array}{l}\n",
    "2 \\\\\n",
    "1 \\\\\n",
    "3\n",
    "\\end{array}\\right]\n",
    "$$"
   ]
  },
  {
   "cell_type": "markdown",
   "metadata": {},
   "source": [
    "If $b$ were in the column space (i.e., some linear combination of columns equals $b$), it would have been solvable. But $b$ is outside the column space."
   ]
  },
  {
   "cell_type": "markdown",
   "metadata": {},
   "source": [
    "**Idea 2**\n",
    "\n",
    "\"The best\" candidate for $x$ is the one that gives the **projection** of $b$ onto the column space."
   ]
  },
  {
   "cell_type": "markdown",
   "metadata": {},
   "source": [
    "![geometric intuition behind LS](https://upload.wikimedia.org/wikipedia/commons/thumb/b/bb/Linear_least_squares_geometric_interpretation.png/543px-Linear_least_squares_geometric_interpretation.png)\n",
    "\n",
    "Figure: Geometric intuition behind Least Square method (Wikipedia)\n",
    "\n",
    "Notation adjustments\n",
    "\n",
    "- $\\beta \\gets x$\n",
    "- $A \\gets X$\n",
    "- $y \\gets b$"
   ]
  },
  {
   "cell_type": "markdown",
   "metadata": {},
   "source": [
    "#### Normal equation"
   ]
  },
  {
   "cell_type": "markdown",
   "metadata": {},
   "source": [
    "Let $\\bar x$ be the vector of unknowns that gives the projection of $b$. Then, we have\n",
    "\n",
    "$$\n",
    "(b-A \\bar{x}) \\perp\\left\\{A x \\mid x \\in R^n\\right\\}\n",
    "$$\n",
    "\n",
    "which is equivalent to\n",
    "\n",
    "$$\n",
    "(A x)^T(b-A \\bar{x})=0 \\text { for all } x \\text { in } R^n\n",
    "$$\n",
    "\n",
    "which is equivalent to\n",
    "\n",
    "$$\n",
    "x^T A^T(b-A \\bar{x})=0 \\text { for all } x \\text { in } R^n\n",
    "$$\n"
   ]
  },
  {
   "cell_type": "markdown",
   "metadata": {},
   "source": [
    "**Normal equation**\n",
    "\n",
    "$$\n",
    "A^T A \\bar{x}=A^T b\n",
    "$$\n"
   ]
  },
  {
   "cell_type": "markdown",
   "metadata": {},
   "source": [
    "**Fact**\n",
    "\n",
    "- $\\bar x = \\mathrm{argmin}_{x\\in\\mathbb{R}^n} \\| b - Ax \\|_2$. In other words, the least square solution minimizes the 2-norm of the residual. "
   ]
  },
  {
   "cell_type": "markdown",
   "metadata": {},
   "source": [
    "#### Diagnostics\n",
    "\n",
    "| Terminology | Definition |\n",
    "|---|---|\n",
    "| Residual |  $$r=b-A \\bar x=(r_1, \\cdots, r_m)$$ |\n",
    "| Squared error (SE) | $$r_1^2+\\cdots+r_m^2$$ |\n",
    "| Mean squared error (MSE) |  $$\\mathrm{SE} / m= \\left(r_1^2+\\cdots+r_m^2\\right) / m$$ |\n",
    "| root mean squared error (RMSE) |  $$\\sqrt{MSE}=\\sqrt{\\left(r_1^2+\\cdots+r_m^2\\right) / m}$$ |\n"
   ]
  },
  {
   "cell_type": "markdown",
   "metadata": {},
   "source": [
    "**Remark** (Residual and backward errors)\n",
    "\n",
    "- The above quantities are all some measure of **backward** errors $b-A \\bar x$, not the real (i.e., forward) errors $x-\\bar x$. (It seems that the nomenclature used in statistics and mathematics communities are different.) "
   ]
  },
  {
   "cell_type": "markdown",
   "metadata": {},
   "source": [
    "**Example** \n",
    "\n",
    "Find \"the best\" solution to \n",
    "$$\n",
    "\\begin{aligned}\n",
    "& x_1+x_2=2 \\\\\n",
    "& x_1-x_2=1 \\\\\n",
    "& x_1+x_2=3\n",
    "\\end{aligned} \n",
    "\\Longleftrightarrow\n",
    "\\left[\\begin{array}{rr}\n",
    "1 & 1 \\\\\n",
    "1 & -1 \\\\\n",
    "1 & 1\n",
    "\\end{array}\\right]\\left[\\begin{array}{l}\n",
    "x_1 \\\\\n",
    "x_2\n",
    "\\end{array}\\right]=\\left[\\begin{array}{l}\n",
    "2 \\\\\n",
    "1 \\\\\n",
    "3\n",
    "\\end{array}\\right]\n",
    "$$"
   ]
  },
  {
   "cell_type": "code",
   "execution_count": 1,
   "metadata": {},
   "outputs": [
    {
     "name": "stdout",
     "output_type": "stream",
     "text": [
      "x         : [1.75 0.75]\n",
      "residual  : [-0.5  0.   0.5]\n",
      "Dot prodoct of col1 and residual: 0.0\n",
      "Dot prodoct of col2 and residual: 0.0\n"
     ]
    }
   ],
   "source": [
    "import numpy as np\n",
    "import matplotlib.pyplot as plt\n",
    "\n",
    "# System of linear equations\n",
    "A = np.array([[1, 1], [1, -1], [1, 1]], dtype=np.float64)\n",
    "b = np.array([2, 1, 3], dtype=np.float64)\n",
    "\n",
    "# naively try to solve the system\n",
    "# x = np.linalg.solve(A, b)\n",
    "\n",
    "# solve normal equation\n",
    "x = np.linalg.solve(A.T @ A, A.T @ b)\n",
    "\n",
    "print(f\"{'x':<10}{': '}{x}\")\n",
    "print(f\"{'residual':<10}{': '}{b - A @ x}\")\n",
    "print(f\"Dot prodoct of col1 and residual: {A[:,0].T @ (b - A @ x)}\")\n",
    "print(f\"Dot prodoct of col2 and residual: {A[:,1].T @ (b - A @ x)}\")\n"
   ]
  },
  {
   "cell_type": "markdown",
   "metadata": {},
   "source": [
    "#### Computation"
   ]
  },
  {
   "cell_type": "markdown",
   "metadata": {},
   "source": [
    "**Example** \n",
    "\n",
    "Find the best line and best parabola for the four data points (−1, 1), (0, 0),\n",
    "(1,0),(2,−2)."
   ]
  },
  {
   "cell_type": "markdown",
   "metadata": {},
   "source": [
    "1. Decide a model\n",
    "   - linear ($c_1 + c_2 t$)\n",
    "   - parabola ($c_1 + c_2 t + c_3 t^2$)\n",
    "2. Force the model to fit data\n",
    "3. Solve normal equation"
   ]
  },
  {
   "cell_type": "code",
   "execution_count": 2,
   "metadata": {},
   "outputs": [],
   "source": [
    "import numpy as np\n",
    "import matplotlib.pyplot as plt\n",
    "\n",
    "# data points\n",
    "data = np.array([[-1, 1], [0, 0], [1,0], [2, -2]], dtype=np.float64)\n",
    "\n",
    "# number of data points/observations\n",
    "m = data.shape[0]\n",
    "\n",
    "# vector of unknowns (model 1)\n",
    "n1 = 2\n",
    "c1 = np.zeros(n1)\n",
    "\n",
    "# matrix of least squares (model 1)\n",
    "A1 = np.zeros((m, n1))\n",
    "ones = np.ones(m)\n",
    "A1 = np.column_stack((ones, data[:, 0]))\n",
    "\n",
    "# vector of observations\n",
    "b = data[:, 1]\n",
    "\n",
    "# least squares solution (model 1 and 2)\n",
    "c1 = np.linalg.solve(A1.T @ A1, A1.T @ b)"
   ]
  },
  {
   "cell_type": "code",
   "execution_count": 3,
   "metadata": {},
   "outputs": [
    {
     "data": {
      "image/png": "[encoded data removed]",
      "text/plain": [
       "<Figure size 432x288 with 1 Axes>"
      ]
     },
     "metadata": {
      "needs_background": "light"
     },
     "output_type": "display_data"
    }
   ],
   "source": [
    "# AI usage: plotting is doen with copilot\n",
    "\n",
    "# Calculate the predicted values\n",
    "y_pred = c1[0] + c1[1] * data[:, 0]\n",
    "\n",
    "# Calculate the root mean squared error\n",
    "rmse = np.sqrt(np.mean((data[:, 1] - y_pred)**2))\n",
    "\n",
    "# Plot the data points\n",
    "plt.scatter(data[:, 0], data[:, 1], label='Data')\n",
    "\n",
    "# Plot the linear model\n",
    "x = np.linspace(-2, 3, 100)\n",
    "y = c1[0] + c1[1] * x\n",
    "plt.plot(x, y, color='red', label='Linear Model')\n",
    "\n",
    "# Set labels and title\n",
    "plt.xlabel('x')\n",
    "plt.ylabel('y')\n",
    "plt.title(f'Linear Model with Least Square Solution\\nRoot Mean Squared Error: {rmse:.3g}')\n",
    "\n",
    "# Show legend\n",
    "plt.legend()\n",
    "\n",
    "# Show the plot\n",
    "plt.show()\n"
   ]
  },
  {
   "cell_type": "code",
   "execution_count": 4,
   "metadata": {},
   "outputs": [],
   "source": [
    "# vector of unknowns (model 2)\n",
    "n2 = 3\n",
    "c2 = np.zeros(n2)\n",
    "\n",
    "# matrix of least squares (model 2)\n",
    "A2 = np.zeros((m, n2))\n",
    "A2 = np.column_stack((ones, data[:, 0], data[:, 0]**2))\n",
    "\n",
    "# least squares solution (model 2)\n",
    "c2 = np.linalg.solve(A2.T @ A2, A2.T @ b)"
   ]
  },
  {
   "cell_type": "code",
   "execution_count": 5,
   "metadata": {},
   "outputs": [
    {
     "data": {
      "image/png": "[encoded data removed]",
      "text/plain": [
       "<Figure size 432x288 with 1 Axes>"
      ]
     },
     "metadata": {
      "needs_background": "light"
     },
     "output_type": "display_data"
    }
   ],
   "source": [
    "# AI usage: plotting is doen with copilot\n",
    "\n",
    "# Calculate the predicted values\n",
    "y_pred = c2[0] + c2[1] * data[:, 0] + c2[2] * data[:, 0]**2\n",
    "\n",
    "# Calculate the root mean squared error\n",
    "rmse = np.sqrt(np.mean((data[:, 1] - y_pred)**2))\n",
    "\n",
    "# Plot the data points\n",
    "plt.scatter(data[:, 0], data[:, 1], label='Data')\n",
    "\n",
    "# Plot the parabola model\n",
    "x = np.linspace(-2, 3, 100)\n",
    "y = c2[0] + c2[1] * x + c2[2] * x**2\n",
    "plt.plot(x, y, color='green', label='Parabola Model')\n",
    "\n",
    "# Set labels and title\n",
    "plt.xlabel('x')\n",
    "plt.ylabel('y')\n",
    "plt.title(f'Parabola Model with Least Square Solution\\nRoot Mean Squared Error: {rmse:.3g}')\n",
    "\n",
    "# Show legend\n",
    "plt.legend()\n",
    "\n",
    "# Show the plot\n",
    "plt.show()\n"
   ]
  },
  {
   "cell_type": "markdown",
   "metadata": {},
   "source": [
    "### What to be careful of"
   ]
  },
  {
   "cell_type": "markdown",
   "metadata": {},
   "source": [
    "#### Conditioning of normal equation"
   ]
  },
  {
   "cell_type": "markdown",
   "metadata": {},
   "source": [
    "**Remark**\n",
    "\n",
    "- The condition number $\\mathrm{cond}(A^T A)$ is approximately the square of the original $\\mathrm{cond}(A)$ (Sauer (2017) p. 204)"
   ]
  },
  {
   "cell_type": "markdown",
   "metadata": {},
   "source": [
    "**Example** (ill-conditioned least square problem) Sauer 2017)\n",
    "\n",
    "Let $x_0=2.0, x_2=2.2, x_3=2.4, \\ldots, x_{10}=4.0$ be equally spaced points in $[2,4]$, and set $y_i=1+x_i+x_i^2+x_i^3+x_i^4+x_i^5+x_i^6+x_i^7$ for $0 \\leq i \\leq 10$. Use the normal equations to find the least squares polynomial $P(x)=c_1+c_2 x+\\cdots+c_8 x^7$ fitting the $\\left(x_i, y_i\\right)$."
   ]
  },
  {
   "cell_type": "markdown",
   "metadata": {},
   "source": [
    "1. Choose a model $\\longrightarrow$ dimension and meaning of $c$\n",
    "\n",
    "Find best solution among the following (model) with $c=(c_0, \\cdots, c_7)\\in\\mathbb{R}^8$\n",
    "\n",
    "$$\n",
    "P(x)=c_0+c_1 x+\\cdots+c_7 x^7\n",
    "$$"
   ]
  },
  {
   "cell_type": "markdown",
   "metadata": {},
   "source": [
    "2. Force the model to fit the data $\\longrightarrow$ $Ac=y$ \n",
    "\n",
    "$$\n",
    "\\left[\\begin{array}{ccccc}\n",
    "1 & x_0 & x_0^2 & \\cdots & x_0^7 \\\\\n",
    "1 & x_1 & x_1^2 & \\cdots & x_1^7 \\\\\n",
    "\\vdots & \\vdots & \\vdots & & \\vdots \\\\\n",
    "1 & x_{10} & x_{10}^2 & \\cdots & x_{10}^7\n",
    "\\end{array}\\right]\\left[\\begin{array}{c}\n",
    "c_0 \\\\\n",
    "c_1 \\\\\n",
    "\\vdots \\\\\n",
    "c_7\n",
    "\\end{array}\\right]=\\left[\\begin{array}{c}\n",
    "y_0 \\\\\n",
    "y_1 \\\\\n",
    "\\vdots \\\\\n",
    "y_{10}\n",
    "\\end{array}\\right]\n",
    "$$\n",
    "\n",
    "where $x_0=2.0, x_2=2.2, x_3=2.4, \\ldots, x_{10}=4.0$ and \n",
    "\n",
    "$$\n",
    "y_i=1+x_i+x_i^2+x_i^3+x_i^4+x_i^5+x_i^6+x_i^7 \\quad (i\\in\\{0,1,\\cdots,10\\})\n",
    "$$\n"
   ]
  },
  {
   "cell_type": "markdown",
   "metadata": {},
   "source": [
    "3. Solve the normal equation $\\longrightarrow$ compute $x$ such that $A^T Ax = A^T b$\n",
    "\n",
    "Use package\n",
    "\n",
    "4. Diagnostics $\\longrightarrow$ plots and statistics\n",
    "\n",
    "Compare with the true solution since it is known in this case."
   ]
  },
  {
   "cell_type": "code",
   "execution_count": 35,
   "metadata": {},
   "outputs": [],
   "source": [
    "import numpy as np\n",
    "from internallib import poly_eval\n",
    "\n",
    "# problem parameters\n",
    "# Suggestions: To check sanity, set n = 2, 3, 4, \n",
    "#   Things get wild soon after n = 5\n",
    "n = 8       # number of unknowns\n",
    "\n",
    "# right-hand side vector\n",
    "x = np.linspace(2., 4., 11)\n",
    "c_true = np.ones(n)\n",
    "y = poly_eval(c_true, x)\n",
    "\n",
    "# matrix\n",
    "pow = np.arange(n)\n",
    "# A = x[:, np.newaxis] ** pow       # broadcasting in effect\n",
    "A = x.reshape(-1, 1) ** pow         # equivalent to the previous line\n",
    "\n",
    "# vector of unknowns\n",
    "c = np.zeros(n)\n",
    "\n",
    "# least squares solution (model 1 and 2)\n",
    "c = np.linalg.solve(A.T @ A, A.T @ y)"
   ]
  },
  {
   "cell_type": "code",
   "execution_count": 36,
   "metadata": {},
   "outputs": [
    {
     "name": "stdout",
     "output_type": "stream",
     "text": [
      "c_true    : [1. 1. 1. 1. 1. 1. 1. 1.]\n",
      "c         : [ 3.81039355 -5.93780106  8.26600619 -3.18552405  2.43246164  0.70866915\n",
      "  1.03260927  0.99844991]\n",
      "y         : [  255.          456.4656128   785.5379584  1304.5441536  2098.3444352\n",
      "  3280.         4997.3255808  7440.3912704 10850.0381056 15527.4719232\n",
      " 21845.       ]\n",
      "x         : [2.  2.2 2.4 2.6 2.8 3.  3.2 3.4 3.6 3.8 4. ]\n"
     ]
    }
   ],
   "source": [
    "print(f\"{'c_true':<10}{': '}{c_true}\")\n",
    "print(f\"{'c':<10}{': '}{c}\")\n",
    "print(f\"{'y':<10}{': '}{y}\")\n",
    "print(f\"{'x':<10}{': '}{x}\")\n"
   ]
  },
  {
   "cell_type": "markdown",
   "metadata": {},
   "source": [
    "**Remark** \n",
    "\n",
    "- This motivates QR factorization, which finds the least square solution with better conditioning. "
   ]
  },
  {
   "cell_type": "markdown",
   "metadata": {},
   "source": [
    "### Appendix"
   ]
  },
  {
   "cell_type": "markdown",
   "metadata": {},
   "source": [
    "#### Python package for least square method (To be desired)"
   ]
  },
  {
   "cell_type": "code",
   "execution_count": null,
   "metadata": {},
   "outputs": [
    {
     "name": "stdout",
     "output_type": "stream",
     "text": [
      "[[  0.  25. 100.]\n",
      " [  1.  36. 121.]\n",
      " [  4.  49. 144.]\n",
      " [  9.  64. 169.]\n",
      " [ 16.  81. 196.]]\n",
      "[[ 0.]\n",
      " [ 1.]\n",
      " [ 4.]\n",
      " [ 9.]\n",
      " [16.]]\n",
      "[[1.00000000e+00]\n",
      " [0.00000000e+00]\n",
      " [1.66533454e-16]]\n",
      "[[1.66533454e-14]\n",
      " [2.15383267e-14]\n",
      " [2.93098879e-14]\n",
      " [4.08562073e-14]\n",
      " [5.32907052e-14]]\n",
      "[[0.]\n",
      " [0.]\n",
      " [0.]\n",
      " [0.]\n",
      " [0.]]\n"
     ]
    }
   ],
   "source": [
    "import numpy as np\n",
    "\n",
    "# 1. Create A and b for a least square problem\n",
    "A = np.arange(3*5, dtype=np.float64).reshape((3,5))**2\n",
    "b = np.arange(5, dtype=np.float64).reshape((5,1))**2\n",
    "\n",
    "# 2. Solve the least square problem using pseudo inverse\n",
    "x = np.linalg.pinv(A.T)@b\n",
    "\n",
    "# 3. Check the result\n",
    "print(A.T)\n",
    "print(b)\n",
    "print(x)\n",
    "\n",
    "# 4. Check the residual\n",
    "res = A.T@x - b\n",
    "print(res)\n",
    "\n",
    "# 5. Check the residual for the true solution (cheating)\n",
    "x_ = np.array([1,0,0]).reshape((3,1))\n",
    "print(A.T@x_ - b)"
   ]
  },
  {
   "cell_type": "markdown",
   "metadata": {},
   "source": [
    "### What to be careful of?"
   ]
  },
  {
   "cell_type": "markdown",
   "metadata": {},
   "source": [
    "### Appendix"
   ]
  },
  {
   "cell_type": "markdown",
   "metadata": {},
   "source": [
    "##### Methods \n",
    "\n",
    "1. Least square"
   ]
  },
  {
   "cell_type": "markdown",
   "metadata": {},
   "source": [
    "##### Important concepts\n"
   ]
  },
  {
   "cell_type": "markdown",
   "metadata": {},
   "source": [
    "##### Important preliminary\n",
    "\n",
    "- Projections (Linear algebra)\n",
    "- Gradient of vector field (Vector calculus 1)"
   ]
  },
  {
   "cell_type": "markdown",
   "metadata": {},
   "source": [
    "##### Summary\n",
    "\n",
    "- (1st index matching requirement on $A$ and $b$) The number of rows of $A$ and the lenth of $b$ must match. \n",
    "- The number of columns of $A$ must match the length of the solution $x$.\n"
   ]
  },
  {
   "cell_type": "markdown",
   "metadata": {},
   "source": [
    "> **Question**\n",
    ">\n",
    "> Remove squaring (`**2`) in the above and run the code. What happens? Can you explain why that happens? What does this example remind us of about the assumptions of the least square problem?\n",
    ">\n",
    "> (Reminder) This is **about atmosphere**, not getting it right.\n",
    "> \n",
    "> 1. Think for a short time.\n",
    "> 2. Share your guess with your pair.\n",
    "> 3. Type your answer in clicker.\n",
    "> 4. Feel free to say out loud."
   ]
  },
  {
   "cell_type": "markdown",
   "metadata": {},
   "source": [
    "##### Analysis\n"
   ]
  },
  {
   "cell_type": "markdown",
   "metadata": {},
   "source": [
    "> **Question**\n",
    ">\n",
    "> TBF\n",
    ">\n",
    "> (Reminder) This is **about atmosphere**, not getting it right.\n",
    "> \n",
    "> 1. Think for a short time.\n",
    "> 2. Share your guess with your pair.\n",
    "> 3. Type your answer in clicker.\n",
    "> 4. Feel free to say out loud."
   ]
  },
  {
   "cell_type": "markdown",
   "metadata": {},
   "source": [
    "#### Method1 (TBC)"
   ]
  },
  {
   "cell_type": "markdown",
   "metadata": {},
   "source": [
    "##### Method\n"
   ]
  },
  {
   "cell_type": "markdown",
   "metadata": {},
   "source": [
    "##### Summary\n"
   ]
  },
  {
   "cell_type": "markdown",
   "metadata": {},
   "source": [
    "##### Analysis\n"
   ]
  },
  {
   "cell_type": "markdown",
   "metadata": {},
   "source": [
    "> **Question**\n",
    ">\n",
    "> TBF\n",
    ">\n",
    "> (Reminder) This is **about atmosphere**, not getting it right.\n",
    "> \n",
    "> 1. Think for a short time.\n",
    "> 2. Share your guess with your pair.\n",
    "> 3. Type your answer in clicker.\n",
    "> 4. Feel free to say out loud."
   ]
  },
  {
   "cell_type": "markdown",
   "metadata": {},
   "source": [
    "#### Method1 (TBC)"
   ]
  },
  {
   "cell_type": "markdown",
   "metadata": {},
   "source": [
    "##### Method\n"
   ]
  },
  {
   "cell_type": "markdown",
   "metadata": {},
   "source": [
    "##### Summary\n"
   ]
  },
  {
   "cell_type": "markdown",
   "metadata": {},
   "source": [
    "##### Analysis\n"
   ]
  },
  {
   "cell_type": "markdown",
   "metadata": {},
   "source": [
    "> **Question**\n",
    ">\n",
    "> TBF\n",
    ">\n",
    "> (Reminder) This is **about atmosphere**, not getting it right.\n",
    "> \n",
    "> 1. Think for a short time.\n",
    "> 2. Share your guess with your pair.\n",
    "> 3. Type your answer in clicker.\n",
    "> 4. Feel free to say out loud."
   ]
  },
  {
   "cell_type": "markdown",
   "metadata": {
    "vscode": {
     "languageId": "plaintext"
    }
   },
   "source": [
    "---\n",
    "This work is licensed under [Creative Commons Attribution-ShareAlike 4.0 International](https://creativecommons.org/licenses/by-sa/4.0/)"
   ]
  }
 ],
 "metadata": {
  "kernelspec": {
   "display_name": "ptrch",
   "language": "python",
   "name": "ptrch"
  },
  "language_info": {
   "codemirror_mode": {
    "name": "ipython",
    "version": 3
   },
   "file_extension": ".py",
   "mimetype": "text/x-python",
   "name": "python",
   "nbconvert_exporter": "python",
   "pygments_lexer": "ipython3",
   "version": "3.8.13"
  },
  "orig_nbformat": 4
 },
 "nbformat": 4,
 "nbformat_minor": 2
}
