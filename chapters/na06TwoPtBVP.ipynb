{
 "cells": [
  {
   "cell_type": "markdown",
   "metadata": {},
   "source": [
    "### Methods for boundary value problems"
   ]
  },
  {
   "cell_type": "markdown",
   "metadata": {},
   "source": [
    "Main references\n",
    "\n",
    "[^1]: Timothy Sauer (2017) *Numerical Analysis* 3rd Edition. (p. 348)\n",
    "\n",
    "#### Take-aways\n",
    "\n",
    "After studying this chapter, we will be able to\n",
    "\n",
    "TBF\n",
    "\n"
   ]
  },
  {
   "cell_type": "markdown",
   "metadata": {},
   "source": [
    "#### Overview\n"
   ]
  },
  {
   "cell_type": "markdown",
   "metadata": {},
   "source": [
    "\n",
    "##### Problem of interest\n",
    "\n",
    "> **Problem of interest** (Two points boundary value problem)\n",
    ">\n",
    "> Given $f:\\mathbb{R}^{3} \\to \\mathbb{R}$, find $y:[a,b]\\to \\mathbb{R}$ that satisfies\n",
    ">     \n",
    "> $$\n",
    "> \\begin{cases}\n",
    "> y'' = f(t, y, y') \\\\\n",
    "> y(a) = y_a \\\\\n",
    "> y(b) = y_b.\n",
    "> \\end{cases}\n",
    "> $$\n"
   ]
  },
  {
   "cell_type": "markdown",
   "metadata": {},
   "source": [
    "**Remark** (Problem first, then methods)\n",
    "\n",
    "- Unlike other undergradute mathematics classes, we study numerical methods for certain problems of interest. Thus, it is important to focus on the problem, and then think about possible methods.\n",
    "- You will see methods bearing the same name multiple times for different problems of interest. Even though they have the same name (because of the same idea behind it), the way they are used and analyzsed can be quite different. That is because the nature of the problems are completely different and the numerical methods somehow *embody* the problem at the discrete level."
   ]
  },
  {
   "cell_type": "markdown",
   "metadata": {},
   "source": [
    "#### Shooting method\n",
    "\n",
    "##### Method outline\n",
    "\n",
    "1. Construct an associated zero finding problem $F(s^*)=0$, whose evaluation corresponds to an IVP.\n",
    "   1. Pose an IVP: Choose one boundary condition (typically the left boundary point $y_a$) and supplement it with a guess initial velocity $y'(a)=s$.\n",
    "   2. Input of $F$ is the guess initial velocity $s$. \n",
    "   3. Output of $F$ is the final position $y_N$ of the numerical solution to the IVP. (An IVP solver is implemented. And the dimension is increased to $\\mathbb{R}^2$ by augmenting the velocity component.)\n",
    "2. Solve the zero finding problem.\n",
    "3. Find the solution to the BVP by computing the trajectory of the IVP associated with the found zero."
   ]
  },
  {
   "cell_type": "code",
   "execution_count": null,
   "metadata": {},
   "outputs": [],
   "source": [
    "\"\"\"Secant method sanity check\"\"\"\n",
    "import internallib\n",
    "\n",
    "f = lambda x: x*x - 2\n",
    "root, iteration = internallib.secant(f, 5, 10)\n",
    "print(f\"Root: {root}  ({iteration} iterations taken)\")  \n",
    "print(f\"True: {2**(1/2)}\")"
   ]
  },
  {
   "cell_type": "code",
   "execution_count": null,
   "metadata": {},
   "outputs": [],
   "source": [
    "\"\"\"RK4 sanity check\"\"\"\n",
    "import numpy as np\n",
    "import matplotlib.pyplot as plt\n",
    "\n",
    "# change the overal font size \n",
    "plt.rcParams.update({\"font.size\": 16})\n",
    "\n",
    "# helix equation\n",
    "omega = 1.\n",
    "kappa = 1.\n",
    "G = lambda t, x: np.array([-omega*x[1], omega*x[0], kappa])\n",
    "\n",
    "sol, tgrid = internallib.RK4(G, np.array([1., 0., 0.]), 0, 20, 100)\n",
    "\n",
    "# create subplots for 3d plots\n",
    "fig, ax = plt.subplots(subplot_kw={'projection': \"3d\"})\n",
    "\n",
    "# plot a curve\n",
    "ax.plot(*sol.T)\n",
    "\n",
    "plt.show()"
   ]
  },
  {
   "cell_type": "markdown",
   "metadata": {},
   "source": [
    "**Example** (Implementing shooting method)\n",
    "\n",
    "Apply the Shooting Method to the boundary value problem\n",
    "$$\n",
    "\\left\\{\\begin{array}{l}\n",
    "y^{\\prime \\prime}=4 y \\\\\n",
    "y(0)=1 \\\\\n",
    "y(1)=3\n",
    "\\end{array}\\right.\n",
    "$$\n"
   ]
  },
  {
   "cell_type": "markdown",
   "metadata": {},
   "source": [
    "$$\n",
    "\\begin{align}\n",
    "u = y'\\\\\n",
    "u' = y'' = 4y\n",
    "\\end{align}\n",
    "$$\n",
    "\n",
    "$$\n",
    "\\begin{bmatrix}\n",
    "y \\\\ \n",
    "u \n",
    "\\end{bmatrix} ' \n",
    "= F\\left( \n",
    "\\begin{bmatrix}\n",
    "y \\\\ \n",
    "u \n",
    "\\end{bmatrix} \n",
    "\\right)\n",
    "=\n",
    "\\begin{bmatrix}\n",
    "u \\\\ \n",
    "4y\n",
    "\\end{bmatrix}\n",
    "$$"
   ]
  },
  {
   "cell_type": "markdown",
   "metadata": {},
   "source": [
    "The true solution can be obtained by the standard method of second order differential equations.\n",
    "\n",
    "$$y(t)=\\frac{3-e^{-2}}{e^2-e^{-2}} e^{2 t}+\\frac{e^2-3}{e^2-e^{-2}} e^{-2 t}$$"
   ]
  },
  {
   "cell_type": "code",
   "execution_count": null,
   "metadata": {},
   "outputs": [],
   "source": [
    "\"\"\"Implementing the shooting method\"\"\"\n",
    "\n",
    "import internallib\n",
    "import numpy as np\n",
    "\n",
    "# function that converts the problem into a root finding problem\n",
    "def F_(s, bc1, bc2, slope, a, b, N):\n",
    "\n",
    "    x0 = np.array([bc1, s])\n",
    "\n",
    "    sol, tgrid = internallib.RK4(slope, x0, a, b, N)\n",
    "\n",
    "    return sol[-1, 0] - bc2\n",
    "\n",
    "# problem and numerical settings\n",
    "N = 100\n",
    "a, rhs = 0., 1.\n",
    "slope = lambda t, x: np.array([x[1], 4.*x[0]])\n",
    "bc1 = 1.\n",
    "bc2 = 3.\n",
    "\n",
    "# simplified function for root finding\n",
    "F = lambda s: F_(s, bc1=bc1, bc2=bc2, slope=slope, a=a, b=rhs, N=N)\n",
    "\n",
    "print(F(-1.))\n"
   ]
  },
  {
   "cell_type": "code",
   "execution_count": null,
   "metadata": {},
   "outputs": [],
   "source": [
    "# solve the main root finding problem\n",
    "secant_guess1 = -1.\n",
    "secant_guess2 = 0.\n",
    "s_s, iter = internallib.secant(F, secant_guess1, secant_guess2)\n",
    "\n",
    "print(s_s, iter)\n",
    "\n",
    "# compute the trajectory\n",
    "sol, tgrid =internallib.RK4(slope, np.array([bc1, s_s]), a, rhs, N)\n"
   ]
  },
  {
   "cell_type": "code",
   "execution_count": null,
   "metadata": {},
   "outputs": [],
   "source": [
    "\n",
    "# exact solution\n",
    "em2 = np.exp(-2.)\n",
    "e2 = np.exp(2.)\n",
    "c1 = (3. - em2) / (e2 - em2)\n",
    "c2 = (e2 - 3.) / (e2 - em2)\n",
    "\n",
    "true_sol_lamb = lambda t: c1*np.exp(2.*t) + c2*np.exp(-2.*t)\n",
    "\n",
    "true_sol = true_sol_lamb(tgrid)"
   ]
  },
  {
   "cell_type": "code",
   "execution_count": null,
   "metadata": {},
   "outputs": [],
   "source": [
    "import matplotlib.pyplot as plt\n",
    "\n",
    "# change the overal font size \n",
    "plt.rcParams.update({\"font.size\": 16})\n",
    "\n",
    "# create subplots for 3d plots\n",
    "fig, ax = plt.subplots()\n",
    "\n",
    "# plot the numerical and true solution\n",
    "ax.plot(tgrid, sol.T[0])\n",
    "ax.plot(tgrid, true_sol)\n",
    "plt.legend([\"Numerical\", \"True\"])\n",
    "plt.show()\n"
   ]
  },
  {
   "cell_type": "markdown",
   "metadata": {},
   "source": [
    "#### Finite Difference Method (FDM) for Two Pt BVP\n"
   ]
  },
  {
   "cell_type": "markdown",
   "metadata": {},
   "source": [
    "**Idea**: confine the domain to a set of grid points, and replace differential operators with their discrete counterparts of finite difference form.\n"
   ]
  },
  {
   "cell_type": "markdown",
   "metadata": {},
   "source": [
    "###### Difference Quotient\n",
    "\n",
    "**Centered Difference Quotient for 1st order derivative**\n",
    "\n",
    "$$\n",
    "y^{\\prime}(t)=\\frac{y(t+h)-y(t-h)}{2 h}-\\frac{h^2}{6} y^{\\prime \\prime \\prime}(c)\n",
    "$$\n",
    "\n",
    "**Centered Difference Quotient for 2nd order derivative**\n",
    "\n",
    "$$\n",
    "y^{\\prime \\prime}(t)=\\frac{y(t+h)-2 y(t)+y(t-h)}{h^2}+\\frac{h^2}{12} f^{\\prime \\prime \\prime \\prime}(c) .\n",
    "$$"
   ]
  },
  {
   "cell_type": "markdown",
   "metadata": {},
   "source": [
    "This approximation is intuitively sensible:\n",
    "\n",
    "$$\n",
    "\\begin{split}\n",
    "f'(x+h) &\\approx \\frac{f(x+h)-f(x)}{h}\\\\\n",
    "f'(x) &\\approx \\frac{f(x)-f(x-h)}{h}\\\\\n",
    "f''(x) &\\approx \\frac{f'(x+h)-f'(x)}{h}\\\\\n",
    "&\\approx \\frac{\\frac{f(x+h)-f(x)}{h}-\\frac{f(x)-f(x-h)}{h}}{h}\\\\\n",
    "&\\approx \\frac{f(x+h)-2f(x)+f(x-h)}{h^2}\n",
    "\\end{split}\n",
    "$$"
   ]
  },
  {
   "cell_type": "markdown",
   "metadata": {},
   "source": [
    "###### Grid domain\n",
    "\n",
    "![Grid domain for two point BVP](https://upload.wikimedia.org/wikipedia/commons/thumb/4/4c/Finite_Differences.svg/429px-Finite_Differences.svg.png?20110221193510)\n",
    "\n",
    "The figure uses different symbols from us. Substitute:\n",
    "\n",
    "- $x\\gets t$\n",
    "\n",
    "Figure: Wikipedia (uniform grid domain)"
   ]
  },
  {
   "cell_type": "markdown",
   "metadata": {},
   "source": [
    "##### Settings/Notation\n",
    "\n",
    "| symbol | meaning |\n",
    "|---|---|\n",
    "| $n$ | grid resolution | \n",
    "| $h$ | $=\\frac{b-a}{n+1}$ grid spacing |\n",
    "| $t_i$ | $=a+hi$ ($i=0,1,\\cdots,n+1$) $i$-th grid point |\n",
    "| $y(t_i)$ | true solution evaluated at $(t_i)$ |\n",
    "| $w_{i}$ | numerical solution meant to approximate $y(t_i)$ |\n"
   ]
  },
  {
   "cell_type": "markdown",
   "metadata": {},
   "source": [
    "**Example** (Implementing FDM)\n",
    "\n",
    "Apply the FDM to the boundary value problem\n",
    "$$\n",
    "\\left\\{\\begin{array}{l}\n",
    "y^{\\prime \\prime}=4 y \\\\\n",
    "y(0)=1 \\\\\n",
    "y(1)=3\n",
    "\\end{array}\\right.\n",
    "$$\n"
   ]
  },
  {
   "cell_type": "markdown",
   "metadata": {},
   "source": [
    "- Replace derivatives with difference quotient\n",
    "\n",
    "$$\n",
    "\\frac{w_{i+1}-2 w_i+w_{i-1}}{h^2}-4 w_i=0\n",
    "$$\n",
    "\n",
    "- Rearrange\n",
    "\n",
    "$$\n",
    "w_{i-1}+\\left(-4 h^2-2\\right) w_i+w_{i+1}=0, \\quad (i=1,2,\\cdots,n)\n",
    "$$\n"
   ]
  },
  {
   "cell_type": "markdown",
   "metadata": {},
   "source": [
    "\n",
    "- Matrix form \n",
    "\n",
    "Plug $i=1,2,\\cdots, n$ in the above equation and rewrite the resulting equations.\n",
    "\n",
    "$$\n",
    "\\left[\\begin{array}{ccccccc}\n",
    "-4 h^2-2 & 1 & 0 & \\cdots & 0 & 0 & 0 \\\\\n",
    "1 & -4 h^2-2 & \\ddots & & 0 & 0 & 0 \\\\\n",
    "0 & 1 & \\ddots & \\ddots & 0 & 0 & 0 \\\\\n",
    "\\vdots & & \\ddots & \\ddots & \\ddots & & \\vdots \\\\\n",
    "0 & 0 & 0 & \\ddots & \\ddots & 1 & 0 \\\\\n",
    "0 & 0 & 0 & & \\ddots & -4 h^2-2 & 1 \\\\\n",
    "0 & 0 & 0 & \\cdots & 0 & 1 & -4 h^2-2\n",
    "\\end{array}\\right]\\left[\\begin{array}{c}\n",
    "w_1 \\\\\n",
    "w_2 \\\\\n",
    "w_3 \\\\\n",
    "\\vdots \\\\\n",
    "w_{n-1} \\\\\n",
    "w_n\n",
    "\\end{array}\\right]=\\left[\\begin{array}{r}\n",
    "-1 \\\\\n",
    "0 \\\\\n",
    "0 \\\\\n",
    "\\vdots \\\\\n",
    "0 \\\\\n",
    "0 \\\\\n",
    "-3\n",
    "\\end{array}\\right] .\n",
    "$$"
   ]
  },
  {
   "cell_type": "code",
   "execution_count": 1,
   "metadata": {},
   "outputs": [],
   "source": [
    "import numpy as np\n",
    "import matplotlib.pyplot as plt\n",
    "from scipy.linalg import toeplitz\n",
    "from internallib import tridiag \n",
    "\n",
    "# rhs/acceleration function\n",
    "f = lambda t, y: 4. * y\n",
    "\n",
    "# Define the boundary conditions\n",
    "a = 0\n",
    "b = 1\n",
    "ya = 1\n",
    "yb = 3\n",
    "\n",
    "# grid resolution/spacing\n",
    "n = 100\n",
    "h = (b - a) / (n + 1)\n",
    "\n",
    "# grid domain\n",
    "t = np.linspace(a, b, n+2)\n",
    "\n",
    "# Initialize the solution array\n",
    "w = np.zeros(n+2)\n",
    "\n",
    "# Apply the boundary conditions\n",
    "w[0] = ya\n",
    "w[-1] = yb\n",
    "\n",
    "diag = -4.*h*h - 2.\n",
    "off_diag = 1.\n",
    "\n",
    "# create the tridiagonal matrix (internal library)\n",
    "# syntax: tridiag(sub_diag, diag, super_diag, size)\n",
    "A = tridiag(off_diag, diag, off_diag, n)\n",
    "\n",
    "rhs = np.zeros(n)\n",
    "rhs[0] = -ya\n",
    "rhs[-1] = -yb"
   ]
  },
  {
   "cell_type": "code",
   "execution_count": 2,
   "metadata": {},
   "outputs": [],
   "source": [
    "# Solve the finite difference equations\n",
    "\n",
    "w[1:-1] = np.linalg.solve(A, rhs)\n"
   ]
  },
  {
   "cell_type": "code",
   "execution_count": 3,
   "metadata": {},
   "outputs": [],
   "source": [
    "\n",
    "# exact solution\n",
    "em2 = np.exp(-2.)\n",
    "e2 = np.exp(2.)\n",
    "c1 = (3. - em2) / (e2 - em2)\n",
    "c2 = (e2 - 3.) / (e2 - em2)\n",
    "\n",
    "true_sol_lamb = lambda t: c1*np.exp(2.*t) + c2*np.exp(-2.*t)\n",
    "\n",
    "true_sol = true_sol_lamb(t)"
   ]
  },
  {
   "cell_type": "code",
   "execution_count": 4,
   "metadata": {},
   "outputs": [
    {
     "data": {
      "image/png": "[encoded data removed]",
      "text/plain": [
       "<Figure size 640x480 with 1 Axes>"
      ]
     },
     "metadata": {},
     "output_type": "display_data"
    }
   ],
   "source": [
    "import matplotlib.pyplot as plt\n",
    "\n",
    "# change the overal font size \n",
    "plt.rcParams.update({\"font.size\": 16})\n",
    "\n",
    "# create subplots for 3d plots\n",
    "fig, ax = plt.subplots()\n",
    "\n",
    "# plot the numerical and true solution\n",
    "ax.plot(t, w, label=\"FDM\")\n",
    "ax.plot(t, true_sol, label=\"True\") \n",
    "plt.legend()\n",
    "plt.show()\n"
   ]
  },
  {
   "cell_type": "markdown",
   "metadata": {},
   "source": [
    "##### Nonlinear problems\n"
   ]
  },
  {
   "cell_type": "markdown",
   "metadata": {},
   "source": [
    "\n",
    "All steps are the same as above, but one needs to nonlinear root-finding methods (Newton's or Broyden's methods) to compute the solution."
   ]
  },
  {
   "cell_type": "markdown",
   "metadata": {
    "vscode": {
     "languageId": "plaintext"
    }
   },
   "source": [
    "---\n",
    "This work is licensed under [Creative Commons Attribution-ShareAlike 4.0 International](https://creativecommons.org/licenses/by-sa/4.0/)"
   ]
  }
 ],
 "metadata": {
  "kernelspec": {
   "display_name": "ptrch",
   "language": "python",
   "name": "ptrch"
  },
  "language_info": {
   "codemirror_mode": {
    "name": "ipython",
    "version": 3
   },
   "file_extension": ".py",
   "mimetype": "text/x-python",
   "name": "python",
   "nbconvert_exporter": "python",
   "pygments_lexer": "ipython3",
   "version": "3.9.1"
  },
  "orig_nbformat": 4
 },
 "nbformat": 4,
 "nbformat_minor": 2
}
