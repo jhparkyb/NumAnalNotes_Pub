{
 "cells": [
  {
   "cell_type": "markdown",
   "metadata": {},
   "source": [
    "#### Notation/Settings/Acronyms\n",
    "\n",
    "Common settings\n",
    "\n",
    "| symbol | setting |\n",
    "|---|---|\n",
    "| $n$ | a positive integer |\n",
    "| $A$ | nonsingular $n$-by-$n$ matrix |\n",
    "| $b$ | (column) vector of length $n$ |\n",
    "| $x$ | (column) vector of length $n$ |\n",
    "\n",
    "Acronyms\n",
    "\n",
    "|Abbreviation| meaning|\n",
    "|---|---|\n",
    "| SPD | Symmetric positive definite |\n",
    "\n",
    "Common convention\n",
    "\n",
    "| expression | meaning |\n",
    "|---|---|\n",
    "| $a_{ij}$, $a_{i,j}$, $A_{ij}$, $A_{i,j}$ | $(i,j)$-component of a matrix $A$ ($i$-th row, $j$-th column) |\n",
    "\n"
   ]
  },
  {
   "cell_type": "markdown",
   "metadata": {},
   "source": [
    "**Problem of interest**\n",
    "\n",
    "Given $A$ and $b$, find $x$ such that\n",
    "\n",
    "$$ Ax = b. $$\n",
    "\n",
    "\n"
   ]
  },
  {
   "cell_type": "markdown",
   "metadata": {},
   "source": [
    "#### Methods\n",
    "\n",
    "- Methods for general matrices\n",
    "   1. Direct methods\n",
    "      - plain Gaussian elimination\n",
    "      - Gaussian elimination using $PA = LU$ decomposition.\n",
    "        - Preliminary: $A=LU$ decomposition\n",
    "   2. Iterative methods\n",
    "      - Jacobi iteration\n",
    "      - Gauss-Seidel iteration\n",
    "- Methods for SPD matrices\n",
    "   1. Direct methods\n",
    "      - Cholesky factorization\n",
    "   2. Iterative methods\n",
    "      - Conjugate gradient method\n",
    "- Framework for improvements\n",
    "   1. Preconditioning\n"
   ]
  },
  {
   "cell_type": "markdown",
   "metadata": {},
   "source": [
    "#### Gaussian elimination\n"
   ]
  },
  {
   "cell_type": "markdown",
   "metadata": {},
   "source": [
    "##### Augmented matrix\n",
    "\n",
    "Compact rearrangement of a system of linear equations in matrix form\n",
    "\n",
    "$$\n",
    "\\begin{aligned}\n",
    "x+2 y-z & =3 \\\\\n",
    "2 x+y-2 z & =3 \\\\\n",
    "-3 x+y+z & =-6 \n",
    "\\end{aligned}\n",
    "\\leftrightarrow\n",
    "\\left[\\begin{array}{rrr:r}\n",
    "1 & 2 & -1 & 3 \\\\\n",
    "2 & 1 & -2 & 3 \\\\\n",
    "-3 & 1 & 1 & -6\n",
    "\\end{array}\\right]\n",
    "$$\n",
    "\n",
    "##### Elementary row operations\n",
    "\n",
    "1. Swap one equation (or a row) for another (row): $R_i \\leftrightarrow R_j$.\n",
    "2. Add or subtract a multiple of one equation (or a row) from another (row): $R_i \\gets R_i + c R_j$.\n",
    "3. Multiply an equation (or a row) by a nonzero constant: $R_i \\gets c R_i$.\n"
   ]
  },
  {
   "cell_type": "markdown",
   "metadata": {},
   "source": [
    "**Example**\n",
    "\n",
    "Solve the following system of linear equations using the augmented matrix and elementary row operations: \n",
    "\n",
    "$$\n",
    "\\begin{aligned}\n",
    "x+2 y-z & =3 \\\\\n",
    "2 x+y-2 z & =3 \\\\\n",
    "-3 x+y+z & =-6 .\n",
    "\\end{aligned}\n",
    "$$\n",
    "\n",
    "[Example of Gaussian eliminations 1](../images/ex_GaussianElimination1_lp1000.png)\n",
    "\n",
    "[Example of Gaussian eliminations 2](../images/ex_GaussianElimination2_lp1000.png)"
   ]
  },
  {
   "cell_type": "markdown",
   "metadata": {},
   "source": [
    "**Remark** (back substitution)\n",
    "\n",
    "- While there can be many creative ways to find the solution, we will following one single way: we are *developing a systematic method*.\n",
    "- Let us call, in this class, the first step *elimination*.\n",
    "- The second step (finding unknowns one by one) is called *back substitution* or *back solving*."
   ]
  },
  {
   "cell_type": "markdown",
   "metadata": {},
   "source": [
    "##### Complexity of Gaussian elimination"
   ]
  },
  {
   "cell_type": "markdown",
   "metadata": {},
   "source": [
    "| Step | Complexity (precise) | Complexity (order) | \n",
    "|------|------------|-----|\n",
    "| eliminations | $$ \\frac 2 3 n^3 + \\frac 1 2 n^2 - \\frac 7 6 n $$ | $$=\\mathcal{O}(n^3) $$ | \n",
    "| back substitutions | $$ n^2 $$ |  $$= \\mathcal{O}(n^2) $$ |\n",
    "\n",
    "[Derivation of complexity of eliminations 1](../images/der_ComplexityGaussianEliminations1_lp2000.png)\n",
    "\n",
    "[Derivation of complexity of eliminations 2](../images/der_ComplexityGaussianEliminations2_lp2000.png)\n",
    "\n",
    "[Derivation of complexity of back substitions](../images/der_ComplexityBackSubstitutions_lp2000.png)"
   ]
  },
  {
   "cell_type": "markdown",
   "metadata": {},
   "source": [
    "___"
   ]
  },
  {
   "cell_type": "markdown",
   "metadata": {},
   "source": [
    "Take-aways\n",
    "\n",
    "- Properties of unit lower triangular matrices that underpin LU decomposition."
   ]
  },
  {
   "cell_type": "markdown",
   "metadata": {},
   "source": [
    "### A = LU decomposition\n",
    "\n",
    "Intuition: Gaussian eliminations can be encapsulated in matrix form. (provided there are no issues)\n",
    "\n",
    "- We will see that $L^{-1}$ encodes the elimination while $U$ encodes the result of the elimination.\n",
    "\n",
    "#### Method\n",
    "\n",
    "Algorithm is borrowed from Kincaid and Cheney (2002) p. 155.\n",
    "\n",
    "**Data**\n",
    "\n",
    "- $A=(a_{ij})$: matrix\n",
    "- $n$: size of matrix\n",
    "\n",
    "**Computation**\n",
    "\n",
    "- **for** $k=1$ to $n$ **do**\n",
    "  - $\\ell_{kk} \\gets 1$\n",
    "  - **for** $j=k$ to $n$ **do**\n",
    "    - $u_{k j} \\gets a_{k j}-\\sum_{s=1}^{k-1} \\ell_{k s} u_{s j}$\n",
    "  - **for** $i=k+1$ to $n$ **do**\n",
    "    - $\\ell_{i k} \\leftarrow\\left(a_{i k}-\\sum_{s=1}^{k-1} \\ell_{i s} u_{s k}\\right) / u_{k k}$\n",
    "\n",
    "**Output**\n",
    "\n",
    "- $L=(\\ell_{ij})$\n",
    "- $U=(u_{ij})$\n",
    "\n",
    "**Remark**\n",
    "\n",
    "- This algorithm works only if there is no zero pivot encountered.\n",
    "    "
   ]
  },
  {
   "cell_type": "markdown",
   "metadata": {},
   "source": [
    "#### Triangular matrices\n",
    "\n",
    "**Definition**\n",
    "\n",
    "1. A $n$-by-$n$ matrix $L$ is called:*lower triangular* if $\\ell_{ij}=0$ for $i < j$. In addition, if $\\ell_{ij}=1$ for $i = j$, it is called *unit* lower triangular.\n",
    "\n",
    "$$\n",
    "\\left[\\begin{array}{ccccc}\n",
    "\\ell_{1,1} & & & & 0 \\\\\n",
    "\\ell_{2,1} & \\ell_{2,2} & & & \\\\\n",
    "\\ell_{3,1} & \\ell_{3,2} & \\ddots & & \\\\\n",
    "\\vdots & \\vdots & \\ddots & \\ddots & \\\\\n",
    "\\ell_{n, 1} & \\ell_{n, 2} & \\ldots & \\ell_{n, n-1} & \\ell_{n, n}\n",
    "\\end{array}\\right]\n",
    "$$\n",
    "\n",
    "2. A $n$-by-$n$ matrix $U$ is called *upper triangular* if $u_{ij}=0$ for $i > j$. In addition, if $u_{ij}=1$ for $i = j$, it is called *unit* upper triangular.\n",
    "\n",
    "$$\n",
    "U=\\left[\\begin{array}{ccccc}\n",
    "u_{1,1} & u_{1,2} & u_{1,3} & \\ldots & u_{1, n} \\\\\n",
    "& u_{2,2} & u_{2,3} & \\ldots & u_{2, n} \\\\\n",
    "& & \\ddots & \\ddots & \\vdots \\\\\n",
    "& & & \\ddots & u_{n-1, n} \\\\\n",
    "0 & & & & u_{n, n}\n",
    "\\end{array}\\right]\n",
    "$$"
   ]
  },
  {
   "cell_type": "markdown",
   "metadata": {},
   "source": [
    "**Properties of triangular matrices**\n",
    "\n",
    "**Fact** (From linear algebra)\n",
    "\n",
    "- If an $n$-by-$n$ matrix $A$ is invertible, then the eigenvalues of $A^{-1}$ are precisely the inverse of eigenvalues of $A$. \n",
    "- Determinant of a triangular matrix is the product of its diagonal entries.\n",
    "- The eigenvalues of a lower triangular matrix are precisely its diagonal entries.\n",
    "\n",
    "**Main properties**\n",
    "\n",
    "Lower triangular shape is preserved under addition, scalar multiplication, matrix multiplication, and inversion. More specifically, \n",
    "\n",
    "1. If $L_1$ and $L_2$ are lower triangular matrices of size $n$-by-$n$, then $L_1 + L_2$ also lower triangular. \n",
    "2. If $L_1$ is a lower triangular matrix of size $n$-by-$n$ and $\\alpha$ is a scalar, then $\\alpha L_1$ is also lower triangular. \n",
    "3. If $L_1$ and $L_2$ are lower triangular matrices of size $n$-by-$n$, then $L_1 L_2$  also lower triangular. Furthermore, $[L_1 L_2]_{ii}=[L_1]_{ii}[L_2]_{ii}$ for $i=1,2,\\cdots,n$\n",
    "   - If $L_1$ and $L_2$ are unit lower triangular matrices of size $n$-by-$n$, then $L_1 L_2$  also unit lower triangular. \n",
    "4. If $L_1$ is a lower triangular matrix of size $n$-by-$n$ and it is invertible, then $L_1^{-1}$ is also lower triangular. Furthermore, $[L_1^{-1}]_{ii}=[L_1]_{ii}^{-1}$.\n",
    "   - If $L_1$ is a unit lower triangular matrix of size $n$-by-$n$ and it is invertible, then $L_1^{-1}$ is also unit lower triangular. \n",
    "\n",
    "The same is true for upper triangular matrices.\n",
    "\n",
    "[Proof of properties of triangular matrices 1](../images/pf_PropTriangularMatrices1_lp2000.png)\n",
    "\n",
    "[Proof of properties of triangular matrices 2](../images/pf_PropTriangularMatrices2_lp2000.png)\n"
   ]
  },
  {
   "cell_type": "markdown",
   "metadata": {},
   "source": [
    "**Lemma 1 for LU** (matrix of row subtraction)\n",
    "\n",
    "The elementary row operation $R_{i} \\gets R_{i}+(-c)R_{j}$ can be represented by a matrix multiplication by $L_{ij}(-c)$ on the left, where\n",
    "\n",
    "$$\n",
    "[L_{ij}(-c)]_{k \\ell} = \\begin{cases}\n",
    "1 & (k = \\ell) \\\\\n",
    "-c & (k = i, \\ \\ell = j) \\\\\n",
    "0 & (\\text{otherwise}),\n",
    "\\end{cases}\n",
    "$$\n",
    "\n",
    "or, \n",
    "\n",
    "$$\n",
    "L_{i j}(-c)=\\left[\\begin{array}{ccccccc}\n",
    "1 & & & & & & \\\\\n",
    "& \\ddots & & & & & \\\\\n",
    "& & 1 & & & & \\\\\n",
    "& & & \\ddots & & & \\\\\n",
    "& & -c & & 1 & & \\\\\n",
    "& & & & & \\ddots & \\\\\n",
    "& & & & & & 1\n",
    "\\end{array}\\right]\n",
    "$$\n",
    "\n",
    "To instructor: Handwritten notes only row operation is desired."
   ]
  },
  {
   "cell_type": "markdown",
   "metadata": {},
   "source": [
    "**Lemma 2 for LU** (Product of row subtraction)\n",
    "\n",
    "Let $L_{ij}(c_{ij})$ be defined as above. If $j$ is fixed, then, we have \n",
    "\n",
    "$$\n",
    "\\left[\\prod_{i=j+1}^n L_{ij}(c_{ij})\\right]_{k \\ell} = \\begin{cases}\n",
    "1 & (k = \\ell) \\\\\n",
    "c_{ij} & (k = i, \\ \\ell = j) \\\\\n",
    "0 & (\\text{otherwise}),\n",
    "\\end{cases}\n",
    "$$\n",
    "\n",
    "or, \n",
    "\n",
    "$$\n",
    "\\prod_{i=j+1}^n L_{ij}(c_{ij})\n",
    "=\\left[\\begin{array}{ccccccc}\n",
    "1 & & & & & & \\\\\n",
    "& \\ddots & & & & & \\\\\n",
    "& & 1 & & & & \\\\\n",
    "& & c_{j+1,j} & \\ddots & & & \\\\\n",
    "& & c_{j+2,j} & & 1 & & \\\\\n",
    "& & \\vdots & & & \\ddots & \\\\\n",
    "& & c_{n,j} & & & & 1\n",
    "\\end{array}\\right]\n",
    "$$\n",
    "\n",
    "For example in $4$-by-$4$ case with $j=1$, \n",
    "\n",
    "$$\n",
    "\\left(\\begin{array}{cccc}\n",
    "1 & 0 & 0 & 0 \\\\\n",
    "c_{21} & 1 & 0 & 0 \\\\\n",
    "0 & 0 & 1 & 0 \\\\\n",
    "0 & 0 & 0 & 1 \\\\\n",
    "\\end{array}\\right)\n",
    "\\left(\\begin{array}{cccc}\n",
    "1 & 0 & 0 & 0 \\\\\n",
    "0 & 1 & 0 & 0 \\\\\n",
    "c_{31} & 0 & 1 & 0 \\\\\n",
    "0 & 0 & 0 & 1 \\\\\n",
    "\\end{array}\\right)\n",
    "\\left(\\begin{array}{cccc}\n",
    "1 & 0 & 0 & 0 \\\\\n",
    "0 & 1 & 0 & 0 \\\\\n",
    "0 & 0 & 1 & 0 \\\\\n",
    "c_{41} & 0 & 0 & 1 \\\\\n",
    "\\end{array}\\right)\n",
    "=\n",
    "\\left(\\begin{array}{cccc}\n",
    "1 & 0 & 0 & 0 \\\\\n",
    "c_{21} & 1 & 0 & 0 \\\\\n",
    "c_{31} & 0 & 1 & 0 \\\\\n",
    "c_{41} & 0 & 0 & 1 \\\\\n",
    "\\end{array}\\right)\n",
    "$$\n",
    "\n",
    "Proof: Explicit calculation."
   ]
  },
  {
   "cell_type": "markdown",
   "metadata": {},
   "source": [
    "**Lemma 3 for LU** (Inverse of row elimination)\n",
    "\n",
    "Let $L$ be an $n$-by-$n$ lower triangular matrix whose diagonal elements are all 1, and only one column has nonzero elements below diagonal. Then, $A^{-1}$ is of the same form as $A$ except the signs of elements below diagonal being flipped."
   ]
  },
  {
   "cell_type": "code",
   "execution_count": 2,
   "metadata": {},
   "outputs": [
    {
     "name": "stdout",
     "output_type": "stream",
     "text": [
      "A: \n",
      " [[ 1.  0.  0.]\n",
      " [ 2.  1.  0.]\n",
      " [-5.  3.  1.]]\n",
      "\n",
      "B: \n",
      " [[ 1.  0.  0.]\n",
      " [-2.  1.  0.]\n",
      " [ 5. -3.  1.]]\n",
      "\n",
      "A*B: \n",
      " [[ 1.  0.  0.]\n",
      " [ 0.  1.  0.]\n",
      " [-6.  0.  1.]]\n",
      "\n",
      "A^-1:\n",
      " [[ 1.00000000e+00 -1.77635684e-16 -0.00000000e+00]\n",
      " [-2.00000000e+00  1.00000000e+00  0.00000000e+00]\n",
      " [ 1.10000000e+01 -3.00000000e+00  1.00000000e+00]]\n"
     ]
    }
   ],
   "source": [
    "\"\"\"This script verifies the inversion of a triangular matrix.\n",
    "\n",
    "1. If only one column has nonzero element below the diagonal,\n",
    "    then the matrix inversion is mechanical.\n",
    "2. If more columns has nonzero elements below the diagonal,\n",
    "    then inversion is not that simple. \n",
    "\"\"\"\n",
    "\n",
    "import numpy as np\n",
    "\n",
    "A = np.eye(3)\n",
    "A[1, 0] = 2\n",
    "A[2, 0] = -5\n",
    "A[2, 1] = 3 # uncomment this line to see case 2\n",
    "\n",
    "B = A.copy()\n",
    "low_diag_ind = np.tril_indices_from(B, -1)\n",
    "B[low_diag_ind] = - A[low_diag_ind]\n",
    "\n",
    "print(\"A: \\n\", A)\n",
    "print(\"\\nB: \\n\", B)\n",
    "print(\"\\nA*B: \\n\", A@B)\n",
    "print(\"\\nA^-1:\\n\", np.linalg.inv(A))"
   ]
  },
  {
   "cell_type": "markdown",
   "metadata": {},
   "source": [
    "**Lemma 4 for LU** (Product of elementary matrix)\n",
    "\n",
    "The following patterns generalizes to any size $n$-by-$n$ as long as\n",
    "\n",
    "1. each matrix is unit lower triangular,\n",
    "2. each matrix has at most one column that is filled with nonzero entries below diagonal, and\n",
    "3. the order is kept, namely, the matrix with a full column of smaller index is multiplied more to the left.\n",
    "\n",
    "$$\n",
    "\\left(\\begin{array}{cccc}\n",
    "1 & 0 & 0 & 0 \\\\\n",
    "c_{21} & 1 & 0 & 0 \\\\\n",
    "c_{31} & 0 & 1 & 0 \\\\\n",
    "c_{41} & 0 & 0 & 1 \\\\\n",
    "\\end{array}\\right)\n",
    "\\left(\\begin{array}{cccc}\n",
    "1 & 0 & 0 & 0 \\\\\n",
    "0 & 1 & 0 & 0 \\\\\n",
    "0 & c_{32} & 1 & 0 \\\\\n",
    "0 & c_{42} & 0 & 1 \\\\\n",
    "\\end{array}\\right)\n",
    "\\left(\\begin{array}{cccc}\n",
    "1 & 0 & 0 & 0 \\\\\n",
    "0 & 1 & 0 & 0 \\\\\n",
    "0 & 0 & 1 & 0 \\\\\n",
    "0 & 0 & c_{43} & 1 \\\\\n",
    "\\end{array}\\right)\n",
    "=\n",
    "\\left(\\begin{array}{cccc}\n",
    "1 & 0 & 0 & 0 \\\\\n",
    "c_{21} & 1 & 0 & 0 \\\\\n",
    "c_{31} & c_{32} & 1 & 0 \\\\\n",
    "c_{41} & c_{42} & c_{43} & 1 \\\\\n",
    "\\end{array}\\right)\n",
    "$$"
   ]
  },
  {
   "cell_type": "code",
   "execution_count": null,
   "metadata": {},
   "outputs": [],
   "source": [
    "\"\"\"This script verifies product of elementary triangular matrices.\n",
    "\n",
    "1. If the matrix with earlier column filled is multiplied more \n",
    "    to the left, the product is as easy as writing out.\n",
    "2. If not, this property is lost.\n",
    "\"\"\"\n",
    "\n",
    "import numpy as np\n",
    "\n",
    "A = np.eye(3)\n",
    "A[1, 0] = 2\n",
    "A[2, 0] = -5\n",
    "# A[2, 1] = 3 # uncomment this line to see case 2\n",
    "\n",
    "B = np.eye(3)\n",
    "B[2, 1] = 3\n",
    "\n",
    "\n",
    "print(\"A: \\n\", A)\n",
    "print(\"\\nB: \\n\", B)\n",
    "print(\"\\nA*B: \\n\", A@B)\n",
    "print(\"\\nB*A: \\n\", B@A)\n"
   ]
  },
  {
   "cell_type": "markdown",
   "metadata": {},
   "source": [
    "**Example** (Finding LU decomposition)\n",
    "\n",
    "1. Represent the Gaussian elimination of the following system of linear equations using elementary lower triangular matrices, and\n",
    "2. find $A=LU$ decomposition, where $L$ is lower unit triangular and $U$ is upper triangular.\n",
    "\n",
    "$$\n",
    "\\begin{aligned}\n",
    "x+2 y-z & =3 \\\\\n",
    "2 x+y-2 z & =3 \\\\\n",
    "-3 x+y+z & =-6 .\n",
    "\\end{aligned}\n",
    "$$\n",
    "\n",
    "[Example of LU decomposition 1](../images/ex_LUdecomposition1_lp2000.png)\n",
    "\n",
    "[Example of LU decomposition 2](../images/ex_LUdecomposition2_lp2000.png)"
   ]
  },
  {
   "cell_type": "markdown",
   "metadata": {},
   "source": [
    "#### Solving linear system using LU decomposition\n",
    "\n",
    "Once $A=LU$ is obtained, we solve $Ax=b$ via two steps.\n",
    "\n",
    "1. Solve $Lc = b$ for $c$, then\n",
    "2. solve $Ux = c$ for $x$.\n",
    "\n",
    "Reason\n",
    "\n",
    "From $Ax = LUx = b$, we have $Ux = L^{-1}b =: c$, hence $x=U^{-1}c$."
   ]
  },
  {
   "cell_type": "markdown",
   "metadata": {},
   "source": [
    "**Remark**\n",
    "\n",
    "- Both steps can be computed efficiently because $L$ and $U$ are both triangular, hence their inversion is nothing but a (back or forward) substibution."
   ]
  },
  {
   "cell_type": "markdown",
   "metadata": {},
   "source": [
    "**Example** (Solving a linear system given LU)\n",
    "\n",
    "Given \n",
    "\n",
    "$$\n",
    "A \n",
    "= \\left[\\begin{array}{rrr}\n",
    "1 & 2 & -1 \\\\\n",
    "2 & 1 & -2 \\\\\n",
    "-3 & 1 & 1\n",
    "\\end{array}\\right]\n",
    "=\\left[\\begin{array}{rrr}\n",
    "1 & 0 & 0 \\\\\n",
    "2 & 1 & 0 \\\\\n",
    "-3 & -\\frac{7}{3} & 1\n",
    "\\end{array}\\right]\\left[\\begin{array}{rrr}\n",
    "1 & 2 & -1 \\\\\n",
    "0 & -3 & 0 \\\\\n",
    "0 & 0 & -2\n",
    "\\end{array}\\right]\n",
    "=L U\n",
    "$$\n",
    "\n",
    "and \n",
    "\n",
    "$$\n",
    "b = [3, 3, -6]^T,\n",
    "$$\n",
    "\n",
    "solve $Ax=b$.\n",
    "\n",
    "[Example of solving linear system given LU](../images/ex_SolvingLinSystemGivenLU_lp2000.png)"
   ]
  },
  {
   "cell_type": "markdown",
   "metadata": {},
   "source": [
    "#### Complexity comparisons: Gaussian elimination and LU\n",
    "\n",
    "Though the Gaussian elimination and LU decomposition use the same idea, they are quite different in practical manner. \n",
    "\n",
    "| | Gaussian elimination | LU factorization |\n",
    "|---|---|---|\n",
    "| $b$ | included in the augmented matrix | not included |\n",
    "| approximate complexity <br> for $Ax=b$ | $$ \\frac 2 3 n^3 $$ | $$ \\frac 2 3 n^3$$ |\n",
    "| approximate complexity <br> for multiple problems: <br> $Ax_i=b_i$ <br> ($i=1,2,\\cdots,k$)| $$ \\frac 2 3 k n^3 $$ | $$ \\frac 2 3 n^3 + 2 k n^2$$ |\n",
    "\n"
   ]
  },
  {
   "cell_type": "markdown",
   "metadata": {},
   "source": [
    "**Remark**\n",
    "\n",
    "- The above table summarizes approximate complexity rather than very precise ones. The reason we have $2kn^2$ additional term for multiple problems using LU decomposition (compared to a single problem) is that we need to compute two more substitions ($Lc=b$ and $Ux=c$) for each problem. On the other hand, for Gaussian elimination, we have to recompute all over again for each problem, hence complexity $(2/3) kn^3$.\n",
    "- The multiple problems scenario ($Ax_i=b_i$ for $i=1,2,\\cdots,k$) is common in applications because it is often the case $A$ comes from discretizing the integral or differential operator that governs the application and $b$ comes from different data. For example, accoring to Sauer (2017), in structural engineering, $b$ is called *loading vector* and the solution $x$ gives *stress*. We may want to see how stress looks like for many different loading vectors."
   ]
  },
  {
   "cell_type": "markdown",
   "metadata": {},
   "source": [
    "### PA = LU decomposition"
   ]
  },
  {
   "cell_type": "markdown",
   "metadata": {},
   "source": [
    "Motivation\n",
    "\n",
    "Not all matrices have $LU$ factorization."
   ]
  },
  {
   "cell_type": "markdown",
   "metadata": {},
   "source": [
    "**Example** ($LU$ may not exist)\n",
    "\n",
    "The following matrix does not have $LU$ factorization.\n",
    "\n",
    "$$\n",
    "A \n",
    "= \\left[\\begin{array}{rr}\n",
    "0 & 1 \\\\\n",
    "1 & 0 \\\\\n",
    "\\end{array}\\right]\n",
    "$$\n",
    "\n",
    "[Example of impossibility of LU factorization](../images/ex_LUimpossible_lp2000.png)"
   ]
  },
  {
   "cell_type": "markdown",
   "metadata": {},
   "source": [
    "___"
   ]
  },
  {
   "cell_type": "markdown",
   "metadata": {},
   "source": [
    "##### Application of LU decomposition\n",
    "\n",
    "- Solving systems of linear equations\n",
    "- Determinant\n",
    "- Inverting matrices\n",
    "\n",
    "Reference: [Wikipedia](https://en.wikipedia.org/wiki/LU_decomposition#Applications)"
   ]
  }
 ],
 "metadata": {
  "kernelspec": {
   "display_name": "ptrch",
   "language": "python",
   "name": "ptrch"
  },
  "language_info": {
   "codemirror_mode": {
    "name": "ipython",
    "version": 3
   },
   "file_extension": ".py",
   "mimetype": "text/x-python",
   "name": "python",
   "nbconvert_exporter": "python",
   "pygments_lexer": "ipython3",
   "version": "3.9.1"
  }
 },
 "nbformat": 4,
 "nbformat_minor": 2
}
