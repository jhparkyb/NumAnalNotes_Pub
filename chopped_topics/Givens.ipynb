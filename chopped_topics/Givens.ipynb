{
 "cells": [
  {
   "cell_type": "markdown",
   "metadata": {},
   "source": [
    "### Givens rotation"
   ]
  },
  {
   "cell_type": "markdown",
   "metadata": {},
   "source": [
    "#### Triangularization using Givens rotation"
   ]
  },
  {
   "cell_type": "markdown",
   "metadata": {},
   "source": [
    "1. Settings"
   ]
  },
  {
   "cell_type": "code",
   "execution_count": 54,
   "metadata": {},
   "outputs": [
    {
     "name": "stdout",
     "output_type": "stream",
     "text": [
      "[[  1.   1.   1.   1.]\n",
      " [  2.   4.   8.  16.]\n",
      " [  3.   9.  27.  81.]\n",
      " [  4.  16.  64. 256.]]\n"
     ]
    }
   ],
   "source": [
    "import numpy as np\n",
    "\n",
    "# 4-by-4 example\n",
    "n = 4\n",
    "\n",
    "# creat a quick, full rank matrix without typing\n",
    "tmp = np.arange(1, n+1, dtype=np.float64)\n",
    "\n",
    "# Creat A and duplicate it (A changes along the line)\n",
    "A = tmp.reshape(-1,1) ** tmp\n",
    "A_ini = A.copy()\n",
    "\n",
    "print(A)\n"
   ]
  },
  {
   "cell_type": "markdown",
   "metadata": {},
   "source": [
    "2. Zero out (2,1) entry to begin with\n"
   ]
  },
  {
   "cell_type": "markdown",
   "metadata": {},
   "source": [
    "2.A. Submatrix\n",
    "\n",
    "Let $R = \\begin{bmatrix} c & - s \\\\ s & c \\end{bmatrix}$, where a $c=\\cos(\\theta)$ and $s=\\sin(\\theta)$ for an angle $\\theta$ to be determined. Partition 4-by-4 matrices into nested 2-by-2 blocks. \n",
    "\n",
    "$$\n",
    "\\left[\\begin{array}{ll}\n",
    "R & 0 \\\\\n",
    "O & I\n",
    "\\end{array}\\right]\\left[\\begin{array}{ll}\n",
    "A_{11} & A_{12} \\\\\n",
    "A_{21} & A_{22}\n",
    "\\end{array}\\right]=\\left[\\begin{array}{ll}\n",
    "R A_{11} & R A_{12} \\\\\n",
    "A_{41} & A_{22}\n",
    "\\end{array}\\right]\n",
    "$$\n",
    "\n"
   ]
  },
  {
   "cell_type": "markdown",
   "metadata": {},
   "source": [
    "We want $RA_{11}=\\begin{bmatrix} * & * \\\\ 0 & * \\end{bmatrix}$.\n",
    "\n",
    "Let $A_{11}=\\begin{bmatrix} e & f \\\\ g & h \\end{bmatrix}$. Then, \n",
    "\n",
    "$$\n",
    "RA_{11}=\\begin{bmatrix} ce - sg & cf - sh \\\\ se+cg & sf+ch\\end{bmatrix}=\\begin{bmatrix} * & * \\\\ 0 & * \\end{bmatrix}\n",
    "$$"
   ]
  },
  {
   "cell_type": "markdown",
   "metadata": {},
   "source": [
    "We need to find $c$ and $s$ that satisfies (2,1)-entry equality, $se+cg=0$, and $c^2 + s^2 = 1$. The following always satisfies them.\n",
    "\n",
    "$$\n",
    "c = \\frac{e}{\\sqrt{e^2 + g^2}}, \\qquad s = -\\frac{g}{\\sqrt{e^2 + g^2}}\n",
    "$$"
   ]
  },
  {
   "cell_type": "code",
   "execution_count": 55,
   "metadata": {},
   "outputs": [
    {
     "name": "stdout",
     "output_type": "stream",
     "text": [
      "[[1. 1.]\n",
      " [2. 4.]]\n",
      "[[2.23606798 4.02492236]\n",
      " [0.         0.89442719]]\n"
     ]
    }
   ],
   "source": [
    "# Specify rows involved in the Givens rotation: (2,1)-entry\n",
    "i, j = 0, 1\n",
    "\n",
    "# This creates indices for submatrix\n",
    "# c.f. A[[i,j], [i,j]] returns [A[i,i], A[j,j]] by fancy indexing rule\n",
    "ind = np.ix_([i,j], [i,j])\n",
    "A_ = A[ind]\n",
    "print(A_)\n",
    "\n",
    "# computing cosine and sine: no need to find the angle.\n",
    "# c.f.: unpacking is not allowed (e, g = *A_[:,0] --> error)\n",
    "e, g = A_[0,0], A_[1,0]\n",
    "den = np.sqrt(e*e + g*g)\n",
    "c, s = e/den, -g/den\n",
    "\n",
    "R_ = np.array([[c, -s], [s, c]])\n",
    "print(R_@A_)\n"
   ]
  },
  {
   "cell_type": "markdown",
   "metadata": {},
   "source": [
    "2.B Full matrix"
   ]
  },
  {
   "cell_type": "code",
   "execution_count": 56,
   "metadata": {},
   "outputs": [
    {
     "name": "stdout",
     "output_type": "stream",
     "text": [
      "[[  2.23606798   4.02492236   7.60263112  14.75804865]\n",
      " [  0.           0.89442719   2.68328157   6.26099034]\n",
      " [  3.           9.          27.          81.        ]\n",
      " [  4.          16.          64.         256.        ]]\n"
     ]
    }
   ],
   "source": [
    "# Only rows i, j are affected (See the block multiplication above)\n",
    "A[[i,j], :] = R_@A[[i,j], :]\n",
    "\n",
    "print(A)"
   ]
  },
  {
   "cell_type": "markdown",
   "metadata": {},
   "source": [
    "3. Repeat for the rest of the first column"
   ]
  },
  {
   "cell_type": "markdown",
   "metadata": {},
   "source": [
    "3.A Modularize the procedure"
   ]
  },
  {
   "cell_type": "code",
   "execution_count": 57,
   "metadata": {},
   "outputs": [
    {
     "name": "stdout",
     "output_type": "stream",
     "text": [
      "[[ 2.23606798  4.02492236  7.60263112 14.75804865]\n",
      " [ 0.          0.89442719  2.68328157  6.26099034]]\n",
      "[[1. 0.]\n",
      " [0. 1.]]\n"
     ]
    }
   ],
   "source": [
    "def givens(A, ind):\n",
    "    \"\"\"\n",
    "    Return 2-by-2 Givens rotation that zeros an element of given matrix\n",
    "\n",
    "    Input:\n",
    "        A (array): matrix whose single element is to be zeroed.\n",
    "        ind (tuple/array of int): Two row indices involved. \n",
    "    Output:\n",
    "        2-by-2 rotation matrix\n",
    "            If ind = (i, j) is given (i < j), then A[i, j]-entry is to be zeroed\n",
    "            by left-multiplying the returned matrix.\n",
    "    \"\"\"\n",
    "    i, j = ind\n",
    "    assert i < j, \"Index must be increasing\"\n",
    "    \n",
    "    # extract submatrix; only the i-th column matters\n",
    "    A_ = A[[i, j], i]\n",
    "    den = np.sqrt(A_[0]*A_[0] + A_[1]*A_[1])\n",
    "    c, s = A_[0]/den, -A_[1]/den\n",
    "    return np.array([[c, -s], [s, c]])\n",
    "\n",
    "# Test the function\n",
    "R1 = givens(A, (0, 1))\n",
    "print(R1@A[[0,1], :])\n",
    "print(R1.T @ R1)"
   ]
  },
  {
   "cell_type": "markdown",
   "metadata": {},
   "source": [
    "3.B Apply Givens rotation to the column"
   ]
  },
  {
   "cell_type": "markdown",
   "metadata": {},
   "source": [
    "Note: We need to take the first index to be $i=0$. Otherwise, the rows that are already zeroed out are messed up."
   ]
  },
  {
   "cell_type": "code",
   "execution_count": 66,
   "metadata": {},
   "outputs": [
    {
     "name": "stdout",
     "output_type": "stream",
     "text": [
      "[[  5.47722558  18.25741858  64.63126179 237.34644159]\n",
      " [  0.           4.54606057  26.3964807  122.45034104]\n",
      " [  0.           0.           4.00322451  31.90976056]\n",
      " [  0.           0.           0.           2.88926047]]\n"
     ]
    }
   ],
   "source": [
    "for i in range(1):\n",
    "    for j in range(2, n):\n",
    "        ind = (i, j)\n",
    "        A[ind, :] = givens(A, ind) @ A[ind, :]\n",
    "\n",
    "print(A)\n",
    "    \n",
    "    "
   ]
  },
  {
   "cell_type": "markdown",
   "metadata": {},
   "source": [
    "4. Contructing Q"
   ]
  },
  {
   "cell_type": "markdown",
   "metadata": {},
   "source": [
    "Review the first three steps\n",
    "\n",
    "2.A. Submatrix\n",
    "\n",
    "Let $R = \\begin{bmatrix} c & - s \\\\ s & c \\end{bmatrix}$, where a $c=\\cos(\\theta)$ and $s=\\sin(\\theta)$ for an angle $\\theta$ to be determined. Partition 4-by-4 matrices into nested 2-by-2 blocks. \n",
    "\n",
    "$$\n",
    "\\left[\\begin{array}{ll}\n",
    "R & 0 \\\\\n",
    "O & I\n",
    "\\end{array}\\right]\\left[\\begin{array}{ll}\n",
    "A_{11} & A_{12} \\\\\n",
    "A_{21} & A_{22}\n",
    "\\end{array}\\right]=\\left[\\begin{array}{ll}\n",
    "R A_{11} & R A_{12} \\\\\n",
    "A_{41} & A_{22}\n",
    "\\end{array}\\right]\n",
    "$$\n",
    "\n"
   ]
  },
  {
   "cell_type": "markdown",
   "metadata": {},
   "source": [
    "We want $RA_{11}=\\begin{bmatrix} * & * \\\\ 0 & * \\end{bmatrix}$.\n",
    "\n",
    "Let $A_{11}=\\begin{bmatrix} e & f \\\\ g & h \\end{bmatrix}$. Then, \n",
    "\n",
    "$$\n",
    "RA_{11}=\\begin{bmatrix} ce - sg & cf - sh \\\\ se+cg & sf+ch\\end{bmatrix}=\\begin{bmatrix} * & * \\\\ 0 & * \\end{bmatrix}\n",
    "$$"
   ]
  },
  {
   "cell_type": "markdown",
   "metadata": {},
   "source": []
  },
  {
   "cell_type": "markdown",
   "metadata": {},
   "source": [
    "5. Apply Givens rotation to all lower triaular part."
   ]
  },
  {
   "cell_type": "code",
   "execution_count": 65,
   "metadata": {},
   "outputs": [
    {
     "name": "stdout",
     "output_type": "stream",
     "text": [
      "[[  5.47722558  18.25741858  64.63126179 237.34644159]\n",
      " [  0.           4.54606057  26.3964807  122.45034104]\n",
      " [  0.           0.           4.00322451  31.90976056]\n",
      " [  0.           0.           0.           2.88926047]]\n",
      "[[ 1.00000000e+00 -5.55111512e-17 -5.55111512e-17  0.00000000e+00]\n",
      " [-5.55111512e-17  1.00000000e+00 -1.38777878e-16 -1.24900090e-16]\n",
      " [-5.55111512e-17 -1.38777878e-16  1.00000000e+00 -4.85722573e-17]\n",
      " [ 0.00000000e+00 -1.24900090e-16 -4.85722573e-17  1.00000000e+00]]\n",
      "[[  1.   1.   1.   1.]\n",
      " [  2.   4.   8.  16.]\n",
      " [  3.   9.  27.  81.]\n",
      " [  4.  16.  64. 256.]]\n",
      "[[  1.   1.   1.   1.]\n",
      " [  2.   4.   8.  16.]\n",
      " [  3.   9.  27.  81.]\n",
      " [  4.  16.  64. 256.]]\n",
      "True\n"
     ]
    }
   ],
   "source": [
    "R = A_ini.copy()\n",
    "Q = np.eye(n)\n",
    "\n",
    "for i in range(n-1): # last column is not needed to be zeroed.\n",
    "    for j in range(i+1, n): # row index must exhaust all the way\n",
    "        ind = (i, j)\n",
    "        G_ = givens(R, ind)\n",
    "        R[ind, :] = givens(R, ind) @ R[ind, :]\n",
    "        Q[:, ind] = Q[:, ind] @ G_.T\n",
    "\n",
    "print(R)\n",
    "print(Q.T @ Q)\n",
    "print(A_ini)\n",
    "print(Q@R)\n",
    "print(np.allclose(Q@R, A_ini))"
   ]
  },
  {
   "cell_type": "code",
   "execution_count": null,
   "metadata": {},
   "outputs": [],
   "source": []
  }
 ],
 "metadata": {
  "kernelspec": {
   "display_name": "ptrch",
   "language": "python",
   "name": "python3"
  },
  "language_info": {
   "codemirror_mode": {
    "name": "ipython",
    "version": 3
   },
   "file_extension": ".py",
   "mimetype": "text/x-python",
   "name": "python",
   "nbconvert_exporter": "python",
   "pygments_lexer": "ipython3",
   "version": "3.12.1"
  }
 },
 "nbformat": 4,
 "nbformat_minor": 2
}
