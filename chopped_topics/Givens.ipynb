{
 "cells": [
  {
   "cell_type": "markdown",
   "metadata": {},
   "source": [
    "### Givens rotation"
   ]
  },
  {
   "cell_type": "markdown",
   "metadata": {},
   "source": [
    "#### Triangularization using Givens rotation"
   ]
  },
  {
   "cell_type": "markdown",
   "metadata": {},
   "source": [
    "1. Settings"
   ]
  },
  {
   "cell_type": "code",
   "execution_count": 1,
   "metadata": {},
   "outputs": [
    {
     "name": "stdout",
     "output_type": "stream",
     "text": [
      "[[  1.   1.   1.   1.]\n",
      " [  2.   4.   8.  16.]\n",
      " [  3.   9.  27.  81.]\n",
      " [  4.  16.  64. 256.]]\n"
     ]
    }
   ],
   "source": [
    "import numpy as np\n",
    "\n",
    "# 4-by-4 example\n",
    "n = 4\n",
    "\n",
    "# creat a quick, full rank matrix without typing\n",
    "tmp = np.arange(1, n+1, dtype=np.float64)\n",
    "\n",
    "# Creat A and duplicate it (A changes along the line)\n",
    "A = tmp.reshape(-1,1) ** tmp\n",
    "A_ini = A.copy()\n",
    "\n",
    "print(A)\n"
   ]
  },
  {
   "cell_type": "markdown",
   "metadata": {},
   "source": [
    "2. Zero out (2,1) entry to begin with\n"
   ]
  },
  {
   "cell_type": "markdown",
   "metadata": {},
   "source": [
    "2.A. Submatrix\n",
    "\n",
    "Let $R = \\begin{bmatrix} c & - s \\\\ s & c \\end{bmatrix}$, where a $c=\\cos(\\theta)$ and $s=\\sin(\\theta)$ for an angle $\\theta$ to be determined. Partition 4-by-4 matrices into nested 2-by-2 blocks. \n",
    "\n",
    "$$\n",
    "\\left[\\begin{array}{ll}\n",
    "R & 0 \\\\\n",
    "O & I\n",
    "\\end{array}\\right]\\left[\\begin{array}{ll}\n",
    "A_{11} & A_{12} \\\\\n",
    "A_{21} & A_{22}\n",
    "\\end{array}\\right]=\\left[\\begin{array}{ll}\n",
    "R A_{11} & R A_{12} \\\\\n",
    "A_{41} & A_{22}\n",
    "\\end{array}\\right]\n",
    "$$\n",
    "\n"
   ]
  },
  {
   "cell_type": "markdown",
   "metadata": {},
   "source": [
    "We want $RA_{11}=\\begin{bmatrix} * & * \\\\ 0 & * \\end{bmatrix}$.\n",
    "\n",
    "Let $A_{11}=\\begin{bmatrix} e & f \\\\ g & h \\end{bmatrix}$. Then, \n",
    "\n",
    "$$\n",
    "RA_{11}=\\begin{bmatrix} ce - sg & cf - sh \\\\ se+cg & sf+ch\\end{bmatrix}=\\begin{bmatrix} * & * \\\\ 0 & * \\end{bmatrix}\n",
    "$$"
   ]
  },
  {
   "cell_type": "markdown",
   "metadata": {},
   "source": [
    "We need to find $c$ and $s$ that satisfies (2,1)-entry equality, $se+cg=0$, and $c^2 + s^2 = 1$. The following always satisfies them.\n",
    "\n",
    "$$\n",
    "c = \\frac{e}{\\sqrt{e^2 + g^2}}, \\qquad s = -\\frac{g}{\\sqrt{e^2 + g^2}}\n",
    "$$"
   ]
  },
  {
   "cell_type": "code",
   "execution_count": 2,
   "metadata": {},
   "outputs": [
    {
     "name": "stdout",
     "output_type": "stream",
     "text": [
      "[[1. 1.]\n",
      " [2. 4.]]\n",
      "[[2.23606798 4.02492236]\n",
      " [0.         0.89442719]]\n"
     ]
    }
   ],
   "source": [
    "# Specify rows involved in the Givens rotation: (2,1)-entry\n",
    "i, j = 0, 1\n",
    "\n",
    "# This creates indices for submatrix\n",
    "# c.f. A[[i,j], [i,j]] returns [A[i,i], A[j,j]] by fancy indexing rule\n",
    "ind = np.ix_([i,j], [i,j])\n",
    "A_ = A[ind]\n",
    "print(A_)\n",
    "\n",
    "# computing cosine and sine: no need to find the angle.\n",
    "# c.f.: unpacking is not allowed (e, g = *A_[:,0] --> error)\n",
    "e, g = A_[0,0], A_[1,0]\n",
    "den = np.sqrt(e*e + g*g)\n",
    "c, s = e/den, -g/den\n",
    "\n",
    "G_ = np.array([[c, -s], [s, c]])\n",
    "print(G_@A_)\n"
   ]
  },
  {
   "cell_type": "markdown",
   "metadata": {},
   "source": [
    "2.B Full matrix"
   ]
  },
  {
   "cell_type": "code",
   "execution_count": 3,
   "metadata": {},
   "outputs": [
    {
     "name": "stdout",
     "output_type": "stream",
     "text": [
      "[[  2.23606798   4.02492236   7.60263112  14.75804865]\n",
      " [  0.           0.89442719   2.68328157   6.26099034]\n",
      " [  3.           9.          27.          81.        ]\n",
      " [  4.          16.          64.         256.        ]]\n"
     ]
    }
   ],
   "source": [
    "# Only rows i, j are affected (See the block multiplication above)\n",
    "A[[i,j], :] = G_@A[[i,j], :]\n",
    "\n",
    "print(A)"
   ]
  },
  {
   "cell_type": "markdown",
   "metadata": {},
   "source": [
    "3. Repeat for the rest of the first column"
   ]
  },
  {
   "cell_type": "markdown",
   "metadata": {},
   "source": [
    "3.A Modularize the procedure"
   ]
  },
  {
   "cell_type": "code",
   "execution_count": 4,
   "metadata": {},
   "outputs": [
    {
     "name": "stdout",
     "output_type": "stream",
     "text": [
      "[[ 2.23606798  4.02492236  7.60263112 14.75804865]\n",
      " [ 0.          0.89442719  2.68328157  6.26099034]]\n",
      "[[1. 0.]\n",
      " [0. 1.]]\n"
     ]
    }
   ],
   "source": [
    "def givens(A, ind):\n",
    "    \"\"\"\n",
    "    Return 2-by-2 Givens rotation that zeros an element of given matrix\n",
    "\n",
    "    Input:\n",
    "        A (array): matrix whose single element is to be zeroed.\n",
    "        ind (tuple/array of int): Two row indices involved. \n",
    "    Output:\n",
    "        2-by-2 rotation matrix\n",
    "            If ind = (i, j) is given (i < j), then A[i, j]-entry is to be zeroed\n",
    "            by left-multiplying the returned matrix.\n",
    "    \"\"\"\n",
    "    i, j = ind\n",
    "    assert i < j, \"Index must be increasing\"\n",
    "    \n",
    "    # extract submatrix; only the i-th column matters\n",
    "    A_ = A[[i, j], i]\n",
    "    den = np.sqrt(A_[0]*A_[0] + A_[1]*A_[1])\n",
    "    c, s = A_[0]/den, -A_[1]/den\n",
    "    return np.array([[c, -s], [s, c]])\n",
    "\n",
    "# Test the function\n",
    "R1 = givens(A, (0, 1))\n",
    "print(R1@A[[0,1], :])\n",
    "print(R1.T @ R1)"
   ]
  },
  {
   "cell_type": "markdown",
   "metadata": {},
   "source": [
    "3.B Apply Givens rotation to the column"
   ]
  },
  {
   "cell_type": "markdown",
   "metadata": {},
   "source": [
    "Note: We need to take the first index to be $i=0$. Otherwise, the rows that are already zeroed out are messed up."
   ]
  },
  {
   "cell_type": "code",
   "execution_count": 5,
   "metadata": {},
   "outputs": [
    {
     "name": "stdout",
     "output_type": "stream",
     "text": [
      "[[  5.47722558  18.25741858  64.63126179 237.34644159]\n",
      " [  0.           0.89442719   2.68328157   6.26099034]\n",
      " [  0.           2.1514115   10.03992032  36.57399545]\n",
      " [  0.           3.90360029  24.59268184 121.01160905]]\n"
     ]
    }
   ],
   "source": [
    "for i in range(1):\n",
    "    for j in range(2, n):\n",
    "        ind = (i, j)\n",
    "        A[ind, :] = givens(A, ind) @ A[ind, :]\n",
    "\n",
    "print(A)\n",
    "    \n",
    "    "
   ]
  },
  {
   "cell_type": "markdown",
   "metadata": {},
   "source": [
    "4. Contructing Q"
   ]
  },
  {
   "cell_type": "markdown",
   "metadata": {},
   "source": [
    "Review the first three steps in block form.\n",
    "\n",
    "$$\n",
    "G_3 G_2 G_1 A \n",
    "= \n",
    "\\left[\\begin{array}{llll}\n",
    "* & * & * & * \\\\\n",
    "0 & * & * & * \\\\\n",
    "0 & * & * & * \\\\\n",
    "0 & * & * & * \n",
    "\\end{array}\\right],\n",
    "$$\n",
    "\n",
    "where\n",
    "\n",
    "$$\n",
    "G_1 = \\left[\\begin{array}{cccc}\n",
    "\\cos \\theta_1 & -\\sin \\theta_1 & 0 & 0 \\\\\n",
    "\\sin \\theta_1 & \\cos \\theta_1 & 0 & 0 \\\\\n",
    "0 & 0 & 1 & 0 \\\\\n",
    "0 & 0 & 0 & 1 \n",
    "\\end{array}\\right], \n",
    "\\quad\n",
    "G_2 = \\left[\\begin{array}{cccc}\n",
    "\\cos \\theta_2 & 0 & -\\sin \\theta_2 & 0 \\\\\n",
    "0 & 1 & 0 & 0 \\\\\n",
    "\\sin \\theta_2 & 0 & \\cos \\theta_2 & 0 \\\\\n",
    "0 & 0 & 0 & 1 \n",
    "\\end{array}\\right], \n",
    "\\quad\n",
    "G_3 = \\left[\\begin{array}{cccc}\n",
    "\\cos \\theta_1 & 0 & 0 & -\\sin \\theta_3 \\\\\n",
    "0 & 1 & 0 & 0 \\\\\n",
    "0 & 0 & 1 & 0 \\\\\n",
    "\\sin \\theta_3 & 0 & 0 & \\cos \\theta_3 \n",
    "\\end{array}\\right].\n",
    "$$\n",
    "\n",
    "$$\n",
    "G_4 = \\left[\\begin{array}{cccc}\n",
    "1 & 0 & 0 & 0 \\\\\n",
    "0 & \\cos \\theta_4 & -\\sin \\theta_4 & 0 \\\\\n",
    "0 & \\sin \\theta_4 & \\cos \\theta_4 & 0 \\\\\n",
    "0 & 0 & 0 & 1 \n",
    "\\end{array}\\right], \n",
    "\\quad\n",
    "G_5 = \\left[\\begin{array}{cccc}\n",
    "\\cos \\theta_2 & 0 & -\\sin \\theta_2 & 0 \\\\\n",
    "0 & 1 & 0 & 0 \\\\\n",
    "\\sin \\theta_2 & 0 & \\cos \\theta_2 & 0 \\\\\n",
    "0 & 0 & 0 & 1 \n",
    "\\end{array}\\right], \n",
    "\\quad\n",
    "G_3 = \\left[\\begin{array}{cccc}\n",
    "\\cos \\theta_1 & 0 & 0 & -\\sin \\theta_3 \\\\\n",
    "0 & 1 & 0 & 0 \\\\\n",
    "0 & 0 & 1 & 0 \\\\\n",
    "\\sin \\theta_3 & 0 & 0 & \\cos \\theta_3 \n",
    "\\end{array}\\right].\n",
    "$$\n"
   ]
  },
  {
   "cell_type": "markdown",
   "metadata": {},
   "source": [
    "After three more steps to zero out the whole subdiagonal entries, we have\n",
    "$$\n",
    "G_6 G_5 G_4 G_3 G_2 G_1 A \n",
    "= \n",
    "\\left[\\begin{array}{llll}\n",
    "* & * & * & * \\\\\n",
    "0 & * & * & * \\\\\n",
    "0 & 0 & * & * \\\\\n",
    "0 & 0 & 0 & * \n",
    "\\end{array}\\right]\n",
    "= R,\n",
    "$$"
   ]
  },
  {
   "cell_type": "markdown",
   "metadata": {},
   "source": [
    "**Fact**\n",
    "\n",
    "- Each Givens rotation is orthogonal: $G^{-1}=G^T$.\n",
    "- Each Givens rotation is not symmetric. "
   ]
  },
  {
   "cell_type": "markdown",
   "metadata": {},
   "source": [
    "Therefore, we have $A = G_1^T G_2^T G_3^T G_4^T G_5^T G_6^T R$, and conclude\n",
    "\n",
    "$$\n",
    "Q = G_1^T G_2^T G_3^T G_4^T G_5^T G_6^T\n",
    "$$"
   ]
  },
  {
   "cell_type": "markdown",
   "metadata": {},
   "source": [
    "Thus, if we set $Q=I$, we can accumulate right multiplication of $G_k^T$'s in the loop, say, `Q = Q @ G.T`\n",
    "\n",
    "But in real computation, we can right-multiply $m\\times 2$ matrix of column $(i,j)$ of the previous product by $2$-by-$2$ matrix $\\hat G_k^T = \\left[\\begin{array}{cc}\n",
    "\\cos \\theta_k & \\sin \\theta_k \\\\\n",
    "-\\sin \\theta_k & \\cos \\theta_k\\end{array}\\right]$."
   ]
  },
  {
   "cell_type": "markdown",
   "metadata": {},
   "source": [
    "5. Apply Givens rotation to all lower triaular part."
   ]
  },
  {
   "cell_type": "code",
   "execution_count": 1,
   "metadata": {},
   "outputs": [
    {
     "ename": "NameError",
     "evalue": "name 'A_ini' is not defined",
     "output_type": "error",
     "traceback": [
      "\u001b[0;31m---------------------------------------------------------------------------\u001b[0m",
      "\u001b[0;31mNameError\u001b[0m                                 Traceback (most recent call last)",
      "Cell \u001b[0;32mIn[1], line 1\u001b[0m\n\u001b[0;32m----> 1\u001b[0m R \u001b[38;5;241m=\u001b[39m A_ini\u001b[38;5;241m.\u001b[39mcopy()\n\u001b[1;32m      2\u001b[0m Q \u001b[38;5;241m=\u001b[39m np\u001b[38;5;241m.\u001b[39meye(n)\n\u001b[1;32m      4\u001b[0m \u001b[38;5;28;01mfor\u001b[39;00m i \u001b[38;5;129;01min\u001b[39;00m \u001b[38;5;28mrange\u001b[39m(n\u001b[38;5;241m-\u001b[39m\u001b[38;5;241m1\u001b[39m): \u001b[38;5;66;03m# last column is not needed to be zeroed.\u001b[39;00m\n",
      "\u001b[0;31mNameError\u001b[0m: name 'A_ini' is not defined"
     ]
    }
   ],
   "source": [
    "R = A_ini.copy()\n",
    "Q = np.eye(n)\n",
    "\n",
    "for i in range(n-1): # last column is not needed to be zeroed.\n",
    "    for j in range(i+1, n): # row index must exhaust all the way\n",
    "        ind = (i, j)\n",
    "        G_ = givens(R, ind)\n",
    "        R[ind, :] = givens(R, ind) @ R[ind, :]\n",
    "        Q[:, ind] = Q[:, ind] @ G_.T\n",
    "\n",
    "print(R)\n",
    "print(Q.T @ Q)\n",
    "print(A_ini)\n",
    "print(Q@R)\n",
    "print(np.allclose(Q@R, A_ini))"
   ]
  },
  {
   "cell_type": "markdown",
   "metadata": {},
   "source": [
    "6. Improvement"
   ]
  },
  {
   "cell_type": "markdown",
   "metadata": {},
   "source": [
    "In step 2, we used the following formula for sine and cosine:\n",
    "\n",
    "$$\n",
    "c = \\frac{e}{\\sqrt{e^2 + g^2}}, \\qquad s = -\\frac{g}{\\sqrt{e^2 + g^2}}.\n",
    "$$\n",
    "\n",
    "\n",
    "\n",
    "**Issue**: If both $e$ and $g$ are small, $e^2$ and $g^2$ can be too small and end up getting *underflown*, i.e. becoming 0, in the course of computing the denominator. Then, dividing by zero can occur. Or $e$ or $g$ is big, say $e \\gg 1$, then their $e^2$ can be overflown.\n"
   ]
  },
  {
   "cell_type": "markdown",
   "metadata": {},
   "source": [
    "\n",
    "**Improvement** (Golub, Van Loan (1997) Matrix Computations 3ed. p. 216)\n",
    "\n",
    "\n",
    "\n"
   ]
  },
  {
   "cell_type": "markdown",
   "metadata": {},
   "source": [
    "\n",
    "- **if** $g=0$\n",
    "  - $c=1$ \n",
    "  - $s=0$\n",
    "- **else**\n",
    "  - **if** $\\vert g \\vert > \\vert e \\vert $\n",
    "    - $\\tau=-e / g$\n",
    "    - $s=1 / \\sqrt{1+\\tau^2}$\n",
    "    - $c=s \\tau$\n",
    "  - **else**\n",
    "    - $\\tau=-g / e$ \n",
    "    - $c=1 / \\sqrt{1+\\tau^2}$ \n",
    "    - $s=c \\tau$\n"
   ]
  },
  {
   "cell_type": "code",
   "execution_count": null,
   "metadata": {},
   "outputs": [],
   "source": []
  }
 ],
 "metadata": {
  "kernelspec": {
   "display_name": "ptrch",
   "language": "python",
   "name": "python3"
  },
  "language_info": {
   "codemirror_mode": {
    "name": "ipython",
    "version": 3
   },
   "file_extension": ".py",
   "mimetype": "text/x-python",
   "name": "python",
   "nbconvert_exporter": "python",
   "pygments_lexer": "ipython3",
   "version": "3.12.1"
  }
 },
 "nbformat": 4,
 "nbformat_minor": 2
}
