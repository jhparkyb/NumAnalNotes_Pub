{
 "cells": [
  {
   "cell_type": "markdown",
   "metadata": {},
   "source": [
    "### Take-aways\n",
    "\n",
    "- Characterization of triangular matrices in terms of indices.\n",
    "- Basic properties of triangular matrices.\n",
    "  - Determinants of triangular matrices.\n",
    "  - Triangular matrices are closed under\n",
    "    -  addition, \n",
    "    -  scalar multiplication, \n",
    "    -  multiplication, and\n",
    "    -  inversion."
   ]
  },
  {
   "cell_type": "markdown",
   "metadata": {},
   "source": [
    "#### Triangular matrices\n",
    "\n",
    "**Definition**\n",
    "\n",
    "1. A $n$-by-$n$ matrix $L$ is called:*lower triangular* if $\\ell_{ij}=0$ for $i < j$. In addition, if $\\ell_{ij}=1$ for $i = j$, it is called *unit* lower triangular.\n",
    "\n",
    "$$\n",
    "\\left[\\begin{array}{ccccc}\n",
    "\\ell_{1,1} & & & & 0 \\\\\n",
    "\\ell_{2,1} & \\ell_{2,2} & & & \\\\\n",
    "\\ell_{3,1} & \\ell_{3,2} & \\ddots & & \\\\\n",
    "\\vdots & \\vdots & \\ddots & \\ddots & \\\\\n",
    "\\ell_{n, 1} & \\ell_{n, 2} & \\ldots & \\ell_{n, n-1} & \\ell_{n, n}\n",
    "\\end{array}\\right]\n",
    "$$\n",
    "\n",
    "2. A $n$-by-$n$ matrix $U$ is called *upper triangular* if $u_{ij}=0$ for $i > j$. In addition, if $u_{ij}=1$ for $i = j$, it is called *unit* upper triangular.\n",
    "\n",
    "$$\n",
    "U=\\left[\\begin{array}{ccccc}\n",
    "u_{1,1} & u_{1,2} & u_{1,3} & \\ldots & u_{1, n} \\\\\n",
    "& u_{2,2} & u_{2,3} & \\ldots & u_{2, n} \\\\\n",
    "& & \\ddots & \\ddots & \\vdots \\\\\n",
    "& & & \\ddots & u_{n-1, n} \\\\\n",
    "0 & & & & u_{n, n}\n",
    "\\end{array}\\right]\n",
    "$$"
   ]
  },
  {
   "cell_type": "markdown",
   "metadata": {},
   "source": [
    "**Properties of triangular matrices**\n",
    "\n",
    "**Fact** (From linear algebra)\n",
    "\n",
    "- If an $n$-by-$n$ matrix $A$ is invertible, then the eigenvalues of $A^{-1}$ are precisely the inverse of eigenvalues of $A$. \n",
    "- Determinant of a triangular matrix is the product of its diagonal entries.\n",
    "- The eigenvalues of a lower triangular matrix are precisely its diagonal entries.\n",
    "\n",
    "**Main properties**\n",
    "\n",
    "- Lower triangular shape is preserved under addition, scalar multiplication, matrix multiplication, and inversion. More specifically, \n",
    "\n",
    "1. If $L_1$ and $L_2$ are lower triangular matrices of size $n$-by-$n$, then $L_1 + L_2$ also lower triangular. \n",
    "2. If $L_1$ is a lower triangular matrix of size $n$-by-$n$ and $\\alpha$ is a scalar, then $\\alpha L_1$ is also lower triangular. \n",
    "3. If $L_1$ and $L_2$ are lower triangular matrices of size $n$-by-$n$, then $L_1 L_2$  also lower triangular. Furthermore, $[L_1 L_2]_{ii}=[L_1]_{ii}[L_2]_{ii}$ for $i=1,2,\\cdots,n$\n",
    "   - If $L_1$ and $L_2$ are unit lower triangular matrices of size $n$-by-$n$, then $L_1 L_2$  also unit lower triangular. \n",
    "4. If $L_1$ is a lower triangular matrix of size $n$-by-$n$ and it is invertible, then $L_1^{-1}$ is also lower triangular. Furthermore, $[L_1^{-1}]_{ii}=[L_1]_{ii}^{-1}$.\n",
    "   - If $L_1$ is a unit lower triangular matrix of size $n$-by-$n$ and it is invertible, then $L_1^{-1}$ is also unit lower triangular. \n",
    "\n",
    "- The same is true for upper triangular matrices.\n",
    "\n",
    "[Proof of properties of triangular matrices 1](../images/pf_PropTriangularMatrices1_lp2000.png)\n",
    "\n",
    "[Proof of properties of triangular matrices 1](../images/pf_PropTriangularMatrices2_lp2000.png)\n"
   ]
  }
 ],
 "metadata": {
  "kernelspec": {
   "display_name": "ptrch",
   "language": "python",
   "name": "ptrch"
  },
  "language_info": {
   "codemirror_mode": {
    "name": "ipython",
    "version": 3
   },
   "file_extension": ".py",
   "mimetype": "text/x-python",
   "name": "python",
   "nbconvert_exporter": "python",
   "pygments_lexer": "ipython3",
   "version": "3.9.1"
  }
 },
 "nbformat": 4,
 "nbformat_minor": 2
}
