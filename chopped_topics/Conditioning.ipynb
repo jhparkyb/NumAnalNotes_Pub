{
 "cells": [
  {
   "cell_type": "markdown",
   "metadata": {},
   "source": [
    "### Source of errors and conditioning"
   ]
  },
  {
   "cell_type": "markdown",
   "metadata": {},
   "source": [
    "#### Norms"
   ]
  },
  {
   "cell_type": "markdown",
   "metadata": {},
   "source": [
    "**Motivation**\n",
    "\n",
    "We want to study how errors amplify in the course of finding solutions. For this, we need to clarify what we mean by the size of a vector. Also, can we extract a single number that summarizes the behavior of a matrix?"
   ]
  },
  {
   "cell_type": "markdown",
   "metadata": {},
   "source": [
    "**Definition** (Vector norms)\n",
    "\n",
    "Given a vector space $(V, +, \\cdot)$ over a field $\\mathbb{F}$ (i.e., $\\mathbb{R}$ or $\\mathbb{C}$), we call a function $\\| \\ \\cdot \\ \\|:V \\to [0,\\infty)$ a *norm* if it satisfies the following. (You may focus only on more concrete setting, say $\\mathbb{R}^{n}$ with usual addition and scalar multiplication over $\\mathbb{R}$.)\n",
    "\n",
    "- $\\| x \\| \\ge 0$ and $\\| x \\| = 0$ only if $x=0$ (zero vector),\n",
    "- for each scalar $\\alpha$ and a vector $x$, we have $\\| \\alpha x \\| = |\\alpha| \\| x \\|$,\n",
    "- for any vectors $x,y$, triangle inequality holds: $\\|x + y \\| \\le \\| x \\| + \\| y \\|$."
   ]
  },
  {
   "cell_type": "markdown",
   "metadata": {},
   "source": [
    "**Definition** (Operator norm)\n",
    "\n",
    "Let $A:V \\to W$ be a map, where $V, W$ is a (finite dimensional) vector space that a norm is defined, $\\|\\ \\cdot \\ \\|_V$ and $\\|\\ \\cdot \\ \\|_W$ respectively. Then, the *operator norm* of $A$ is defined by\n",
    "\n",
    "$$\n",
    "\\| A \\| := \\mathrm{max} \\{ \\frac{\\| A x \\|_W }{\\| x\\|_V} \\ : \\ x \\in V, x \\neq 0\\}.\n",
    "$$"
   ]
  },
  {
   "cell_type": "markdown",
   "metadata": {},
   "source": [
    "**Remark** (Operator norm of a matrix)\n",
    "\n",
    "- Matrix multiplication can be thought of a map between $\\mathbb{R}^{n}$. Hence, it makes sense that a matrix has a natural norm derived from the operator norm.\n",
    "- Operator norm depends on the vector norm being used.\n",
    "- If $V=W$, we usually choose the same norm even though it is possible to couple two different norms for $\\| A \\|$. In this case, we omit the subscript and write $\\| x \\|$ for $x \\in V$."
   ]
  },
  {
   "cell_type": "markdown",
   "metadata": {},
   "source": [
    "**Terminology** (Consistency of matrix norm)\n",
    "\n",
    "By the definition of the operator norm, we have, for any vector $x$,\n",
    "\n",
    "$$\n",
    "\\| A x \\|_W \\le \\| A \\| \\| x\\|_V,\n",
    "$$\n",
    "\n",
    "or if $A$ maps between the same space $V$ with the same vector norm $\\| \\ \\cdot \\ \\|$,\n",
    "\n",
    "$$\n",
    "\\| A x \\| \\le \\| A \\| \\| x\\|.\n",
    "$$\n",
    "\n",
    "Referring to this property, we say that $\\|\\ A \\|$ are *consistent* with vector norms appearing."
   ]
  },
  {
   "cell_type": "markdown",
   "metadata": {},
   "source": [
    "**Definition** (Norms on $\\mathbb{R}^{n}$ and square matrices)\n",
    "\n",
    "Given $x=(x_1, x_2, \\cdots, x_n)\\in {\\mathbb{R}^n}$ and a matrix $A \\in {\\mathbb{R}^{n\\times n}}$, \n",
    "\n",
    "- Vector norm\n",
    "\n",
    "$$\n",
    "\\| x \\|_\\infty := \\mathrm{max}\\{ |x_i| \\ : \\ 1 \\le i \\le n \\},\n",
    "$$\n",
    "\n",
    "$$\n",
    "\\| x \\|_1 := \\sum_{i=1}^n |x_i|,\n",
    "$$\n",
    "\n",
    "$$\n",
    "\\| x \\|_2 := \\sqrt{\\sum_{i=1}^n |x_i|^2},\n",
    "$$\n",
    "\n",
    "$$\n",
    "\\| x \\|_p := \\left(\\sum_{i=1}^n |x_i|^p \\right)^{1/p}, \\quad \\text{ where } p \\ge 1\n",
    "$$\n",
    "\n",
    "- Matrix norm\n",
    "\n",
    "$$\n",
    "\\| A \\|_\\infty := \\mathrm{max}_{1\\le i \\le n} \\{ \\| r_i \\|_1 \\ : \\ r_i \\text{ is the }i\\text{-th row of } A  \\}.\n",
    "$$\n",
    "\n",
    "$$\n",
    "\\| A \\|_1 := \\mathrm{max}_{1\\le i \\le n} \\{ \\| c_i \\|_1 \\ : \\ c_i \\text{ is the }i\\text{-th column of } A  \\}.\n",
    "$$\n",
    "\n",
    "$$\n",
    "\\| A \\|_2 := \\mathrm{max} \\{ \\sqrt{\\lambda} \\ : \\ \\lambda \\text{ is an eigenvalue of } A^T A \\}\n",
    "$$\n",
    "\n"
   ]
  },
  {
   "cell_type": "markdown",
   "metadata": {},
   "source": [
    "**Remark** \n",
    "\n",
    "- There are many other matrix norms. But we focus on most basic norms.\n",
    "- It can be shown that $\\| A \\|_\\infty$ is the operator norm of $A$ when we use $\\| x \\|_\\infty$ for vector norm."
   ]
  },
  {
   "cell_type": "markdown",
   "metadata": {},
   "source": [
    "#### Error magnification and condition number"
   ]
  },
  {
   "cell_type": "markdown",
   "metadata": {},
   "source": [
    "**Notation** (Temporary abuse of norm notation)\n",
    "\n",
    "- In the following examples, we are going to use general norm notation, $\\| A \\|$ and $\\| x \\|$ since they indeed work in general norm settings. However, when we carry out concrete calculations, we will compute the infinity norms. The reason for this is pedagogical: the infinity norms are easy to compute whille still conveying the idea."
   ]
  },
  {
   "cell_type": "markdown",
   "metadata": {},
   "source": [
    "**Definition** (Residual, backward error, forward error)\n",
    "\n",
    "Given a linear system $Ax=b$ and an approximate solution $\\tilde x$, \n",
    "\n",
    "- $r:=b-A \\tilde x$ is called *residual*,\n",
    "- $\\| r \\| = \\| b-A \\tilde x \\|$ is called *backward error*,\n",
    "- $\\| x - \\tilde x \\|$ is called *forward error*."
   ]
  },
  {
   "cell_type": "markdown",
   "metadata": {},
   "source": [
    "**Remark** \n",
    "\n",
    "- Many people say residual when then really mean backward error if there is no confusion. \n",
    "- Many people simply say *the error* when they refer to the forward error.\n",
    "- We can measure the errors and backward errors in various norms. But, in this class, we will use infinity norms in the examples. "
   ]
  },
  {
   "cell_type": "markdown",
   "metadata": {},
   "source": [
    "**Example** (Forward and backward errors)\n",
    "\n",
    "Find the forward and backward errors for the approximate solution $[-1, 3.0001]$ of the system\n",
    "\n",
    "$$\n",
    "\\begin{aligned}\n",
    "x_1+x_2 & =2 \\\\\n",
    "1.0001 x_1+x_2 & =2.0001.\n",
    "\\end{aligned}\n",
    "$$"
   ]
  },
  {
   "cell_type": "markdown",
   "metadata": {},
   "source": [
    "**Definition** (Relative backward/forward error and error magnification factor)\n",
    "\n",
    "Given a linear system $Ax=b$, an approximate solution $\\tilde x$, the error $e=x-\\tilde x$, and the residual $r=b-A\\tilde x$, \n",
    "\n",
    "- the *relative backward error* is defined by\n",
    "\n",
    "$$\n",
    "\\frac{\\|r\\|}{\\|b\\|}\n",
    "$$\n",
    "\n",
    "- the relative forward error is defined by\n",
    "\n",
    "$$\n",
    "\\frac{\\left\\|e \\right\\|}{\\|x\\|}\n",
    "$$\n",
    "\n",
    "- the *error magnification factor* for $Ax=b$ is defined by\n",
    "\n",
    "$$\n",
    "\\frac{\\text { relative forward error }}{\\text { relative backward error }}\n",
    "$$\n"
   ]
  },
  {
   "cell_type": "markdown",
   "metadata": {},
   "source": [
    "**Definition** (Condition number)\n",
    "\n",
    "The condition number $\\mathbf{cond}(A)$ of a square matrix $A$ is the maximum possible error magnification factor for solving $Ax=b$, over all right hand side $b$."
   ]
  },
  {
   "cell_type": "markdown",
   "metadata": {},
   "source": [
    "**Theorem** (Condition number)\n",
    "\n",
    "For a square matrix, we have\n",
    "\n",
    "$$\n",
    "\\mathbf{cond}(A)=\\| A \\| \\| A^{-1} \\|.\n",
    "$$\n",
    "\n"
   ]
  },
  {
   "cell_type": "markdown",
   "metadata": {},
   "source": [
    "**Example** \n",
    "\n",
    "Given the following linear system with the approximate solution $[-1, 3.0001]$, find relative backward error, relative forward error, and error magnification factor.\n",
    "Also, find the largest possible error magnification factor for the following system. \n",
    "\n",
    "$$\n",
    "\\begin{aligned}\n",
    "x_1+x_2 & =2 \\\\\n",
    "1.0001 x_1+x_2 & =2.0001.\n",
    "\\end{aligned}\n",
    "$$"
   ]
  },
  {
   "cell_type": "markdown",
   "metadata": {},
   "source": [
    "**Remark** (Comments on condition numbers)\n",
    "\n",
    "- Fortunately, large condition numbers are unusual. (Sauer (2017) p. 94)\n",
    "- However, in many applications, numerically implemented differential operators often result in a linear system with rapidly growing condition number as the discretization gets finer (on top of larger size of the linear system)."
   ]
  }
 ],
 "metadata": {
  "language_info": {
   "name": "python"
  }
 },
 "nbformat": 4,
 "nbformat_minor": 2
}
