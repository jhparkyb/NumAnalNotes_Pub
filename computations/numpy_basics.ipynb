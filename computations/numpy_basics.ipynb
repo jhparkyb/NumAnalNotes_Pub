{
 "cells": [
  {
   "cell_type": "markdown",
   "metadata": {},
   "source": [
    "## Basics of NumPy for scientific computing"
   ]
  },
  {
   "cell_type": "markdown",
   "metadata": {},
   "source": [
    "### About\n",
    "\n",
    "This is part of lecture notes of Math 104A *Introductory Numerical Analysis* course offered at the University of California Santa Barbara (Fall 2023). \n",
    "Author: Jea-Hyun Park\n",
    "\n",
    "---\n",
    "This work is licensed under [Creative Commons Attribution-ShareAlike 4.0 International](https://creativecommons.org/licenses/by-sa/4.0/)\n",
    "Part of the content of this notebook is borrowed from the reference mentioned below. Thanks to all the authors sharing excellent knowledge."
   ]
  },
  {
   "cell_type": "markdown",
   "metadata": {},
   "source": [
    "### Reference\n",
    "\n",
    "Main reference.\n",
    "\n",
    "| Reference | Brief description |\n",
    "|:---:|:---:|\n",
    "| [NumPy quickstart](https://numpy.org/doc/stable/user/quickstart.html), </br>  [NumPy: the absolute basics for beginners](https://numpy.org/doc/stable/user/absolute_beginners.html#), </br> [NumPy fundamentals](https://numpy.org/doc/stable/user/basics.html) </br> (online document) | Tutorial offered by the official website of NumPy. |\n",
    "|[Scientific Python Lectures](https://lectures.scientific-python.org/index.html) (online booklet) | Chapters 1.1-1.4 summarizes Python and NumPy. |\n",
    "\n",
    "Some of the examples are inspired or borrowed from the following excellent video lecture. \n",
    "\n",
    "- [Introduction to Numerical Computing with NumPy | Alex Chabot-Leclerc](https://youtu.be/ZB7BZMhfPgk)"
   ]
  },
  {
   "cell_type": "markdown",
   "metadata": {},
   "source": [
    "### Opening warning and advice\n",
    "\n",
    "> ***Warning on libraries***\n",
    ">\n",
    "> - In this course, we will use **only** `numpy` (for computation) and `matplotlib` (for visualization). Unless there is a special need, sticking to these two does the best job for most scientific computing. \n",
    "> - In particular, **DO NOT USE** `sympy` (which is for symbolic mathematics) or `scipy` (higher-level scientific computing tool) in this course. \n",
    "\n",
    "Reasons\n",
    "\n",
    "- Each library has their own philosophy and context that they target. Mixing them may well result in confusions if you don't have a complete knowledge. \n",
    "- Overly high-level tools do not suit the *analysis* aspect of 'numerical analysis'. You are expected to hand calculate simple mathematics. And **knowing what is really happening behind high-level tools is the goal** of this course!\n"
   ]
  },
  {
   "cell_type": "markdown",
   "metadata": {},
   "source": [
    "> ***Advice***\n",
    ">\n",
    "> Do your best to use standard terminology. \n",
    "\n",
    "Everybody learns new things with impressions, images, and rough descriptions. But once you have grasped good enough ideas, use official names. It will pay off when you search further details and communicate with others about your issues or your ideas. There are so many similar-looking things that behave differently. For example, `list`, `tuple`, `dict`, and `numpy.ndarray` all contain many smaller things but work differently. If you ask for help with a bug saying 'I have this collection of numbers bla bla' or 'I created a vector bla bla', people may be able to understand the outline, but not what is the real issue with your code. Because there are many ways to contruct, say, a vector on computer. Instead, try to say 'I create a numpy array (i.e., `numpy.ndarray`) for a vector bla bla.' "
   ]
  },
  {
   "cell_type": "markdown",
   "metadata": {},
   "source": [
    "> ***Note***\n",
    ">\n",
    "> Use `numpy` array for scientific computing, NOT `list`. ([Learning objective]())\n"
   ]
  },
  {
   "cell_type": "markdown",
   "metadata": {},
   "source": [
    "### Take-aways\n",
    "\n",
    "After mastering this notebook, you will be able to\n",
    "- use `numpy` array named `ndarray` for numerical tasks,\n",
    "  - create and reshape arrays as you want,\n",
    "  - clearly distinguish data types offered by NumPy,\n",
    "- use `numpy` in an efficient way,\n",
    "  - use `numpy` mathematical functions to manipulate `ndarray`s,\n",
    "  - conduct element-wise operations of `ndarray`, maximizing **broadcasting**,\n",
    "  - use NumPy's *fancy indexing*, *masking*, and `numpy.where` for delicate manipulation of arrays,\n",
    "  - use NumPy's logical functions for fine control of computing,\n",
    "- be aware possible issues,\n",
    "  - be aware of auto-casting of data type,\n",
    "  - be aware of change of dimensions when slicing or reshaping,\n",
    "  - be aware that simple assignment does not copy the array and use `copy` method when necessary.\n"
   ]
  },
  {
   "cell_type": "markdown",
   "metadata": {},
   "source": [
    "### Why `numpy.ndarray` and why not `list`?\n",
    "\n",
    "| |`list`|`numpy.ndarray`|\n",
    "|:--:|:--:|:--:|\n",
    "| purpose | To contain general objects (`int`, `float`, `str`, `list` (nested), functions, etc.) | To compute collections of numbers (`int`, `float`, `complex`, `bool`) |\n",
    "| speed | slow | fast | \n",
    "\n",
    "See the following for speed."
   ]
  },
  {
   "cell_type": "code",
   "execution_count": 1,
   "metadata": {},
   "outputs": [
    {
     "name": "stdout",
     "output_type": "stream",
     "text": [
      "NumPy: 1000 additions takes 0.001856088638305664 (sec)\n",
      "List : 1000 additions takes 0.08910012245178223 (sec)\n"
     ]
    }
   ],
   "source": [
    "\"\"\"Experiment: speed of vector additions with `numpy.ndarray` and `list`\n",
    "\"\"\"\n",
    "import numpy as np\n",
    "from time import time\n",
    "\n",
    "#=== parameters\n",
    "N = 10**3 # size of vector\n",
    "T = 10**3 # number of additions carried out\n",
    "a_lst = [i for i in range(N)] \n",
    "a = np.arange(N)\n",
    "b = 1\n",
    "\n",
    "#=== `numpy` addition [0, 1, 2, ..., N-1] + [1, 1, 1, ..., 1] \n",
    "start = time()\n",
    "for _ in range(T):\n",
    "    a + b\n",
    "end = time()\n",
    "t = end - start\n",
    "print(f\"NumPy: {T} additions takes {t} (sec)\")\n",
    "\n",
    "#=== `list` addition [0, 1, 2, ..., N-1] + [1, 1, 1, ..., 1]\n",
    "start = time()\n",
    "for _ in range(T):\n",
    "    for i in range(N):\n",
    "        a_lst[i] + b\n",
    "end = time()\n",
    "t = end - start\n",
    "print(f\"List : {T} additions takes {t} (sec)\")"
   ]
  },
  {
   "cell_type": "markdown",
   "metadata": {},
   "source": [
    "### Creation\n",
    "\n",
    "- `numpy.zeros(shape: tuple)`\n",
    "- `numpy.ones(shape: tuple)`\n",
    "- `numpy.arange`: start is inclusive and stop is **exclusive**.\n",
    "  - `numpy.arange(n)`: ndarray of [0, 1, 2, ..., n - 1] (if `n` is integer).\n",
    "  - `numpy.arange(m, n)`: ndarray of [m, m+1, m+2, ..., n - 1] (if `m` and `n` are integer).\n",
    "  - `numpy.arange(m, n, k)`: ndarray of [m, m+k, m+2k, ..., n - 1] (if `m`, `n`, and `k` are integer).\n",
    "- `numpy.linspace(start, end, n)`: ndarray of equally spaced `n` real numbers between `start` and `end` **inclusively**. (`n` must an integer.)"
   ]
  },
  {
   "cell_type": "code",
   "execution_count": 2,
   "metadata": {},
   "outputs": [
    {
     "name": "stdout",
     "output_type": "stream",
     "text": [
      "[[0. 0. 0. 0.]\n",
      " [0. 0. 0. 0.]\n",
      " [0. 0. 0. 0.]]\n"
     ]
    }
   ],
   "source": [
    "import numpy as np\n",
    "\n",
    "# zeros\n",
    "a = np.zeros((3,4))\n",
    "print(a)\n"
   ]
  },
  {
   "cell_type": "code",
   "execution_count": 3,
   "metadata": {},
   "outputs": [
    {
     "name": "stdout",
     "output_type": "stream",
     "text": [
      "[[1. 1.]\n",
      " [1. 1.]\n",
      " [1. 1.]\n",
      " [1. 1.]]\n"
     ]
    }
   ],
   "source": [
    "\n",
    "# ones\n",
    "b = np.ones((4,2))\n",
    "print(b)\n"
   ]
  },
  {
   "cell_type": "code",
   "execution_count": 4,
   "metadata": {},
   "outputs": [
    {
     "name": "stdout",
     "output_type": "stream",
     "text": [
      "[0 1 2 3 4]\n",
      "[4 5 6 7 8]\n"
     ]
    }
   ],
   "source": [
    "\n",
    "# arange(start, end); 'start' inclusive, 'end' EXCLUSIVE\n",
    "c = np.arange(5) # eqv to: np.arange(0,5)\n",
    "d = np.arange(4, 9) \n",
    "print(c)\n",
    "print(d)\n"
   ]
  },
  {
   "cell_type": "code",
   "execution_count": 5,
   "metadata": {},
   "outputs": [
    {
     "name": "stdout",
     "output_type": "stream",
     "text": [
      "[0.    0.125 0.25  0.375 0.5   0.625 0.75  0.875 1.   ]\n"
     ]
    }
   ],
   "source": [
    "\n",
    "# linspace(start, end, #of pts); 'start' and 'end' BOTH inclusive\n",
    "e = np.linspace(0, 1, 9)\n",
    "print(e)\n"
   ]
  },
  {
   "cell_type": "markdown",
   "metadata": {},
   "source": [
    "### size, shape, reshape, ndim\n",
    "\n",
    "Given an ndarray `arr`,\n",
    "- `arr.size`, `arr.shape`, and `arr.ndim` are the most important *information* (or *properties/attributes*) of `arr`.\n",
    "\n",
    "|`arr.size`| `arr.shape`| `arr.ndim`|\n",
    "|:-:|:-:|:-:|\n",
    "| total number of entries (integer) | rectangular shape of an array (tuple) | dimension of the array (integer) |\n",
    "\n",
    "- `arr.reshape(new_shape: tuple)` is a very useful *feature* (or *method*). \n",
    "  - One component of the shape can omitted. NumPy's convention is to put `-1` to have NumPy decide what's omitted."
   ]
  },
  {
   "cell_type": "code",
   "execution_count": 6,
   "metadata": {},
   "outputs": [
    {
     "name": "stdout",
     "output_type": "stream",
     "text": [
      "A:  [ 0  1  2  3  4  5  6  7  8  9 10 11]\n",
      "A (ndim): 1\n",
      "A (size):  12\n",
      "A (shape):  (12,)\n"
     ]
    }
   ],
   "source": [
    "# size vs shape\n",
    "A = np.arange(12)\n",
    "print(\"A: \", A)\n",
    "print(\"A (ndim):\", A.ndim)\n",
    "print(\"A (size): \", A.size)\n",
    "print(\"A (shape): \", A.shape)\n"
   ]
  },
  {
   "cell_type": "code",
   "execution_count": 7,
   "metadata": {},
   "outputs": [
    {
     "name": "stdout",
     "output_type": "stream",
     "text": [
      "[[ 0  1  2  3]\n",
      " [ 4  5  6  7]\n",
      " [ 8  9 10 11]]\n",
      "A (size after reshape):  12\n",
      "A (shape after reshape):  (12,)\n",
      "A (after reshape):  [ 0  1  2  3  4  5  6  7  8  9 10 11]\n"
     ]
    }
   ],
   "source": [
    "\n",
    "# reshape (not in-place)\n",
    "print(A.reshape(3, 4))\n",
    "print(\"A (size after reshape): \", A.size)\n",
    "print(\"A (shape after reshape): \", A.shape)\n",
    "print(\"A (after reshape): \", A)\n"
   ]
  },
  {
   "cell_type": "code",
   "execution_count": 8,
   "metadata": {},
   "outputs": [
    {
     "name": "stdout",
     "output_type": "stream",
     "text": [
      "B:  [[ 0  1  2  3]\n",
      " [ 4  5  6  7]\n",
      " [ 8  9 10 11]]\n",
      "B (size):  12\n",
      "B (shape):  (3, 4)\n"
     ]
    }
   ],
   "source": [
    "\n",
    "# reshape and copy\n",
    "B = A.reshape((3,4))\n",
    "print(\"B: \", B)\n",
    "print(\"B (size): \", B.size)\n",
    "print(\"B (shape): \", B.shape)\n"
   ]
  },
  {
   "cell_type": "code",
   "execution_count": 10,
   "metadata": {},
   "outputs": [
    {
     "name": "stdout",
     "output_type": "stream",
     "text": [
      "C looks like: \n",
      "[[ 0  4  8]\n",
      " [ 1  5  9]\n",
      " [ 2  6 10]\n",
      " [ 3  7 11]]\n",
      "(4, 3)\n",
      "[[ 0  1  2  3]\n",
      " [ 4  5  6  7]\n",
      " [ 8  9 10 11]]\n"
     ]
    }
   ],
   "source": [
    "\n",
    "# transpose (not in-place)\n",
    "C = B.T\n",
    "print(f\"C looks like: \\n{C}\")\n",
    "print(C.shape)\n",
    "print(B)\n"
   ]
  },
  {
   "cell_type": "code",
   "execution_count": 11,
   "metadata": {},
   "outputs": [
    {
     "name": "stdout",
     "output_type": "stream",
     "text": [
      "C looks like: \n",
      "[[ 0  4  8]\n",
      " [ 1  5  9]\n",
      " [ 2  6 10]\n",
      " [ 3  7 11]]\n",
      "D looks like: \n",
      "[[ 0  4  8  1  5  9  2  6 10  3  7 11]]\n",
      "D (shape):  (1, 12)\n"
     ]
    }
   ],
   "source": [
    "\n",
    "# 'lazy' reshape: one slot of shape = '-1' --> auto-computed\n",
    "D = C.reshape((1,-1)) \n",
    "print(f\"C looks like: \\n{C}\")\n",
    "print(f\"D looks like: \\n{D}\")\n",
    "print(\"D (shape): \", D.shape)\n"
   ]
  },
  {
   "cell_type": "code",
   "execution_count": 12,
   "metadata": {},
   "outputs": [
    {
     "name": "stdout",
     "output_type": "stream",
     "text": [
      "A: [ 0  1  2  3  4  5  6  7  8  9 10 11]\n",
      "D: [[ 0  4  8  1  5  9  2  6 10  3  7 11]]\n",
      "dimension of A: 1\n",
      "dimension of D: 2\n"
     ]
    }
   ],
   "source": [
    "\n",
    "# ndim (number of dimensions)\n",
    "print(\"A:\", A)\n",
    "print(\"D:\", D)\n",
    "print(\"dimension of A:\", A.ndim)\n",
    "print(\"dimension of D:\", D.ndim)\n"
   ]
  },
  {
   "cell_type": "markdown",
   "metadata": {},
   "source": [
    "**Question**\n",
    "\n",
    "How would you change the terminology in the summary above?\n",
    "\n",
    "- *information*\n",
    "- *feature*\n",
    "\n",
    "Type two words in order separated by a comma. And give a reason for that.\n",
    "\n",
    "This is **about atmosphere**, not getting it right.\n",
    "1. Think for a short time.\n",
    "2. Share your guess with your pair.\n",
    "3. Type your answer in clicker.\n",
    "4. Feel free to say out loud.\n"
   ]
  },
  {
   "cell_type": "markdown",
   "metadata": {},
   "source": [
    "### Operations and functions\n",
    "\n",
    "> ***Note***\n",
    ">\n",
    "> Every operation and function works component-wisely.\n",
    "\n",
    "> ***Note***\n",
    ">\n",
    "> Use `numpy` math functions, ***NOT*** `math` module. [Learning objective]()\n",
    "\n",
    "`numpy` functions are faster and better compatible with `numpy.ndarray`."
   ]
  },
  {
   "cell_type": "code",
   "execution_count": null,
   "metadata": {},
   "outputs": [],
   "source": [
    "import numpy as np\n",
    "\n",
    "# Every operation and function works component-wisely\n",
    "a = np.linspace(1, 12, 12)\n",
    "b = np.arange(-6, 6)\n",
    "print(\"a = \", a)\n",
    "print(\"b = \", b)\n",
    "print(\"a + b = \", a + b)\n",
    "print(\"a - b = \", a - b)\n",
    "print(\"a * b = \", a * b)\n",
    "print(\"a ^ b = \", a ** b)\n",
    "print(\"sin(b) = \", np.sin(b)) \n",
    "# Do not use math.sin(b)"
   ]
  },
  {
   "cell_type": "markdown",
   "metadata": {},
   "source": [
    "### Broadcasting\n",
    "\n",
    "![broadcasting1](https://numpy.org/doc/stable/_images/broadcasting_1.png)\n",
    "\n",
    "![broadcasting2](https://numpy.org/doc/stable/_images/broadcasting_4.png)\n",
    "\n",
    "Figure source: NumPy documentation (https://numpy.org/doc/stable/user/basics.broadcasting.html)\n",
    "\n",
    "- The above two are the most frequent use cases. If you want to use more sophisticated applications, see the documentation https://numpy.org/doc/stable/user/basics.broadcasting.html.\n",
    "- Broadcasting is not only convenient, but it is also fast. \n",
    "\n",
    "> **Broadcasting rules**\n",
    "> \n",
    "> The length of each dimension of two arrays must either **match or one of them is 1**. NumPy then \"stretches\" the block of length 1 to match the size, and carry out the operations.\n",
    "\n",
    "> ***Note***\n",
    ">\n",
    "> Broadcasting is an important skill for *vectorized* programming. This is one of the good programming practices (Learning objectives), especially in scientific computing. It may take some getting-used-to, but never tried to avoid it. "
   ]
  },
  {
   "cell_type": "code",
   "execution_count": null,
   "metadata": {},
   "outputs": [],
   "source": [
    "import numpy as np\n",
    "\n",
    "# broadcating a constant\n",
    "a = np.arange(4)\n",
    "print(\"matrix (or a vector) + constant\")\n",
    "x = a + 3\n",
    "print(a, \" + \", 3, \"=\", x)\n"
   ]
  },
  {
   "cell_type": "code",
   "execution_count": null,
   "metadata": {},
   "outputs": [],
   "source": [
    "\n",
    "# broadcasting between a row and a column\n",
    "b = np.arange(4).reshape((-1,1))\n",
    "c = np.arange(3)\n",
    "print(\"\\ncolumn + row\")\n",
    "print(b, \"+\", c, \"=\")\n",
    "# print(c)\n",
    "print(b+c)\n"
   ]
  },
  {
   "cell_type": "code",
   "execution_count": null,
   "metadata": {},
   "outputs": [],
   "source": [
    "\n",
    "# broadcasting between a matrix and a column\n",
    "b = np.arange(12).reshape((-1,3))\n",
    "c = np.arange(4).reshape((4,-1)) * 100 \n",
    "print(\"\\nmatrix + column\")\n",
    "print(f\"{b}\\n   +   \\n{c}    \\n   =   \")\n",
    "print(b+c)"
   ]
  },
  {
   "cell_type": "markdown",
   "metadata": {},
   "source": [
    "##### Speed test: broadcasting vs full matrix"
   ]
  },
  {
   "cell_type": "code",
   "execution_count": null,
   "metadata": {},
   "outputs": [],
   "source": [
    "from time import time\n",
    "\n",
    "T = 10**3\n",
    "N = 10**3\n",
    "L = 100\n",
    "xx = np.linspace(0, L, N)\n",
    "yy = np.linspace(0, L, N).reshape((-1,1))\n",
    "XX, YY = np.meshgrid(xx, yy)\n",
    "\n",
    "start = time()\n",
    "for _ in range(N):\n",
    "    zz = np.sin(xx) + 2*yy\n",
    "end = time()\n",
    "print(\"time taken by broadcasting: \", end - start, \"(sec)\")\n",
    "\n",
    "start = time()\n",
    "for _ in range(N):\n",
    "    ZZ = np.sin(XX) + 2*YY\n",
    "end = time()\n",
    "print(\"time taken by full matrix:  \", end - start, \"(sec)\")\n"
   ]
  },
  {
   "cell_type": "markdown",
   "metadata": {},
   "source": [
    "### Slicing\n",
    "\n",
    "#### Summary\n",
    "\n",
    "- We can access and modify part of an array using slicing. \n",
    "- The syntax is the same as slicing of `list`: `start:end:jump`.\n",
    "    * `start` is inclusive; default = 0 (the very first).\n",
    "    * `end` is exclusive; default = length of the array (all the way to the end).\n",
    "    * `jump` default = 1.\n",
    "    * Negative integers can be used to index from backwards, including `jump`."
   ]
  },
  {
   "cell_type": "markdown",
   "metadata": {},
   "source": [
    "#### Slicing 1D arrays"
   ]
  },
  {
   "cell_type": "code",
   "execution_count": null,
   "metadata": {},
   "outputs": [],
   "source": [
    "import numpy as np\n",
    "\n",
    "a = np.arange(6)\n",
    "print(a[:])\n",
    "print(a[1:-1])\n",
    "print(a[::2])\n",
    "print(a[1::2])\n",
    "print(a[::-1])\n"
   ]
  },
  {
   "cell_type": "code",
   "execution_count": null,
   "metadata": {},
   "outputs": [],
   "source": [
    "\n",
    "# multiply even-indexed entried by a specific array\n",
    "a[1::2] = a[1::2] * [3, 5, 7]\n",
    "print(a)\n"
   ]
  },
  {
   "cell_type": "code",
   "execution_count": null,
   "metadata": {},
   "outputs": [],
   "source": [
    "\n",
    "# replace odd-indexed entries with -1\n",
    "a[::2] = -1 # broadcasting in effect\n",
    "print(a)"
   ]
  },
  {
   "cell_type": "markdown",
   "metadata": {},
   "source": [
    "#### Slicing 2D arrays"
   ]
  },
  {
   "cell_type": "code",
   "execution_count": null,
   "metadata": {},
   "outputs": [],
   "source": [
    "import numpy as np\n",
    "\n",
    "a = np.arange(25).reshape((5,5))\n",
    "print(a)\n",
    "print(a[1::2, ::2])\n"
   ]
  },
  {
   "cell_type": "code",
   "execution_count": null,
   "metadata": {},
   "outputs": [],
   "source": [
    "\n",
    "# replace entries using slicing\n",
    "a[2] = 0\n",
    "print(a)\n",
    "\n",
    "a[2, :] = a[-1, :]\n",
    "print(a)"
   ]
  },
  {
   "cell_type": "markdown",
   "metadata": {},
   "source": [
    "### Fancy indexing, masking, `where`, and `piecewise`"
   ]
  },
  {
   "cell_type": "markdown",
   "metadata": {},
   "source": [
    "#### Fancy indexing\n",
    "\n",
    "This is best described by examples. See below."
   ]
  },
  {
   "cell_type": "code",
   "execution_count": null,
   "metadata": {},
   "outputs": [],
   "source": [
    "import numpy as np\n",
    "\n",
    "# extract entries using collection of indices\n",
    "a = np.arange(18).reshape((3,6))\n",
    "ind_ori = ([0, 1, 1, 2, 2], # collection of row index\n",
    "       [1, 2, -1, 4, 5]) # collection of col index\n",
    "b = a[ind_ori] # pick only (row, col)-entries for each pair \n",
    "print(a)\n",
    "print(b)\n"
   ]
  },
  {
   "cell_type": "code",
   "execution_count": null,
   "metadata": {},
   "outputs": [],
   "source": [
    "\n",
    "# We can modify entries using collection of indices\n",
    "a[ind_ori] = -99\n",
    "print(a)\n"
   ]
  },
  {
   "cell_type": "markdown",
   "metadata": {},
   "source": [
    "#### Masking: Indexing by Booleans\n",
    "\n",
    "Masking literally *masks* an array so that the operation applies only to a certain entries. This is done by passing boolean arrays as index. See the example below."
   ]
  },
  {
   "cell_type": "code",
   "execution_count": null,
   "metadata": {},
   "outputs": [],
   "source": [
    "import numpy as np\n",
    "\n",
    "# Using masking, we can modify only the entries that satisfy a particular condition\n",
    "a = np.arange(18).reshape((3,6))\n",
    "print(a)\n",
    "# create a mask\n",
    "mask = (a > 5) & (a < 10) # for Python, use `and`\n",
    "print(mask)\n",
    "a[mask] = -1\n",
    "print(a)\n"
   ]
  },
  {
   "cell_type": "code",
   "execution_count": null,
   "metadata": {},
   "outputs": [],
   "source": [
    "\n",
    "# Once you become comfortable, use more compact version\n",
    "b = np.arange(18).reshape((3,6))\n",
    "b[(b>5) & (b<10)] = -1\n",
    "print(b)"
   ]
  },
  {
   "cell_type": "markdown",
   "metadata": {},
   "source": [
    "##### Misc masking"
   ]
  },
  {
   "cell_type": "code",
   "execution_count": null,
   "metadata": {},
   "outputs": [],
   "source": [
    "import numpy as np\n",
    "\n",
    "a = np.arange(25).reshape((5, 5))\n",
    "print(a)\n",
    "print(a % 4)\n",
    "print(a[a % 4 == 0])"
   ]
  },
  {
   "cell_type": "markdown",
   "metadata": {},
   "source": [
    "#### `where`\n",
    "\n",
    "In a nutshell, `numpy.where` function does similar jobs to masking.\n",
    "\n",
    "- We can use `where` to find indices of certain entries.\n",
    "- `where` can be used to apply an operation only to certain entries. \n",
    "  - `where(condition array, array for true, array for false)` (see example below)\n",
    "  - `array for true` and `array for false` must be broadcastable to the condition array: `where` picks values from them."
   ]
  },
  {
   "cell_type": "code",
   "execution_count": null,
   "metadata": {},
   "outputs": [],
   "source": [
    "import numpy as np\n",
    "\n",
    "a = np.array([[1, 2, 5, 2, 5], \n",
    "              [3, 5, 2, 1, 3]])\n",
    "\n",
    "# this gives a mask where max occurs\n",
    "mask = (a == a.max()) \n",
    "print(a)\n",
    "print(mask)\n",
    "print(a[mask])\n"
   ]
  },
  {
   "cell_type": "code",
   "execution_count": null,
   "metadata": {},
   "outputs": [],
   "source": [
    "\n",
    "# `where` gives a tuple of index arrays\n",
    "ind_ori = np.where(a == a.max())\n",
    "print(ind_ori)\n",
    "print(a[ind_ori]) # this is basically fancy indexing\n"
   ]
  },
  {
   "cell_type": "markdown",
   "metadata": {},
   "source": [
    "##### Implementation of piecewise functions\n",
    "\n",
    "###### `numpy.piecewise` function\n",
    "\n",
    "- Syntax: `numpy.piecewise(x, list_of_masks, list_of_fns)`\n",
    "- `list_of_masks` and `list_of_fns` must have the same length, or `list_of_fns` has one more element. In this case, the last one applies for all other cases that are not specified by the masks.\n",
    "- `list_of_masks` must have the same size of `x`."
   ]
  },
  {
   "cell_type": "markdown",
   "metadata": {},
   "source": [
    "Using `numpy.piecewise`\n",
    "\n",
    "$$ y = \\begin{cases}\n",
    "        x & (0 \\le x \\le 5)\n",
    "        \\\\\n",
    "        -1 & (5 < x < 10)\n",
    "        \\\\\n",
    "        5x & (\\text{otherwise})\n",
    "        \\end{cases}\n",
    "$$"
   ]
  },
  {
   "cell_type": "code",
   "execution_count": null,
   "metadata": {},
   "outputs": [],
   "source": [
    "import numpy as np\n",
    "\n",
    "xx = np.arange(18).reshape((3,6))\n",
    "\n",
    "masks = [(xx >= 0) & (xx <= 5), (xx < 10) &  (xx > 5)] #, (xx >= 10) & (xx <= 17)]\n",
    "fns = [lambda x: x, lambda x: -1, lambda x: 5*x]\n",
    "\n",
    "yy = np.piecewise(xx, masks, fns)\n",
    "\n",
    "print(\"xx\\n\", xx)\n",
    "print(\"\\nyy\\n\", yy)"
   ]
  },
  {
   "cell_type": "markdown",
   "metadata": {},
   "source": [
    "Implementation of using `numpy.where`\n",
    "$$ y = \\begin{cases}\n",
    "        -1 & (5 < x < 10)\n",
    "        \\\\\n",
    "        5x & (\\text{otherwise})\n",
    "        \\end{cases}\n",
    "$$"
   ]
  },
  {
   "cell_type": "code",
   "execution_count": null,
   "metadata": {},
   "outputs": [],
   "source": [
    "# piece-wise operation using `where`\n",
    "x = np.arange(18).reshape((3,-1))\n",
    "y = np.where((x > 5) & (x < 10), -1, 5 * x) \n",
    "print(x)\n",
    "print(-1*np.ones((3,6)))\n",
    "print(5*x)\n",
    "print(y)"
   ]
  },
  {
   "cell_type": "markdown",
   "metadata": {},
   "source": [
    "### Mathematical functions\n",
    "\n",
    "- `max`, `min`\n",
    "- `argmin`, `argmax`: returns the **linear index** where the first max or min occurs. \n",
    "  - In case of multiple occurrences of the minimum values, the indices corresponding to the first occurrence are returned.\n",
    "- `unravel_index`: takes linear index and shape and returns shape index.\n",
    "    - It is useful to obtain multi-dimensional index of `argmin` and `argmax`\n",
    "    - `ind = np.unravel_index(a.argmin(), a.shape)`, then `a[ind] == a.min()`.\n",
    "- `ptp`: finds (max - min). (ptp stands for 'peak to peak')\n",
    "- If you need random real numbers, use `np.random.rand` function, which returns uniform random numbers between 0 and 1 in the shape passed in. "
   ]
  },
  {
   "cell_type": "code",
   "execution_count": null,
   "metadata": {},
   "outputs": [],
   "source": [
    "import numpy as np\n",
    "a = np.random.randint(1, 20, (3,4))\n",
    "# lin_ind = a.argmin()\n",
    "ind_ori = np.unravel_index(a.argmin(), a.shape)\n",
    "print(a)\n",
    "print(a.argmin())\n",
    "print(ind_ori)\n",
    "print(a[ind_ori] == a.min())\n",
    "\n",
    "print(a.max(), a.min(), np.ptp(a))\n"
   ]
  },
  {
   "cell_type": "markdown",
   "metadata": {},
   "source": [
    "More math functions\n",
    "\n",
    "- `numpy.sin`, `numpy.cos`, `numpy.exp`, `numpy.log`, `numpy.sqrt`, `numpy.power` = `**`, `numpy.abs`, `numpy.round`, `numpy.floor`, `numpy.ceil`, etc. \n",
    "- `numpy.diff` are useful for different quotients or numerical differentiation and integration. \n",
    "- For a complete list, see [documentation](https://numpy.org/doc/stable/reference/routines.math.html)\n",
    "- Constants: `numpy.pi`, `numpy.e`, `numpy.nan` (standing for 'not a number'; usually resulting from dividing by 0), `numpy.inf`"
   ]
  },
  {
   "cell_type": "code",
   "execution_count": null,
   "metadata": {},
   "outputs": [],
   "source": [
    "import numpy as np\n",
    "\n",
    "x = np.arange(5)\n",
    "sqrt_x = np.sqrt(x)\n",
    "print(x)\n",
    "print(sqrt_x)"
   ]
  },
  {
   "cell_type": "code",
   "execution_count": null,
   "metadata": {},
   "outputs": [],
   "source": [
    "\n",
    "print(np.log(x))\n",
    "print(0/x)\n"
   ]
  },
  {
   "cell_type": "code",
   "execution_count": null,
   "metadata": {},
   "outputs": [],
   "source": [
    "\n",
    "print(np.round(sqrt_x, 2))\n",
    "print(np.floor(sqrt_x))\n",
    "print(np.pi)"
   ]
  },
  {
   "cell_type": "markdown",
   "metadata": {},
   "source": [
    "### Logical functions\n",
    "\n",
    "- `numpy.allclose`: very useful to check if computations are correct (see below).\n",
    "- `numpy.all` (big 'and'), `numpy.any` (big 'or')\n",
    "- `numpy.isfinite`, `numpy.isnan`, `numpy.isinf`: useful to check any pathological results.\n",
    "- `numpy.logical_and` = `&`, `numpy.logical_or` = `|`, `numpy.logical_not`, `numpy.logical_xor` (only one of two is true)"
   ]
  },
  {
   "cell_type": "code",
   "execution_count": null,
   "metadata": {},
   "outputs": [],
   "source": [
    "import numpy as np\n",
    "\n",
    "x = np.arange(5)\n",
    "sqrt_x = np.sqrt(x)\n",
    "\n",
    "print(x ** (1/2))\n",
    "print(sqrt_x)\n",
    "print(np.allclose(x ** (1/2), sqrt_x))\n",
    "print(x ** (1/2) == sqrt_x)"
   ]
  },
  {
   "cell_type": "code",
   "execution_count": null,
   "metadata": {},
   "outputs": [],
   "source": [
    "\n",
    "print(np.log(x))\n",
    "print(np.isfinite(np.log(x)))\n"
   ]
  },
  {
   "cell_type": "code",
   "execution_count": null,
   "metadata": {},
   "outputs": [],
   "source": [
    "\n",
    "bigger_than_2 = x > 2\n",
    "less_than_4 = x < 4\n",
    "print(x)\n"
   ]
  },
  {
   "cell_type": "code",
   "execution_count": null,
   "metadata": {},
   "outputs": [],
   "source": [
    "\n",
    "print(bigger_than_2)\n",
    "print(np.all(bigger_than_2))\n"
   ]
  },
  {
   "cell_type": "code",
   "execution_count": null,
   "metadata": {},
   "outputs": [],
   "source": [
    "\n",
    "print(less_than_4) \n",
    "print(np.any(less_than_4))\n",
    "print(bigger_than_2 & less_than_4)"
   ]
  },
  {
   "cell_type": "markdown",
   "metadata": {},
   "source": [
    "### Care needed"
   ]
  },
  {
   "cell_type": "markdown",
   "metadata": {},
   "source": [
    "#### Auto-casting of data type"
   ]
  },
  {
   "cell_type": "code",
   "execution_count": null,
   "metadata": {},
   "outputs": [],
   "source": [
    "import numpy as np\n",
    "\n",
    "a = np.arange(5)\n",
    "print(a)\n",
    "print(a.dtype)\n",
    "\n",
    "# even if float is feeded, a truncate decimals\n",
    "a[0] = 1.2222\n",
    "print(a, \"(data type):\", a.dtype) "
   ]
  },
  {
   "cell_type": "markdown",
   "metadata": {},
   "source": [
    "#### Dimension changes when slicing\n",
    "\n",
    "When slicing, dimensions may change.\n",
    "\n",
    "- The first two actions below lower the dimension of a 2D array to 1D array.\n",
    "  * `a[1, :]` is more explicit that `a` is a at least two dimensional array.\n",
    "  * Hence, it will raise an error if `a` is changed to a 1D array. This may be a good thing because it raises an error early (easier to debug).\n",
    "  * `a[1]` works even if `a` is changed to a 1D array.\n",
    "  * But, its dimension is not clear from this expression.\n",
    "- There are a number of alternatives that preserve the shape. See the examples below. \n",
    "  - But their behavior may be different than what you expect. So, the key is to be **aware of this kind of behavoirs**."
   ]
  },
  {
   "cell_type": "code",
   "execution_count": null,
   "metadata": {},
   "outputs": [],
   "source": [
    "import numpy as np\n",
    "import sys\n",
    "# include a path to import personaltools.py module\n",
    "sys.path.append('../') \n",
    "from personaltools.numpyrelatedtools import check_np_dim\n",
    "\n",
    "a = np.arange(8).reshape((2,4))\n",
    "print(a)\n"
   ]
  },
  {
   "cell_type": "code",
   "execution_count": null,
   "metadata": {},
   "outputs": [],
   "source": [
    "\n",
    "# The following two actions lower the 2D array to 1D array\n",
    "b = a[1] # second row of a\n",
    "check_np_dim(b, 'b')\n",
    "\n",
    "c = a[1, :] # second row of a\n",
    "check_np_dim(c, 'c')\n"
   ]
  },
  {
   "cell_type": "code",
   "execution_count": null,
   "metadata": {},
   "outputs": [],
   "source": [
    "\n",
    "# possible alternative to preserve the shape\n",
    "# 1. reshape\n",
    "d = a[1, :].reshape((1,-1))\n",
    "check_np_dim(d, 'd')\n"
   ]
  },
  {
   "cell_type": "code",
   "execution_count": null,
   "metadata": {},
   "outputs": [],
   "source": [
    "\n",
    "# 2. manually increase the dimension \n",
    "e = a[1, None]\n",
    "check_np_dim(e, 'e')\n",
    "\n",
    "f = a[1, np.newaxis]\n",
    "check_np_dim(f, 'f')\n"
   ]
  },
  {
   "cell_type": "code",
   "execution_count": null,
   "metadata": {},
   "outputs": [],
   "source": [
    "\n",
    "# 3. use list index or array index\n",
    "g = a[[1], :]\n",
    "check_np_dim(g, 'g')\n",
    "\n",
    "h = a[np.array([1]), :]\n",
    "check_np_dim(h, 'h')\n",
    "\n",
    "# But be careful. The following looks similar, but gives different result.\n",
    "i = a[[1], [2, 3]]\n",
    "check_np_dim(i, 'i')\n"
   ]
  },
  {
   "cell_type": "markdown",
   "metadata": {},
   "source": [
    "#### Copy arrays\n",
    "\n",
    "- When slicing an array, a new array that points to the same memory address is created. Therefore, any modification affects the original array. \n",
    "- This is to save computation for allocate memory and copy contents.\n",
    "- Solution to this is `copy()` method.\n",
    "- The same applies to `reshape`.\n",
    "\n",
    "> ***Note***\n",
    ">\n",
    "> Slicing works with reference (address of memory).\n"
   ]
  },
  {
   "cell_type": "code",
   "execution_count": null,
   "metadata": {},
   "outputs": [],
   "source": [
    "import numpy as np\n",
    "\n",
    "a = np.arange(6)\n",
    "b = a[::2]\n",
    "print('a = ', a)\n",
    "print('b = ', b)\n"
   ]
  },
  {
   "cell_type": "code",
   "execution_count": null,
   "metadata": {},
   "outputs": [],
   "source": [
    "\n",
    "# modify b\n",
    "b[0] = -99.\n",
    "print('a = ', a)\n",
    "print('b = ', b)\n"
   ]
  },
  {
   "cell_type": "code",
   "execution_count": null,
   "metadata": {},
   "outputs": [],
   "source": [
    "\n",
    "# copy and modify\n",
    "a = np.arange(6)\n",
    "c = a[::2].copy()\n",
    "c[0] = -99\n",
    "print('a = ', a)\n",
    "print('c = ', c)\n"
   ]
  },
  {
   "cell_type": "code",
   "execution_count": null,
   "metadata": {},
   "outputs": [],
   "source": [
    "\n",
    "# copy and modify with `reshape` method\n",
    "A = np.arange(6)\n",
    "B = A.reshape((3,2))\n",
    "print('A = ', A)\n",
    "print('B = ', B)\n"
   ]
  },
  {
   "cell_type": "code",
   "execution_count": null,
   "metadata": {},
   "outputs": [],
   "source": [
    "\n",
    "# modify b\n",
    "B[-1,-1] = -99.\n",
    "print('A = ', A)\n",
    "print('B = ', B)\n"
   ]
  },
  {
   "cell_type": "code",
   "execution_count": null,
   "metadata": {},
   "outputs": [],
   "source": [
    "# copy and modify\n",
    "A = np.arange(6)\n",
    "C = A.reshape((3,2)).copy()\n",
    "C[-1,-1] = -99\n",
    "print('A = ', A)\n",
    "print('C = ', C)\n"
   ]
  },
  {
   "cell_type": "markdown",
   "metadata": {},
   "source": [
    "##### Slicing of list and array\n",
    "\n",
    "- `list` make a copy when sliced while\n",
    "- `ndarray` does not make a copy when sliced\n",
    "  - (advanced) `ndarray` only changes *stride* when sliced for efficiency."
   ]
  },
  {
   "cell_type": "code",
   "execution_count": null,
   "metadata": {},
   "outputs": [],
   "source": [
    "import numpy as np\n",
    "\n",
    "lst = [i for i in range(8)]\n",
    "arr = np.arange(8)\n",
    "print(\"lst: \", lst)\n",
    "print(\"arr: \", arr)\n"
   ]
  },
  {
   "cell_type": "code",
   "execution_count": null,
   "metadata": {},
   "outputs": [],
   "source": [
    "\n",
    "lst2 = lst[::2]\n",
    "arr2 = arr[::2].copy()\n",
    "\n",
    "lst2[0] = -99\n",
    "arr2[0] = -99\n"
   ]
  },
  {
   "cell_type": "code",
   "execution_count": null,
   "metadata": {},
   "outputs": [],
   "source": [
    "\n",
    "print(\"lst2 (sliced and modifed): \", lst2)\n",
    "print(\"arr2 (sliced and modified): \", arr2)\n",
    "\n",
    "print(\"lst (after 'copy' is modified): \", lst)\n",
    "print(\"arr (after 'copy' is modified): \", arr)"
   ]
  },
  {
   "cell_type": "markdown",
   "metadata": {},
   "source": [
    "### Advanced"
   ]
  },
  {
   "cell_type": "markdown",
   "metadata": {},
   "source": [
    "#### Row-major in high-dimensional arrays\n",
    "\n",
    "- As the dimension of an array increases, the new dimension prepends, called **row-major**. [Video](https://youtu.be/ZB7BZMhfPgk?t=4734)\n",
    "- If `dim = (2, 3, 4, 5)` is the shape of an array, then `dim(-1)` is always the column vector dimension. (Again, column vector is displayed as a row.) This is what is used in `axis` argument. (See [Array computation rules](#array-computation-rules))\n",
    "- C is also row-major.\n",
    "- Matlab and Fortran is column major, where the new dimensions append."
   ]
  },
  {
   "cell_type": "code",
   "execution_count": null,
   "metadata": {},
   "outputs": [],
   "source": [
    "import numpy as np\n",
    "\n",
    "n1, n2, n3, n4 = 2, 3, 4, 5\n",
    "a = np.arange(n1)\n",
    "print(a)\n",
    "\n",
    "a = np.arange(n1*n2).reshape((n1,n2))\n",
    "print(a)\n",
    "print(a[0, :])\n",
    "print(a[:, 1])\n",
    "\n",
    "# 3D array is two 3X4 matrices\n",
    "# in Matlab, this is four 2X3 matrices\n",
    "a = np.arange(n1*n2*n3).reshape((n1, n2, n3))\n",
    "print(a) \n",
    "# first 3X4 matrix\n",
    "print(a[0, :, :]) \n",
    "# 2X4 matrix: all entires with 2nd slot index 1\n",
    "# dimension decreases\n",
    "print(a[:, 1, :]) \n",
    "# 2X3 matrix: all entires with 3nd slot index 2\n",
    "# dimension decreases\n",
    "print(a[:, :, 2]) "
   ]
  },
  {
   "cell_type": "markdown",
   "metadata": {},
   "source": [
    "#### Array computation rules\n",
    "\n",
    "1. Operations between multiple array objects are first checked for proper shape match (*broadcasting*).\n",
    "1. All operations and functions are element-wise.\n",
    "2. Reduction operations (`numpy.mean`, `numpy.std`, `numpy.sum`, `numpy.prod`, `numpy.max`, `numpy.min`, etc) apply to the whole array, unless an `axis` is specified.\n",
    "    - For example, `np.sum(a, axis = 0)` means 'sum entries of array `a` **along** axis 0 (the outer most index according to *row-major* rule)'. Therefore, the axis feeded will go away.\n",
    "    - `axis = -1` always sum along the inner most index, i.e. it aggregates each column vectors. (See [Row-major high-dimensional arrays](#row-major-high-dimensional-arrays))\n",
    "3. Missing values (`nan`, stands for 'not a number') propagate unless explicitely ignored (`numpy.nanmean`, `numpy.nansum`, etc)."
   ]
  },
  {
   "cell_type": "code",
   "execution_count": null,
   "metadata": {},
   "outputs": [],
   "source": [
    "import numpy as np\n",
    "\n",
    "# rule 4: nan propagate unless using \n",
    "a = np.array([np.nan, 1, 3, 5])\n",
    "print(a)\n",
    "print(np.mean(a)) # take average including nan's\n",
    "print(np.nanmean(a)) # take average excluding nan's"
   ]
  },
  {
   "cell_type": "markdown",
   "metadata": {},
   "source": [
    "#### Reshape and transpose\n"
   ]
  },
  {
   "cell_type": "markdown",
   "metadata": {},
   "source": [
    "##### Reshape and transpose behave differently"
   ]
  },
  {
   "cell_type": "code",
   "execution_count": 4,
   "metadata": {},
   "outputs": [
    {
     "name": "stdout",
     "output_type": "stream",
     "text": [
      "a original (5,3)\n",
      " [[ 0.  1.  2.]\n",
      " [ 3.  4.  5.]\n",
      " [ 6.  7.  8.]\n",
      " [ 9. 10. 11.]\n",
      " [12. 13. 14.]]\n",
      "a reshaped to (3,5)\n",
      " [[ 0.  1.  2.  3.  4.]\n",
      " [ 5.  6.  7.  8.  9.]\n",
      " [10. 11. 12. 13. 14.]]\n",
      "a transposed to (3,5)\n",
      " [[ 0.  3.  6.  9. 12.]\n",
      " [ 1.  4.  7. 10. 13.]\n",
      " [ 2.  5.  8. 11. 14.]]\n"
     ]
    }
   ],
   "source": [
    "import numpy as np\n",
    "\n",
    "# reshape vs transpose\n",
    "a_orig = np.arange(5*3, dtype=np.float64).reshape((5,3))\n",
    "\n",
    "a_reshaped = a_orig.reshape(3,5)\n",
    "a_transposed = a_orig.T\n",
    "\n",
    "print(\"a original (5,3)\\n\", a_orig)\n",
    "print(\"a reshaped to (3,5)\\n\", a_reshaped)\n",
    "print(\"a transposed to (3,5)\\n\", a_transposed)"
   ]
  },
  {
   "cell_type": "markdown",
   "metadata": {},
   "source": [
    "##### Reshaped data access: linear index\n",
    "\n",
    "> **Summary**\n",
    ">\n",
    "> `arr_ori[ind1]==arr_reshaped[ind2]` iff linear index of `ind1` = `ind2`\n",
    "\n",
    "\n",
    "- The original array and the new array has the same data iff their linear indices are the same.\n",
    "- How to get multidimensional index from a linear index: `multi_dim_ind = np.unravel_index(lin_index, shape)`.\n",
    "- How to get linear index from a multidimensional index: `lin_ind = np.ravel_multi_index(multi_int, shape)`.\n",
    "  - These can be used to conduct mutiple such tasks by passing `dim=` parameter. (See the documentation for detail.)\n",
    "  - These can do the *column-major* version by passing `order=` parameter. (See the documentation for detail.)"
   ]
  },
  {
   "cell_type": "code",
   "execution_count": 12,
   "metadata": {},
   "outputs": [
    {
     "name": "stdout",
     "output_type": "stream",
     "text": [
      "original: (1, 0, 2, 3) 0.17226201704659516\n",
      "reshaped: (1, 3, 1, 3) 0.17226201704659516\n",
      "linear index of original array: 122\n",
      "linear index of reshaped array: 122\n"
     ]
    }
   ],
   "source": [
    "import numpy as np\n",
    "\n",
    "# create an array with random entries, and its reshape\n",
    "arr_ori = np.random.rand(2, 3, 5, 7)\n",
    "arr_reshaped = arr_ori.reshape((3, 5, 2, 7))\n",
    "\n",
    "# Two indices for each array: These are chosen to be linear index (or flattened index) = 122 (less than 2*3*5*7 = 210)\n",
    "ind_ori = (1,0,2,3)\n",
    "ind_reshaped = (1,3,1,3)\n",
    "\n",
    "# print the values of the two indices\n",
    "print(\"original:\", ind_ori, arr_ori[ind_ori])\n",
    "print(\"reshaped:\", ind_reshaped, arr_reshaped[ind_reshaped])\n",
    "\n",
    "# print the linear index of the two indices\n",
    "print(\"linear index of original array:\", np.ravel_multi_index(ind_ori, (2,3,5,7)))\n",
    "print(\"linear index of reshaped array:\", np.ravel_multi_index(ind_reshaped, (3,5,2,7)))\n"
   ]
  },
  {
   "cell_type": "markdown",
   "metadata": {},
   "source": [
    "##### Transpose data access: permutation\n",
    "\n",
    "- 1D array: `transpose` does NOTHING.\n",
    "- 2D array: `transpose` behaves the same way as matrix transpose.\n",
    "- High-diminsional array: Use permutation (usually a `tuple` of indices) to specify transpositions.\n",
    "  - Supposing we have named `perm` our permutation as in the example below, `perm` represents the *resulting* dimensions in terms of the origianl dimensions: `perm[i]`-th dimension of the new array = i-th dimension of the original array. (See the summary below.)\n",
    "\n",
    "> **Summary**\n",
    "> \n",
    "> Given `new = old.transpose(perm)`, we have\n",
    "> \n",
    "> - `new.shape[i] == old.shape[perm[i]] for i in range(old.ndim)` \n",
    "> - `old[ind_old] == new[ind_new]` iff `np.all([ind_new[i]==ind_old[perm[i]] for i in range(old.ndim)])` "
   ]
  },
  {
   "cell_type": "code",
   "execution_count": 34,
   "metadata": {},
   "outputs": [
    {
     "name": "stdout",
     "output_type": "stream",
     "text": [
      "[True, True, True, True]\n",
      "[True, True, True, True]\n",
      "original: (1, 0, -1, 5) 0.02619612663819626\n",
      "reshaped: (-1, 1, 5, 0) 0.02619612663819626\n",
      "Entry equality condition: True\n"
     ]
    }
   ],
   "source": [
    "import numpy as np\n",
    "\n",
    "# create an array with random entries, and its reshape\n",
    "arr_ori = np.random.rand(2, 3, 5, 7)\n",
    "\n",
    "# permutation of dimensions for transpose\n",
    "# new.shape[i] = old.shape[perm[i]] for i = 0, 1, 2, 3\n",
    "perm = (2, 0, 3, 1)\n",
    "arr_transposed = arr_ori.transpose(perm)\n",
    "\n",
    "# check the shape of the two arrays\n",
    "print([arr_transposed.shape[i] == arr_ori.shape[perm[i]] for i in range(arr_ori.ndim)])\n",
    "\n",
    "# Two indices using a permutation of dimensions\n",
    "ind_ori = (1,0,-1,5)\n",
    "ind_transposed = (-1,1,5,0)\n",
    "\n",
    "# print the values of the two indices\n",
    "print(\"original:\", ind_ori, arr_ori[ind_ori])\n",
    "print(\"reshaped:\", ind_transposed, arr_transposed[ind_transposed])\n",
    "print(\"Entry equality condition:\", np.all([ind_transposed[i]==ind_ori[perm[i]] for i in range(arr_ori.ndim)]))"
   ]
  },
  {
   "cell_type": "markdown",
   "metadata": {},
   "source": [
    "We can make the index conversion as a function to reuse conveniently."
   ]
  },
  {
   "cell_type": "code",
   "execution_count": 36,
   "metadata": {},
   "outputs": [
    {
     "name": "stdout",
     "output_type": "stream",
     "text": [
      "[True, True, True, True]\n",
      "original: (1, 0, -1, 5) 0.02619612663819626\n",
      "reshaped: (-1, 1, 5, 0) 0.02619612663819626\n",
      "Entry equality condition: True\n"
     ]
    }
   ],
   "source": [
    "def permute_index(ind_ori, perm):\n",
    "    \"\"\"Permute the index according to the permutation of dimensions\n",
    "\n",
    "    INPUTS:\n",
    "    -------\n",
    "    ind_ori: tuple\n",
    "        original index\n",
    "    perm: tuple\n",
    "        permutation of dimensions\n",
    "    OUTPUTS:\n",
    "    --------\n",
    "    ind_permuted: tuple\n",
    "        permuted index\n",
    "    \"\"\"\n",
    "    ind_permuted = tuple([ind_ori[perm[i]] for i in range(len(ind_ori))])\n",
    "    return ind_permuted\n",
    "\n",
    "ind_transposed = permute_index(ind_ori, perm) # using a function\n",
    "\n",
    "# check the index matching of the two arrays\n",
    "print([ind_transposed[i] == ind_ori[perm[i]] for i in range(arr_ori.ndim)])\n",
    "\n",
    "# print the values of the two indices\n",
    "print(\"original:\", ind_ori, arr_ori[ind_ori])\n",
    "print(\"reshaped:\", ind_transposed, arr_transposed[ind_transposed])\n",
    "print(\"Entry equality condition:\", np.all([ind_transposed[i]==ind_ori[perm[i]] for i in range(arr_ori.ndim)]))"
   ]
  },
  {
   "cell_type": "markdown",
   "metadata": {},
   "source": [
    "**Inversion of transpose**\n",
    "\n",
    "- Apply the inverse permutation.\n",
    "- NumPy offers `argsort` for this purpose (see the example below).\n",
    "- More explicitly, the inverse permutation is obtained by creating an array with its `perm[i]`-th entry being `i` back as its original had: `inv_perm[perm[i]]=i` for `i range in len(perm)`. A vectorized version reads: `inv_perm = np.zeros(len(perm), dtype=np.int64); inv_perm[perm] = arange(len(perm));`.\n",
    "- (Wrong way) Applying the same permutation twice results in something different since a permutation squared is not the identity permutation except for some special cases (with multipication being interpreted as compositions).\n",
    "\n",
    "> **Summary** (inversion of transposition)\n",
    "> \n",
    "> Given `perm` is used for transposition,\n",
    ">\n",
    "> - `arr_ori == arr_transposed.transpose(inv_perm)` iff `inv_perm == np.argsort(perm)`"
   ]
  },
  {
   "cell_type": "code",
   "execution_count": 49,
   "metadata": {},
   "outputs": [
    {
     "name": "stdout",
     "output_type": "stream",
     "text": [
      "original shape: (2, 3, 5, 7)\n",
      "transposed shape: (5, 2, 7, 3)\n",
      "(WRONG inversion) transposing twice using the same permutation: (7, 5, 3, 2)\n",
      "back to origianl (argsort): (2, 3, 5, 7)\n",
      "back to origianl (manual): (2, 3, 5, 7)\n",
      "Inverse permutation condition check: True\n",
      "Inverse permutation condition check: True\n"
     ]
    }
   ],
   "source": [
    "# inverting transposition using `argsort`, manual, vectorized manual\n",
    "inv_perm = np.argsort(perm)\n",
    "inv_perm_manual = (1,3,0,2)\n",
    "inv_perm_manual2 = np.zeros(len(perm), dtype=np.int64)\n",
    "inv_perm_manual2[np.array(perm)] = np.arange(len(perm))\n",
    "\n",
    "print(\"original shape:\", arr_ori.shape)\n",
    "print(\"transposed shape:\", arr_transposed.shape)\n",
    "print(\"(WRONG inversion) transposing twice using the same permutation:\", arr_transposed.transpose(perm).shape)\n",
    "print(\"back to origianl (argsort):\", arr_transposed.transpose(np.argsort(perm)).shape)\n",
    "print(\"back to origianl (manual):\", arr_transposed.transpose(inv_perm_manual).shape)\n",
    "\n",
    "print(\"Inverse permutation condition check:\", np.all(inv_perm_manual == np.argsort(perm)))\n",
    "print(\"Inverse permutation condition check:\", np.all(inv_perm_manual == inv_perm_manual2))"
   ]
  },
  {
   "cell_type": "markdown",
   "metadata": {},
   "source": [
    "### Appendix"
   ]
  },
  {
   "cell_type": "markdown",
   "metadata": {},
   "source": [
    "#### Test: `where` vs mask for piece-wise functions"
   ]
  },
  {
   "cell_type": "code",
   "execution_count": null,
   "metadata": {},
   "outputs": [],
   "source": [
    "import numpy as np\n",
    "from time import time\n",
    "\n",
    "T = 10**3\n",
    "N = 10**3\n",
    "L = 100\n",
    "xx = np.linspace(0, L, N)\n",
    "yy = np.linspace(0, L, N)\n",
    "xx, yy = np.meshgrid(xx, yy, indexing='ij')\n",
    "\n",
    "fns = [[lambda x,y: x+y, lambda x,y: x**2 + yy**2],\n",
    "        [lambda x,y: x-y, lambda x,y: x**2 - yy**2]]\n",
    "masks = [[(xx > 0.5) * (yy > 0.5), (xx > 0.5) * (yy <= 0.5)],\n",
    "         [(xx <= 0.5) * (yy > 0.5), (xx <= 0.5) * (yy <= 0.5)]]\n",
    "\n",
    "\n",
    "start = time()\n",
    "for _ in range(N):\n",
    "    zz = np.where(masks[0][0], fns[0][0](xx, yy), fns[0][1](xx, yy))\n",
    "end = time()\n",
    "print(\"time taken by where:                     \", end - start, \"(sec)\")\n",
    "\n",
    "start = time()\n",
    "for _ in range(N):\n",
    "    zz = masks[0][0]*fns[0][0](xx, yy) + (~ masks[0][0]) * fns[0][1](xx, yy)\n",
    "end = time()\n",
    "print(\"time taken by multiplication by bools:   \", end - start, \"(sec)\")\n"
   ]
  },
  {
   "cell_type": "markdown",
   "metadata": {},
   "source": [
    "#### Test: `piecewise` vs mask for piece-wise functions"
   ]
  },
  {
   "cell_type": "code",
   "execution_count": null,
   "metadata": {},
   "outputs": [],
   "source": [
    "import numpy as np\n",
    "from time import time\n",
    "\n",
    "T = 10**4\n",
    "N = 10**4\n",
    "L = 100.0\n",
    "xx = np.linspace(0, L, N)\n",
    "\n",
    "fns = [lambda x: 2*x, lambda x: x**2, lambda x: x**3, lambda x: np.sin(x)]\n",
    "masks = [(xx < L/4) &  (xx >= 0), (xx < L/2) &  (xx >= L/4), (xx < 3*L/2) &  (xx >= L/2), (xx >= 3*L/4)]\n",
    "\n",
    "\n",
    "start = time()\n",
    "for _ in range(T):\n",
    "    zz = np.piecewise(xx, masks, fns)\n",
    "end = time()\n",
    "print(\"time taken by piecewise:                 \", end - start, \"(sec)\")\n",
    "\n",
    "start = time()\n",
    "for _ in range(T):\n",
    "    zz = masks[0]*fns[0](xx) + masks[1]*fns[1](xx) + masks[2]*fns[2](xx) + masks[3]*fns[3](xx)\n",
    "end = time()\n",
    "print(\"time taken by multiplication by bools:   \", end - start, \"(sec)\")\n"
   ]
  },
  {
   "cell_type": "markdown",
   "metadata": {},
   "source": [
    "#### Test: Vectorized vs `for`-loop\n",
    "\n",
    "Task: Blurring an image\n",
    "\n"
   ]
  },
  {
   "cell_type": "code",
   "execution_count": null,
   "metadata": {},
   "outputs": [],
   "source": [
    "import numpy as np\n",
    "import matplotlib.pyplot as plt\n",
    "from time import time\n",
    "from personaltools.numpyrelatedtools import check_np_dim\n",
    "\n",
    "img = plt.imread('images/citystreet.jpg')\n",
    "\n",
    "# vectorized blurring\n",
    "start = time()\n",
    "\n",
    "# top = img[:-2, 1:-1, :]\n",
    "# bottom = img[2:, 1:-1, :]\n",
    "# left = img[1:-1, :-2, :]\n",
    "# right = img[1:-1, 2:, :]\n",
    "# center = img[1:-1, 1:-1, :]\n",
    "\n",
    "# apply average many times\n",
    "blurred_img1 = img[:, :]\n",
    "\n",
    "for i in range(1):\n",
    "    top = blurred_img1[:-2, 1:-1]\n",
    "    bottom = blurred_img1[2:, 1:-1]\n",
    "    left = blurred_img1[1:-1, :-2]\n",
    "    right = blurred_img1[1:-1, 2:]\n",
    "    center = blurred_img1[1:-1, 1:-1]\n",
    "\n",
    "    blurred_img1 = (top + bottom + left + right + center)/5\n",
    "\n",
    "end = time()\n",
    "\n",
    "fig, ax = plt.subplots(1,3, figsize=(15, 30))\n",
    "ax[0].imshow(img)\n",
    "ax[1].imshow(blurred_img1)\n",
    "\n",
    "print(\"time taken by vectorized code:   \", end - start, \"(sec)\")\n",
    "check_np_dim(img, 'img', suppress_arr=True)\n",
    "\n",
    "if True:\n",
    "    start = time()\n",
    "    Nrow, Ncol = img.shape\n",
    "    blurred_img2 = np.zeros((Nrow - 2, Ncol - 2))\n",
    "    for i in range(Nrow - 2):\n",
    "        for j in range(Ncol - 2):\n",
    "            # blurred = (center + top + bottom + left + right)/5\n",
    "            blurred_img2[i, j] = (img[i+1, j+1] + img[i, j+1] + img[i+2, j+1] + img[i+1, j] + img[i+1, j+2])/5\n",
    "    end = time()\n",
    "    print(\"time taken by for-loop:          \", end - start, \"(sec)\")\n",
    "    ax[2].imshow(blurred_img2)"
   ]
  },
  {
   "cell_type": "markdown",
   "metadata": {},
   "source": [
    "#### For Matlab users\n",
    "\n",
    "If you are proficient in Matlab and want to leverage that skills for NumPy, the following will help.\n",
    "\n",
    "- [NumPy for MATLAB users (from NumPy documentation)](https://numpy.org/doc/stable/user/numpy-for-matlab-users.html)\n",
    "\n",
    "- [Thesaurus of Mathematical Languages,\n",
    "or MATLAB synonymous commands in Python/NumPy](https://mathesaurus.sourceforge.net/)"
   ]
  },
  {
   "cell_type": "markdown",
   "metadata": {},
   "source": [
    "#### Not recommended but just in case"
   ]
  },
  {
   "cell_type": "markdown",
   "metadata": {},
   "source": [
    "##### Implementation of piece-wise function of three cases using `numpy.where`\n",
    "\n",
    "I recommend using masking for the following implementation. But anyway, it is possible.\n",
    "\n",
    "$$ y = \\begin{cases}\n",
    "        100 & (0 \\le x \\le 5)\n",
    "        \\\\\n",
    "        -1 & (x < 5 < 10)\n",
    "        \\\\\n",
    "        5x & (\\text{otherwise})\n",
    "        \\end{cases}\n",
    "$$"
   ]
  },
  {
   "cell_type": "code",
   "execution_count": null,
   "metadata": {},
   "outputs": [],
   "source": [
    "\n",
    "# piece-wise operation using `where`\n",
    "x = np.arange(18).reshape((3,-1))\n",
    "y = np.where((x > 5) & (x < 10), -1, \n",
    "        np.where((x >= 0) & (x <=5), -100, 5 * x))\n",
    "print(x)\n",
    "print(y)"
   ]
  },
  {
   "cell_type": "code",
   "execution_count": null,
   "metadata": {},
   "outputs": [],
   "source": [
    "# Why is the previous code true?\n",
    "print(\"     Case: false\")\n",
    "print(np.where((x >= 0) & (x <=5), -100, 5 * x))\n",
    "print(\"     Case: true\")\n",
    "print(np.where((x > 5) & (x < 10), -1,5 * x))\n",
    "print(\"     Combined\")\n",
    "print(np.where((x > 5) & (x < 10), -1,\n",
    "        np.where((x >= 0) & (x <=5), -100, 5 * x)))\n"
   ]
  },
  {
   "cell_type": "markdown",
   "metadata": {},
   "source": [
    "#### PyTorch and NumPy: Differences\n",
    "\n",
    "PyTorch, which is a popular tool for implementing neural networks, is also used as a scientific computing. The developers of PyTorch have emulated NumPy. But there are some different conventions for the same or similar functionalities. The primary reason for the change of names appears to make things more suggestive of what they really give.\n",
    "\n",
    "Setting: `arr` is a numpy array and `tsr` is a torch Tensor.\n",
    "\n",
    "| | NumPy | PyTorch |\n",
    "|:-:|:-:|:-:|\n",
    "| main object | `array` (`numpy.array`) | `tensor` (`torch.tensor`) |\n",
    "| total dimensionality | `arr.ndim` | `arr.ndim` |\n",
    "| organization of array | `arr.shape` | `tsr.size()`|\n",
    "| total number of entries | `arr.size` | `tsr.numel()`|"
   ]
  },
  {
   "cell_type": "code",
   "execution_count": 8,
   "metadata": {},
   "outputs": [
    {
     "name": "stdout",
     "output_type": "stream",
     "text": [
      "numpy arr:  [0 1 2 3 4]\n",
      "  - type:  <class 'numpy.ndarray'>\n",
      "  - shape:  (5,)\n",
      "  - size:  5\n",
      "  - ndim:  1\n",
      "torch tsr:  tensor([0, 1, 2, 3, 4])\n",
      "  - type:  <class 'torch.Tensor'>\n",
      "  - shape:  torch.Size([5])\n",
      "  - size():  torch.Size([5])\n",
      "  - size:  <built-in method size of Tensor object at 0x7fc2213a5950>\n",
      "  -nelm:  5\n",
      "  - ndim:  1\n"
     ]
    }
   ],
   "source": [
    "import torch as tc\n",
    "import numpy as np\n",
    "\n",
    "arr = np.arange(5)\n",
    "tsr = tc.from_numpy(arr)\n",
    "\n",
    "print(\"numpy arr: \", arr)\n",
    "print(\"  - type: \", type(arr))\n",
    "print(\"  - ndim: \", arr.ndim)\n",
    "print(\"  - shape: \", arr.shape)\n",
    "print(\"  - size: \", arr.size)\n",
    "\n",
    "print(\"torch tsr: \", tsr)\n",
    "print(\"  - type: \", type(tsr))\n",
    "print(\"  - ndim: \", tsr.ndim)\n",
    "print(\"  - shape: \", tsr.shape)\n",
    "print(\"  - size(): \", tsr.size())\n",
    "print(\"  - size: \", tsr.size)\n",
    "print(\"  - nelm: \", tsr.numel())\n"
   ]
  }
 ],
 "metadata": {
  "kernelspec": {
   "display_name": "ptrch",
   "language": "python",
   "name": "ptrch"
  },
  "language_info": {
   "codemirror_mode": {
    "name": "ipython",
    "version": 3
   },
   "file_extension": ".py",
   "mimetype": "text/x-python",
   "name": "python",
   "nbconvert_exporter": "python",
   "pygments_lexer": "ipython3",
   "version": "3.9.1"
  },
  "orig_nbformat": 4
 },
 "nbformat": 4,
 "nbformat_minor": 2
}
