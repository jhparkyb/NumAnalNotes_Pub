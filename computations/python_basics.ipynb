{
 "cells": [
  {
   "cell_type": "markdown",
   "metadata": {},
   "source": [
    "## Python basics for scientific computing"
   ]
  },
  {
   "cell_type": "markdown",
   "metadata": {},
   "source": [
    "### About\n",
    "\n",
    "This is part of lecture notes of Math 104A *Introductory Numerical Analysis* course offered at the University of California Santa Barbara (Fall 2023). \n",
    "Author: Jea-Hyun Park\n",
    "\n",
    "---\n",
    "This work is licensed under [Creative Commons Attribution-ShareAlike 4.0 International](https://creativecommons.org/licenses/by-sa/4.0/)\n",
    "Part of the content of this notebook is borrowed from the reference mentioned below. Thanks to all the authors sharing excellent knowledge."
   ]
  },
  {
   "cell_type": "markdown",
   "metadata": {},
   "source": [
    "### Take-aways\n",
    "\n",
    "After mastering this notebook, we will be able to\n",
    "\n",
    "- write simple codes that are useful in the context of numerical analysis,\n",
    "  - collect objects using `list`, `tuple`, and `dict`,\n",
    "  - have computer do repetitive tasks by using loops and functions.\n",
    "- write working codes,\n",
    "  - clearly distinguish data types,\n",
    "  - be aware of the difference between assignment by reference and assignment by copying, and choose the right way depending what you want,\n",
    "- write efficient codes,\n",
    "  - use list-, tuple-, and dictionary-comprehension to write concise codes,\n",
    "  - use packing and unpacking to write concise codes,\n",
    "  - be aware of difference between `list`, `tuple`, and `dict`, and choose the right one depending on what you want,\n",
    "- build good coding practices,\n",
    "  - build a program by breaking down to smaller pieces and by testing it step by step, \n",
    "  - test similar codes when you are not sure which one is better,"
   ]
  },
  {
   "cell_type": "markdown",
   "metadata": {},
   "source": [
    "### References\n",
    "\n",
    "#### References for assumed knowledge\n",
    "\n",
    "This notebook collects only essentials for scientific computing. For a comprehensive discussion on Python (i.e., even more basic syntax such as `if`,`for`, `while` or more advanced discussions), refer to the following.\n",
    "\n",
    "| Reference | Brief description |\n",
    "|---|---|\n",
    "| [Python Programming And Numerical Methods: A Guide For Engineers And Scientists](https://pythonnumericalmethods.berkeley.edu/notebooks/Index.html) (online book) | Chapters 1-13 covers Python. After that, it covers typical topics of introductory numerical analysis. Good for refresher of elements of programming: `if`, `for`-loop, `while`-loop, etc. |\n",
    "|[Scientific Python Lectures](https://lectures.scientific-python.org/index.html) (online booklet) | Chapters 1.1-1.4 summarizes Python and NumPy.This is less comprehensive than *Python Programming And Numerical Methods: A Guide For Engineers And Scientists*, but more concise. |\n",
    "| [The Python Tutorial](https://docs.python.org/3/tutorial/) (online document) | Tutoral offered by the official Python website. As your Python knowledge gets advanced, what is written by the author of the language will become the most reliable and powerful resources. |\n",
    "\n",
    "#### Further references\n",
    "\n",
    "Some of the examples are inspired or borrowed from the following video lectures. While they are excellent lectures, they are geared towards more general programming but not particularly scientific computing. So, I do not recommend watching them for this course. I mention them to make the reference complete.\n",
    "\n",
    "- [Harvard CS50’s Introduction to Programming with Python](https://youtu.be/nLRL_NcnK-4)\n",
    "- [Intermediate Python Programming Course](https://youtu.be/HGOBQPFzWKo)"
   ]
  },
  {
   "cell_type": "markdown",
   "metadata": {},
   "source": [
    "### Opening warning and advice\n",
    "\n",
    "> ***Warning on libraries***\n",
    ">\n",
    "> - In this course, we will use **only** `numpy` (for computation) and `matplotlib` (for visualization). Unless there is a special need, sticking to these two does the best job for most scientific computing. \n",
    "> - In particular, **DO NOT USE** `sympy` (which is for symbolic mathematics) or `scipy` (higher-level scientific computing tool) in this course. \n",
    "\n",
    "Reasons\n",
    "\n",
    "- Each library has their own philosophy and context that they target. Mixing them may well result in confusions if you don't have a complete knowledge. \n",
    "- Overly high-level tools do not suit the *analysis* aspect of 'numerical analysis'. You are expected to hand calculate simple mathematics. And **knowing what is really happening behind high-level tools are the goal** of this course!\n"
   ]
  },
  {
   "cell_type": "markdown",
   "metadata": {},
   "source": [
    "> ***Advice***\n",
    ">\n",
    "> Do your best to use precise terminology. \n",
    "\n",
    "Everybody learns new things with impressions, images, and rough descriptions. But once you have grasped good enough ideas, use official names. It will pay off when you search further details and communicate with others about your issues or your ideas. There are so many similar-looking things that behave differently. For example, `list`, `tuple`, `dict`, and `numpy.ndarray` all contain many smaller things but work differently. If you ask for help with a bug saying 'I have this collection of numbers bla bla' or 'I created a vector bla bla', people may be able to understand the outline, but not what is the real issue with your code. Because there are many ways to contruct, say, a vector on computer. Instead, try to say 'I create a numpy array (i.e., `numpy.ndarray`) for a vector bla bla.' "
   ]
  },
  {
   "cell_type": "markdown",
   "metadata": {},
   "source": [
    "### Variables, functions, and objects\n",
    "\n",
    "![variables, functions, and objects](https://jhparkyb.github.io/resources/images/computation/var_fn_obj.png)"
   ]
  },
  {
   "cell_type": "markdown",
   "metadata": {},
   "source": [
    "### Basic math operations (native Python)\n",
    "\n",
    "- `+`, `-`, `*`, `/` (quotient; real division)\n",
    "- `//` (quotient; integer division), `%` (modulo)\n",
    "- `**` power"
   ]
  },
  {
   "cell_type": "code",
   "execution_count": 32,
   "metadata": {},
   "outputs": [
    {
     "name": "stdout",
     "output_type": "stream",
     "text": [
      "1.6666666666666667\n",
      "1\n",
      "2\n",
      "125\n"
     ]
    }
   ],
   "source": [
    "print(5/3)\n",
    "print(5//3)\n",
    "print(5%3)\n",
    "print(5**3)"
   ]
  },
  {
   "cell_type": "markdown",
   "metadata": {},
   "source": [
    "#### Functions"
   ]
  },
  {
   "cell_type": "markdown",
   "metadata": {},
   "source": [
    "##### Explicit function"
   ]
  },
  {
   "cell_type": "markdown",
   "metadata": {},
   "source": [
    "> ***Docstring***\n",
    ">\n",
    "> The text under triple quotes apppears when you use the function as a \"help text\", called *docstring*. It is the standard place to put comments."
   ]
  },
  {
   "cell_type": "code",
   "execution_count": 1,
   "metadata": {},
   "outputs": [
    {
     "name": "stdout",
     "output_type": "stream",
     "text": [
      "slope determined by (0,7) and (3,7) is 0.0\n"
     ]
    }
   ],
   "source": [
    "def diff_quot(x1, y1, x2, y2):\n",
    "    \"\"\"This function returns the different quotient of two points given.\n",
    "    INPUT:\n",
    "        x1 (float), y1 (float): x- and y- coordiates of 1st point (x1, y1) in xy-plane.\n",
    "        x2 (float), y2 (float): x- and y- coordiates of 2nd point (x2, y2) in xy-plane.\n",
    "    OUTPUT:\n",
    "        m (float): slope deterined by (x1, y1) and (x2, y2)\n",
    "    \"\"\"\n",
    "    m = (y2 - y1) / (x2 - x1) #(x2 - x1)/(y2 - y1)\n",
    "    return m\n",
    "\n",
    "x1 = 0\n",
    "y1 = 7\n",
    "\n",
    "x2 = 3\n",
    "y2 = 7\n",
    "\n",
    "m = diff_quot(x1, y1, x2, y2)\n",
    "\n",
    "print(f\"slope determined by ({x1},{y1}) and ({x2},{y2}) is {m}\")"
   ]
  },
  {
   "cell_type": "code",
   "execution_count": 2,
   "metadata": {},
   "outputs": [
    {
     "ename": "TypeError",
     "evalue": "diff_quot() missing 4 required positional arguments: 'x1', 'y1', 'x2', and 'y2'",
     "output_type": "error",
     "traceback": [
      "\u001b[0;31m---------------------------------------------------------------------------\u001b[0m",
      "\u001b[0;31mTypeError\u001b[0m                                 Traceback (most recent call last)",
      "\u001b[1;32m/Users/yb/Desktop/Insync/jhpofficedrive/Teaching/2023F_104A/NumAnalNotes_Pub/computations/python_basics.ipynb Cell 14\u001b[0m in \u001b[0;36m2\n\u001b[1;32m      <a href='vscode-notebook-cell:/Users/yb/Desktop/Insync/jhpofficedrive/Teaching/2023F_104A/NumAnalNotes_Pub/computations/python_basics.ipynb#Y135sZmlsZQ%3D%3D?line=0'>1</a>\u001b[0m \u001b[39m# test docstring\u001b[39;00m\n\u001b[0;32m----> <a href='vscode-notebook-cell:/Users/yb/Desktop/Insync/jhpofficedrive/Teaching/2023F_104A/NumAnalNotes_Pub/computations/python_basics.ipynb#Y135sZmlsZQ%3D%3D?line=1'>2</a>\u001b[0m diff_quot()\n",
      "\u001b[0;31mTypeError\u001b[0m: diff_quot() missing 4 required positional arguments: 'x1', 'y1', 'x2', and 'y2'"
     ]
    }
   ],
   "source": [
    "# test docstring\n",
    "diff_quot()"
   ]
  },
  {
   "cell_type": "markdown",
   "metadata": {},
   "source": [
    "##### Lambda function (anonymous function)\n",
    "\n",
    "- Sometimes, one liner function is desirable for efficiency. \n",
    "- Use `lambda` keyword, hence the name. See the syntax below.\n",
    "- `lambda` function can treat main inputs and other parameters separately. (see below for details)"
   ]
  },
  {
   "cell_type": "code",
   "execution_count": 8,
   "metadata": {},
   "outputs": [
    {
     "name": "stdout",
     "output_type": "stream",
     "text": [
      "1.0\n",
      "8\n",
      "27\n",
      "64\n"
     ]
    }
   ],
   "source": [
    "# syntax: (fn name) = lambda (parameters): (expression)\n",
    "f = lambda x1, y1, x2, y2: (y2 - y1) / (x2 - x1)\n",
    "\n",
    "print(f(1,2,3,4))\n",
    "\n",
    "# lambda function can treat main inputs and other parameters separately\n",
    "# g(x) = x^p\n",
    "p = 3\n",
    "g = lambda x, p: x**p\n",
    "\n",
    "print(g(2, p))\n",
    "print(g(3, p))\n",
    "print(g(4, p))"
   ]
  },
  {
   "cell_type": "markdown",
   "metadata": {},
   "source": [
    "### Data types of Python"
   ]
  },
  {
   "cell_type": "markdown",
   "metadata": {},
   "source": [
    "#### Overview\n",
    "\n",
    "Without a clear picture of data types, one cannot communicate with a programming language or libraries. \n",
    "\n",
    "***Reminder***: Use precise terminology.\n",
    "\n",
    "![Python Data types](https://media.geeksforgeeks.org/wp-content/uploads/20191023173512/Python-data-structure.jpg)\n",
    "\n",
    "Figure: *geeksforgeek.org*\n",
    "\n",
    "> ***Note***\n",
    "> \n",
    "> In scientific computation, we use other libraries (such as `numpy`) to deal with numbers. This means: \n",
    "> - We don't use numeric data type of the native Python for main computations. \n",
    "> - Instead, we use numeric data types of the libraries. In this course, we use Numpy library. So, pay speicial attention when data types of Numpy are introduced.\n",
    "> - We still use other data types of Python, e.g., `list`, `dict`, etc. For example, we can use `list` to collect *functions*."
   ]
  },
  {
   "cell_type": "markdown",
   "metadata": {},
   "source": [
    "Most useful data types of native Python in scientific computing\n",
    "\n",
    "##### Building blocks\n",
    "\n",
    "| Data type | Python object | Brief description |\n",
    "|---|---|---|\n",
    "| Boolean | `bool` | `True` or `False` |\n",
    "| String | `str` | Collection of letters (i.e., sentences) |\n",
    "| integer | `int` | used as numbers or index\n",
    "| real number | `float` | used as numbers |"
   ]
  },
  {
   "cell_type": "markdown",
   "metadata": {},
   "source": [
    "\n",
    "##### Sequence type\n",
    "\n",
    "| Data type | Python object | Brief description | Access entries |\n",
    "|---|---|---|---|\n",
    "| List | `list` | A container/collection of any other objects | By index |\n",
    "| Tuple | `tuple` | A simpler version of `list` (more efficient but less functionalities) | By index |\n",
    "| Dictionary | `dict`| A container/collection of any other objects together with their names (called *key*) | By key | \n"
   ]
  },
  {
   "cell_type": "markdown",
   "metadata": {},
   "source": [
    "#### String"
   ]
  },
  {
   "cell_type": "markdown",
   "metadata": {},
   "source": [
    "##### Basics: creation, + and *,  strip\n",
    "\n",
    "- Double quotes (`\"text\"`) and single quotes (`'text'`) do the same job. \n",
    "- However, when the text itself contains quotation marks, single quotes must be inside double quotes, or the other way around.\n",
    "- `\"\\n\"` stands for *new line*. "
   ]
  },
  {
   "cell_type": "code",
   "execution_count": 4,
   "metadata": {},
   "outputs": [
    {
     "name": "stdout",
     "output_type": "stream",
     "text": [
      "Hello world! Hello world! True\n",
      "'Hellow world!' shows up too often in programming.\n",
      "Hello world! This is M104A.\n",
      "Hello world! This is M104A.Hello world! This is M104A.Hello world! This is M104A.\n",
      "Hello world! This is M104A.\n",
      "Hello world! This is M104A.\n",
      "Hello world! This is M104A.\n",
      "\n",
      "Hello      there\n"
     ]
    }
   ],
   "source": [
    "# string\n",
    "string1 = \"Hello world!\"\n",
    "string2 = 'Hello world!'\n",
    "print(string1, string2, string1 == string2)\n",
    "\n",
    "# single quotes inside double quotes\n",
    "print(\"'Hellow world!' shows up too often in programming.\")\n",
    "\n",
    "# '+' and '*'\n",
    "string3 = string1 + \" This is M104A.\"\n",
    "print(string3)\n",
    "print(string3 * 3)\n",
    "print((string3 + '\\n') * 3)\n",
    "\n",
    "# strip: get rid of spaces from the front and back\n",
    "msg = \"      Hello      there      \"\n",
    "print(msg.strip())"
   ]
  },
  {
   "cell_type": "markdown",
   "metadata": {},
   "source": [
    "##### lower, upper, split, join\n",
    "\n",
    "- `split`: `str` --> `list`\n",
    "- `join`: `list` --> `str`"
   ]
  },
  {
   "cell_type": "code",
   "execution_count": 9,
   "metadata": {},
   "outputs": [
    {
     "name": "stdout",
     "output_type": "stream",
     "text": [
      "hello world\n",
      "HELLO WORLD\n",
      "['Hello', 'world.', 'I', 'am', 'YB']\n",
      "['Hello world', 'I am YB']\n",
      "Hello worldI am YB\n",
      "Hello world. I am YB\n"
     ]
    }
   ],
   "source": [
    "# lower, upper\n",
    "msg = \"Hello World\"\n",
    "print(msg.lower())\n",
    "print(msg.upper())\n",
    "\n",
    "# str to list: split\n",
    "msg = \"Hello world. I am YB\"\n",
    "lst = msg.split() # default delimiter is ' '\n",
    "print(lst)\n",
    "lst = msg.split('. ')\n",
    "print(lst) # delimiter can be any substring\n",
    "\n",
    "# list to str: join\n",
    "msg2 = ''.join(lst)\n",
    "print(msg2)\n",
    "msg3 = '. '.join(lst) # the parent str of 'join' (here, ' ') is inserted between words from the argument list (here, lst)\n",
    "print(msg3)\n"
   ]
  },
  {
   "cell_type": "markdown",
   "metadata": {},
   "source": [
    "##### f-string\n",
    "\n",
    "- Here, we are interested in **only basic usage** (see the examples below).\n",
    "- This is not the main point in this course. Nonetheless, if interested in more details, see the documentation.\n",
    "    - [f-string](https://docs.python.org/3/tutorial/inputoutput.html#formatted-string-literals)\n",
    "    - [formatted string mini-language](https://docs.python.org/3/library/string.html#format-string-syntax)"
   ]
  },
  {
   "cell_type": "code",
   "execution_count": 25,
   "metadata": {},
   "outputs": [
    {
     "name": "stdout",
     "output_type": "stream",
     "text": [
      "pi is approximately 3.14159265358979\n",
      "e is approximately 2.718\n",
      "pi    is approximately 3.14159265358979\n",
      "e     is approximately            2.718\n",
      "e     is approximately 2.718           \n",
      "e     is approximately         2.72e+00\n"
     ]
    }
   ],
   "source": [
    "# f-Strings (Since Python 3.6)\n",
    "text1 = 'pi'\n",
    "pi = 3.14159265358979\n",
    "\n",
    "msg = f\"{text1} is approximately {pi}\"\n",
    "print(msg)\n",
    "\n",
    "text2 = 'e'\n",
    "e = 2.718\n",
    "msg = f\"{text2} is approximately {e}\"\n",
    "print(msg)\n",
    "\n",
    "# You can align texts using format specification\n",
    "msg = f\"{text1:5} is approximately {pi:16}\"\n",
    "print(msg)\n",
    "\n",
    "text2 = 'e'\n",
    "e = 2.718\n",
    "msg = f\"{text2:5} is approximately {e:16}\"\n",
    "print(msg)\n",
    "msg = f\"{text2:5} is approximately {e:<16}\"\n",
    "print(msg)\n",
    "\n",
    "# You can change format without changing the variables\n",
    "msg = f\"{text2:5} is approximately {e:16.2e}\"\n",
    "print(msg)"
   ]
  },
  {
   "cell_type": "markdown",
   "metadata": {},
   "source": [
    "#### List\n",
    "\n",
    "Using `list`, you can collect many different objects. (See [sequence type data](#sequence-type) for a comparison of `list`, `tuple`, and `dict`)"
   ]
  },
  {
   "cell_type": "markdown",
   "metadata": {},
   "source": [
    "##### Basic manipluations 1: append, insert, remove\n",
    "\n",
    "> **Note** \n",
    "> \n",
    "> - Most methods of list modify the content. This is called the modification is done **in place**."
   ]
  },
  {
   "cell_type": "code",
   "execution_count": 1,
   "metadata": {},
   "outputs": [
    {
     "name": "stdout",
     "output_type": "stream",
     "text": [
      "original\n",
      "['a', 'b', 'c']\n"
     ]
    }
   ],
   "source": [
    "# insert an item\n",
    "lst = ['a', 'b', 'c']\n",
    "print(\"original\")\n",
    "print(lst)\n"
   ]
  },
  {
   "cell_type": "code",
   "execution_count": 3,
   "metadata": {},
   "outputs": [
    {
     "name": "stdout",
     "output_type": "stream",
     "text": [
      "c\n"
     ]
    }
   ],
   "source": [
    "# index starts with 0\n",
    "i = 0\n",
    "print(lst[2])"
   ]
  },
  {
   "cell_type": "code",
   "execution_count": 4,
   "metadata": {},
   "outputs": [
    {
     "name": "stdout",
     "output_type": "stream",
     "text": [
      "append\n",
      "['a', 'b', 'c', 'pi']\n"
     ]
    }
   ],
   "source": [
    "# Note: methods of list change the result\n",
    "lst.append('pi') # 'pi' is added as the last item\n",
    "print(\"append\")\n",
    "print(lst)\n"
   ]
  },
  {
   "cell_type": "code",
   "execution_count": 5,
   "metadata": {},
   "outputs": [
    {
     "name": "stdout",
     "output_type": "stream",
     "text": [
      "insert\n",
      "['a', 'z', 'b', 'c', 'pi']\n"
     ]
    }
   ],
   "source": [
    "\n",
    "# Note: methods of list change the result\n",
    "lst.insert(1, 'z') # 'z' inserted into the index 1\n",
    "print(\"insert\")\n",
    "print(lst)\n"
   ]
  },
  {
   "cell_type": "code",
   "execution_count": 6,
   "metadata": {},
   "outputs": [
    {
     "name": "stdout",
     "output_type": "stream",
     "text": [
      "remove 'a'\n",
      "['z', 'b', 'c', 'pi']\n"
     ]
    }
   ],
   "source": [
    "\n",
    "# remove a specific item\n",
    "lst.remove('a')\n",
    "print(\"remove 'a'\")\n",
    "print(lst)\n"
   ]
  },
  {
   "cell_type": "code",
   "execution_count": 7,
   "metadata": {},
   "outputs": [
    {
     "name": "stdout",
     "output_type": "stream",
     "text": [
      "clear\n",
      "[]\n"
     ]
    }
   ],
   "source": [
    "\n",
    "# remove all items\n",
    "lst.clear()\n",
    "print(\"clear\")\n",
    "print(lst)\n"
   ]
  },
  {
   "cell_type": "markdown",
   "metadata": {},
   "source": [
    "##### Basic manipulation: reverse, sort"
   ]
  },
  {
   "cell_type": "code",
   "execution_count": 8,
   "metadata": {},
   "outputs": [
    {
     "name": "stdout",
     "output_type": "stream",
     "text": [
      "original\n",
      "['apple', 'orange', 'banana']\n"
     ]
    }
   ],
   "source": [
    "lst = ['apple', 'orange', 'banana']\n",
    "print(\"original\")\n",
    "print(lst)\n"
   ]
  },
  {
   "cell_type": "code",
   "execution_count": 9,
   "metadata": {},
   "outputs": [
    {
     "name": "stdout",
     "output_type": "stream",
     "text": [
      "reverse\n",
      "['banana', 'orange', 'apple']\n"
     ]
    }
   ],
   "source": [
    "\n",
    "# reverse the order\n",
    "lst.reverse()\n",
    "print(\"reverse\")\n",
    "print(lst)\n"
   ]
  },
  {
   "cell_type": "code",
   "execution_count": 10,
   "metadata": {},
   "outputs": [
    {
     "name": "stdout",
     "output_type": "stream",
     "text": [
      "sort\n",
      "['apple', 'banana', 'orange']\n"
     ]
    }
   ],
   "source": [
    "\n",
    "# sort\n",
    "lst.sort()\n",
    "print(\"sort\")\n",
    "print(lst)"
   ]
  },
  {
   "cell_type": "markdown",
   "metadata": {},
   "source": [
    "##### Operations `+` and `*`"
   ]
  },
  {
   "cell_type": "code",
   "execution_count": 11,
   "metadata": {},
   "outputs": [
    {
     "name": "stdout",
     "output_type": "stream",
     "text": [
      "addition overloaded\n",
      "[0, 0, 0, 'a', 'b']\n"
     ]
    }
   ],
   "source": [
    "# addition overloaded\n",
    "lst = [0, 0, 0]\n",
    "print(\"addition overloaded\")\n",
    "print(lst + [\"a\", \"b\"])\n"
   ]
  },
  {
   "cell_type": "code",
   "execution_count": 12,
   "metadata": {},
   "outputs": [
    {
     "name": "stdout",
     "output_type": "stream",
     "text": [
      "multiplication overloaded\n",
      "[0, 1, 0, 1, 0, 1, 0, 1, 0, 1]\n"
     ]
    }
   ],
   "source": [
    "\n",
    "# multiplication overloaded\n",
    "lst = [0, 1] * 5\n",
    "print(\"multiplication overloaded\")\n",
    "print(lst)"
   ]
  },
  {
   "cell_type": "markdown",
   "metadata": {},
   "source": [
    "##### Slicing\n",
    "\n",
    "- Slicing is more useful when working with `numpy` arrays. So, we skip this for now. You can come back if you want to test it after practicing slicing in `numpy`.\n",
    "\n",
    "> **Note**: Slicing is **not done in place**."
   ]
  },
  {
   "cell_type": "code",
   "execution_count": 13,
   "metadata": {},
   "outputs": [
    {
     "name": "stdout",
     "output_type": "stream",
     "text": [
      "original\n",
      "[0, 1, 2, 3, 4, 5, 6, 7, 8, 9]\n"
     ]
    }
   ],
   "source": [
    "# start(inclusive):end(exclusive):step (default 0:length:1)\n",
    "ll = [i for i in range(10)]\n",
    "print(\"original\")\n",
    "print(ll[::])\n"
   ]
  },
  {
   "cell_type": "code",
   "execution_count": 14,
   "metadata": {},
   "outputs": [
    {
     "name": "stdout",
     "output_type": "stream",
     "text": [
      "2 steps; \n",
      "[0, 2, 4, 6, 8]\n"
     ]
    }
   ],
   "source": [
    "\n",
    "print(\"2 steps; \")\n",
    "print(ll[::2])\n"
   ]
  },
  {
   "cell_type": "code",
   "execution_count": 15,
   "metadata": {},
   "outputs": [
    {
     "name": "stdout",
     "output_type": "stream",
     "text": [
      "negative step\n",
      "[9, 8, 7, 6, 5, 4, 3, 2, 1, 0]\n"
     ]
    }
   ],
   "source": [
    "\n",
    "print(\"negative step\")\n",
    "print(ll[::-1])\n"
   ]
  },
  {
   "cell_type": "code",
   "execution_count": 16,
   "metadata": {},
   "outputs": [
    {
     "name": "stdout",
     "output_type": "stream",
     "text": [
      "original\n",
      "[0, 1, 2, 3, 4, 5, 6, 7, 8, 9]\n"
     ]
    }
   ],
   "source": [
    "\n",
    "print(\"original\")\n",
    "print(ll)"
   ]
  },
  {
   "cell_type": "markdown",
   "metadata": {},
   "source": [
    "#### Dict\n",
    "\n",
    "- Dictionary (`dict`) is a very useful tool to pack many different kinds of data, especially when there is no natural index to the pieces. (If there are such indices or if there are just a few pieces, `list` can be an option.)\n",
    "- Dictionary is a practical counterpart of `struct` in Matlab or C though not exactly the same."
   ]
  },
  {
   "cell_type": "markdown",
   "metadata": {},
   "source": [
    "##### Basic structure and terminology\n",
    "\n",
    "![structure and terminology of dictionary and list](https://i.imgur.com/84Pm85r.png)\n",
    "\n",
    "Figure: https://i.imgur.com/\n",
    "\n",
    "- Each pair (key, value) of a dictionary is called an **item**."
   ]
  },
  {
   "cell_type": "markdown",
   "metadata": {},
   "source": [
    "##### Basics: creation, delete item\n",
    "\n",
    "- Dict can start with empty and add entries later\n",
    "- `.pop(key)` deletes the item corresponding to `key`"
   ]
  },
  {
   "cell_type": "code",
   "execution_count": 3,
   "metadata": {},
   "outputs": [
    {
     "name": "stdout",
     "output_type": "stream",
     "text": [
      "George is 20 years old.\n"
     ]
    }
   ],
   "source": [
    "# dict {key: value}\n",
    "student = {\"name\": \"George\",\n",
    "        \"age\": 20}\n",
    "print(f\"{student['name']} is {student['age']} years old.\")\n"
   ]
  },
  {
   "cell_type": "code",
   "execution_count": 4,
   "metadata": {},
   "outputs": [
    {
     "name": "stdout",
     "output_type": "stream",
     "text": [
      "{'name': 'Harry', 'city': 'Goleta'}\n"
     ]
    }
   ],
   "source": [
    "\n",
    "# Dict can start with empty and add entries later\n",
    "friend = {}\n",
    "friend[\"name\"] = \"Harry\"\n",
    "friend[\"city\"] = \"Goleta\"\n",
    "print(friend)\n"
   ]
  },
  {
   "cell_type": "code",
   "execution_count": 5,
   "metadata": {},
   "outputs": [
    {
     "name": "stdout",
     "output_type": "stream",
     "text": [
      "{'name': 'Harry'}\n"
     ]
    }
   ],
   "source": [
    "\n",
    "# `del` keyword\n",
    "del friend[\"city\"]\n",
    "print(friend)\n"
   ]
  },
  {
   "cell_type": "code",
   "execution_count": 22,
   "metadata": {},
   "outputs": [
    {
     "name": "stdout",
     "output_type": "stream",
     "text": [
      "{'name': 'George'}\n"
     ]
    }
   ],
   "source": [
    "\n",
    "# `popitem` to delete the last item (from python 3.7; prior ver deletes a random item)\n",
    "student = {\"name\": \"George\",\n",
    "        \"age\": 20}\n",
    "student.popitem()\n",
    "print(student)"
   ]
  },
  {
   "cell_type": "markdown",
   "metadata": {},
   "source": [
    "##### Basics: search keys\n",
    "\n",
    "- Use `if`. You don't need to extract keys. Just use the whole dictionary. (see below)\n",
    "- Use `try` and `except`."
   ]
  },
  {
   "cell_type": "code",
   "execution_count": 23,
   "metadata": {},
   "outputs": [
    {
     "name": "stdout",
     "output_type": "stream",
     "text": [
      "['name', 'age', 'city']\n"
     ]
    }
   ],
   "source": [
    "dct = {'name': 'YB', 'age': 21, 'city': 'Goleta'}\n",
    "print(list(dct.keys()))\n"
   ]
  },
  {
   "cell_type": "code",
   "execution_count": 25,
   "metadata": {},
   "outputs": [
    {
     "name": "stdout",
     "output_type": "stream",
     "text": [
      "if statement  : There is no such a key\n"
     ]
    }
   ],
   "source": [
    "\n",
    "# search keys using `if`: no need to extract keys\n",
    "if 'school' in dct: \n",
    "    print(\"if statement  :\", \"'age' is a key of 'dct'\")\n",
    "else:\n",
    "    print(\"if statement  :\", \"There is no such a key\")\n"
   ]
  },
  {
   "cell_type": "code",
   "execution_count": 27,
   "metadata": {},
   "outputs": [
    {
     "name": "stdout",
     "output_type": "stream",
     "text": [
      "try and except: There is no such a key\n"
     ]
    }
   ],
   "source": [
    "\n",
    "# literally try using a key\n",
    "try:\n",
    "    print(\"try and except:\", dct['hobby'])\n",
    "except:\n",
    "    print(\"try and except:\", \"There is no such a key\")\n"
   ]
  },
  {
   "cell_type": "markdown",
   "metadata": {},
   "source": [
    "##### Basics: loop over keys, values, or both\n",
    "\n",
    "- If `keys()` or `values()` is not specified, Python loops over keys.\n",
    "- Use `items()` to loop over both."
   ]
  },
  {
   "cell_type": "code",
   "execution_count": 28,
   "metadata": {},
   "outputs": [
    {
     "name": "stdout",
     "output_type": "stream",
     "text": [
      "With no specification\n",
      "name age city \n"
     ]
    }
   ],
   "source": [
    "dct = {'name': 'YB', 'age': 31, 'city': 'Goleta'}\n",
    "\n",
    "# Python loops over keys if not specified\n",
    "print(\"With no specification\")\n",
    "for key in dct:\n",
    "    print(key, end=\" \")\n",
    "print(\"\")\n"
   ]
  },
  {
   "cell_type": "code",
   "execution_count": 29,
   "metadata": {},
   "outputs": [
    {
     "name": "stdout",
     "output_type": "stream",
     "text": [
      "With no specification 2\n",
      "name age city \n"
     ]
    }
   ],
   "source": [
    "\n",
    "# Python doesn't know if you want iterate over 'value'\n",
    "print(\"With no specification 2\")\n",
    "for value in dct:\n",
    "    print(value, end=\" \")\n",
    "print(\"\")\n"
   ]
  },
  {
   "cell_type": "code",
   "execution_count": 30,
   "metadata": {},
   "outputs": [
    {
     "name": "stdout",
     "output_type": "stream",
     "text": [
      "With specification dict.keys()\n",
      "name age city \n"
     ]
    }
   ],
   "source": [
    "\n",
    "print(\"With specification dict.keys()\")\n",
    "for key in dct.keys():\n",
    "    print(key, end=\" \")\n",
    "print(\"\")\n"
   ]
  },
  {
   "cell_type": "code",
   "execution_count": 31,
   "metadata": {},
   "outputs": [
    {
     "name": "stdout",
     "output_type": "stream",
     "text": [
      "With specification dict.values()\n",
      "YB 31 Goleta \n"
     ]
    }
   ],
   "source": [
    "\n",
    "# loop over values\n",
    "print(\"With specification dict.values()\")\n",
    "for value in dct.values():\n",
    "    print(value, end=\" \")\n",
    "print(\"\")\n"
   ]
  },
  {
   "cell_type": "code",
   "execution_count": 32,
   "metadata": {},
   "outputs": [
    {
     "name": "stdout",
     "output_type": "stream",
     "text": [
      "Loop over both\n",
      "name : YB , age : 31 , city : Goleta , \n"
     ]
    }
   ],
   "source": [
    "\n",
    "# loop over both keys and values: must use `.items()`\n",
    "print(\"Loop over both\")\n",
    "for key, value in dct.items():\n",
    "    print(key, \":\", value, \",\", end=\" \")\n",
    "print(\"\")"
   ]
  },
  {
   "cell_type": "markdown",
   "metadata": {},
   "source": [
    "#### Tuples"
   ]
  },
  {
   "cell_type": "markdown",
   "metadata": {},
   "source": [
    "##### Basics: creation, accessing element, convert bw list and tuple\n",
    "\n",
    "- Creating tuples\n",
    "    * `(element 1, element 2, ..., element n)`\n",
    "    * For one-element tuples, put a **trailing comman**. Otherwise, Python thinks it is a simple grouping.\n",
    "    * Pass a list to the constructor: `tuple([1, 2, 'a'])`\n",
    "    * Pass a tuple to the constructor of list\n",
    "- Tuple is immutable: you cannot change the content."
   ]
  },
  {
   "cell_type": "code",
   "execution_count": 33,
   "metadata": {},
   "outputs": [
    {
     "name": "stdout",
     "output_type": "stream",
     "text": [
      "(1, 2, 'txt', True)\n"
     ]
    }
   ],
   "source": [
    "# most common creation\n",
    "tp = (1, 2, 'txt', True)\n",
    "print(tp)\n"
   ]
  },
  {
   "cell_type": "code",
   "execution_count": 34,
   "metadata": {},
   "outputs": [
    {
     "name": "stdout",
     "output_type": "stream",
     "text": [
      "<class 'str'>\n"
     ]
    }
   ],
   "source": [
    "\n",
    "# trailing comma for one-element tuple\n",
    "tp = ('a')\n",
    "print(type(tp))\n"
   ]
  },
  {
   "cell_type": "code",
   "execution_count": 35,
   "metadata": {},
   "outputs": [
    {
     "name": "stdout",
     "output_type": "stream",
     "text": [
      "<class 'tuple'>\n"
     ]
    }
   ],
   "source": [
    "\n",
    "tp = ('a',)\n",
    "print(type(tp))\n"
   ]
  },
  {
   "cell_type": "code",
   "execution_count": 36,
   "metadata": {},
   "outputs": [
    {
     "name": "stdout",
     "output_type": "stream",
     "text": [
      "(1, 2, 'a')\n",
      "[1, 2, 'a']\n"
     ]
    }
   ],
   "source": [
    "\n",
    "# create tuples: pass a list to constructor\n",
    "tp = tuple([1, 2, 'a'])\n",
    "print(tp)\n",
    "lst = list(tp)\n",
    "print(lst)\n"
   ]
  },
  {
   "cell_type": "code",
   "execution_count": 37,
   "metadata": {},
   "outputs": [
    {
     "name": "stdout",
     "output_type": "stream",
     "text": [
      "tp[1] = 2\n"
     ]
    }
   ],
   "source": [
    "\n",
    "\n",
    "# Same indexing and slicing convention as lists\n",
    "print(\"tp[1] =\", tp[1])\n"
   ]
  },
  {
   "cell_type": "code",
   "execution_count": 38,
   "metadata": {},
   "outputs": [
    {
     "ename": "TypeError",
     "evalue": "'tuple' object does not support item assignment",
     "output_type": "error",
     "traceback": [
      "\u001b[0;31m---------------------------------------------------------------------------\u001b[0m",
      "\u001b[0;31mTypeError\u001b[0m                                 Traceback (most recent call last)",
      "\u001b[1;32m/Users/yb/Desktop/Insync/jhpofficedrive/Teaching/2023F_104A/NumAnalNotes_Pub/computations/python_basics.ipynb Cell 73\u001b[0m line \u001b[0;36m2\n\u001b[1;32m      <a href='vscode-notebook-cell:/Users/yb/Desktop/Insync/jhpofficedrive/Teaching/2023F_104A/NumAnalNotes_Pub/computations/python_basics.ipynb#Y202sZmlsZQ%3D%3D?line=0'>1</a>\u001b[0m \u001b[39m# tuple is immutable: you cannot change the content\u001b[39;00m\n\u001b[0;32m----> <a href='vscode-notebook-cell:/Users/yb/Desktop/Insync/jhpofficedrive/Teaching/2023F_104A/NumAnalNotes_Pub/computations/python_basics.ipynb#Y202sZmlsZQ%3D%3D?line=1'>2</a>\u001b[0m tp[\u001b[39m0\u001b[39;49m] \u001b[39m=\u001b[39m \u001b[39m3\u001b[39m \u001b[39m# causes a TypeError\u001b[39;00m\n",
      "\u001b[0;31mTypeError\u001b[0m: 'tuple' object does not support item assignment"
     ]
    }
   ],
   "source": [
    "\n",
    "# tuple is immutable: you cannot change the content\n",
    "tp[0] = 3 # causes a TypeError\n"
   ]
  },
  {
   "cell_type": "markdown",
   "metadata": {},
   "source": [
    "##### Basics 2: iteration, check membership, length"
   ]
  },
  {
   "cell_type": "code",
   "execution_count": 19,
   "metadata": {},
   "outputs": [
    {
     "name": "stdout",
     "output_type": "stream",
     "text": [
      "a\n",
      "b\n",
      "c\n",
      "'a' is in the tuple\n",
      "current tuple: ('a', 'b', 'c', 'd', 'a', 'a')\n",
      "Length: 6\n"
     ]
    }
   ],
   "source": [
    "# tuple is iterable\n",
    "tp = ('a', 'b', 'c')\n",
    "for letter in tp:\n",
    "    print(letter)\n",
    "\n",
    "# check elements\n",
    "if \"a\" in tp: \n",
    "    print(\"'a' is in the tuple\")\n",
    "else:\n",
    "    print(\"No 'a'.\")\n",
    "\n",
    "# length\n",
    "tp = ('a', 'b', 'c', 'd', 'a', 'a')\n",
    "print(\"current tuple:\", tp)\n",
    "print(\"Length:\", len(tp))"
   ]
  },
  {
   "cell_type": "markdown",
   "metadata": {},
   "source": [
    "**Question**\n",
    "\n",
    "What will be printed?\n",
    "```\n",
    "lst1 = [1, 2, 3]\n",
    "lst2 = lst1\n",
    "lst2[0] = lst2[2]\n",
    "print(lst1[0])\n",
    "```\n",
    "(A) 1   (B) 2   (C) 3    (D) Error\n",
    "\n",
    "This is **about atmosphere**, not getting it right.\n",
    "1. Think for a short time.\n",
    "2. Share your guess with your pair.\n",
    "3. Type your answer in clicker.\n",
    "4. Feel free to say out loud.\n"
   ]
  },
  {
   "cell_type": "code",
   "execution_count": 39,
   "metadata": {},
   "outputs": [
    {
     "name": "stdout",
     "output_type": "stream",
     "text": [
      "3\n"
     ]
    }
   ],
   "source": [
    "lst1 = [1, 2, 3]\n",
    "lst2 = lst1\n",
    "lst2[0] = lst2[2]\n",
    "print(lst1[0])"
   ]
  },
  {
   "cell_type": "markdown",
   "metadata": {},
   "source": [
    "### Care needed"
   ]
  },
  {
   "cell_type": "markdown",
   "metadata": {},
   "source": [
    "##### Copy vs assignment of list\n",
    "\n",
    "> **Note**\n",
    "> \n",
    "> - Simple assignment share the reference (i.e., the same memory address). Any modification of new assignment is applied to the original too.\n",
    "> - Use copy, or slicing for a real copy."
   ]
  },
  {
   "cell_type": "code",
   "execution_count": null,
   "metadata": {},
   "outputs": [
    {
     "name": "stdout",
     "output_type": "stream",
     "text": [
      "original                     : [0, 1, 2, 3, 4, 5, 6, 7, 8, 9]\n",
      "origianl (assign and remove) : [0, 1, 2, 3, 4, 5, 6, 7, 8]\n",
      "new list after remove        : [0, 1, 2, 3, 4, 5, 6, 7, 8]\n",
      "origianl (copy and remove)   : [0, 1, 2, 3, 4, 5, 6, 7, 8, 9]\n",
      "new list after remove        : [0, 1, 2, 3, 4, 5, 6, 7, 8]\n",
      "original (slicing and remove): [0, 1, 2, 3, 4, 5, 6, 7, 8, 9]\n",
      "new list after remove        : [0, 1, 2, 3, 4, 5, 6, 7, 8]\n"
     ]
    }
   ],
   "source": [
    "# effect of assignment\n",
    "ll = [i for i in range(10)]\n",
    "print(\"original                     :\", ll)\n",
    "\n",
    "new_lst = ll\n",
    "new_lst.remove(9)\n",
    "\n",
    "print(\"origianl (assign and remove) :\", ll)\n",
    "print(\"new list after remove        :\", new_lst)\n",
    "\n",
    "# copy version\n",
    "ll = [i for i in range(10)]\n",
    "\n",
    "new_lst = ll.copy()\n",
    "new_lst.remove(9)\n",
    "\n",
    "print(\"origianl (copy and remove)   :\", ll)\n",
    "print(\"new list after remove        :\", new_lst)\n",
    "\n",
    "# slicing version\n",
    "ll = [i for i in range(10)]\n",
    "\n",
    "new_lst = ll[:]\n",
    "new_lst.remove(9)\n",
    "\n",
    "print(\"original (slicing and remove):\", ll)\n",
    "print(\"new list after remove        :\", new_lst)\n"
   ]
  },
  {
   "cell_type": "markdown",
   "metadata": {},
   "source": [
    "##### Basics: copy and assignment\n",
    "\n",
    "- Dictionary copy and assingment works the same way as list. \n",
    "- In particular, if you want a copy, you can pass the original dictionary to the constructor: `new_dct = dict(old_dct)`."
   ]
  },
  {
   "cell_type": "markdown",
   "metadata": {},
   "source": [
    "### Advanced"
   ]
  },
  {
   "cell_type": "markdown",
   "metadata": {},
   "source": [
    "#### Packing and unpacking (list, dict, tuple)"
   ]
  },
  {
   "cell_type": "markdown",
   "metadata": {},
   "source": [
    "##### List unpacking (elementary)"
   ]
  },
  {
   "cell_type": "code",
   "execution_count": 40,
   "metadata": {},
   "outputs": [
    {
     "name": "stdout",
     "output_type": "stream",
     "text": [
      "str 2 string # 2\n"
     ]
    }
   ],
   "source": [
    "# list gets unpacked\n",
    "lst = ['str', 2, f'string # {2}']\n",
    "a, b, c = lst\n",
    "print(a, b, c)"
   ]
  },
  {
   "cell_type": "markdown",
   "metadata": {},
   "source": [
    "##### Packing and unpacking of tuples\n",
    "\n",
    "- Implicit unpacking by matching number of elements\n",
    "- Explicit packing, unpacking using `*` operator\n",
    "    * Notice '*' packs what's unpacked into a list, not a tuple."
   ]
  },
  {
   "cell_type": "code",
   "execution_count": 21,
   "metadata": {},
   "outputs": [
    {
     "name": "stdout",
     "output_type": "stream",
     "text": [
      "('YB', 42, 'Goleta')\n",
      "YB 42 Goleta\n",
      "2\n",
      "[3, 4, 5]\n",
      "6\n"
     ]
    }
   ],
   "source": [
    "# implicit packing\n",
    "tp = \"YB\", 42, \"Goleta\"\n",
    "print(tp)\n",
    "\n",
    "# implicit unpacking\n",
    "name, age, city = tp\n",
    "print(name, age, city)\n",
    "\n",
    "# more sophisticated packing using '*'\n",
    "tp = (2, 3, 4, 5, 6)\n",
    "tp1, *tp2, tp3 = tp\n",
    "print(tp1)\n",
    "# notice '*' packs what's unpacked into a list\n",
    "print(tp2) \n",
    "print(tp3)"
   ]
  },
  {
   "cell_type": "markdown",
   "metadata": {},
   "source": [
    "#### Unpacking tuples and dictionaries (function argument)"
   ]
  },
  {
   "cell_type": "code",
   "execution_count": 41,
   "metadata": {},
   "outputs": [
    {
     "name": "stdout",
     "output_type": "stream",
     "text": [
      "70 (manual)\n"
     ]
    }
   ],
   "source": [
    "def total(a, b, c, d=-3):\n",
    "    return 2*(a*10 + b) + c + d\n",
    "\n",
    "print(total(3, 4, 5), \"(manual)\")\n"
   ]
  },
  {
   "cell_type": "code",
   "execution_count": 42,
   "metadata": {},
   "outputs": [
    {
     "name": "stdout",
     "output_type": "stream",
     "text": [
      "70 (unpacking; list)\n",
      "3 4 5\n"
     ]
    }
   ],
   "source": [
    "\n",
    "# list version of positional unpaccking\n",
    "input = [3, 4, 5]\n",
    "print(total(*input), \"(unpacking; list)\")\n",
    "print(*input)\n"
   ]
  },
  {
   "cell_type": "code",
   "execution_count": 43,
   "metadata": {},
   "outputs": [
    {
     "name": "stdout",
     "output_type": "stream",
     "text": [
      "70 (unpacking; tuple)\n"
     ]
    }
   ],
   "source": [
    "\n",
    "# tuple version of positional unpaccking\n",
    "input = (3, 4, 5)\n",
    "print(total(*input), \"(unpacking; tuple)\")\n"
   ]
  },
  {
   "cell_type": "code",
   "execution_count": 46,
   "metadata": {},
   "outputs": [
    {
     "name": "stdout",
     "output_type": "stream",
     "text": [
      "70 (dictionary unpacking)\n",
      "a b c\n",
      "{'a': 3, 'b': 4, 'c': 5}\n"
     ]
    }
   ],
   "source": [
    "\n",
    "# dictionary version\n",
    "input_dict = {\"a\": 3, \"b\": 4, \"c\": 5}\n",
    "print(total(**input_dict), \"(dictionary unpacking)\")\n",
    "print(*input_dict)\n",
    "print(f\"{input_dict}\")"
   ]
  },
  {
   "cell_type": "markdown",
   "metadata": {},
   "source": [
    "#### List comprehension\n",
    "\n",
    "- You can create a list using *set builder-like* syntax.\n",
    "\n",
    "$$\\{x^2: x = 0, 1, 2, \\cdots, 4 \\}$$\n",
    "\n",
    "- List comprehension can be used in combination with `if`"
   ]
  },
  {
   "cell_type": "code",
   "execution_count": 1,
   "metadata": {},
   "outputs": [
    {
     "name": "stdout",
     "output_type": "stream",
     "text": [
      "[0, 1, 4, 9, 16]\n",
      "['YB1', 'YB4']\n"
     ]
    }
   ],
   "source": [
    "# List comprehension works similar to set-builder notation.\n",
    "# syntax: [(what) for (var) in (iterable)]\n",
    "A = [x**2 for x in range(5)] \n",
    "print(A)\n"
   ]
  },
  {
   "cell_type": "code",
   "execution_count": 47,
   "metadata": {},
   "outputs": [
    {
     "name": "stdout",
     "output_type": "stream",
     "text": [
      "['YB1', 'YB4']\n"
     ]
    }
   ],
   "source": [
    "\n",
    "# List comprehension with `if` statement\n",
    "students = [\n",
    "    {\"name\": \"YB1\", \"home\": \"Goleta\"},\n",
    "    {\"name\": \"YB2\", \"home\": \"Santa Barbara\"},\n",
    "    {\"name\": \"YB3\", \"home\": \"LA\"},\n",
    "    {\"name\": \"YB4\", \"home\": \"Goleta\"},\n",
    "]\n",
    "\n",
    "# syntax: [(what) for (var) in (iterable) if (condition)]\n",
    "goleta_res = [student[\"name\"] for student in students if student[\"home\"] == \"Goleta\"]\n",
    "print(goleta_res)"
   ]
  },
  {
   "cell_type": "markdown",
   "metadata": {},
   "source": [
    "#### Dictionary comprehension\n",
    "\n",
    "- We can construct a dictionary in a similar way to the list comprehension."
   ]
  },
  {
   "cell_type": "code",
   "execution_count": 48,
   "metadata": {},
   "outputs": [
    {
     "name": "stdout",
     "output_type": "stream",
     "text": [
      "{'x0': 0, 'x1': 1, 'x2': 4, 'x3': 9, 'x4': 16}\n"
     ]
    }
   ],
   "source": [
    "A = {\"x\" + str(i): i**2 for i in range(5)}\n",
    "print(A)"
   ]
  },
  {
   "cell_type": "markdown",
   "metadata": {},
   "source": [
    "#### `enumerate`: loop over both index and element of a list"
   ]
  },
  {
   "cell_type": "code",
   "execution_count": 49,
   "metadata": {},
   "outputs": [
    {
     "name": "stdout",
     "output_type": "stream",
     "text": [
      "experiment 0 uses cos\n",
      "experiment 1 uses sin\n",
      "experiment 2 uses tan\n"
     ]
    }
   ],
   "source": [
    "lst = [\"cos\", \"sin\", \"tan\"]\n",
    "\n",
    "for ind, element in enumerate(lst):\n",
    "    print(f\"experiment {ind} uses {element}\")"
   ]
  },
  {
   "cell_type": "markdown",
   "metadata": {},
   "source": [
    "### Appendix"
   ]
  },
  {
   "cell_type": "markdown",
   "metadata": {},
   "source": [
    "#### lists vs tuples\n",
    "\n",
    "- tuples are more efficients (memory and speed for loops)\n",
    "- lists feature more methods."
   ]
  },
  {
   "cell_type": "code",
   "execution_count": null,
   "metadata": {},
   "outputs": [
    {
     "name": "stdout",
     "output_type": "stream",
     "text": [
      "96 bytes\n",
      "80 bytes\n",
      "0.02627247200052807\n",
      "0.0032794159997138195\n"
     ]
    }
   ],
   "source": [
    "import sys\n",
    "import timeit\n",
    "\n",
    "lst = [0, 1, 2, 'hello', True]\n",
    "tp = (0, 1, 2, 'hello', True)\n",
    "\n",
    "# measure memory consumed by a list and a tuple\n",
    "print(sys.getsizeof(lst), 'bytes')\n",
    "print(sys.getsizeof(tp), 'bytes')\n",
    "\n",
    "# measure the time spent creating a list and a tuple multiple times\n",
    "# 'stmt' stands for 'statement'\n",
    "print(timeit.timeit(stmt=\"[0, 1, 2, 3, 4, 5]\", number=1000000))\n",
    "print(timeit.timeit(stmt=\"(0, 1, 2, 3, 4, 5)\", number=1000000))\n",
    "\n",
    "\n"
   ]
  },
  {
   "cell_type": "markdown",
   "metadata": {},
   "source": [
    "#### Play music using web browser"
   ]
  },
  {
   "cell_type": "code",
   "execution_count": null,
   "metadata": {},
   "outputs": [
    {
     "data": {
      "text/plain": [
       "True"
      ]
     },
     "metadata": {},
     "output_type": "display_data"
    }
   ],
   "source": [
    "import webbrowser\n",
    "webbrowser.open(\"http://jhparkyb.github.io/resources/sounds/notification/Hallelujah-sound-effect.mp3\")"
   ]
  },
  {
   "cell_type": "markdown",
   "metadata": {},
   "source": [
    "#### Package, library, module installation check"
   ]
  },
  {
   "cell_type": "code",
   "execution_count": null,
   "metadata": {},
   "outputs": [
    {
     "name": "stdout",
     "output_type": "stream",
     "text": [
      "webbrowser is installed.\n"
     ]
    }
   ],
   "source": [
    "# This code is written with help of ChatGPT\n",
    "\n",
    "import importlib\n",
    "\n",
    "# replace \"webbrowser\" with anything you want to check installation of\n",
    "lib_name = \"webbrowser\"\n",
    "\n",
    "def check_package_installed(lib_name):\n",
    "    try:\n",
    "        importlib.import_module(lib_name)\n",
    "        print(lib_name + \" is installed.\")\n",
    "    except ImportError:\n",
    "        print(lib_name + \" is not installed.\")\n",
    "\n",
    "# check:\n",
    "check_package_installed(lib_name)"
   ]
  }
 ],
 "metadata": {
  "kernelspec": {
   "display_name": "ptrch",
   "language": "python",
   "name": "ptrch"
  },
  "language_info": {
   "codemirror_mode": {
    "name": "ipython",
    "version": 3
   },
   "file_extension": ".py",
   "mimetype": "text/x-python",
   "name": "python",
   "nbconvert_exporter": "python",
   "pygments_lexer": "ipython3",
   "version": "3.8.13"
  },
  "orig_nbformat": 4
 },
 "nbformat": 4,
 "nbformat_minor": 2
}
